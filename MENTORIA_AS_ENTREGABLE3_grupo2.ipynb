{
  "cells": [
    {
      "cell_type": "markdown",
      "id": "edf0e72e-4f5d-43cf-83c6-889d9dcea1fc",
      "metadata": {
        "id": "edf0e72e-4f5d-43cf-83c6-889d9dcea1fc"
      },
      "source": [
        "# Diplomatura en Ciencia de Datos, Aprendizaje Automático y sus Aplicaciones\n",
        "\n",
        "<center>\n",
        "<img \n",
        "     src=\"http://www2.famaf.unc.edu.ar/~efernandez/egeo/img/logos/famaf.jpg\" \n",
        "     alt=\"Drawing\" \n",
        "     style=\"width:30%;\"\n",
        "/>\n",
        "</center>"
      ]
    },
    {
      "cell_type": "markdown",
      "source": [
        "Practico Aprendizaje Supervisado<br>\n",
        "**Grupo N° 2**\n",
        "\n",
        "Integrantes:\n",
        "\n",
        "Conrrero Agustina<br>\n",
        "Hayas Laura<br>\n",
        "Legaspi Ana<br>\n",
        "Luna Andrés\n"
      ],
      "metadata": {
        "id": "T-QmEmGc2eRq"
      },
      "id": "T-QmEmGc2eRq"
    },
    {
      "cell_type": "markdown",
      "id": "d388b71c-7b51-4977-99e8-f6a1282cd524",
      "metadata": {
        "id": "d388b71c-7b51-4977-99e8-f6a1282cd524"
      },
      "source": [
        "# Practico: Aprendizaje Supervisado\n",
        "\n",
        "El objetivo consiste en explorar la aplicación de diferentes métodos de aprendizaje supervisado aprendidos \n",
        "en el curso, a través de experimentos reproducibles, y evaluando a su vez la conveniencia de uno u otro, \n",
        "así como la selección de diferentes hiperparámetros a partir del cálculo de las métricas pertinentes.\n",
        "\n",
        "*Leer atentamente todas las consignas antes de empezar a trabajar, cualquier duda escriban a algún mentor*"
      ]
    },
    {
      "cell_type": "markdown",
      "id": "a1027c75-fe5d-4342-a170-746d0bd7d665",
      "metadata": {
        "id": "a1027c75-fe5d-4342-a170-746d0bd7d665"
      },
      "source": [
        "# Primera parte: Preparacion de los sets de datos\n",
        "\n",
        "\n",
        "#### Consigna: Obtener un dataset de los tres pacientes, y uno mas por cada paciente, dando como reslutado 4 datasets. \n",
        "\n",
        "En base a lo visto hasta el momento, quizás sea mas predecible el estado pre-ictal separando el análisis por paciente. Vamos a evaluar esta teoria comparando el desempeño de los modelos. Para eso necesitamos los datasets separados. \n",
        "\n",
        "----\n",
        "\n",
        "#### Consigna: Hacer **filtros de outliers** (ver archivo de ejemplo) especifico para cada paciente y para los tres juntos\n",
        "\n",
        "Si bien el tratamiento de escalado y curado de datos nulos es igual es igual que en el practico de curacion, no aplica para el estudio de outliers, por lo que debera ser realizado nuevamente, esta vez especifico por cada paciente, ademas de en grupo.\n",
        "\n",
        "----\n",
        "\n",
        "Al final de esta parte deberian tener cuatro datasets y cuatro filtros de outliers\n",
        "\n",
        "---\n",
        "---"
      ]
    },
    {
      "cell_type": "markdown",
      "source": [
        "**RESOLUCIÓN**"
      ],
      "metadata": {
        "id": "ky5jHagtA5Us"
      },
      "id": "ky5jHagtA5Us"
    },
    {
      "cell_type": "markdown",
      "source": [
        "# Importamos los datos"
      ],
      "metadata": {
        "id": "PzEFDgQC3l7i"
      },
      "id": "PzEFDgQC3l7i"
    },
    {
      "cell_type": "code",
      "source": [
        "# Importamos las librerías necesarias para trabajar\n",
        "from google.colab import drive\n",
        "import pandas as pd\n",
        "from google.colab import files\n",
        "import seaborn as sns \n",
        "import matplotlib.pyplot as plt\n",
        "import numpy as np\n",
        "\n",
        "drive.mount('/content/drive')"
      ],
      "metadata": {
        "colab": {
          "base_uri": "https://localhost:8080/"
        },
        "id": "L1R29naL2vFb",
        "outputId": "2eede67e-4ffa-41f6-9f4b-7aee48c9d634"
      },
      "id": "L1R29naL2vFb",
      "execution_count": null,
      "outputs": [
        {
          "output_type": "stream",
          "name": "stdout",
          "text": [
            "Drive already mounted at /content/drive; to attempt to forcibly remount, call drive.mount(\"/content/drive\", force_remount=True).\n"
          ]
        }
      ]
    },
    {
      "cell_type": "code",
      "source": [
        "\n",
        "SHARED_FOLDER_ALIAS = 'mentoria'\n",
        "DATASETS_PATH = '/content/drive/MyDrive/' + SHARED_FOLDER_ALIAS + '/data_preprocessed/'"
      ],
      "metadata": {
        "id": "dRB8NeP_26qP"
      },
      "id": "dRB8NeP_26qP",
      "execution_count": null,
      "outputs": []
    },
    {
      "cell_type": "markdown",
      "source": [
        "# DATASET POR PACIENTE"
      ],
      "metadata": {
        "id": "iaqm2sUtCMoA"
      },
      "id": "iaqm2sUtCMoA"
    },
    {
      "cell_type": "markdown",
      "source": [
        "## Paciente 1"
      ],
      "metadata": {
        "id": "IxWOGW2Gz4Xw"
      },
      "id": "IxWOGW2Gz4Xw"
    },
    {
      "cell_type": "code",
      "source": [
        "# Paciente 1\n",
        "path = DATASETS_PATH + 'Data_test_P1.csv'\n",
        "eti_1 = pd.read_csv (path)\n",
        "print(eti_1)"
      ],
      "metadata": {
        "colab": {
          "base_uri": "https://localhost:8080/"
        },
        "id": "7IBBACht3A47",
        "outputId": "71f100cd-3a94-4074-f29b-281d1ae2e96f"
      },
      "id": "7IBBACht3A47",
      "execution_count": null,
      "outputs": [
        {
          "output_type": "stream",
          "name": "stdout",
          "text": [
            "      Patient  State        PE        SC       GNE        SE       LZC  \\\n",
            "0         1.0    1.0  0.598255  0.285388  0.662095  0.520937  0.325380   \n",
            "1         1.0    0.0  0.541613  0.283209  0.570060  0.413078  0.195333   \n",
            "2         1.0    0.0  0.543293  0.283316  0.572859  0.418008  0.199974   \n",
            "3         1.0    0.0  0.535949  0.282724  0.560678  0.391206  0.166309   \n",
            "4         1.0    0.0  0.436980  0.272283  0.398864  0.412815  0.116037   \n",
            "...       ...    ...       ...       ...       ...       ...       ...   \n",
            "1297      1.0    0.0  0.510113  0.281151  0.519344  0.394939  0.164326   \n",
            "1298      1.0    0.0  0.092055  0.083923  0.034785  0.429554  0.014010   \n",
            "1299      1.0    0.0  0.343573  0.249455  0.236822  0.460608  0.101302   \n",
            "1300      1.0    0.0  0.421636  0.269826  0.373106  0.440180  0.148534   \n",
            "1301      1.0    0.0  0.486570  0.279701  0.481453  0.418555  0.165718   \n",
            "\n",
            "           STE          Mean        Std      Skew  \n",
            "0     0.802138  4.426225e-06  15.557899 -0.000629  \n",
            "1     0.752879  2.075434e-05  48.467869 -0.031036  \n",
            "2     0.754335  5.322688e-06  46.771531 -0.077559  \n",
            "3     0.747854 -1.353617e-05  48.590217 -0.024175  \n",
            "4     0.668147 -5.555946e-07  41.749673 -0.087401  \n",
            "...        ...           ...        ...       ...  \n",
            "1297  0.726943  9.537731e-07  57.858661 -0.027883  \n",
            "1298  0.132971 -2.299290e-06   7.509950  0.275390  \n",
            "1299  0.597623  1.727706e-06  23.155730 -0.449322  \n",
            "1300  0.656383 -2.206284e-06  35.274970 -0.137801  \n",
            "1301  0.708059  4.078808e-06  44.594447 -0.054953  \n",
            "\n",
            "[1302 rows x 11 columns]\n"
          ]
        }
      ]
    },
    {
      "cell_type": "code",
      "source": [
        "eti_1_nan = eti_1[eti_1.isna().any(axis=1)]"
      ],
      "metadata": {
        "id": "TF1P_Cr56XUG"
      },
      "id": "TF1P_Cr56XUG",
      "execution_count": null,
      "outputs": []
    },
    {
      "cell_type": "code",
      "source": [
        "eti_1_nan"
      ],
      "metadata": {
        "colab": {
          "base_uri": "https://localhost:8080/"
        },
        "id": "f9gVQdQE7WKh",
        "outputId": "277358c6-0c22-47cb-9b3f-622a94d5f4d3"
      },
      "id": "f9gVQdQE7WKh",
      "execution_count": null,
      "outputs": [
        {
          "output_type": "execute_result",
          "data": {
            "text/plain": [
              "      Patient  State   PE   SC  GNE  SE       LZC  STE  Mean  Std  Skew\n",
              "20        1.0    0.0  0.0  0.0  0.0 NaN  0.000149  0.0   0.0  0.0   0.0\n",
              "34        1.0    0.0  0.0  0.0  0.0 NaN  0.000149  0.0   0.0  0.0   0.0\n",
              "47        1.0    0.0  0.0  0.0  0.0 NaN  0.000149  0.0   0.0  0.0   0.0\n",
              "52        1.0    0.0  0.0  0.0  0.0 NaN  0.000149  0.0   0.0  0.0   0.0\n",
              "117       1.0    0.0  0.0  0.0  0.0 NaN  0.000149  0.0   0.0  0.0   0.0\n",
              "164       1.0    1.0  0.0  0.0  0.0 NaN  0.000149  0.0   0.0  0.0   0.0\n",
              "176       1.0    1.0  0.0  0.0  0.0 NaN  0.000149  0.0   0.0  0.0   0.0\n",
              "205       1.0    1.0  0.0  0.0  0.0 NaN  0.000149  0.0   0.0  0.0   0.0\n",
              "270       1.0    0.0  0.0  0.0  0.0 NaN  0.000149  0.0   0.0  0.0   0.0\n",
              "283       1.0    0.0  0.0  0.0  0.0 NaN  0.000149  0.0   0.0  0.0   0.0\n",
              "287       1.0    0.0  0.0  0.0  0.0 NaN  0.000149  0.0   0.0  0.0   0.0\n",
              "291       1.0    0.0  0.0  0.0  0.0 NaN  0.000149  0.0   0.0  0.0   0.0\n",
              "507       1.0    0.0  0.0  0.0  0.0 NaN  0.000149  0.0   0.0  0.0   0.0\n",
              "536       1.0    1.0  0.0  0.0  0.0 NaN  0.000149  0.0   0.0  0.0   0.0\n",
              "635       1.0    0.0  0.0  0.0  0.0 NaN  0.000149  0.0   0.0  0.0   0.0\n",
              "636       1.0    1.0  0.0  0.0  0.0 NaN  0.000149  0.0   0.0  0.0   0.0\n",
              "647       1.0    0.0  0.0  0.0  0.0 NaN  0.000149  0.0   0.0  0.0   0.0\n",
              "648       1.0    1.0  0.0  0.0  0.0 NaN  0.000149  0.0   0.0  0.0   0.0\n",
              "680       1.0    0.0  0.0  0.0  0.0 NaN  0.000149  0.0   0.0  0.0   0.0\n",
              "851       1.0    0.0  0.0  0.0  0.0 NaN  0.000149  0.0   0.0  0.0   0.0\n",
              "881       1.0    0.0  0.0  0.0  0.0 NaN  0.000149  0.0   0.0  0.0   0.0\n",
              "1028      1.0    0.0  0.0  0.0  0.0 NaN  0.000149  0.0   0.0  0.0   0.0\n",
              "1038      1.0    1.0  0.0  0.0  0.0 NaN  0.000149  0.0   0.0  0.0   0.0\n",
              "1050      1.0    1.0  0.0  0.0  0.0 NaN  0.000149  0.0   0.0  0.0   0.0\n",
              "1118      1.0    0.0  0.0  0.0  0.0 NaN  0.000149  0.0   0.0  0.0   0.0\n",
              "1121      1.0    0.0  0.0  0.0  0.0 NaN  0.000149  0.0   0.0  0.0   0.0\n",
              "1122      1.0    0.0  0.0  0.0  0.0 NaN  0.000149  0.0   0.0  0.0   0.0\n",
              "1130      1.0    0.0  0.0  0.0  0.0 NaN  0.000149  0.0   0.0  0.0   0.0\n",
              "1145      1.0    1.0  0.0  0.0  0.0 NaN  0.000149  0.0   0.0  0.0   0.0\n",
              "1169      1.0    0.0  0.0  0.0  0.0 NaN  0.000149  0.0   0.0  0.0   0.0\n",
              "1179      1.0    0.0  0.0  0.0  0.0 NaN  0.000149  0.0   0.0  0.0   0.0\n",
              "1192      1.0    0.0  0.0  0.0  0.0 NaN  0.000149  0.0   0.0  0.0   0.0\n",
              "1193      1.0    0.0  0.0  0.0  0.0 NaN  0.000149  0.0   0.0  0.0   0.0\n",
              "1284      1.0    0.0  0.0  0.0  0.0 NaN  0.000149  0.0   0.0  0.0   0.0"
            ],
            "text/html": [
              "\n",
              "  <div id=\"df-86c21e66-65fa-4c44-9925-0cd4f3ccb3b9\">\n",
              "    <div class=\"colab-df-container\">\n",
              "      <div>\n",
              "<style scoped>\n",
              "    .dataframe tbody tr th:only-of-type {\n",
              "        vertical-align: middle;\n",
              "    }\n",
              "\n",
              "    .dataframe tbody tr th {\n",
              "        vertical-align: top;\n",
              "    }\n",
              "\n",
              "    .dataframe thead th {\n",
              "        text-align: right;\n",
              "    }\n",
              "</style>\n",
              "<table border=\"1\" class=\"dataframe\">\n",
              "  <thead>\n",
              "    <tr style=\"text-align: right;\">\n",
              "      <th></th>\n",
              "      <th>Patient</th>\n",
              "      <th>State</th>\n",
              "      <th>PE</th>\n",
              "      <th>SC</th>\n",
              "      <th>GNE</th>\n",
              "      <th>SE</th>\n",
              "      <th>LZC</th>\n",
              "      <th>STE</th>\n",
              "      <th>Mean</th>\n",
              "      <th>Std</th>\n",
              "      <th>Skew</th>\n",
              "    </tr>\n",
              "  </thead>\n",
              "  <tbody>\n",
              "    <tr>\n",
              "      <th>20</th>\n",
              "      <td>1.0</td>\n",
              "      <td>0.0</td>\n",
              "      <td>0.0</td>\n",
              "      <td>0.0</td>\n",
              "      <td>0.0</td>\n",
              "      <td>NaN</td>\n",
              "      <td>0.000149</td>\n",
              "      <td>0.0</td>\n",
              "      <td>0.0</td>\n",
              "      <td>0.0</td>\n",
              "      <td>0.0</td>\n",
              "    </tr>\n",
              "    <tr>\n",
              "      <th>34</th>\n",
              "      <td>1.0</td>\n",
              "      <td>0.0</td>\n",
              "      <td>0.0</td>\n",
              "      <td>0.0</td>\n",
              "      <td>0.0</td>\n",
              "      <td>NaN</td>\n",
              "      <td>0.000149</td>\n",
              "      <td>0.0</td>\n",
              "      <td>0.0</td>\n",
              "      <td>0.0</td>\n",
              "      <td>0.0</td>\n",
              "    </tr>\n",
              "    <tr>\n",
              "      <th>47</th>\n",
              "      <td>1.0</td>\n",
              "      <td>0.0</td>\n",
              "      <td>0.0</td>\n",
              "      <td>0.0</td>\n",
              "      <td>0.0</td>\n",
              "      <td>NaN</td>\n",
              "      <td>0.000149</td>\n",
              "      <td>0.0</td>\n",
              "      <td>0.0</td>\n",
              "      <td>0.0</td>\n",
              "      <td>0.0</td>\n",
              "    </tr>\n",
              "    <tr>\n",
              "      <th>52</th>\n",
              "      <td>1.0</td>\n",
              "      <td>0.0</td>\n",
              "      <td>0.0</td>\n",
              "      <td>0.0</td>\n",
              "      <td>0.0</td>\n",
              "      <td>NaN</td>\n",
              "      <td>0.000149</td>\n",
              "      <td>0.0</td>\n",
              "      <td>0.0</td>\n",
              "      <td>0.0</td>\n",
              "      <td>0.0</td>\n",
              "    </tr>\n",
              "    <tr>\n",
              "      <th>117</th>\n",
              "      <td>1.0</td>\n",
              "      <td>0.0</td>\n",
              "      <td>0.0</td>\n",
              "      <td>0.0</td>\n",
              "      <td>0.0</td>\n",
              "      <td>NaN</td>\n",
              "      <td>0.000149</td>\n",
              "      <td>0.0</td>\n",
              "      <td>0.0</td>\n",
              "      <td>0.0</td>\n",
              "      <td>0.0</td>\n",
              "    </tr>\n",
              "    <tr>\n",
              "      <th>164</th>\n",
              "      <td>1.0</td>\n",
              "      <td>1.0</td>\n",
              "      <td>0.0</td>\n",
              "      <td>0.0</td>\n",
              "      <td>0.0</td>\n",
              "      <td>NaN</td>\n",
              "      <td>0.000149</td>\n",
              "      <td>0.0</td>\n",
              "      <td>0.0</td>\n",
              "      <td>0.0</td>\n",
              "      <td>0.0</td>\n",
              "    </tr>\n",
              "    <tr>\n",
              "      <th>176</th>\n",
              "      <td>1.0</td>\n",
              "      <td>1.0</td>\n",
              "      <td>0.0</td>\n",
              "      <td>0.0</td>\n",
              "      <td>0.0</td>\n",
              "      <td>NaN</td>\n",
              "      <td>0.000149</td>\n",
              "      <td>0.0</td>\n",
              "      <td>0.0</td>\n",
              "      <td>0.0</td>\n",
              "      <td>0.0</td>\n",
              "    </tr>\n",
              "    <tr>\n",
              "      <th>205</th>\n",
              "      <td>1.0</td>\n",
              "      <td>1.0</td>\n",
              "      <td>0.0</td>\n",
              "      <td>0.0</td>\n",
              "      <td>0.0</td>\n",
              "      <td>NaN</td>\n",
              "      <td>0.000149</td>\n",
              "      <td>0.0</td>\n",
              "      <td>0.0</td>\n",
              "      <td>0.0</td>\n",
              "      <td>0.0</td>\n",
              "    </tr>\n",
              "    <tr>\n",
              "      <th>270</th>\n",
              "      <td>1.0</td>\n",
              "      <td>0.0</td>\n",
              "      <td>0.0</td>\n",
              "      <td>0.0</td>\n",
              "      <td>0.0</td>\n",
              "      <td>NaN</td>\n",
              "      <td>0.000149</td>\n",
              "      <td>0.0</td>\n",
              "      <td>0.0</td>\n",
              "      <td>0.0</td>\n",
              "      <td>0.0</td>\n",
              "    </tr>\n",
              "    <tr>\n",
              "      <th>283</th>\n",
              "      <td>1.0</td>\n",
              "      <td>0.0</td>\n",
              "      <td>0.0</td>\n",
              "      <td>0.0</td>\n",
              "      <td>0.0</td>\n",
              "      <td>NaN</td>\n",
              "      <td>0.000149</td>\n",
              "      <td>0.0</td>\n",
              "      <td>0.0</td>\n",
              "      <td>0.0</td>\n",
              "      <td>0.0</td>\n",
              "    </tr>\n",
              "    <tr>\n",
              "      <th>287</th>\n",
              "      <td>1.0</td>\n",
              "      <td>0.0</td>\n",
              "      <td>0.0</td>\n",
              "      <td>0.0</td>\n",
              "      <td>0.0</td>\n",
              "      <td>NaN</td>\n",
              "      <td>0.000149</td>\n",
              "      <td>0.0</td>\n",
              "      <td>0.0</td>\n",
              "      <td>0.0</td>\n",
              "      <td>0.0</td>\n",
              "    </tr>\n",
              "    <tr>\n",
              "      <th>291</th>\n",
              "      <td>1.0</td>\n",
              "      <td>0.0</td>\n",
              "      <td>0.0</td>\n",
              "      <td>0.0</td>\n",
              "      <td>0.0</td>\n",
              "      <td>NaN</td>\n",
              "      <td>0.000149</td>\n",
              "      <td>0.0</td>\n",
              "      <td>0.0</td>\n",
              "      <td>0.0</td>\n",
              "      <td>0.0</td>\n",
              "    </tr>\n",
              "    <tr>\n",
              "      <th>507</th>\n",
              "      <td>1.0</td>\n",
              "      <td>0.0</td>\n",
              "      <td>0.0</td>\n",
              "      <td>0.0</td>\n",
              "      <td>0.0</td>\n",
              "      <td>NaN</td>\n",
              "      <td>0.000149</td>\n",
              "      <td>0.0</td>\n",
              "      <td>0.0</td>\n",
              "      <td>0.0</td>\n",
              "      <td>0.0</td>\n",
              "    </tr>\n",
              "    <tr>\n",
              "      <th>536</th>\n",
              "      <td>1.0</td>\n",
              "      <td>1.0</td>\n",
              "      <td>0.0</td>\n",
              "      <td>0.0</td>\n",
              "      <td>0.0</td>\n",
              "      <td>NaN</td>\n",
              "      <td>0.000149</td>\n",
              "      <td>0.0</td>\n",
              "      <td>0.0</td>\n",
              "      <td>0.0</td>\n",
              "      <td>0.0</td>\n",
              "    </tr>\n",
              "    <tr>\n",
              "      <th>635</th>\n",
              "      <td>1.0</td>\n",
              "      <td>0.0</td>\n",
              "      <td>0.0</td>\n",
              "      <td>0.0</td>\n",
              "      <td>0.0</td>\n",
              "      <td>NaN</td>\n",
              "      <td>0.000149</td>\n",
              "      <td>0.0</td>\n",
              "      <td>0.0</td>\n",
              "      <td>0.0</td>\n",
              "      <td>0.0</td>\n",
              "    </tr>\n",
              "    <tr>\n",
              "      <th>636</th>\n",
              "      <td>1.0</td>\n",
              "      <td>1.0</td>\n",
              "      <td>0.0</td>\n",
              "      <td>0.0</td>\n",
              "      <td>0.0</td>\n",
              "      <td>NaN</td>\n",
              "      <td>0.000149</td>\n",
              "      <td>0.0</td>\n",
              "      <td>0.0</td>\n",
              "      <td>0.0</td>\n",
              "      <td>0.0</td>\n",
              "    </tr>\n",
              "    <tr>\n",
              "      <th>647</th>\n",
              "      <td>1.0</td>\n",
              "      <td>0.0</td>\n",
              "      <td>0.0</td>\n",
              "      <td>0.0</td>\n",
              "      <td>0.0</td>\n",
              "      <td>NaN</td>\n",
              "      <td>0.000149</td>\n",
              "      <td>0.0</td>\n",
              "      <td>0.0</td>\n",
              "      <td>0.0</td>\n",
              "      <td>0.0</td>\n",
              "    </tr>\n",
              "    <tr>\n",
              "      <th>648</th>\n",
              "      <td>1.0</td>\n",
              "      <td>1.0</td>\n",
              "      <td>0.0</td>\n",
              "      <td>0.0</td>\n",
              "      <td>0.0</td>\n",
              "      <td>NaN</td>\n",
              "      <td>0.000149</td>\n",
              "      <td>0.0</td>\n",
              "      <td>0.0</td>\n",
              "      <td>0.0</td>\n",
              "      <td>0.0</td>\n",
              "    </tr>\n",
              "    <tr>\n",
              "      <th>680</th>\n",
              "      <td>1.0</td>\n",
              "      <td>0.0</td>\n",
              "      <td>0.0</td>\n",
              "      <td>0.0</td>\n",
              "      <td>0.0</td>\n",
              "      <td>NaN</td>\n",
              "      <td>0.000149</td>\n",
              "      <td>0.0</td>\n",
              "      <td>0.0</td>\n",
              "      <td>0.0</td>\n",
              "      <td>0.0</td>\n",
              "    </tr>\n",
              "    <tr>\n",
              "      <th>851</th>\n",
              "      <td>1.0</td>\n",
              "      <td>0.0</td>\n",
              "      <td>0.0</td>\n",
              "      <td>0.0</td>\n",
              "      <td>0.0</td>\n",
              "      <td>NaN</td>\n",
              "      <td>0.000149</td>\n",
              "      <td>0.0</td>\n",
              "      <td>0.0</td>\n",
              "      <td>0.0</td>\n",
              "      <td>0.0</td>\n",
              "    </tr>\n",
              "    <tr>\n",
              "      <th>881</th>\n",
              "      <td>1.0</td>\n",
              "      <td>0.0</td>\n",
              "      <td>0.0</td>\n",
              "      <td>0.0</td>\n",
              "      <td>0.0</td>\n",
              "      <td>NaN</td>\n",
              "      <td>0.000149</td>\n",
              "      <td>0.0</td>\n",
              "      <td>0.0</td>\n",
              "      <td>0.0</td>\n",
              "      <td>0.0</td>\n",
              "    </tr>\n",
              "    <tr>\n",
              "      <th>1028</th>\n",
              "      <td>1.0</td>\n",
              "      <td>0.0</td>\n",
              "      <td>0.0</td>\n",
              "      <td>0.0</td>\n",
              "      <td>0.0</td>\n",
              "      <td>NaN</td>\n",
              "      <td>0.000149</td>\n",
              "      <td>0.0</td>\n",
              "      <td>0.0</td>\n",
              "      <td>0.0</td>\n",
              "      <td>0.0</td>\n",
              "    </tr>\n",
              "    <tr>\n",
              "      <th>1038</th>\n",
              "      <td>1.0</td>\n",
              "      <td>1.0</td>\n",
              "      <td>0.0</td>\n",
              "      <td>0.0</td>\n",
              "      <td>0.0</td>\n",
              "      <td>NaN</td>\n",
              "      <td>0.000149</td>\n",
              "      <td>0.0</td>\n",
              "      <td>0.0</td>\n",
              "      <td>0.0</td>\n",
              "      <td>0.0</td>\n",
              "    </tr>\n",
              "    <tr>\n",
              "      <th>1050</th>\n",
              "      <td>1.0</td>\n",
              "      <td>1.0</td>\n",
              "      <td>0.0</td>\n",
              "      <td>0.0</td>\n",
              "      <td>0.0</td>\n",
              "      <td>NaN</td>\n",
              "      <td>0.000149</td>\n",
              "      <td>0.0</td>\n",
              "      <td>0.0</td>\n",
              "      <td>0.0</td>\n",
              "      <td>0.0</td>\n",
              "    </tr>\n",
              "    <tr>\n",
              "      <th>1118</th>\n",
              "      <td>1.0</td>\n",
              "      <td>0.0</td>\n",
              "      <td>0.0</td>\n",
              "      <td>0.0</td>\n",
              "      <td>0.0</td>\n",
              "      <td>NaN</td>\n",
              "      <td>0.000149</td>\n",
              "      <td>0.0</td>\n",
              "      <td>0.0</td>\n",
              "      <td>0.0</td>\n",
              "      <td>0.0</td>\n",
              "    </tr>\n",
              "    <tr>\n",
              "      <th>1121</th>\n",
              "      <td>1.0</td>\n",
              "      <td>0.0</td>\n",
              "      <td>0.0</td>\n",
              "      <td>0.0</td>\n",
              "      <td>0.0</td>\n",
              "      <td>NaN</td>\n",
              "      <td>0.000149</td>\n",
              "      <td>0.0</td>\n",
              "      <td>0.0</td>\n",
              "      <td>0.0</td>\n",
              "      <td>0.0</td>\n",
              "    </tr>\n",
              "    <tr>\n",
              "      <th>1122</th>\n",
              "      <td>1.0</td>\n",
              "      <td>0.0</td>\n",
              "      <td>0.0</td>\n",
              "      <td>0.0</td>\n",
              "      <td>0.0</td>\n",
              "      <td>NaN</td>\n",
              "      <td>0.000149</td>\n",
              "      <td>0.0</td>\n",
              "      <td>0.0</td>\n",
              "      <td>0.0</td>\n",
              "      <td>0.0</td>\n",
              "    </tr>\n",
              "    <tr>\n",
              "      <th>1130</th>\n",
              "      <td>1.0</td>\n",
              "      <td>0.0</td>\n",
              "      <td>0.0</td>\n",
              "      <td>0.0</td>\n",
              "      <td>0.0</td>\n",
              "      <td>NaN</td>\n",
              "      <td>0.000149</td>\n",
              "      <td>0.0</td>\n",
              "      <td>0.0</td>\n",
              "      <td>0.0</td>\n",
              "      <td>0.0</td>\n",
              "    </tr>\n",
              "    <tr>\n",
              "      <th>1145</th>\n",
              "      <td>1.0</td>\n",
              "      <td>1.0</td>\n",
              "      <td>0.0</td>\n",
              "      <td>0.0</td>\n",
              "      <td>0.0</td>\n",
              "      <td>NaN</td>\n",
              "      <td>0.000149</td>\n",
              "      <td>0.0</td>\n",
              "      <td>0.0</td>\n",
              "      <td>0.0</td>\n",
              "      <td>0.0</td>\n",
              "    </tr>\n",
              "    <tr>\n",
              "      <th>1169</th>\n",
              "      <td>1.0</td>\n",
              "      <td>0.0</td>\n",
              "      <td>0.0</td>\n",
              "      <td>0.0</td>\n",
              "      <td>0.0</td>\n",
              "      <td>NaN</td>\n",
              "      <td>0.000149</td>\n",
              "      <td>0.0</td>\n",
              "      <td>0.0</td>\n",
              "      <td>0.0</td>\n",
              "      <td>0.0</td>\n",
              "    </tr>\n",
              "    <tr>\n",
              "      <th>1179</th>\n",
              "      <td>1.0</td>\n",
              "      <td>0.0</td>\n",
              "      <td>0.0</td>\n",
              "      <td>0.0</td>\n",
              "      <td>0.0</td>\n",
              "      <td>NaN</td>\n",
              "      <td>0.000149</td>\n",
              "      <td>0.0</td>\n",
              "      <td>0.0</td>\n",
              "      <td>0.0</td>\n",
              "      <td>0.0</td>\n",
              "    </tr>\n",
              "    <tr>\n",
              "      <th>1192</th>\n",
              "      <td>1.0</td>\n",
              "      <td>0.0</td>\n",
              "      <td>0.0</td>\n",
              "      <td>0.0</td>\n",
              "      <td>0.0</td>\n",
              "      <td>NaN</td>\n",
              "      <td>0.000149</td>\n",
              "      <td>0.0</td>\n",
              "      <td>0.0</td>\n",
              "      <td>0.0</td>\n",
              "      <td>0.0</td>\n",
              "    </tr>\n",
              "    <tr>\n",
              "      <th>1193</th>\n",
              "      <td>1.0</td>\n",
              "      <td>0.0</td>\n",
              "      <td>0.0</td>\n",
              "      <td>0.0</td>\n",
              "      <td>0.0</td>\n",
              "      <td>NaN</td>\n",
              "      <td>0.000149</td>\n",
              "      <td>0.0</td>\n",
              "      <td>0.0</td>\n",
              "      <td>0.0</td>\n",
              "      <td>0.0</td>\n",
              "    </tr>\n",
              "    <tr>\n",
              "      <th>1284</th>\n",
              "      <td>1.0</td>\n",
              "      <td>0.0</td>\n",
              "      <td>0.0</td>\n",
              "      <td>0.0</td>\n",
              "      <td>0.0</td>\n",
              "      <td>NaN</td>\n",
              "      <td>0.000149</td>\n",
              "      <td>0.0</td>\n",
              "      <td>0.0</td>\n",
              "      <td>0.0</td>\n",
              "      <td>0.0</td>\n",
              "    </tr>\n",
              "  </tbody>\n",
              "</table>\n",
              "</div>\n",
              "      <button class=\"colab-df-convert\" onclick=\"convertToInteractive('df-86c21e66-65fa-4c44-9925-0cd4f3ccb3b9')\"\n",
              "              title=\"Convert this dataframe to an interactive table.\"\n",
              "              style=\"display:none;\">\n",
              "        \n",
              "  <svg xmlns=\"http://www.w3.org/2000/svg\" height=\"24px\"viewBox=\"0 0 24 24\"\n",
              "       width=\"24px\">\n",
              "    <path d=\"M0 0h24v24H0V0z\" fill=\"none\"/>\n",
              "    <path d=\"M18.56 5.44l.94 2.06.94-2.06 2.06-.94-2.06-.94-.94-2.06-.94 2.06-2.06.94zm-11 1L8.5 8.5l.94-2.06 2.06-.94-2.06-.94L8.5 2.5l-.94 2.06-2.06.94zm10 10l.94 2.06.94-2.06 2.06-.94-2.06-.94-.94-2.06-.94 2.06-2.06.94z\"/><path d=\"M17.41 7.96l-1.37-1.37c-.4-.4-.92-.59-1.43-.59-.52 0-1.04.2-1.43.59L10.3 9.45l-7.72 7.72c-.78.78-.78 2.05 0 2.83L4 21.41c.39.39.9.59 1.41.59.51 0 1.02-.2 1.41-.59l7.78-7.78 2.81-2.81c.8-.78.8-2.07 0-2.86zM5.41 20L4 18.59l7.72-7.72 1.47 1.35L5.41 20z\"/>\n",
              "  </svg>\n",
              "      </button>\n",
              "      \n",
              "  <style>\n",
              "    .colab-df-container {\n",
              "      display:flex;\n",
              "      flex-wrap:wrap;\n",
              "      gap: 12px;\n",
              "    }\n",
              "\n",
              "    .colab-df-convert {\n",
              "      background-color: #E8F0FE;\n",
              "      border: none;\n",
              "      border-radius: 50%;\n",
              "      cursor: pointer;\n",
              "      display: none;\n",
              "      fill: #1967D2;\n",
              "      height: 32px;\n",
              "      padding: 0 0 0 0;\n",
              "      width: 32px;\n",
              "    }\n",
              "\n",
              "    .colab-df-convert:hover {\n",
              "      background-color: #E2EBFA;\n",
              "      box-shadow: 0px 1px 2px rgba(60, 64, 67, 0.3), 0px 1px 3px 1px rgba(60, 64, 67, 0.15);\n",
              "      fill: #174EA6;\n",
              "    }\n",
              "\n",
              "    [theme=dark] .colab-df-convert {\n",
              "      background-color: #3B4455;\n",
              "      fill: #D2E3FC;\n",
              "    }\n",
              "\n",
              "    [theme=dark] .colab-df-convert:hover {\n",
              "      background-color: #434B5C;\n",
              "      box-shadow: 0px 1px 3px 1px rgba(0, 0, 0, 0.15);\n",
              "      filter: drop-shadow(0px 1px 2px rgba(0, 0, 0, 0.3));\n",
              "      fill: #FFFFFF;\n",
              "    }\n",
              "  </style>\n",
              "\n",
              "      <script>\n",
              "        const buttonEl =\n",
              "          document.querySelector('#df-86c21e66-65fa-4c44-9925-0cd4f3ccb3b9 button.colab-df-convert');\n",
              "        buttonEl.style.display =\n",
              "          google.colab.kernel.accessAllowed ? 'block' : 'none';\n",
              "\n",
              "        async function convertToInteractive(key) {\n",
              "          const element = document.querySelector('#df-86c21e66-65fa-4c44-9925-0cd4f3ccb3b9');\n",
              "          const dataTable =\n",
              "            await google.colab.kernel.invokeFunction('convertToInteractive',\n",
              "                                                     [key], {});\n",
              "          if (!dataTable) return;\n",
              "\n",
              "          const docLinkHtml = 'Like what you see? Visit the ' +\n",
              "            '<a target=\"_blank\" href=https://colab.research.google.com/notebooks/data_table.ipynb>data table notebook</a>'\n",
              "            + ' to learn more about interactive tables.';\n",
              "          element.innerHTML = '';\n",
              "          dataTable['output_type'] = 'display_data';\n",
              "          await google.colab.output.renderOutput(dataTable, element);\n",
              "          const docLink = document.createElement('div');\n",
              "          docLink.innerHTML = docLinkHtml;\n",
              "          element.appendChild(docLink);\n",
              "        }\n",
              "      </script>\n",
              "    </div>\n",
              "  </div>\n",
              "  "
            ]
          },
          "metadata": {},
          "execution_count": 215
        }
      ]
    },
    {
      "cell_type": "code",
      "source": [
        "# Cantidad de registros con NaN\n",
        "len(eti_1_nan)"
      ],
      "metadata": {
        "colab": {
          "base_uri": "https://localhost:8080/"
        },
        "id": "5v0MlP_966K8",
        "outputId": "a89d1b5c-0f25-4854-fd81-24362deaddb9"
      },
      "id": "5v0MlP_966K8",
      "execution_count": null,
      "outputs": [
        {
          "output_type": "execute_result",
          "data": {
            "text/plain": [
              "34"
            ]
          },
          "metadata": {},
          "execution_count": 216
        }
      ]
    },
    {
      "cell_type": "code",
      "source": [
        "# Dataset con datos etiquetados, sin NaN ni datos nulos.\n",
        "\n",
        "eti_1_nan_filtered = eti_1.dropna()"
      ],
      "metadata": {
        "id": "ccbGBMT87cYq"
      },
      "id": "ccbGBMT87cYq",
      "execution_count": null,
      "outputs": []
    },
    {
      "cell_type": "code",
      "source": [
        "# Verificamos que no hayan quedado NaN\n",
        "eti_1_nan_filtered[eti_1_nan_filtered.isna().any(axis=1)]\n"
      ],
      "metadata": {
        "colab": {
          "base_uri": "https://localhost:8080/"
        },
        "id": "iScyh8YeDkfd",
        "outputId": "255830b6-bf39-4d41-f540-b9658a074904"
      },
      "id": "iScyh8YeDkfd",
      "execution_count": null,
      "outputs": [
        {
          "output_type": "execute_result",
          "data": {
            "text/plain": [
              "Empty DataFrame\n",
              "Columns: [Patient, State, PE, SC, GNE, SE, LZC, STE, Mean, Std, Skew]\n",
              "Index: []"
            ],
            "text/html": [
              "\n",
              "  <div id=\"df-5f0558e9-885e-488f-bc26-707387d4cfa4\">\n",
              "    <div class=\"colab-df-container\">\n",
              "      <div>\n",
              "<style scoped>\n",
              "    .dataframe tbody tr th:only-of-type {\n",
              "        vertical-align: middle;\n",
              "    }\n",
              "\n",
              "    .dataframe tbody tr th {\n",
              "        vertical-align: top;\n",
              "    }\n",
              "\n",
              "    .dataframe thead th {\n",
              "        text-align: right;\n",
              "    }\n",
              "</style>\n",
              "<table border=\"1\" class=\"dataframe\">\n",
              "  <thead>\n",
              "    <tr style=\"text-align: right;\">\n",
              "      <th></th>\n",
              "      <th>Patient</th>\n",
              "      <th>State</th>\n",
              "      <th>PE</th>\n",
              "      <th>SC</th>\n",
              "      <th>GNE</th>\n",
              "      <th>SE</th>\n",
              "      <th>LZC</th>\n",
              "      <th>STE</th>\n",
              "      <th>Mean</th>\n",
              "      <th>Std</th>\n",
              "      <th>Skew</th>\n",
              "    </tr>\n",
              "  </thead>\n",
              "  <tbody>\n",
              "  </tbody>\n",
              "</table>\n",
              "</div>\n",
              "      <button class=\"colab-df-convert\" onclick=\"convertToInteractive('df-5f0558e9-885e-488f-bc26-707387d4cfa4')\"\n",
              "              title=\"Convert this dataframe to an interactive table.\"\n",
              "              style=\"display:none;\">\n",
              "        \n",
              "  <svg xmlns=\"http://www.w3.org/2000/svg\" height=\"24px\"viewBox=\"0 0 24 24\"\n",
              "       width=\"24px\">\n",
              "    <path d=\"M0 0h24v24H0V0z\" fill=\"none\"/>\n",
              "    <path d=\"M18.56 5.44l.94 2.06.94-2.06 2.06-.94-2.06-.94-.94-2.06-.94 2.06-2.06.94zm-11 1L8.5 8.5l.94-2.06 2.06-.94-2.06-.94L8.5 2.5l-.94 2.06-2.06.94zm10 10l.94 2.06.94-2.06 2.06-.94-2.06-.94-.94-2.06-.94 2.06-2.06.94z\"/><path d=\"M17.41 7.96l-1.37-1.37c-.4-.4-.92-.59-1.43-.59-.52 0-1.04.2-1.43.59L10.3 9.45l-7.72 7.72c-.78.78-.78 2.05 0 2.83L4 21.41c.39.39.9.59 1.41.59.51 0 1.02-.2 1.41-.59l7.78-7.78 2.81-2.81c.8-.78.8-2.07 0-2.86zM5.41 20L4 18.59l7.72-7.72 1.47 1.35L5.41 20z\"/>\n",
              "  </svg>\n",
              "      </button>\n",
              "      \n",
              "  <style>\n",
              "    .colab-df-container {\n",
              "      display:flex;\n",
              "      flex-wrap:wrap;\n",
              "      gap: 12px;\n",
              "    }\n",
              "\n",
              "    .colab-df-convert {\n",
              "      background-color: #E8F0FE;\n",
              "      border: none;\n",
              "      border-radius: 50%;\n",
              "      cursor: pointer;\n",
              "      display: none;\n",
              "      fill: #1967D2;\n",
              "      height: 32px;\n",
              "      padding: 0 0 0 0;\n",
              "      width: 32px;\n",
              "    }\n",
              "\n",
              "    .colab-df-convert:hover {\n",
              "      background-color: #E2EBFA;\n",
              "      box-shadow: 0px 1px 2px rgba(60, 64, 67, 0.3), 0px 1px 3px 1px rgba(60, 64, 67, 0.15);\n",
              "      fill: #174EA6;\n",
              "    }\n",
              "\n",
              "    [theme=dark] .colab-df-convert {\n",
              "      background-color: #3B4455;\n",
              "      fill: #D2E3FC;\n",
              "    }\n",
              "\n",
              "    [theme=dark] .colab-df-convert:hover {\n",
              "      background-color: #434B5C;\n",
              "      box-shadow: 0px 1px 3px 1px rgba(0, 0, 0, 0.15);\n",
              "      filter: drop-shadow(0px 1px 2px rgba(0, 0, 0, 0.3));\n",
              "      fill: #FFFFFF;\n",
              "    }\n",
              "  </style>\n",
              "\n",
              "      <script>\n",
              "        const buttonEl =\n",
              "          document.querySelector('#df-5f0558e9-885e-488f-bc26-707387d4cfa4 button.colab-df-convert');\n",
              "        buttonEl.style.display =\n",
              "          google.colab.kernel.accessAllowed ? 'block' : 'none';\n",
              "\n",
              "        async function convertToInteractive(key) {\n",
              "          const element = document.querySelector('#df-5f0558e9-885e-488f-bc26-707387d4cfa4');\n",
              "          const dataTable =\n",
              "            await google.colab.kernel.invokeFunction('convertToInteractive',\n",
              "                                                     [key], {});\n",
              "          if (!dataTable) return;\n",
              "\n",
              "          const docLinkHtml = 'Like what you see? Visit the ' +\n",
              "            '<a target=\"_blank\" href=https://colab.research.google.com/notebooks/data_table.ipynb>data table notebook</a>'\n",
              "            + ' to learn more about interactive tables.';\n",
              "          element.innerHTML = '';\n",
              "          dataTable['output_type'] = 'display_data';\n",
              "          await google.colab.output.renderOutput(dataTable, element);\n",
              "          const docLink = document.createElement('div');\n",
              "          docLink.innerHTML = docLinkHtml;\n",
              "          element.appendChild(docLink);\n",
              "        }\n",
              "      </script>\n",
              "    </div>\n",
              "  </div>\n",
              "  "
            ]
          },
          "metadata": {},
          "execution_count": 218
        }
      ]
    },
    {
      "cell_type": "code",
      "source": [
        "eti_1_nan_filtered.shape"
      ],
      "metadata": {
        "colab": {
          "base_uri": "https://localhost:8080/"
        },
        "id": "ZJNWBWCJD_ND",
        "outputId": "201be719-eb1c-4cb3-8824-c1bf017ec76f"
      },
      "id": "ZJNWBWCJD_ND",
      "execution_count": null,
      "outputs": [
        {
          "output_type": "execute_result",
          "data": {
            "text/plain": [
              "(1268, 11)"
            ]
          },
          "metadata": {},
          "execution_count": 219
        }
      ]
    },
    {
      "cell_type": "markdown",
      "source": [
        "### Análisis de Outliers"
      ],
      "metadata": {
        "id": "E3MpdtOX9BOe"
      },
      "id": "E3MpdtOX9BOe"
    },
    {
      "cell_type": "code",
      "source": [
        "quantifiers = ['PE', 'SC', 'GNE', 'SE', 'LZC', 'STE', 'Mean',\n",
        "       'Std', 'Skew']"
      ],
      "metadata": {
        "id": "kfQSuiVR_lIE"
      },
      "id": "kfQSuiVR_lIE",
      "execution_count": null,
      "outputs": []
    },
    {
      "cell_type": "code",
      "source": [
        "eti_1_nan_filtered.columns"
      ],
      "metadata": {
        "colab": {
          "base_uri": "https://localhost:8080/"
        },
        "id": "bj0MhPcx9Ze0",
        "outputId": "a860f82a-0948-4312-bda0-f6f9b8653e41"
      },
      "id": "bj0MhPcx9Ze0",
      "execution_count": null,
      "outputs": [
        {
          "output_type": "execute_result",
          "data": {
            "text/plain": [
              "Index(['Patient', 'State', 'PE', 'SC', 'GNE', 'SE', 'LZC', 'STE', 'Mean',\n",
              "       'Std', 'Skew'],\n",
              "      dtype='object')"
            ]
          },
          "metadata": {},
          "execution_count": 221
        }
      ]
    },
    {
      "cell_type": "code",
      "source": [
        "def outlier_filter(df, c, low, top):\n",
        "    return df[(df[c] > low) & (df[c] < top)]\n",
        "\n",
        "# Elimino outliers para cada columna con metodo de cuantiles\n",
        "def filter_outliers(df, cols, k):\n",
        "  dff = df.copy()\n",
        "  for col in cols:\n",
        "      low = df[col].quantile(k)\n",
        "      top = df[col].quantile(1-k)\n",
        "      dff = outlier_filter(dff, col, low, top)\n",
        "  return dff\n",
        "\n",
        "    \n",
        "# Elimino nulos\n",
        "#dff.dropna(inplace=True)\n",
        "\n",
        "#df = dff\n",
        "#df.info()\n"
      ],
      "metadata": {
        "id": "aVC8z1Xz9id-"
      },
      "id": "aVC8z1Xz9id-",
      "execution_count": null,
      "outputs": []
    },
    {
      "cell_type": "code",
      "source": [
        "eti_1_clean = filter_outliers(eti_1_nan_filtered, quantifiers, 0.02)"
      ],
      "metadata": {
        "id": "mUgv7AnLAIue"
      },
      "id": "mUgv7AnLAIue",
      "execution_count": null,
      "outputs": []
    },
    {
      "cell_type": "code",
      "source": [
        "eti_1_clean"
      ],
      "metadata": {
        "colab": {
          "base_uri": "https://localhost:8080/"
        },
        "id": "r1xWlOf2G71I",
        "outputId": "e80feca6-0063-460a-8278-02239ad93a81"
      },
      "id": "r1xWlOf2G71I",
      "execution_count": null,
      "outputs": [
        {
          "output_type": "execute_result",
          "data": {
            "text/plain": [
              "      Patient  State        PE        SC       GNE        SE       LZC  \\\n",
              "0         1.0    1.0  0.598255  0.285388  0.662095  0.520937  0.325380   \n",
              "1         1.0    0.0  0.541613  0.283209  0.570060  0.413078  0.195333   \n",
              "2         1.0    0.0  0.543293  0.283316  0.572859  0.418008  0.199974   \n",
              "3         1.0    0.0  0.535949  0.282724  0.560678  0.391206  0.166309   \n",
              "4         1.0    0.0  0.436980  0.272283  0.398864  0.412815  0.116037   \n",
              "...       ...    ...       ...       ...       ...       ...       ...   \n",
              "1294      1.0    0.0  0.536783  0.283534  0.562999  0.421770  0.218689   \n",
              "1295      1.0    0.0  0.541033  0.283710  0.569750  0.419114  0.217428   \n",
              "1297      1.0    0.0  0.510113  0.281151  0.519344  0.394939  0.164326   \n",
              "1300      1.0    0.0  0.421636  0.269826  0.373106  0.440180  0.148534   \n",
              "1301      1.0    0.0  0.486570  0.279701  0.481453  0.418555  0.165718   \n",
              "\n",
              "           STE          Mean        Std      Skew  \n",
              "0     0.802138  4.426225e-06  15.557899 -0.000629  \n",
              "1     0.752879  2.075434e-05  48.467869 -0.031036  \n",
              "2     0.754335  5.322688e-06  46.771531 -0.077559  \n",
              "3     0.747854 -1.353617e-05  48.590217 -0.024175  \n",
              "4     0.668147 -5.555946e-07  41.749673 -0.087401  \n",
              "...        ...           ...        ...       ...  \n",
              "1294  0.749422 -8.846124e-07  49.706268 -0.098286  \n",
              "1295  0.752919  1.899028e-05  49.802014 -0.054252  \n",
              "1297  0.726943  9.537731e-07  57.858661 -0.027883  \n",
              "1300  0.656383 -2.206284e-06  35.274970 -0.137801  \n",
              "1301  0.708059  4.078808e-06  44.594447 -0.054953  \n",
              "\n",
              "[1037 rows x 11 columns]"
            ],
            "text/html": [
              "\n",
              "  <div id=\"df-07be6d99-306f-4e8b-843d-51752cd452eb\">\n",
              "    <div class=\"colab-df-container\">\n",
              "      <div>\n",
              "<style scoped>\n",
              "    .dataframe tbody tr th:only-of-type {\n",
              "        vertical-align: middle;\n",
              "    }\n",
              "\n",
              "    .dataframe tbody tr th {\n",
              "        vertical-align: top;\n",
              "    }\n",
              "\n",
              "    .dataframe thead th {\n",
              "        text-align: right;\n",
              "    }\n",
              "</style>\n",
              "<table border=\"1\" class=\"dataframe\">\n",
              "  <thead>\n",
              "    <tr style=\"text-align: right;\">\n",
              "      <th></th>\n",
              "      <th>Patient</th>\n",
              "      <th>State</th>\n",
              "      <th>PE</th>\n",
              "      <th>SC</th>\n",
              "      <th>GNE</th>\n",
              "      <th>SE</th>\n",
              "      <th>LZC</th>\n",
              "      <th>STE</th>\n",
              "      <th>Mean</th>\n",
              "      <th>Std</th>\n",
              "      <th>Skew</th>\n",
              "    </tr>\n",
              "  </thead>\n",
              "  <tbody>\n",
              "    <tr>\n",
              "      <th>0</th>\n",
              "      <td>1.0</td>\n",
              "      <td>1.0</td>\n",
              "      <td>0.598255</td>\n",
              "      <td>0.285388</td>\n",
              "      <td>0.662095</td>\n",
              "      <td>0.520937</td>\n",
              "      <td>0.325380</td>\n",
              "      <td>0.802138</td>\n",
              "      <td>4.426225e-06</td>\n",
              "      <td>15.557899</td>\n",
              "      <td>-0.000629</td>\n",
              "    </tr>\n",
              "    <tr>\n",
              "      <th>1</th>\n",
              "      <td>1.0</td>\n",
              "      <td>0.0</td>\n",
              "      <td>0.541613</td>\n",
              "      <td>0.283209</td>\n",
              "      <td>0.570060</td>\n",
              "      <td>0.413078</td>\n",
              "      <td>0.195333</td>\n",
              "      <td>0.752879</td>\n",
              "      <td>2.075434e-05</td>\n",
              "      <td>48.467869</td>\n",
              "      <td>-0.031036</td>\n",
              "    </tr>\n",
              "    <tr>\n",
              "      <th>2</th>\n",
              "      <td>1.0</td>\n",
              "      <td>0.0</td>\n",
              "      <td>0.543293</td>\n",
              "      <td>0.283316</td>\n",
              "      <td>0.572859</td>\n",
              "      <td>0.418008</td>\n",
              "      <td>0.199974</td>\n",
              "      <td>0.754335</td>\n",
              "      <td>5.322688e-06</td>\n",
              "      <td>46.771531</td>\n",
              "      <td>-0.077559</td>\n",
              "    </tr>\n",
              "    <tr>\n",
              "      <th>3</th>\n",
              "      <td>1.0</td>\n",
              "      <td>0.0</td>\n",
              "      <td>0.535949</td>\n",
              "      <td>0.282724</td>\n",
              "      <td>0.560678</td>\n",
              "      <td>0.391206</td>\n",
              "      <td>0.166309</td>\n",
              "      <td>0.747854</td>\n",
              "      <td>-1.353617e-05</td>\n",
              "      <td>48.590217</td>\n",
              "      <td>-0.024175</td>\n",
              "    </tr>\n",
              "    <tr>\n",
              "      <th>4</th>\n",
              "      <td>1.0</td>\n",
              "      <td>0.0</td>\n",
              "      <td>0.436980</td>\n",
              "      <td>0.272283</td>\n",
              "      <td>0.398864</td>\n",
              "      <td>0.412815</td>\n",
              "      <td>0.116037</td>\n",
              "      <td>0.668147</td>\n",
              "      <td>-5.555946e-07</td>\n",
              "      <td>41.749673</td>\n",
              "      <td>-0.087401</td>\n",
              "    </tr>\n",
              "    <tr>\n",
              "      <th>...</th>\n",
              "      <td>...</td>\n",
              "      <td>...</td>\n",
              "      <td>...</td>\n",
              "      <td>...</td>\n",
              "      <td>...</td>\n",
              "      <td>...</td>\n",
              "      <td>...</td>\n",
              "      <td>...</td>\n",
              "      <td>...</td>\n",
              "      <td>...</td>\n",
              "      <td>...</td>\n",
              "    </tr>\n",
              "    <tr>\n",
              "      <th>1294</th>\n",
              "      <td>1.0</td>\n",
              "      <td>0.0</td>\n",
              "      <td>0.536783</td>\n",
              "      <td>0.283534</td>\n",
              "      <td>0.562999</td>\n",
              "      <td>0.421770</td>\n",
              "      <td>0.218689</td>\n",
              "      <td>0.749422</td>\n",
              "      <td>-8.846124e-07</td>\n",
              "      <td>49.706268</td>\n",
              "      <td>-0.098286</td>\n",
              "    </tr>\n",
              "    <tr>\n",
              "      <th>1295</th>\n",
              "      <td>1.0</td>\n",
              "      <td>0.0</td>\n",
              "      <td>0.541033</td>\n",
              "      <td>0.283710</td>\n",
              "      <td>0.569750</td>\n",
              "      <td>0.419114</td>\n",
              "      <td>0.217428</td>\n",
              "      <td>0.752919</td>\n",
              "      <td>1.899028e-05</td>\n",
              "      <td>49.802014</td>\n",
              "      <td>-0.054252</td>\n",
              "    </tr>\n",
              "    <tr>\n",
              "      <th>1297</th>\n",
              "      <td>1.0</td>\n",
              "      <td>0.0</td>\n",
              "      <td>0.510113</td>\n",
              "      <td>0.281151</td>\n",
              "      <td>0.519344</td>\n",
              "      <td>0.394939</td>\n",
              "      <td>0.164326</td>\n",
              "      <td>0.726943</td>\n",
              "      <td>9.537731e-07</td>\n",
              "      <td>57.858661</td>\n",
              "      <td>-0.027883</td>\n",
              "    </tr>\n",
              "    <tr>\n",
              "      <th>1300</th>\n",
              "      <td>1.0</td>\n",
              "      <td>0.0</td>\n",
              "      <td>0.421636</td>\n",
              "      <td>0.269826</td>\n",
              "      <td>0.373106</td>\n",
              "      <td>0.440180</td>\n",
              "      <td>0.148534</td>\n",
              "      <td>0.656383</td>\n",
              "      <td>-2.206284e-06</td>\n",
              "      <td>35.274970</td>\n",
              "      <td>-0.137801</td>\n",
              "    </tr>\n",
              "    <tr>\n",
              "      <th>1301</th>\n",
              "      <td>1.0</td>\n",
              "      <td>0.0</td>\n",
              "      <td>0.486570</td>\n",
              "      <td>0.279701</td>\n",
              "      <td>0.481453</td>\n",
              "      <td>0.418555</td>\n",
              "      <td>0.165718</td>\n",
              "      <td>0.708059</td>\n",
              "      <td>4.078808e-06</td>\n",
              "      <td>44.594447</td>\n",
              "      <td>-0.054953</td>\n",
              "    </tr>\n",
              "  </tbody>\n",
              "</table>\n",
              "<p>1037 rows × 11 columns</p>\n",
              "</div>\n",
              "      <button class=\"colab-df-convert\" onclick=\"convertToInteractive('df-07be6d99-306f-4e8b-843d-51752cd452eb')\"\n",
              "              title=\"Convert this dataframe to an interactive table.\"\n",
              "              style=\"display:none;\">\n",
              "        \n",
              "  <svg xmlns=\"http://www.w3.org/2000/svg\" height=\"24px\"viewBox=\"0 0 24 24\"\n",
              "       width=\"24px\">\n",
              "    <path d=\"M0 0h24v24H0V0z\" fill=\"none\"/>\n",
              "    <path d=\"M18.56 5.44l.94 2.06.94-2.06 2.06-.94-2.06-.94-.94-2.06-.94 2.06-2.06.94zm-11 1L8.5 8.5l.94-2.06 2.06-.94-2.06-.94L8.5 2.5l-.94 2.06-2.06.94zm10 10l.94 2.06.94-2.06 2.06-.94-2.06-.94-.94-2.06-.94 2.06-2.06.94z\"/><path d=\"M17.41 7.96l-1.37-1.37c-.4-.4-.92-.59-1.43-.59-.52 0-1.04.2-1.43.59L10.3 9.45l-7.72 7.72c-.78.78-.78 2.05 0 2.83L4 21.41c.39.39.9.59 1.41.59.51 0 1.02-.2 1.41-.59l7.78-7.78 2.81-2.81c.8-.78.8-2.07 0-2.86zM5.41 20L4 18.59l7.72-7.72 1.47 1.35L5.41 20z\"/>\n",
              "  </svg>\n",
              "      </button>\n",
              "      \n",
              "  <style>\n",
              "    .colab-df-container {\n",
              "      display:flex;\n",
              "      flex-wrap:wrap;\n",
              "      gap: 12px;\n",
              "    }\n",
              "\n",
              "    .colab-df-convert {\n",
              "      background-color: #E8F0FE;\n",
              "      border: none;\n",
              "      border-radius: 50%;\n",
              "      cursor: pointer;\n",
              "      display: none;\n",
              "      fill: #1967D2;\n",
              "      height: 32px;\n",
              "      padding: 0 0 0 0;\n",
              "      width: 32px;\n",
              "    }\n",
              "\n",
              "    .colab-df-convert:hover {\n",
              "      background-color: #E2EBFA;\n",
              "      box-shadow: 0px 1px 2px rgba(60, 64, 67, 0.3), 0px 1px 3px 1px rgba(60, 64, 67, 0.15);\n",
              "      fill: #174EA6;\n",
              "    }\n",
              "\n",
              "    [theme=dark] .colab-df-convert {\n",
              "      background-color: #3B4455;\n",
              "      fill: #D2E3FC;\n",
              "    }\n",
              "\n",
              "    [theme=dark] .colab-df-convert:hover {\n",
              "      background-color: #434B5C;\n",
              "      box-shadow: 0px 1px 3px 1px rgba(0, 0, 0, 0.15);\n",
              "      filter: drop-shadow(0px 1px 2px rgba(0, 0, 0, 0.3));\n",
              "      fill: #FFFFFF;\n",
              "    }\n",
              "  </style>\n",
              "\n",
              "      <script>\n",
              "        const buttonEl =\n",
              "          document.querySelector('#df-07be6d99-306f-4e8b-843d-51752cd452eb button.colab-df-convert');\n",
              "        buttonEl.style.display =\n",
              "          google.colab.kernel.accessAllowed ? 'block' : 'none';\n",
              "\n",
              "        async function convertToInteractive(key) {\n",
              "          const element = document.querySelector('#df-07be6d99-306f-4e8b-843d-51752cd452eb');\n",
              "          const dataTable =\n",
              "            await google.colab.kernel.invokeFunction('convertToInteractive',\n",
              "                                                     [key], {});\n",
              "          if (!dataTable) return;\n",
              "\n",
              "          const docLinkHtml = 'Like what you see? Visit the ' +\n",
              "            '<a target=\"_blank\" href=https://colab.research.google.com/notebooks/data_table.ipynb>data table notebook</a>'\n",
              "            + ' to learn more about interactive tables.';\n",
              "          element.innerHTML = '';\n",
              "          dataTable['output_type'] = 'display_data';\n",
              "          await google.colab.output.renderOutput(dataTable, element);\n",
              "          const docLink = document.createElement('div');\n",
              "          docLink.innerHTML = docLinkHtml;\n",
              "          element.appendChild(docLink);\n",
              "        }\n",
              "      </script>\n",
              "    </div>\n",
              "  </div>\n",
              "  "
            ]
          },
          "metadata": {},
          "execution_count": 224
        }
      ]
    },
    {
      "cell_type": "code",
      "source": [
        "plt.figure(figsize=(15,10))\n",
        "pos = 1\n",
        "for i in quantifiers:\n",
        "    plt.subplot(3, 4, pos)\n",
        "    sns.boxplot(eti_1_nan_filtered[i])\n",
        "    pos += 1"
      ],
      "metadata": {
        "colab": {
          "base_uri": "https://localhost:8080/"
        },
        "id": "4VI8zq-QEqFY",
        "outputId": "d7e0fd87-bcc9-4ba6-8703-cd6ade3833d8"
      },
      "id": "4VI8zq-QEqFY",
      "execution_count": null,
      "outputs": [
        {
          "output_type": "stream",
          "name": "stderr",
          "text": [
            "/usr/local/lib/python3.7/dist-packages/seaborn/_decorators.py:43: FutureWarning: Pass the following variable as a keyword arg: x. From version 0.12, the only valid positional argument will be `data`, and passing other arguments without an explicit keyword will result in an error or misinterpretation.\n",
            "  FutureWarning\n",
            "/usr/local/lib/python3.7/dist-packages/seaborn/_decorators.py:43: FutureWarning: Pass the following variable as a keyword arg: x. From version 0.12, the only valid positional argument will be `data`, and passing other arguments without an explicit keyword will result in an error or misinterpretation.\n",
            "  FutureWarning\n",
            "/usr/local/lib/python3.7/dist-packages/seaborn/_decorators.py:43: FutureWarning: Pass the following variable as a keyword arg: x. From version 0.12, the only valid positional argument will be `data`, and passing other arguments without an explicit keyword will result in an error or misinterpretation.\n",
            "  FutureWarning\n",
            "/usr/local/lib/python3.7/dist-packages/seaborn/_decorators.py:43: FutureWarning: Pass the following variable as a keyword arg: x. From version 0.12, the only valid positional argument will be `data`, and passing other arguments without an explicit keyword will result in an error or misinterpretation.\n",
            "  FutureWarning\n",
            "/usr/local/lib/python3.7/dist-packages/seaborn/_decorators.py:43: FutureWarning: Pass the following variable as a keyword arg: x. From version 0.12, the only valid positional argument will be `data`, and passing other arguments without an explicit keyword will result in an error or misinterpretation.\n",
            "  FutureWarning\n",
            "/usr/local/lib/python3.7/dist-packages/seaborn/_decorators.py:43: FutureWarning: Pass the following variable as a keyword arg: x. From version 0.12, the only valid positional argument will be `data`, and passing other arguments without an explicit keyword will result in an error or misinterpretation.\n",
            "  FutureWarning\n",
            "/usr/local/lib/python3.7/dist-packages/seaborn/_decorators.py:43: FutureWarning: Pass the following variable as a keyword arg: x. From version 0.12, the only valid positional argument will be `data`, and passing other arguments without an explicit keyword will result in an error or misinterpretation.\n",
            "  FutureWarning\n",
            "/usr/local/lib/python3.7/dist-packages/seaborn/_decorators.py:43: FutureWarning: Pass the following variable as a keyword arg: x. From version 0.12, the only valid positional argument will be `data`, and passing other arguments without an explicit keyword will result in an error or misinterpretation.\n",
            "  FutureWarning\n",
            "/usr/local/lib/python3.7/dist-packages/seaborn/_decorators.py:43: FutureWarning: Pass the following variable as a keyword arg: x. From version 0.12, the only valid positional argument will be `data`, and passing other arguments without an explicit keyword will result in an error or misinterpretation.\n",
            "  FutureWarning\n"
          ]
        },
        {
          "output_type": "display_data",
          "data": {
            "text/plain": [
              "<Figure size 1080x720 with 9 Axes>"
            ],
            "image/png": "[encoded data removed]"
          },
          "metadata": {
            "needs_background": "light"
          }
        }
      ]
    },
    {
      "cell_type": "code",
      "source": [
        "plt.figure(figsize=(15,10))\n",
        "pos = 1\n",
        "for i in quantifiers:\n",
        "    plt.subplot(3, 4, pos)\n",
        "    sns.boxplot(eti_1_clean[i])\n",
        "    pos += 1"
      ],
      "metadata": {
        "colab": {
          "base_uri": "https://localhost:8080/"
        },
        "id": "Vpy8wa-CF9Mq",
        "outputId": "51dc61aa-5e68-4d66-961c-0cfa6b9367b1"
      },
      "id": "Vpy8wa-CF9Mq",
      "execution_count": null,
      "outputs": [
        {
          "output_type": "stream",
          "name": "stderr",
          "text": [
            "/usr/local/lib/python3.7/dist-packages/seaborn/_decorators.py:43: FutureWarning: Pass the following variable as a keyword arg: x. From version 0.12, the only valid positional argument will be `data`, and passing other arguments without an explicit keyword will result in an error or misinterpretation.\n",
            "  FutureWarning\n",
            "/usr/local/lib/python3.7/dist-packages/seaborn/_decorators.py:43: FutureWarning: Pass the following variable as a keyword arg: x. From version 0.12, the only valid positional argument will be `data`, and passing other arguments without an explicit keyword will result in an error or misinterpretation.\n",
            "  FutureWarning\n",
            "/usr/local/lib/python3.7/dist-packages/seaborn/_decorators.py:43: FutureWarning: Pass the following variable as a keyword arg: x. From version 0.12, the only valid positional argument will be `data`, and passing other arguments without an explicit keyword will result in an error or misinterpretation.\n",
            "  FutureWarning\n",
            "/usr/local/lib/python3.7/dist-packages/seaborn/_decorators.py:43: FutureWarning: Pass the following variable as a keyword arg: x. From version 0.12, the only valid positional argument will be `data`, and passing other arguments without an explicit keyword will result in an error or misinterpretation.\n",
            "  FutureWarning\n",
            "/usr/local/lib/python3.7/dist-packages/seaborn/_decorators.py:43: FutureWarning: Pass the following variable as a keyword arg: x. From version 0.12, the only valid positional argument will be `data`, and passing other arguments without an explicit keyword will result in an error or misinterpretation.\n",
            "  FutureWarning\n",
            "/usr/local/lib/python3.7/dist-packages/seaborn/_decorators.py:43: FutureWarning: Pass the following variable as a keyword arg: x. From version 0.12, the only valid positional argument will be `data`, and passing other arguments without an explicit keyword will result in an error or misinterpretation.\n",
            "  FutureWarning\n",
            "/usr/local/lib/python3.7/dist-packages/seaborn/_decorators.py:43: FutureWarning: Pass the following variable as a keyword arg: x. From version 0.12, the only valid positional argument will be `data`, and passing other arguments without an explicit keyword will result in an error or misinterpretation.\n",
            "  FutureWarning\n",
            "/usr/local/lib/python3.7/dist-packages/seaborn/_decorators.py:43: FutureWarning: Pass the following variable as a keyword arg: x. From version 0.12, the only valid positional argument will be `data`, and passing other arguments without an explicit keyword will result in an error or misinterpretation.\n",
            "  FutureWarning\n",
            "/usr/local/lib/python3.7/dist-packages/seaborn/_decorators.py:43: FutureWarning: Pass the following variable as a keyword arg: x. From version 0.12, the only valid positional argument will be `data`, and passing other arguments without an explicit keyword will result in an error or misinterpretation.\n",
            "  FutureWarning\n"
          ]
        },
        {
          "output_type": "display_data",
          "data": {
            "text/plain": [
              "<Figure size 1080x720 with 9 Axes>"
            ],
            "image/png": "[encoded data removed]"
          },
          "metadata": {
            "needs_background": "light"
          }
        }
      ]
    },
    {
      "cell_type": "code",
      "source": [
        "Q_registros_p1 = 1037/1268"
      ],
      "metadata": {
        "id": "616KO2CwISid"
      },
      "execution_count": null,
      "outputs": [],
      "id": "616KO2CwISid"
    },
    {
      "cell_type": "code",
      "source": [
        "Q_registros_p1"
      ],
      "metadata": {
        "colab": {
          "base_uri": "https://localhost:8080/"
        },
        "outputId": "eefe0e52-1b70-4afa-c663-5d93d73ad774",
        "id": "9u9GEHHvISie"
      },
      "execution_count": null,
      "outputs": [
        {
          "output_type": "execute_result",
          "data": {
            "text/plain": [
              "0.8178233438485805"
            ]
          },
          "metadata": {},
          "execution_count": 228
        }
      ],
      "id": "9u9GEHHvISie"
    },
    {
      "cell_type": "markdown",
      "source": [
        "## Paciente 2"
      ],
      "metadata": {
        "id": "YJaGitTQ82sn"
      },
      "id": "YJaGitTQ82sn"
    },
    {
      "cell_type": "code",
      "source": [
        "path = DATASETS_PATH + 'Data_test_P2.csv'\n",
        "eti_2 = pd.read_csv (path)\n",
        "print(eti_2)"
      ],
      "metadata": {
        "colab": {
          "base_uri": "https://localhost:8080/"
        },
        "id": "Jeg8hk2Q5hzS",
        "outputId": "07b58d73-3f96-4dfb-b3e3-7c0687faf2c1"
      },
      "id": "Jeg8hk2Q5hzS",
      "execution_count": null,
      "outputs": [
        {
          "output_type": "stream",
          "name": "stdout",
          "text": [
            "      Patient  State        PE        SC       GNE        SE       LZC  \\\n",
            "0         2.0    0.0  0.580832  0.285770  0.635451  0.600646  0.397346   \n",
            "1         2.0    0.0  0.580672  0.285824  0.635267  0.594471  0.395368   \n",
            "2         2.0    0.0  0.572336  0.285645  0.621824  0.577791  0.377290   \n",
            "3         2.0    0.0  0.566942  0.285178  0.612575  0.532172  0.319409   \n",
            "4         2.0    0.0  0.571565  0.284667  0.619001  0.488914  0.269929   \n",
            "...       ...    ...       ...       ...       ...       ...       ...   \n",
            "2341      2.0    0.0  0.510067  0.283269  0.522142  0.594527  0.300433   \n",
            "2342      2.0    0.0  0.564873  0.286244  0.610203  0.553031  0.350188   \n",
            "2343      2.0    1.0  0.362519  0.255691  0.271619  0.569788  0.115600   \n",
            "2344      2.0    0.0  0.570313  0.286206  0.618980  0.576464  0.364877   \n",
            "2345      2.0    1.0  0.575551  0.286208  0.627219  0.585996  0.372166   \n",
            "\n",
            "           STE          Mean        Std      Skew  \n",
            "0     0.788286  3.267524e-06  28.914999  0.001687  \n",
            "1     0.788119 -4.301728e-06  30.470222 -0.033638  \n",
            "2     0.780848  8.877483e-06  37.022934 -0.090754  \n",
            "3     0.775831 -1.764079e-05  44.845233 -0.008312  \n",
            "4     0.779092 -5.388890e-05  44.925146  0.026433  \n",
            "...        ...           ...        ...       ...  \n",
            "2341  0.729515 -1.717178e-05  26.392637 -0.029033  \n",
            "2342  0.774720  1.333844e-05  40.535139 -0.128528  \n",
            "2343  0.612135 -1.032709e-05  21.506041 -0.538919  \n",
            "2344  0.779346 -2.007174e-05  39.010453 -0.223666  \n",
            "2345  0.783716  5.834034e-07  34.186113 -0.096496  \n",
            "\n",
            "[2346 rows x 11 columns]\n"
          ]
        }
      ]
    },
    {
      "cell_type": "code",
      "source": [
        "eti_2_nan = eti_2[eti_2.isna().any(axis=1)]\n",
        "eti_2_nan"
      ],
      "metadata": {
        "colab": {
          "base_uri": "https://localhost:8080/"
        },
        "id": "W8F7TfZeiboG",
        "outputId": "9bc55c43-0699-4d0b-d955-6c1571cd442e"
      },
      "id": "W8F7TfZeiboG",
      "execution_count": null,
      "outputs": [
        {
          "output_type": "execute_result",
          "data": {
            "text/plain": [
              "      Patient  State   PE   SC  GNE  SE       LZC  STE  Mean  Std  Skew\n",
              "12        2.0    0.0  0.0  0.0  0.0 NaN  0.000149  0.0   0.0  0.0   0.0\n",
              "44        2.0    0.0  0.0  0.0  0.0 NaN  0.000149  0.0   0.0  0.0   0.0\n",
              "87        2.0    1.0  0.0  0.0  0.0 NaN  0.000149  0.0   0.0  0.0   0.0\n",
              "201       2.0    0.0  0.0  0.0  0.0 NaN  0.000149  0.0   0.0  0.0   0.0\n",
              "205       2.0    0.0  0.0  0.0  0.0 NaN  0.000149  0.0   0.0  0.0   0.0\n",
              "269       2.0    1.0  0.0  0.0  0.0 NaN  0.000149  0.0   0.0  0.0   0.0\n",
              "274       2.0    0.0  0.0  0.0  0.0 NaN  0.000149  0.0   0.0  0.0   0.0\n",
              "281       2.0    1.0  0.0  0.0  0.0 NaN  0.000149  0.0   0.0  0.0   0.0\n",
              "292       2.0    1.0  0.0  0.0  0.0 NaN  0.000149  0.0   0.0  0.0   0.0\n",
              "413       2.0    0.0  0.0  0.0  0.0 NaN  0.000149  0.0   0.0  0.0   0.0\n",
              "473       2.0    0.0  0.0  0.0  0.0 NaN  0.000149  0.0   0.0  0.0   0.0\n",
              "601       2.0    0.0  0.0  0.0  0.0 NaN  0.000149  0.0   0.0  0.0   0.0\n",
              "602       2.0    0.0  0.0  0.0  0.0 NaN  0.000149  0.0   0.0  0.0   0.0\n",
              "616       2.0    0.0  0.0  0.0  0.0 NaN  0.000149  0.0   0.0  0.0   0.0\n",
              "734       2.0    0.0  0.0  0.0  0.0 NaN  0.000149  0.0   0.0  0.0   0.0\n",
              "735       2.0    0.0  0.0  0.0  0.0 NaN  0.000149  0.0   0.0  0.0   0.0\n",
              "780       2.0    0.0  0.0  0.0  0.0 NaN  0.000149  0.0   0.0  0.0   0.0\n",
              "817       2.0    0.0  0.0  0.0  0.0 NaN  0.000149  0.0   0.0  0.0   0.0\n",
              "1107      2.0    0.0  0.0  0.0  0.0 NaN  0.000149  0.0   0.0  0.0   0.0\n",
              "1236      2.0    0.0  0.0  0.0  0.0 NaN  0.000149  0.0   0.0  0.0   0.0\n",
              "1705      2.0    0.0  0.0  0.0  0.0 NaN  0.000149  0.0   0.0  0.0   0.0\n",
              "1708      2.0    0.0  0.0  0.0  0.0 NaN  0.000149  0.0   0.0  0.0   0.0\n",
              "1910      2.0    0.0  0.0  0.0  0.0 NaN  0.000149  0.0   0.0  0.0   0.0\n",
              "1912      2.0    0.0  0.0  0.0  0.0 NaN  0.000149  0.0   0.0  0.0   0.0\n",
              "1913      2.0    0.0  0.0  0.0  0.0 NaN  0.000149  0.0   0.0  0.0   0.0\n",
              "1932      2.0    0.0  0.0  0.0  0.0 NaN  0.000149  0.0   0.0  0.0   0.0\n",
              "2003      2.0    0.0  0.0  0.0  0.0 NaN  0.000149  0.0   0.0  0.0   0.0\n",
              "2035      2.0    0.0  0.0  0.0  0.0 NaN  0.000149  0.0   0.0  0.0   0.0\n",
              "2041      2.0    0.0  0.0  0.0  0.0 NaN  0.000149  0.0   0.0  0.0   0.0\n",
              "2139      2.0    0.0  0.0  0.0  0.0 NaN  0.000149  0.0   0.0  0.0   0.0\n",
              "2160      2.0    0.0  0.0  0.0  0.0 NaN  0.000149  0.0   0.0  0.0   0.0\n",
              "2319      2.0    0.0  0.0  0.0  0.0 NaN  0.000149  0.0   0.0  0.0   0.0"
            ],
            "text/html": [
              "\n",
              "  <div id=\"df-f92d574e-9cee-443a-8cdc-b5437bad6d11\">\n",
              "    <div class=\"colab-df-container\">\n",
              "      <div>\n",
              "<style scoped>\n",
              "    .dataframe tbody tr th:only-of-type {\n",
              "        vertical-align: middle;\n",
              "    }\n",
              "\n",
              "    .dataframe tbody tr th {\n",
              "        vertical-align: top;\n",
              "    }\n",
              "\n",
              "    .dataframe thead th {\n",
              "        text-align: right;\n",
              "    }\n",
              "</style>\n",
              "<table border=\"1\" class=\"dataframe\">\n",
              "  <thead>\n",
              "    <tr style=\"text-align: right;\">\n",
              "      <th></th>\n",
              "      <th>Patient</th>\n",
              "      <th>State</th>\n",
              "      <th>PE</th>\n",
              "      <th>SC</th>\n",
              "      <th>GNE</th>\n",
              "      <th>SE</th>\n",
              "      <th>LZC</th>\n",
              "      <th>STE</th>\n",
              "      <th>Mean</th>\n",
              "      <th>Std</th>\n",
              "      <th>Skew</th>\n",
              "    </tr>\n",
              "  </thead>\n",
              "  <tbody>\n",
              "    <tr>\n",
              "      <th>12</th>\n",
              "      <td>2.0</td>\n",
              "      <td>0.0</td>\n",
              "      <td>0.0</td>\n",
              "      <td>0.0</td>\n",
              "      <td>0.0</td>\n",
              "      <td>NaN</td>\n",
              "      <td>0.000149</td>\n",
              "      <td>0.0</td>\n",
              "      <td>0.0</td>\n",
              "      <td>0.0</td>\n",
              "      <td>0.0</td>\n",
              "    </tr>\n",
              "    <tr>\n",
              "      <th>44</th>\n",
              "      <td>2.0</td>\n",
              "      <td>0.0</td>\n",
              "      <td>0.0</td>\n",
              "      <td>0.0</td>\n",
              "      <td>0.0</td>\n",
              "      <td>NaN</td>\n",
              "      <td>0.000149</td>\n",
              "      <td>0.0</td>\n",
              "      <td>0.0</td>\n",
              "      <td>0.0</td>\n",
              "      <td>0.0</td>\n",
              "    </tr>\n",
              "    <tr>\n",
              "      <th>87</th>\n",
              "      <td>2.0</td>\n",
              "      <td>1.0</td>\n",
              "      <td>0.0</td>\n",
              "      <td>0.0</td>\n",
              "      <td>0.0</td>\n",
              "      <td>NaN</td>\n",
              "      <td>0.000149</td>\n",
              "      <td>0.0</td>\n",
              "      <td>0.0</td>\n",
              "      <td>0.0</td>\n",
              "      <td>0.0</td>\n",
              "    </tr>\n",
              "    <tr>\n",
              "      <th>201</th>\n",
              "      <td>2.0</td>\n",
              "      <td>0.0</td>\n",
              "      <td>0.0</td>\n",
              "      <td>0.0</td>\n",
              "      <td>0.0</td>\n",
              "      <td>NaN</td>\n",
              "      <td>0.000149</td>\n",
              "      <td>0.0</td>\n",
              "      <td>0.0</td>\n",
              "      <td>0.0</td>\n",
              "      <td>0.0</td>\n",
              "    </tr>\n",
              "    <tr>\n",
              "      <th>205</th>\n",
              "      <td>2.0</td>\n",
              "      <td>0.0</td>\n",
              "      <td>0.0</td>\n",
              "      <td>0.0</td>\n",
              "      <td>0.0</td>\n",
              "      <td>NaN</td>\n",
              "      <td>0.000149</td>\n",
              "      <td>0.0</td>\n",
              "      <td>0.0</td>\n",
              "      <td>0.0</td>\n",
              "      <td>0.0</td>\n",
              "    </tr>\n",
              "    <tr>\n",
              "      <th>269</th>\n",
              "      <td>2.0</td>\n",
              "      <td>1.0</td>\n",
              "      <td>0.0</td>\n",
              "      <td>0.0</td>\n",
              "      <td>0.0</td>\n",
              "      <td>NaN</td>\n",
              "      <td>0.000149</td>\n",
              "      <td>0.0</td>\n",
              "      <td>0.0</td>\n",
              "      <td>0.0</td>\n",
              "      <td>0.0</td>\n",
              "    </tr>\n",
              "    <tr>\n",
              "      <th>274</th>\n",
              "      <td>2.0</td>\n",
              "      <td>0.0</td>\n",
              "      <td>0.0</td>\n",
              "      <td>0.0</td>\n",
              "      <td>0.0</td>\n",
              "      <td>NaN</td>\n",
              "      <td>0.000149</td>\n",
              "      <td>0.0</td>\n",
              "      <td>0.0</td>\n",
              "      <td>0.0</td>\n",
              "      <td>0.0</td>\n",
              "    </tr>\n",
              "    <tr>\n",
              "      <th>281</th>\n",
              "      <td>2.0</td>\n",
              "      <td>1.0</td>\n",
              "      <td>0.0</td>\n",
              "      <td>0.0</td>\n",
              "      <td>0.0</td>\n",
              "      <td>NaN</td>\n",
              "      <td>0.000149</td>\n",
              "      <td>0.0</td>\n",
              "      <td>0.0</td>\n",
              "      <td>0.0</td>\n",
              "      <td>0.0</td>\n",
              "    </tr>\n",
              "    <tr>\n",
              "      <th>292</th>\n",
              "      <td>2.0</td>\n",
              "      <td>1.0</td>\n",
              "      <td>0.0</td>\n",
              "      <td>0.0</td>\n",
              "      <td>0.0</td>\n",
              "      <td>NaN</td>\n",
              "      <td>0.000149</td>\n",
              "      <td>0.0</td>\n",
              "      <td>0.0</td>\n",
              "      <td>0.0</td>\n",
              "      <td>0.0</td>\n",
              "    </tr>\n",
              "    <tr>\n",
              "      <th>413</th>\n",
              "      <td>2.0</td>\n",
              "      <td>0.0</td>\n",
              "      <td>0.0</td>\n",
              "      <td>0.0</td>\n",
              "      <td>0.0</td>\n",
              "      <td>NaN</td>\n",
              "      <td>0.000149</td>\n",
              "      <td>0.0</td>\n",
              "      <td>0.0</td>\n",
              "      <td>0.0</td>\n",
              "      <td>0.0</td>\n",
              "    </tr>\n",
              "    <tr>\n",
              "      <th>473</th>\n",
              "      <td>2.0</td>\n",
              "      <td>0.0</td>\n",
              "      <td>0.0</td>\n",
              "      <td>0.0</td>\n",
              "      <td>0.0</td>\n",
              "      <td>NaN</td>\n",
              "      <td>0.000149</td>\n",
              "      <td>0.0</td>\n",
              "      <td>0.0</td>\n",
              "      <td>0.0</td>\n",
              "      <td>0.0</td>\n",
              "    </tr>\n",
              "    <tr>\n",
              "      <th>601</th>\n",
              "      <td>2.0</td>\n",
              "      <td>0.0</td>\n",
              "      <td>0.0</td>\n",
              "      <td>0.0</td>\n",
              "      <td>0.0</td>\n",
              "      <td>NaN</td>\n",
              "      <td>0.000149</td>\n",
              "      <td>0.0</td>\n",
              "      <td>0.0</td>\n",
              "      <td>0.0</td>\n",
              "      <td>0.0</td>\n",
              "    </tr>\n",
              "    <tr>\n",
              "      <th>602</th>\n",
              "      <td>2.0</td>\n",
              "      <td>0.0</td>\n",
              "      <td>0.0</td>\n",
              "      <td>0.0</td>\n",
              "      <td>0.0</td>\n",
              "      <td>NaN</td>\n",
              "      <td>0.000149</td>\n",
              "      <td>0.0</td>\n",
              "      <td>0.0</td>\n",
              "      <td>0.0</td>\n",
              "      <td>0.0</td>\n",
              "    </tr>\n",
              "    <tr>\n",
              "      <th>616</th>\n",
              "      <td>2.0</td>\n",
              "      <td>0.0</td>\n",
              "      <td>0.0</td>\n",
              "      <td>0.0</td>\n",
              "      <td>0.0</td>\n",
              "      <td>NaN</td>\n",
              "      <td>0.000149</td>\n",
              "      <td>0.0</td>\n",
              "      <td>0.0</td>\n",
              "      <td>0.0</td>\n",
              "      <td>0.0</td>\n",
              "    </tr>\n",
              "    <tr>\n",
              "      <th>734</th>\n",
              "      <td>2.0</td>\n",
              "      <td>0.0</td>\n",
              "      <td>0.0</td>\n",
              "      <td>0.0</td>\n",
              "      <td>0.0</td>\n",
              "      <td>NaN</td>\n",
              "      <td>0.000149</td>\n",
              "      <td>0.0</td>\n",
              "      <td>0.0</td>\n",
              "      <td>0.0</td>\n",
              "      <td>0.0</td>\n",
              "    </tr>\n",
              "    <tr>\n",
              "      <th>735</th>\n",
              "      <td>2.0</td>\n",
              "      <td>0.0</td>\n",
              "      <td>0.0</td>\n",
              "      <td>0.0</td>\n",
              "      <td>0.0</td>\n",
              "      <td>NaN</td>\n",
              "      <td>0.000149</td>\n",
              "      <td>0.0</td>\n",
              "      <td>0.0</td>\n",
              "      <td>0.0</td>\n",
              "      <td>0.0</td>\n",
              "    </tr>\n",
              "    <tr>\n",
              "      <th>780</th>\n",
              "      <td>2.0</td>\n",
              "      <td>0.0</td>\n",
              "      <td>0.0</td>\n",
              "      <td>0.0</td>\n",
              "      <td>0.0</td>\n",
              "      <td>NaN</td>\n",
              "      <td>0.000149</td>\n",
              "      <td>0.0</td>\n",
              "      <td>0.0</td>\n",
              "      <td>0.0</td>\n",
              "      <td>0.0</td>\n",
              "    </tr>\n",
              "    <tr>\n",
              "      <th>817</th>\n",
              "      <td>2.0</td>\n",
              "      <td>0.0</td>\n",
              "      <td>0.0</td>\n",
              "      <td>0.0</td>\n",
              "      <td>0.0</td>\n",
              "      <td>NaN</td>\n",
              "      <td>0.000149</td>\n",
              "      <td>0.0</td>\n",
              "      <td>0.0</td>\n",
              "      <td>0.0</td>\n",
              "      <td>0.0</td>\n",
              "    </tr>\n",
              "    <tr>\n",
              "      <th>1107</th>\n",
              "      <td>2.0</td>\n",
              "      <td>0.0</td>\n",
              "      <td>0.0</td>\n",
              "      <td>0.0</td>\n",
              "      <td>0.0</td>\n",
              "      <td>NaN</td>\n",
              "      <td>0.000149</td>\n",
              "      <td>0.0</td>\n",
              "      <td>0.0</td>\n",
              "      <td>0.0</td>\n",
              "      <td>0.0</td>\n",
              "    </tr>\n",
              "    <tr>\n",
              "      <th>1236</th>\n",
              "      <td>2.0</td>\n",
              "      <td>0.0</td>\n",
              "      <td>0.0</td>\n",
              "      <td>0.0</td>\n",
              "      <td>0.0</td>\n",
              "      <td>NaN</td>\n",
              "      <td>0.000149</td>\n",
              "      <td>0.0</td>\n",
              "      <td>0.0</td>\n",
              "      <td>0.0</td>\n",
              "      <td>0.0</td>\n",
              "    </tr>\n",
              "    <tr>\n",
              "      <th>1705</th>\n",
              "      <td>2.0</td>\n",
              "      <td>0.0</td>\n",
              "      <td>0.0</td>\n",
              "      <td>0.0</td>\n",
              "      <td>0.0</td>\n",
              "      <td>NaN</td>\n",
              "      <td>0.000149</td>\n",
              "      <td>0.0</td>\n",
              "      <td>0.0</td>\n",
              "      <td>0.0</td>\n",
              "      <td>0.0</td>\n",
              "    </tr>\n",
              "    <tr>\n",
              "      <th>1708</th>\n",
              "      <td>2.0</td>\n",
              "      <td>0.0</td>\n",
              "      <td>0.0</td>\n",
              "      <td>0.0</td>\n",
              "      <td>0.0</td>\n",
              "      <td>NaN</td>\n",
              "      <td>0.000149</td>\n",
              "      <td>0.0</td>\n",
              "      <td>0.0</td>\n",
              "      <td>0.0</td>\n",
              "      <td>0.0</td>\n",
              "    </tr>\n",
              "    <tr>\n",
              "      <th>1910</th>\n",
              "      <td>2.0</td>\n",
              "      <td>0.0</td>\n",
              "      <td>0.0</td>\n",
              "      <td>0.0</td>\n",
              "      <td>0.0</td>\n",
              "      <td>NaN</td>\n",
              "      <td>0.000149</td>\n",
              "      <td>0.0</td>\n",
              "      <td>0.0</td>\n",
              "      <td>0.0</td>\n",
              "      <td>0.0</td>\n",
              "    </tr>\n",
              "    <tr>\n",
              "      <th>1912</th>\n",
              "      <td>2.0</td>\n",
              "      <td>0.0</td>\n",
              "      <td>0.0</td>\n",
              "      <td>0.0</td>\n",
              "      <td>0.0</td>\n",
              "      <td>NaN</td>\n",
              "      <td>0.000149</td>\n",
              "      <td>0.0</td>\n",
              "      <td>0.0</td>\n",
              "      <td>0.0</td>\n",
              "      <td>0.0</td>\n",
              "    </tr>\n",
              "    <tr>\n",
              "      <th>1913</th>\n",
              "      <td>2.0</td>\n",
              "      <td>0.0</td>\n",
              "      <td>0.0</td>\n",
              "      <td>0.0</td>\n",
              "      <td>0.0</td>\n",
              "      <td>NaN</td>\n",
              "      <td>0.000149</td>\n",
              "      <td>0.0</td>\n",
              "      <td>0.0</td>\n",
              "      <td>0.0</td>\n",
              "      <td>0.0</td>\n",
              "    </tr>\n",
              "    <tr>\n",
              "      <th>1932</th>\n",
              "      <td>2.0</td>\n",
              "      <td>0.0</td>\n",
              "      <td>0.0</td>\n",
              "      <td>0.0</td>\n",
              "      <td>0.0</td>\n",
              "      <td>NaN</td>\n",
              "      <td>0.000149</td>\n",
              "      <td>0.0</td>\n",
              "      <td>0.0</td>\n",
              "      <td>0.0</td>\n",
              "      <td>0.0</td>\n",
              "    </tr>\n",
              "    <tr>\n",
              "      <th>2003</th>\n",
              "      <td>2.0</td>\n",
              "      <td>0.0</td>\n",
              "      <td>0.0</td>\n",
              "      <td>0.0</td>\n",
              "      <td>0.0</td>\n",
              "      <td>NaN</td>\n",
              "      <td>0.000149</td>\n",
              "      <td>0.0</td>\n",
              "      <td>0.0</td>\n",
              "      <td>0.0</td>\n",
              "      <td>0.0</td>\n",
              "    </tr>\n",
              "    <tr>\n",
              "      <th>2035</th>\n",
              "      <td>2.0</td>\n",
              "      <td>0.0</td>\n",
              "      <td>0.0</td>\n",
              "      <td>0.0</td>\n",
              "      <td>0.0</td>\n",
              "      <td>NaN</td>\n",
              "      <td>0.000149</td>\n",
              "      <td>0.0</td>\n",
              "      <td>0.0</td>\n",
              "      <td>0.0</td>\n",
              "      <td>0.0</td>\n",
              "    </tr>\n",
              "    <tr>\n",
              "      <th>2041</th>\n",
              "      <td>2.0</td>\n",
              "      <td>0.0</td>\n",
              "      <td>0.0</td>\n",
              "      <td>0.0</td>\n",
              "      <td>0.0</td>\n",
              "      <td>NaN</td>\n",
              "      <td>0.000149</td>\n",
              "      <td>0.0</td>\n",
              "      <td>0.0</td>\n",
              "      <td>0.0</td>\n",
              "      <td>0.0</td>\n",
              "    </tr>\n",
              "    <tr>\n",
              "      <th>2139</th>\n",
              "      <td>2.0</td>\n",
              "      <td>0.0</td>\n",
              "      <td>0.0</td>\n",
              "      <td>0.0</td>\n",
              "      <td>0.0</td>\n",
              "      <td>NaN</td>\n",
              "      <td>0.000149</td>\n",
              "      <td>0.0</td>\n",
              "      <td>0.0</td>\n",
              "      <td>0.0</td>\n",
              "      <td>0.0</td>\n",
              "    </tr>\n",
              "    <tr>\n",
              "      <th>2160</th>\n",
              "      <td>2.0</td>\n",
              "      <td>0.0</td>\n",
              "      <td>0.0</td>\n",
              "      <td>0.0</td>\n",
              "      <td>0.0</td>\n",
              "      <td>NaN</td>\n",
              "      <td>0.000149</td>\n",
              "      <td>0.0</td>\n",
              "      <td>0.0</td>\n",
              "      <td>0.0</td>\n",
              "      <td>0.0</td>\n",
              "    </tr>\n",
              "    <tr>\n",
              "      <th>2319</th>\n",
              "      <td>2.0</td>\n",
              "      <td>0.0</td>\n",
              "      <td>0.0</td>\n",
              "      <td>0.0</td>\n",
              "      <td>0.0</td>\n",
              "      <td>NaN</td>\n",
              "      <td>0.000149</td>\n",
              "      <td>0.0</td>\n",
              "      <td>0.0</td>\n",
              "      <td>0.0</td>\n",
              "      <td>0.0</td>\n",
              "    </tr>\n",
              "  </tbody>\n",
              "</table>\n",
              "</div>\n",
              "      <button class=\"colab-df-convert\" onclick=\"convertToInteractive('df-f92d574e-9cee-443a-8cdc-b5437bad6d11')\"\n",
              "              title=\"Convert this dataframe to an interactive table.\"\n",
              "              style=\"display:none;\">\n",
              "        \n",
              "  <svg xmlns=\"http://www.w3.org/2000/svg\" height=\"24px\"viewBox=\"0 0 24 24\"\n",
              "       width=\"24px\">\n",
              "    <path d=\"M0 0h24v24H0V0z\" fill=\"none\"/>\n",
              "    <path d=\"M18.56 5.44l.94 2.06.94-2.06 2.06-.94-2.06-.94-.94-2.06-.94 2.06-2.06.94zm-11 1L8.5 8.5l.94-2.06 2.06-.94-2.06-.94L8.5 2.5l-.94 2.06-2.06.94zm10 10l.94 2.06.94-2.06 2.06-.94-2.06-.94-.94-2.06-.94 2.06-2.06.94z\"/><path d=\"M17.41 7.96l-1.37-1.37c-.4-.4-.92-.59-1.43-.59-.52 0-1.04.2-1.43.59L10.3 9.45l-7.72 7.72c-.78.78-.78 2.05 0 2.83L4 21.41c.39.39.9.59 1.41.59.51 0 1.02-.2 1.41-.59l7.78-7.78 2.81-2.81c.8-.78.8-2.07 0-2.86zM5.41 20L4 18.59l7.72-7.72 1.47 1.35L5.41 20z\"/>\n",
              "  </svg>\n",
              "      </button>\n",
              "      \n",
              "  <style>\n",
              "    .colab-df-container {\n",
              "      display:flex;\n",
              "      flex-wrap:wrap;\n",
              "      gap: 12px;\n",
              "    }\n",
              "\n",
              "    .colab-df-convert {\n",
              "      background-color: #E8F0FE;\n",
              "      border: none;\n",
              "      border-radius: 50%;\n",
              "      cursor: pointer;\n",
              "      display: none;\n",
              "      fill: #1967D2;\n",
              "      height: 32px;\n",
              "      padding: 0 0 0 0;\n",
              "      width: 32px;\n",
              "    }\n",
              "\n",
              "    .colab-df-convert:hover {\n",
              "      background-color: #E2EBFA;\n",
              "      box-shadow: 0px 1px 2px rgba(60, 64, 67, 0.3), 0px 1px 3px 1px rgba(60, 64, 67, 0.15);\n",
              "      fill: #174EA6;\n",
              "    }\n",
              "\n",
              "    [theme=dark] .colab-df-convert {\n",
              "      background-color: #3B4455;\n",
              "      fill: #D2E3FC;\n",
              "    }\n",
              "\n",
              "    [theme=dark] .colab-df-convert:hover {\n",
              "      background-color: #434B5C;\n",
              "      box-shadow: 0px 1px 3px 1px rgba(0, 0, 0, 0.15);\n",
              "      filter: drop-shadow(0px 1px 2px rgba(0, 0, 0, 0.3));\n",
              "      fill: #FFFFFF;\n",
              "    }\n",
              "  </style>\n",
              "\n",
              "      <script>\n",
              "        const buttonEl =\n",
              "          document.querySelector('#df-f92d574e-9cee-443a-8cdc-b5437bad6d11 button.colab-df-convert');\n",
              "        buttonEl.style.display =\n",
              "          google.colab.kernel.accessAllowed ? 'block' : 'none';\n",
              "\n",
              "        async function convertToInteractive(key) {\n",
              "          const element = document.querySelector('#df-f92d574e-9cee-443a-8cdc-b5437bad6d11');\n",
              "          const dataTable =\n",
              "            await google.colab.kernel.invokeFunction('convertToInteractive',\n",
              "                                                     [key], {});\n",
              "          if (!dataTable) return;\n",
              "\n",
              "          const docLinkHtml = 'Like what you see? Visit the ' +\n",
              "            '<a target=\"_blank\" href=https://colab.research.google.com/notebooks/data_table.ipynb>data table notebook</a>'\n",
              "            + ' to learn more about interactive tables.';\n",
              "          element.innerHTML = '';\n",
              "          dataTable['output_type'] = 'display_data';\n",
              "          await google.colab.output.renderOutput(dataTable, element);\n",
              "          const docLink = document.createElement('div');\n",
              "          docLink.innerHTML = docLinkHtml;\n",
              "          element.appendChild(docLink);\n",
              "        }\n",
              "      </script>\n",
              "    </div>\n",
              "  </div>\n",
              "  "
            ]
          },
          "metadata": {},
          "execution_count": 230
        }
      ]
    },
    {
      "cell_type": "code",
      "source": [
        "# Cantidad de registros con NaN\n",
        "len(eti_2_nan)"
      ],
      "metadata": {
        "colab": {
          "base_uri": "https://localhost:8080/"
        },
        "outputId": "81d4e586-8f14-4d6c-f0e7-5c6e5cca6635",
        "id": "4OrMg_k9iqeX"
      },
      "execution_count": null,
      "outputs": [
        {
          "output_type": "execute_result",
          "data": {
            "text/plain": [
              "32"
            ]
          },
          "metadata": {},
          "execution_count": 231
        }
      ],
      "id": "4OrMg_k9iqeX"
    },
    {
      "cell_type": "code",
      "source": [
        "# Dataset con datos etiquetados, sin NaN ni datos nulos.\n",
        "\n",
        "eti_2_nan_filtered = eti_2.dropna()"
      ],
      "metadata": {
        "id": "9FeMSllbiqeY"
      },
      "execution_count": null,
      "outputs": [],
      "id": "9FeMSllbiqeY"
    },
    {
      "cell_type": "code",
      "source": [
        "# Verificamos que no hayan quedado NaN\n",
        "eti_2_nan_filtered[eti_2_nan_filtered.isna().any(axis=1)]\n"
      ],
      "metadata": {
        "colab": {
          "base_uri": "https://localhost:8080/"
        },
        "outputId": "98ed71d1-26e1-41d7-b1e0-569171681d17",
        "id": "_Ft_uPuyiqeY"
      },
      "execution_count": null,
      "outputs": [
        {
          "output_type": "execute_result",
          "data": {
            "text/plain": [
              "Empty DataFrame\n",
              "Columns: [Patient, State, PE, SC, GNE, SE, LZC, STE, Mean, Std, Skew]\n",
              "Index: []"
            ],
            "text/html": [
              "\n",
              "  <div id=\"df-85fa3e9c-7095-4add-8335-c996bf8fba73\">\n",
              "    <div class=\"colab-df-container\">\n",
              "      <div>\n",
              "<style scoped>\n",
              "    .dataframe tbody tr th:only-of-type {\n",
              "        vertical-align: middle;\n",
              "    }\n",
              "\n",
              "    .dataframe tbody tr th {\n",
              "        vertical-align: top;\n",
              "    }\n",
              "\n",
              "    .dataframe thead th {\n",
              "        text-align: right;\n",
              "    }\n",
              "</style>\n",
              "<table border=\"1\" class=\"dataframe\">\n",
              "  <thead>\n",
              "    <tr style=\"text-align: right;\">\n",
              "      <th></th>\n",
              "      <th>Patient</th>\n",
              "      <th>State</th>\n",
              "      <th>PE</th>\n",
              "      <th>SC</th>\n",
              "      <th>GNE</th>\n",
              "      <th>SE</th>\n",
              "      <th>LZC</th>\n",
              "      <th>STE</th>\n",
              "      <th>Mean</th>\n",
              "      <th>Std</th>\n",
              "      <th>Skew</th>\n",
              "    </tr>\n",
              "  </thead>\n",
              "  <tbody>\n",
              "  </tbody>\n",
              "</table>\n",
              "</div>\n",
              "      <button class=\"colab-df-convert\" onclick=\"convertToInteractive('df-85fa3e9c-7095-4add-8335-c996bf8fba73')\"\n",
              "              title=\"Convert this dataframe to an interactive table.\"\n",
              "              style=\"display:none;\">\n",
              "        \n",
              "  <svg xmlns=\"http://www.w3.org/2000/svg\" height=\"24px\"viewBox=\"0 0 24 24\"\n",
              "       width=\"24px\">\n",
              "    <path d=\"M0 0h24v24H0V0z\" fill=\"none\"/>\n",
              "    <path d=\"M18.56 5.44l.94 2.06.94-2.06 2.06-.94-2.06-.94-.94-2.06-.94 2.06-2.06.94zm-11 1L8.5 8.5l.94-2.06 2.06-.94-2.06-.94L8.5 2.5l-.94 2.06-2.06.94zm10 10l.94 2.06.94-2.06 2.06-.94-2.06-.94-.94-2.06-.94 2.06-2.06.94z\"/><path d=\"M17.41 7.96l-1.37-1.37c-.4-.4-.92-.59-1.43-.59-.52 0-1.04.2-1.43.59L10.3 9.45l-7.72 7.72c-.78.78-.78 2.05 0 2.83L4 21.41c.39.39.9.59 1.41.59.51 0 1.02-.2 1.41-.59l7.78-7.78 2.81-2.81c.8-.78.8-2.07 0-2.86zM5.41 20L4 18.59l7.72-7.72 1.47 1.35L5.41 20z\"/>\n",
              "  </svg>\n",
              "      </button>\n",
              "      \n",
              "  <style>\n",
              "    .colab-df-container {\n",
              "      display:flex;\n",
              "      flex-wrap:wrap;\n",
              "      gap: 12px;\n",
              "    }\n",
              "\n",
              "    .colab-df-convert {\n",
              "      background-color: #E8F0FE;\n",
              "      border: none;\n",
              "      border-radius: 50%;\n",
              "      cursor: pointer;\n",
              "      display: none;\n",
              "      fill: #1967D2;\n",
              "      height: 32px;\n",
              "      padding: 0 0 0 0;\n",
              "      width: 32px;\n",
              "    }\n",
              "\n",
              "    .colab-df-convert:hover {\n",
              "      background-color: #E2EBFA;\n",
              "      box-shadow: 0px 1px 2px rgba(60, 64, 67, 0.3), 0px 1px 3px 1px rgba(60, 64, 67, 0.15);\n",
              "      fill: #174EA6;\n",
              "    }\n",
              "\n",
              "    [theme=dark] .colab-df-convert {\n",
              "      background-color: #3B4455;\n",
              "      fill: #D2E3FC;\n",
              "    }\n",
              "\n",
              "    [theme=dark] .colab-df-convert:hover {\n",
              "      background-color: #434B5C;\n",
              "      box-shadow: 0px 1px 3px 1px rgba(0, 0, 0, 0.15);\n",
              "      filter: drop-shadow(0px 1px 2px rgba(0, 0, 0, 0.3));\n",
              "      fill: #FFFFFF;\n",
              "    }\n",
              "  </style>\n",
              "\n",
              "      <script>\n",
              "        const buttonEl =\n",
              "          document.querySelector('#df-85fa3e9c-7095-4add-8335-c996bf8fba73 button.colab-df-convert');\n",
              "        buttonEl.style.display =\n",
              "          google.colab.kernel.accessAllowed ? 'block' : 'none';\n",
              "\n",
              "        async function convertToInteractive(key) {\n",
              "          const element = document.querySelector('#df-85fa3e9c-7095-4add-8335-c996bf8fba73');\n",
              "          const dataTable =\n",
              "            await google.colab.kernel.invokeFunction('convertToInteractive',\n",
              "                                                     [key], {});\n",
              "          if (!dataTable) return;\n",
              "\n",
              "          const docLinkHtml = 'Like what you see? Visit the ' +\n",
              "            '<a target=\"_blank\" href=https://colab.research.google.com/notebooks/data_table.ipynb>data table notebook</a>'\n",
              "            + ' to learn more about interactive tables.';\n",
              "          element.innerHTML = '';\n",
              "          dataTable['output_type'] = 'display_data';\n",
              "          await google.colab.output.renderOutput(dataTable, element);\n",
              "          const docLink = document.createElement('div');\n",
              "          docLink.innerHTML = docLinkHtml;\n",
              "          element.appendChild(docLink);\n",
              "        }\n",
              "      </script>\n",
              "    </div>\n",
              "  </div>\n",
              "  "
            ]
          },
          "metadata": {},
          "execution_count": 233
        }
      ],
      "id": "_Ft_uPuyiqeY"
    },
    {
      "cell_type": "code",
      "source": [
        "eti_2_nan_filtered.shape"
      ],
      "metadata": {
        "colab": {
          "base_uri": "https://localhost:8080/"
        },
        "outputId": "29a95fb8-25b0-44eb-ba1b-904e91430d51",
        "id": "gpuICPMAiqeY"
      },
      "execution_count": null,
      "outputs": [
        {
          "output_type": "execute_result",
          "data": {
            "text/plain": [
              "(2314, 11)"
            ]
          },
          "metadata": {},
          "execution_count": 234
        }
      ],
      "id": "gpuICPMAiqeY"
    },
    {
      "cell_type": "markdown",
      "source": [
        "### Analisis de Outliers"
      ],
      "metadata": {
        "id": "x1xjM76fjCUG"
      },
      "id": "x1xjM76fjCUG"
    },
    {
      "cell_type": "code",
      "source": [
        "eti_2_nan_filtered.columns"
      ],
      "metadata": {
        "colab": {
          "base_uri": "https://localhost:8080/"
        },
        "outputId": "a75f974f-6fd5-4ba2-f2c6-9b910bcfeea5",
        "id": "mdGps6QGjIsT"
      },
      "execution_count": null,
      "outputs": [
        {
          "output_type": "execute_result",
          "data": {
            "text/plain": [
              "Index(['Patient', 'State', 'PE', 'SC', 'GNE', 'SE', 'LZC', 'STE', 'Mean',\n",
              "       'Std', 'Skew'],\n",
              "      dtype='object')"
            ]
          },
          "metadata": {},
          "execution_count": 235
        }
      ],
      "id": "mdGps6QGjIsT"
    },
    {
      "cell_type": "code",
      "source": [
        "eti_2_clean = filter_outliers(eti_2_nan_filtered, quantifiers, 0.02 )"
      ],
      "metadata": {
        "id": "WMz8NzD8jIsT"
      },
      "execution_count": null,
      "outputs": [],
      "id": "WMz8NzD8jIsT"
    },
    {
      "cell_type": "code",
      "source": [
        "eti_2_clean"
      ],
      "metadata": {
        "colab": {
          "base_uri": "https://localhost:8080/"
        },
        "outputId": "6e9fdbd8-607c-47f2-d44b-cee8fd0508a0",
        "id": "WW_Dh_zYjIsT"
      },
      "execution_count": null,
      "outputs": [
        {
          "output_type": "execute_result",
          "data": {
            "text/plain": [
              "      Patient  State        PE        SC       GNE        SE       LZC  \\\n",
              "2         2.0    0.0  0.572336  0.285645  0.621824  0.577791  0.377290   \n",
              "3         2.0    0.0  0.566942  0.285178  0.612575  0.532172  0.319409   \n",
              "6         2.0    0.0  0.552564  0.284369  0.589182  0.529328  0.303794   \n",
              "7         2.0    0.0  0.556818  0.284258  0.595606  0.508472  0.286661   \n",
              "11        2.0    1.0  0.565710  0.286255  0.611683  0.576527  0.364277   \n",
              "...       ...    ...       ...       ...       ...       ...       ...   \n",
              "2339      2.0    0.0  0.575335  0.286016  0.627089  0.594998  0.388130   \n",
              "2341      2.0    0.0  0.510067  0.283269  0.522142  0.594527  0.300433   \n",
              "2342      2.0    0.0  0.564873  0.286244  0.610203  0.553031  0.350188   \n",
              "2344      2.0    0.0  0.570313  0.286206  0.618980  0.576464  0.364877   \n",
              "2345      2.0    1.0  0.575551  0.286208  0.627219  0.585996  0.372166   \n",
              "\n",
              "           STE          Mean        Std      Skew  \n",
              "2     0.780848  8.877483e-06  37.022934 -0.090754  \n",
              "3     0.775831 -1.764079e-05  44.845233 -0.008312  \n",
              "6     0.763356  8.149561e-06  49.983464 -0.011894  \n",
              "7     0.766666  2.663218e-07  48.789913  0.027541  \n",
              "11    0.775487 -1.245249e-05  36.183497 -0.319746  \n",
              "...        ...           ...        ...       ...  \n",
              "2339  0.783866  2.498482e-06  31.013378 -0.071817  \n",
              "2341  0.729515 -1.717178e-05  26.392637 -0.029033  \n",
              "2342  0.774720  1.333844e-05  40.535139 -0.128528  \n",
              "2344  0.779346 -2.007174e-05  39.010453 -0.223666  \n",
              "2345  0.783716  5.834034e-07  34.186113 -0.096496  \n",
              "\n",
              "[1887 rows x 11 columns]"
            ],
            "text/html": [
              "\n",
              "  <div id=\"df-b8ef7b06-891a-4ecd-a362-0cf92d48ee36\">\n",
              "    <div class=\"colab-df-container\">\n",
              "      <div>\n",
              "<style scoped>\n",
              "    .dataframe tbody tr th:only-of-type {\n",
              "        vertical-align: middle;\n",
              "    }\n",
              "\n",
              "    .dataframe tbody tr th {\n",
              "        vertical-align: top;\n",
              "    }\n",
              "\n",
              "    .dataframe thead th {\n",
              "        text-align: right;\n",
              "    }\n",
              "</style>\n",
              "<table border=\"1\" class=\"dataframe\">\n",
              "  <thead>\n",
              "    <tr style=\"text-align: right;\">\n",
              "      <th></th>\n",
              "      <th>Patient</th>\n",
              "      <th>State</th>\n",
              "      <th>PE</th>\n",
              "      <th>SC</th>\n",
              "      <th>GNE</th>\n",
              "      <th>SE</th>\n",
              "      <th>LZC</th>\n",
              "      <th>STE</th>\n",
              "      <th>Mean</th>\n",
              "      <th>Std</th>\n",
              "      <th>Skew</th>\n",
              "    </tr>\n",
              "  </thead>\n",
              "  <tbody>\n",
              "    <tr>\n",
              "      <th>2</th>\n",
              "      <td>2.0</td>\n",
              "      <td>0.0</td>\n",
              "      <td>0.572336</td>\n",
              "      <td>0.285645</td>\n",
              "      <td>0.621824</td>\n",
              "      <td>0.577791</td>\n",
              "      <td>0.377290</td>\n",
              "      <td>0.780848</td>\n",
              "      <td>8.877483e-06</td>\n",
              "      <td>37.022934</td>\n",
              "      <td>-0.090754</td>\n",
              "    </tr>\n",
              "    <tr>\n",
              "      <th>3</th>\n",
              "      <td>2.0</td>\n",
              "      <td>0.0</td>\n",
              "      <td>0.566942</td>\n",
              "      <td>0.285178</td>\n",
              "      <td>0.612575</td>\n",
              "      <td>0.532172</td>\n",
              "      <td>0.319409</td>\n",
              "      <td>0.775831</td>\n",
              "      <td>-1.764079e-05</td>\n",
              "      <td>44.845233</td>\n",
              "      <td>-0.008312</td>\n",
              "    </tr>\n",
              "    <tr>\n",
              "      <th>6</th>\n",
              "      <td>2.0</td>\n",
              "      <td>0.0</td>\n",
              "      <td>0.552564</td>\n",
              "      <td>0.284369</td>\n",
              "      <td>0.589182</td>\n",
              "      <td>0.529328</td>\n",
              "      <td>0.303794</td>\n",
              "      <td>0.763356</td>\n",
              "      <td>8.149561e-06</td>\n",
              "      <td>49.983464</td>\n",
              "      <td>-0.011894</td>\n",
              "    </tr>\n",
              "    <tr>\n",
              "      <th>7</th>\n",
              "      <td>2.0</td>\n",
              "      <td>0.0</td>\n",
              "      <td>0.556818</td>\n",
              "      <td>0.284258</td>\n",
              "      <td>0.595606</td>\n",
              "      <td>0.508472</td>\n",
              "      <td>0.286661</td>\n",
              "      <td>0.766666</td>\n",
              "      <td>2.663218e-07</td>\n",
              "      <td>48.789913</td>\n",
              "      <td>0.027541</td>\n",
              "    </tr>\n",
              "    <tr>\n",
              "      <th>11</th>\n",
              "      <td>2.0</td>\n",
              "      <td>1.0</td>\n",
              "      <td>0.565710</td>\n",
              "      <td>0.286255</td>\n",
              "      <td>0.611683</td>\n",
              "      <td>0.576527</td>\n",
              "      <td>0.364277</td>\n",
              "      <td>0.775487</td>\n",
              "      <td>-1.245249e-05</td>\n",
              "      <td>36.183497</td>\n",
              "      <td>-0.319746</td>\n",
              "    </tr>\n",
              "    <tr>\n",
              "      <th>...</th>\n",
              "      <td>...</td>\n",
              "      <td>...</td>\n",
              "      <td>...</td>\n",
              "      <td>...</td>\n",
              "      <td>...</td>\n",
              "      <td>...</td>\n",
              "      <td>...</td>\n",
              "      <td>...</td>\n",
              "      <td>...</td>\n",
              "      <td>...</td>\n",
              "      <td>...</td>\n",
              "    </tr>\n",
              "    <tr>\n",
              "      <th>2339</th>\n",
              "      <td>2.0</td>\n",
              "      <td>0.0</td>\n",
              "      <td>0.575335</td>\n",
              "      <td>0.286016</td>\n",
              "      <td>0.627089</td>\n",
              "      <td>0.594998</td>\n",
              "      <td>0.388130</td>\n",
              "      <td>0.783866</td>\n",
              "      <td>2.498482e-06</td>\n",
              "      <td>31.013378</td>\n",
              "      <td>-0.071817</td>\n",
              "    </tr>\n",
              "    <tr>\n",
              "      <th>2341</th>\n",
              "      <td>2.0</td>\n",
              "      <td>0.0</td>\n",
              "      <td>0.510067</td>\n",
              "      <td>0.283269</td>\n",
              "      <td>0.522142</td>\n",
              "      <td>0.594527</td>\n",
              "      <td>0.300433</td>\n",
              "      <td>0.729515</td>\n",
              "      <td>-1.717178e-05</td>\n",
              "      <td>26.392637</td>\n",
              "      <td>-0.029033</td>\n",
              "    </tr>\n",
              "    <tr>\n",
              "      <th>2342</th>\n",
              "      <td>2.0</td>\n",
              "      <td>0.0</td>\n",
              "      <td>0.564873</td>\n",
              "      <td>0.286244</td>\n",
              "      <td>0.610203</td>\n",
              "      <td>0.553031</td>\n",
              "      <td>0.350188</td>\n",
              "      <td>0.774720</td>\n",
              "      <td>1.333844e-05</td>\n",
              "      <td>40.535139</td>\n",
              "      <td>-0.128528</td>\n",
              "    </tr>\n",
              "    <tr>\n",
              "      <th>2344</th>\n",
              "      <td>2.0</td>\n",
              "      <td>0.0</td>\n",
              "      <td>0.570313</td>\n",
              "      <td>0.286206</td>\n",
              "      <td>0.618980</td>\n",
              "      <td>0.576464</td>\n",
              "      <td>0.364877</td>\n",
              "      <td>0.779346</td>\n",
              "      <td>-2.007174e-05</td>\n",
              "      <td>39.010453</td>\n",
              "      <td>-0.223666</td>\n",
              "    </tr>\n",
              "    <tr>\n",
              "      <th>2345</th>\n",
              "      <td>2.0</td>\n",
              "      <td>1.0</td>\n",
              "      <td>0.575551</td>\n",
              "      <td>0.286208</td>\n",
              "      <td>0.627219</td>\n",
              "      <td>0.585996</td>\n",
              "      <td>0.372166</td>\n",
              "      <td>0.783716</td>\n",
              "      <td>5.834034e-07</td>\n",
              "      <td>34.186113</td>\n",
              "      <td>-0.096496</td>\n",
              "    </tr>\n",
              "  </tbody>\n",
              "</table>\n",
              "<p>1887 rows × 11 columns</p>\n",
              "</div>\n",
              "      <button class=\"colab-df-convert\" onclick=\"convertToInteractive('df-b8ef7b06-891a-4ecd-a362-0cf92d48ee36')\"\n",
              "              title=\"Convert this dataframe to an interactive table.\"\n",
              "              style=\"display:none;\">\n",
              "        \n",
              "  <svg xmlns=\"http://www.w3.org/2000/svg\" height=\"24px\"viewBox=\"0 0 24 24\"\n",
              "       width=\"24px\">\n",
              "    <path d=\"M0 0h24v24H0V0z\" fill=\"none\"/>\n",
              "    <path d=\"M18.56 5.44l.94 2.06.94-2.06 2.06-.94-2.06-.94-.94-2.06-.94 2.06-2.06.94zm-11 1L8.5 8.5l.94-2.06 2.06-.94-2.06-.94L8.5 2.5l-.94 2.06-2.06.94zm10 10l.94 2.06.94-2.06 2.06-.94-2.06-.94-.94-2.06-.94 2.06-2.06.94z\"/><path d=\"M17.41 7.96l-1.37-1.37c-.4-.4-.92-.59-1.43-.59-.52 0-1.04.2-1.43.59L10.3 9.45l-7.72 7.72c-.78.78-.78 2.05 0 2.83L4 21.41c.39.39.9.59 1.41.59.51 0 1.02-.2 1.41-.59l7.78-7.78 2.81-2.81c.8-.78.8-2.07 0-2.86zM5.41 20L4 18.59l7.72-7.72 1.47 1.35L5.41 20z\"/>\n",
              "  </svg>\n",
              "      </button>\n",
              "      \n",
              "  <style>\n",
              "    .colab-df-container {\n",
              "      display:flex;\n",
              "      flex-wrap:wrap;\n",
              "      gap: 12px;\n",
              "    }\n",
              "\n",
              "    .colab-df-convert {\n",
              "      background-color: #E8F0FE;\n",
              "      border: none;\n",
              "      border-radius: 50%;\n",
              "      cursor: pointer;\n",
              "      display: none;\n",
              "      fill: #1967D2;\n",
              "      height: 32px;\n",
              "      padding: 0 0 0 0;\n",
              "      width: 32px;\n",
              "    }\n",
              "\n",
              "    .colab-df-convert:hover {\n",
              "      background-color: #E2EBFA;\n",
              "      box-shadow: 0px 1px 2px rgba(60, 64, 67, 0.3), 0px 1px 3px 1px rgba(60, 64, 67, 0.15);\n",
              "      fill: #174EA6;\n",
              "    }\n",
              "\n",
              "    [theme=dark] .colab-df-convert {\n",
              "      background-color: #3B4455;\n",
              "      fill: #D2E3FC;\n",
              "    }\n",
              "\n",
              "    [theme=dark] .colab-df-convert:hover {\n",
              "      background-color: #434B5C;\n",
              "      box-shadow: 0px 1px 3px 1px rgba(0, 0, 0, 0.15);\n",
              "      filter: drop-shadow(0px 1px 2px rgba(0, 0, 0, 0.3));\n",
              "      fill: #FFFFFF;\n",
              "    }\n",
              "  </style>\n",
              "\n",
              "      <script>\n",
              "        const buttonEl =\n",
              "          document.querySelector('#df-b8ef7b06-891a-4ecd-a362-0cf92d48ee36 button.colab-df-convert');\n",
              "        buttonEl.style.display =\n",
              "          google.colab.kernel.accessAllowed ? 'block' : 'none';\n",
              "\n",
              "        async function convertToInteractive(key) {\n",
              "          const element = document.querySelector('#df-b8ef7b06-891a-4ecd-a362-0cf92d48ee36');\n",
              "          const dataTable =\n",
              "            await google.colab.kernel.invokeFunction('convertToInteractive',\n",
              "                                                     [key], {});\n",
              "          if (!dataTable) return;\n",
              "\n",
              "          const docLinkHtml = 'Like what you see? Visit the ' +\n",
              "            '<a target=\"_blank\" href=https://colab.research.google.com/notebooks/data_table.ipynb>data table notebook</a>'\n",
              "            + ' to learn more about interactive tables.';\n",
              "          element.innerHTML = '';\n",
              "          dataTable['output_type'] = 'display_data';\n",
              "          await google.colab.output.renderOutput(dataTable, element);\n",
              "          const docLink = document.createElement('div');\n",
              "          docLink.innerHTML = docLinkHtml;\n",
              "          element.appendChild(docLink);\n",
              "        }\n",
              "      </script>\n",
              "    </div>\n",
              "  </div>\n",
              "  "
            ]
          },
          "metadata": {},
          "execution_count": 237
        }
      ],
      "id": "WW_Dh_zYjIsT"
    },
    {
      "cell_type": "code",
      "source": [
        "plt.figure(figsize=(15,10))\n",
        "pos = 1\n",
        "for i in quantifiers:\n",
        "    plt.subplot(3, 4, pos)\n",
        "    sns.boxplot(eti_2_nan_filtered[i])\n",
        "    pos += 1"
      ],
      "metadata": {
        "colab": {
          "base_uri": "https://localhost:8080/"
        },
        "outputId": "8e06f3d5-462f-4ce8-a4ca-ed7c646e1bc2",
        "id": "2SHlTZx2jIsT"
      },
      "execution_count": null,
      "outputs": [
        {
          "output_type": "stream",
          "name": "stderr",
          "text": [
            "/usr/local/lib/python3.7/dist-packages/seaborn/_decorators.py:43: FutureWarning: Pass the following variable as a keyword arg: x. From version 0.12, the only valid positional argument will be `data`, and passing other arguments without an explicit keyword will result in an error or misinterpretation.\n",
            "  FutureWarning\n",
            "/usr/local/lib/python3.7/dist-packages/seaborn/_decorators.py:43: FutureWarning: Pass the following variable as a keyword arg: x. From version 0.12, the only valid positional argument will be `data`, and passing other arguments without an explicit keyword will result in an error or misinterpretation.\n",
            "  FutureWarning\n",
            "/usr/local/lib/python3.7/dist-packages/seaborn/_decorators.py:43: FutureWarning: Pass the following variable as a keyword arg: x. From version 0.12, the only valid positional argument will be `data`, and passing other arguments without an explicit keyword will result in an error or misinterpretation.\n",
            "  FutureWarning\n",
            "/usr/local/lib/python3.7/dist-packages/seaborn/_decorators.py:43: FutureWarning: Pass the following variable as a keyword arg: x. From version 0.12, the only valid positional argument will be `data`, and passing other arguments without an explicit keyword will result in an error or misinterpretation.\n",
            "  FutureWarning\n",
            "/usr/local/lib/python3.7/dist-packages/seaborn/_decorators.py:43: FutureWarning: Pass the following variable as a keyword arg: x. From version 0.12, the only valid positional argument will be `data`, and passing other arguments without an explicit keyword will result in an error or misinterpretation.\n",
            "  FutureWarning\n",
            "/usr/local/lib/python3.7/dist-packages/seaborn/_decorators.py:43: FutureWarning: Pass the following variable as a keyword arg: x. From version 0.12, the only valid positional argument will be `data`, and passing other arguments without an explicit keyword will result in an error or misinterpretation.\n",
            "  FutureWarning\n",
            "/usr/local/lib/python3.7/dist-packages/seaborn/_decorators.py:43: FutureWarning: Pass the following variable as a keyword arg: x. From version 0.12, the only valid positional argument will be `data`, and passing other arguments without an explicit keyword will result in an error or misinterpretation.\n",
            "  FutureWarning\n",
            "/usr/local/lib/python3.7/dist-packages/seaborn/_decorators.py:43: FutureWarning: Pass the following variable as a keyword arg: x. From version 0.12, the only valid positional argument will be `data`, and passing other arguments without an explicit keyword will result in an error or misinterpretation.\n",
            "  FutureWarning\n",
            "/usr/local/lib/python3.7/dist-packages/seaborn/_decorators.py:43: FutureWarning: Pass the following variable as a keyword arg: x. From version 0.12, the only valid positional argument will be `data`, and passing other arguments without an explicit keyword will result in an error or misinterpretation.\n",
            "  FutureWarning\n"
          ]
        },
        {
          "output_type": "display_data",
          "data": {
            "text/plain": [
              "<Figure size 1080x720 with 9 Axes>"
            ],
            "image/png": "[encoded data removed]"
          },
          "metadata": {
            "needs_background": "light"
          }
        }
      ],
      "id": "2SHlTZx2jIsT"
    },
    {
      "cell_type": "code",
      "source": [
        "plt.figure(figsize=(15,10))\n",
        "pos = 1\n",
        "for i in quantifiers:\n",
        "    plt.subplot(3, 4, pos)\n",
        "    sns.boxplot(eti_2_clean[i])\n",
        "    pos += 1"
      ],
      "metadata": {
        "colab": {
          "base_uri": "https://localhost:8080/"
        },
        "outputId": "255dad4d-a7dc-41d4-eb48-837c1faef889",
        "id": "mR9kuXUYjIsT"
      },
      "execution_count": null,
      "outputs": [
        {
          "output_type": "stream",
          "name": "stderr",
          "text": [
            "/usr/local/lib/python3.7/dist-packages/seaborn/_decorators.py:43: FutureWarning: Pass the following variable as a keyword arg: x. From version 0.12, the only valid positional argument will be `data`, and passing other arguments without an explicit keyword will result in an error or misinterpretation.\n",
            "  FutureWarning\n",
            "/usr/local/lib/python3.7/dist-packages/seaborn/_decorators.py:43: FutureWarning: Pass the following variable as a keyword arg: x. From version 0.12, the only valid positional argument will be `data`, and passing other arguments without an explicit keyword will result in an error or misinterpretation.\n",
            "  FutureWarning\n",
            "/usr/local/lib/python3.7/dist-packages/seaborn/_decorators.py:43: FutureWarning: Pass the following variable as a keyword arg: x. From version 0.12, the only valid positional argument will be `data`, and passing other arguments without an explicit keyword will result in an error or misinterpretation.\n",
            "  FutureWarning\n",
            "/usr/local/lib/python3.7/dist-packages/seaborn/_decorators.py:43: FutureWarning: Pass the following variable as a keyword arg: x. From version 0.12, the only valid positional argument will be `data`, and passing other arguments without an explicit keyword will result in an error or misinterpretation.\n",
            "  FutureWarning\n",
            "/usr/local/lib/python3.7/dist-packages/seaborn/_decorators.py:43: FutureWarning: Pass the following variable as a keyword arg: x. From version 0.12, the only valid positional argument will be `data`, and passing other arguments without an explicit keyword will result in an error or misinterpretation.\n",
            "  FutureWarning\n",
            "/usr/local/lib/python3.7/dist-packages/seaborn/_decorators.py:43: FutureWarning: Pass the following variable as a keyword arg: x. From version 0.12, the only valid positional argument will be `data`, and passing other arguments without an explicit keyword will result in an error or misinterpretation.\n",
            "  FutureWarning\n",
            "/usr/local/lib/python3.7/dist-packages/seaborn/_decorators.py:43: FutureWarning: Pass the following variable as a keyword arg: x. From version 0.12, the only valid positional argument will be `data`, and passing other arguments without an explicit keyword will result in an error or misinterpretation.\n",
            "  FutureWarning\n",
            "/usr/local/lib/python3.7/dist-packages/seaborn/_decorators.py:43: FutureWarning: Pass the following variable as a keyword arg: x. From version 0.12, the only valid positional argument will be `data`, and passing other arguments without an explicit keyword will result in an error or misinterpretation.\n",
            "  FutureWarning\n",
            "/usr/local/lib/python3.7/dist-packages/seaborn/_decorators.py:43: FutureWarning: Pass the following variable as a keyword arg: x. From version 0.12, the only valid positional argument will be `data`, and passing other arguments without an explicit keyword will result in an error or misinterpretation.\n",
            "  FutureWarning\n"
          ]
        },
        {
          "output_type": "display_data",
          "data": {
            "text/plain": [
              "<Figure size 1080x720 with 9 Axes>"
            ],
            "image/png": "[encoded data removed]"
          },
          "metadata": {
            "needs_background": "light"
          }
        }
      ],
      "id": "mR9kuXUYjIsT"
    },
    {
      "cell_type": "code",
      "source": [
        "Q_registros_p2 = 1887/2314"
      ],
      "metadata": {
        "id": "HGXno6mQIr9n"
      },
      "execution_count": null,
      "outputs": [],
      "id": "HGXno6mQIr9n"
    },
    {
      "cell_type": "code",
      "source": [
        "Q_registros_p2"
      ],
      "metadata": {
        "colab": {
          "base_uri": "https://localhost:8080/"
        },
        "outputId": "9106e7f8-6b3c-40d1-ed98-362a2795ed95",
        "id": "Uimzh6GiIr9o"
      },
      "execution_count": null,
      "outputs": [
        {
          "output_type": "execute_result",
          "data": {
            "text/plain": [
              "0.8154710458081245"
            ]
          },
          "metadata": {},
          "execution_count": 241
        }
      ],
      "id": "Uimzh6GiIr9o"
    },
    {
      "cell_type": "markdown",
      "source": [
        "## Paciente 3"
      ],
      "metadata": {
        "id": "L7nU02nhiQ0r"
      },
      "id": "L7nU02nhiQ0r"
    },
    {
      "cell_type": "code",
      "source": [
        "path = DATASETS_PATH + '/Data_test_P3.csv'\n",
        "eti_3 = pd.read_csv (path)\n",
        "print(eti_3)"
      ],
      "metadata": {
        "colab": {
          "base_uri": "https://localhost:8080/"
        },
        "id": "UgFEmAZg5h8N",
        "outputId": "54e97c49-8e37-41ba-e501-497948e98c2e"
      },
      "id": "UgFEmAZg5h8N",
      "execution_count": null,
      "outputs": [
        {
          "output_type": "stream",
          "name": "stdout",
          "text": [
            "      Patient  State        PE        SC       GNE        SE       LZC  \\\n",
            "0         3.0    0.0  0.479441  0.278778  0.469924  0.443475  0.193504   \n",
            "1         3.0    0.0  0.465473  0.277148  0.447006  0.453844  0.191880   \n",
            "2         3.0    0.0  0.492096  0.280312  0.490854  0.455807  0.215496   \n",
            "3         3.0    0.0  0.486271  0.278803  0.480243  0.420207  0.186225   \n",
            "4         3.0    0.0  0.493036  0.279539  0.491375  0.425493  0.192620   \n",
            "...       ...    ...       ...       ...       ...       ...       ...   \n",
            "2389      3.0    0.0  0.448407  0.274937  0.418891  0.460836  0.176777   \n",
            "2390      3.0    0.0  0.519529  0.283694  0.537028  0.522160  0.294764   \n",
            "2391      3.0    1.0  0.532872  0.284772  0.558522  0.501966  0.298883   \n",
            "2392      3.0    0.0  0.506230  0.281294  0.513469  0.417632  0.203651   \n",
            "2393      3.0    1.0  0.534341  0.285007  0.561251  0.549156  0.325218   \n",
            "\n",
            "           STE          Mean        Std      Skew  \n",
            "0     0.702037 -3.287561e-06  63.641488 -0.114232  \n",
            "1     0.690956  5.709550e-06  60.281793 -0.058164  \n",
            "2     0.712393  1.645871e-05  60.411600 -0.057584  \n",
            "3     0.707219  2.473696e-06  54.363639 -0.018547  \n",
            "4     0.712782 -9.303062e-07  53.188962 -0.022277  \n",
            "...        ...           ...        ...       ...  \n",
            "2389  0.677723 -1.282332e-05  42.577215 -0.120935  \n",
            "2390  0.736046  8.581803e-06  27.410843 -0.009101  \n",
            "2391  0.747369 -2.371154e-06  29.862033  0.157132  \n",
            "2392  0.724019 -2.262278e-06  38.568322  0.005107  \n",
            "2393  0.748813 -2.603982e-06  22.892093 -0.015104  \n",
            "\n",
            "[2394 rows x 11 columns]\n"
          ]
        }
      ]
    },
    {
      "cell_type": "code",
      "source": [
        "eti_3_nan = eti_3[eti_3.isna().any(axis=1)]\n",
        "eti_3_nan"
      ],
      "metadata": {
        "colab": {
          "base_uri": "https://localhost:8080/"
        },
        "outputId": "9542ef54-6a77-44be-b8f2-6575737169a2",
        "id": "gWBLpWVKjnSg"
      },
      "execution_count": null,
      "outputs": [
        {
          "output_type": "execute_result",
          "data": {
            "text/plain": [
              "      Patient  State   PE   SC  GNE  SE       LZC  STE  Mean  Std  Skew\n",
              "489       3.0    1.0  0.0  0.0  0.0 NaN  0.000149  0.0   0.0  0.0   0.0\n",
              "501       3.0    1.0  0.0  0.0  0.0 NaN  0.000149  0.0   0.0  0.0   0.0\n",
              "586       3.0    0.0  0.0  0.0  0.0 NaN  0.000149  0.0   0.0  0.0   0.0\n",
              "726       3.0    0.0  0.0  0.0  0.0 NaN  0.000149  0.0   0.0  0.0   0.0\n",
              "1450      3.0    0.0  0.0  0.0  0.0 NaN  0.000149  0.0   0.0  0.0   0.0"
            ],
            "text/html": [
              "\n",
              "  <div id=\"df-37a13655-905c-4ab6-8819-9b5d2b8b2891\">\n",
              "    <div class=\"colab-df-container\">\n",
              "      <div>\n",
              "<style scoped>\n",
              "    .dataframe tbody tr th:only-of-type {\n",
              "        vertical-align: middle;\n",
              "    }\n",
              "\n",
              "    .dataframe tbody tr th {\n",
              "        vertical-align: top;\n",
              "    }\n",
              "\n",
              "    .dataframe thead th {\n",
              "        text-align: right;\n",
              "    }\n",
              "</style>\n",
              "<table border=\"1\" class=\"dataframe\">\n",
              "  <thead>\n",
              "    <tr style=\"text-align: right;\">\n",
              "      <th></th>\n",
              "      <th>Patient</th>\n",
              "      <th>State</th>\n",
              "      <th>PE</th>\n",
              "      <th>SC</th>\n",
              "      <th>GNE</th>\n",
              "      <th>SE</th>\n",
              "      <th>LZC</th>\n",
              "      <th>STE</th>\n",
              "      <th>Mean</th>\n",
              "      <th>Std</th>\n",
              "      <th>Skew</th>\n",
              "    </tr>\n",
              "  </thead>\n",
              "  <tbody>\n",
              "    <tr>\n",
              "      <th>489</th>\n",
              "      <td>3.0</td>\n",
              "      <td>1.0</td>\n",
              "      <td>0.0</td>\n",
              "      <td>0.0</td>\n",
              "      <td>0.0</td>\n",
              "      <td>NaN</td>\n",
              "      <td>0.000149</td>\n",
              "      <td>0.0</td>\n",
              "      <td>0.0</td>\n",
              "      <td>0.0</td>\n",
              "      <td>0.0</td>\n",
              "    </tr>\n",
              "    <tr>\n",
              "      <th>501</th>\n",
              "      <td>3.0</td>\n",
              "      <td>1.0</td>\n",
              "      <td>0.0</td>\n",
              "      <td>0.0</td>\n",
              "      <td>0.0</td>\n",
              "      <td>NaN</td>\n",
              "      <td>0.000149</td>\n",
              "      <td>0.0</td>\n",
              "      <td>0.0</td>\n",
              "      <td>0.0</td>\n",
              "      <td>0.0</td>\n",
              "    </tr>\n",
              "    <tr>\n",
              "      <th>586</th>\n",
              "      <td>3.0</td>\n",
              "      <td>0.0</td>\n",
              "      <td>0.0</td>\n",
              "      <td>0.0</td>\n",
              "      <td>0.0</td>\n",
              "      <td>NaN</td>\n",
              "      <td>0.000149</td>\n",
              "      <td>0.0</td>\n",
              "      <td>0.0</td>\n",
              "      <td>0.0</td>\n",
              "      <td>0.0</td>\n",
              "    </tr>\n",
              "    <tr>\n",
              "      <th>726</th>\n",
              "      <td>3.0</td>\n",
              "      <td>0.0</td>\n",
              "      <td>0.0</td>\n",
              "      <td>0.0</td>\n",
              "      <td>0.0</td>\n",
              "      <td>NaN</td>\n",
              "      <td>0.000149</td>\n",
              "      <td>0.0</td>\n",
              "      <td>0.0</td>\n",
              "      <td>0.0</td>\n",
              "      <td>0.0</td>\n",
              "    </tr>\n",
              "    <tr>\n",
              "      <th>1450</th>\n",
              "      <td>3.0</td>\n",
              "      <td>0.0</td>\n",
              "      <td>0.0</td>\n",
              "      <td>0.0</td>\n",
              "      <td>0.0</td>\n",
              "      <td>NaN</td>\n",
              "      <td>0.000149</td>\n",
              "      <td>0.0</td>\n",
              "      <td>0.0</td>\n",
              "      <td>0.0</td>\n",
              "      <td>0.0</td>\n",
              "    </tr>\n",
              "  </tbody>\n",
              "</table>\n",
              "</div>\n",
              "      <button class=\"colab-df-convert\" onclick=\"convertToInteractive('df-37a13655-905c-4ab6-8819-9b5d2b8b2891')\"\n",
              "              title=\"Convert this dataframe to an interactive table.\"\n",
              "              style=\"display:none;\">\n",
              "        \n",
              "  <svg xmlns=\"http://www.w3.org/2000/svg\" height=\"24px\"viewBox=\"0 0 24 24\"\n",
              "       width=\"24px\">\n",
              "    <path d=\"M0 0h24v24H0V0z\" fill=\"none\"/>\n",
              "    <path d=\"M18.56 5.44l.94 2.06.94-2.06 2.06-.94-2.06-.94-.94-2.06-.94 2.06-2.06.94zm-11 1L8.5 8.5l.94-2.06 2.06-.94-2.06-.94L8.5 2.5l-.94 2.06-2.06.94zm10 10l.94 2.06.94-2.06 2.06-.94-2.06-.94-.94-2.06-.94 2.06-2.06.94z\"/><path d=\"M17.41 7.96l-1.37-1.37c-.4-.4-.92-.59-1.43-.59-.52 0-1.04.2-1.43.59L10.3 9.45l-7.72 7.72c-.78.78-.78 2.05 0 2.83L4 21.41c.39.39.9.59 1.41.59.51 0 1.02-.2 1.41-.59l7.78-7.78 2.81-2.81c.8-.78.8-2.07 0-2.86zM5.41 20L4 18.59l7.72-7.72 1.47 1.35L5.41 20z\"/>\n",
              "  </svg>\n",
              "      </button>\n",
              "      \n",
              "  <style>\n",
              "    .colab-df-container {\n",
              "      display:flex;\n",
              "      flex-wrap:wrap;\n",
              "      gap: 12px;\n",
              "    }\n",
              "\n",
              "    .colab-df-convert {\n",
              "      background-color: #E8F0FE;\n",
              "      border: none;\n",
              "      border-radius: 50%;\n",
              "      cursor: pointer;\n",
              "      display: none;\n",
              "      fill: #1967D2;\n",
              "      height: 32px;\n",
              "      padding: 0 0 0 0;\n",
              "      width: 32px;\n",
              "    }\n",
              "\n",
              "    .colab-df-convert:hover {\n",
              "      background-color: #E2EBFA;\n",
              "      box-shadow: 0px 1px 2px rgba(60, 64, 67, 0.3), 0px 1px 3px 1px rgba(60, 64, 67, 0.15);\n",
              "      fill: #174EA6;\n",
              "    }\n",
              "\n",
              "    [theme=dark] .colab-df-convert {\n",
              "      background-color: #3B4455;\n",
              "      fill: #D2E3FC;\n",
              "    }\n",
              "\n",
              "    [theme=dark] .colab-df-convert:hover {\n",
              "      background-color: #434B5C;\n",
              "      box-shadow: 0px 1px 3px 1px rgba(0, 0, 0, 0.15);\n",
              "      filter: drop-shadow(0px 1px 2px rgba(0, 0, 0, 0.3));\n",
              "      fill: #FFFFFF;\n",
              "    }\n",
              "  </style>\n",
              "\n",
              "      <script>\n",
              "        const buttonEl =\n",
              "          document.querySelector('#df-37a13655-905c-4ab6-8819-9b5d2b8b2891 button.colab-df-convert');\n",
              "        buttonEl.style.display =\n",
              "          google.colab.kernel.accessAllowed ? 'block' : 'none';\n",
              "\n",
              "        async function convertToInteractive(key) {\n",
              "          const element = document.querySelector('#df-37a13655-905c-4ab6-8819-9b5d2b8b2891');\n",
              "          const dataTable =\n",
              "            await google.colab.kernel.invokeFunction('convertToInteractive',\n",
              "                                                     [key], {});\n",
              "          if (!dataTable) return;\n",
              "\n",
              "          const docLinkHtml = 'Like what you see? Visit the ' +\n",
              "            '<a target=\"_blank\" href=https://colab.research.google.com/notebooks/data_table.ipynb>data table notebook</a>'\n",
              "            + ' to learn more about interactive tables.';\n",
              "          element.innerHTML = '';\n",
              "          dataTable['output_type'] = 'display_data';\n",
              "          await google.colab.output.renderOutput(dataTable, element);\n",
              "          const docLink = document.createElement('div');\n",
              "          docLink.innerHTML = docLinkHtml;\n",
              "          element.appendChild(docLink);\n",
              "        }\n",
              "      </script>\n",
              "    </div>\n",
              "  </div>\n",
              "  "
            ]
          },
          "metadata": {},
          "execution_count": 243
        }
      ],
      "id": "gWBLpWVKjnSg"
    },
    {
      "cell_type": "code",
      "source": [
        "# Cantidad de registros con NaN\n",
        "len(eti_3_nan)"
      ],
      "metadata": {
        "colab": {
          "base_uri": "https://localhost:8080/"
        },
        "outputId": "b9b5c7da-6d64-495a-c790-3803ea0b7470",
        "id": "7yvs8mitjnSo"
      },
      "execution_count": null,
      "outputs": [
        {
          "output_type": "execute_result",
          "data": {
            "text/plain": [
              "5"
            ]
          },
          "metadata": {},
          "execution_count": 244
        }
      ],
      "id": "7yvs8mitjnSo"
    },
    {
      "cell_type": "code",
      "source": [
        "# Dataset con datos etiquetados, sin NaN ni datos nulos.\n",
        "\n",
        "eti_3_nan_filtered = eti_3.dropna()"
      ],
      "metadata": {
        "id": "4IMRqaXDjnSo"
      },
      "execution_count": null,
      "outputs": [],
      "id": "4IMRqaXDjnSo"
    },
    {
      "cell_type": "code",
      "source": [
        "# Verificamos que no hayan quedado NaN\n",
        "eti_3_nan_filtered[eti_3_nan_filtered.isna().any(axis=1)]\n"
      ],
      "metadata": {
        "colab": {
          "base_uri": "https://localhost:8080/"
        },
        "outputId": "ff19494a-2850-415c-c69b-eeefef8c88c0",
        "id": "lmJB3ty4jnSo"
      },
      "execution_count": null,
      "outputs": [
        {
          "output_type": "execute_result",
          "data": {
            "text/plain": [
              "Empty DataFrame\n",
              "Columns: [Patient, State, PE, SC, GNE, SE, LZC, STE, Mean, Std, Skew]\n",
              "Index: []"
            ],
            "text/html": [
              "\n",
              "  <div id=\"df-92513ad8-b1bc-4083-b0dd-31e8e132c862\">\n",
              "    <div class=\"colab-df-container\">\n",
              "      <div>\n",
              "<style scoped>\n",
              "    .dataframe tbody tr th:only-of-type {\n",
              "        vertical-align: middle;\n",
              "    }\n",
              "\n",
              "    .dataframe tbody tr th {\n",
              "        vertical-align: top;\n",
              "    }\n",
              "\n",
              "    .dataframe thead th {\n",
              "        text-align: right;\n",
              "    }\n",
              "</style>\n",
              "<table border=\"1\" class=\"dataframe\">\n",
              "  <thead>\n",
              "    <tr style=\"text-align: right;\">\n",
              "      <th></th>\n",
              "      <th>Patient</th>\n",
              "      <th>State</th>\n",
              "      <th>PE</th>\n",
              "      <th>SC</th>\n",
              "      <th>GNE</th>\n",
              "      <th>SE</th>\n",
              "      <th>LZC</th>\n",
              "      <th>STE</th>\n",
              "      <th>Mean</th>\n",
              "      <th>Std</th>\n",
              "      <th>Skew</th>\n",
              "    </tr>\n",
              "  </thead>\n",
              "  <tbody>\n",
              "  </tbody>\n",
              "</table>\n",
              "</div>\n",
              "      <button class=\"colab-df-convert\" onclick=\"convertToInteractive('df-92513ad8-b1bc-4083-b0dd-31e8e132c862')\"\n",
              "              title=\"Convert this dataframe to an interactive table.\"\n",
              "              style=\"display:none;\">\n",
              "        \n",
              "  <svg xmlns=\"http://www.w3.org/2000/svg\" height=\"24px\"viewBox=\"0 0 24 24\"\n",
              "       width=\"24px\">\n",
              "    <path d=\"M0 0h24v24H0V0z\" fill=\"none\"/>\n",
              "    <path d=\"M18.56 5.44l.94 2.06.94-2.06 2.06-.94-2.06-.94-.94-2.06-.94 2.06-2.06.94zm-11 1L8.5 8.5l.94-2.06 2.06-.94-2.06-.94L8.5 2.5l-.94 2.06-2.06.94zm10 10l.94 2.06.94-2.06 2.06-.94-2.06-.94-.94-2.06-.94 2.06-2.06.94z\"/><path d=\"M17.41 7.96l-1.37-1.37c-.4-.4-.92-.59-1.43-.59-.52 0-1.04.2-1.43.59L10.3 9.45l-7.72 7.72c-.78.78-.78 2.05 0 2.83L4 21.41c.39.39.9.59 1.41.59.51 0 1.02-.2 1.41-.59l7.78-7.78 2.81-2.81c.8-.78.8-2.07 0-2.86zM5.41 20L4 18.59l7.72-7.72 1.47 1.35L5.41 20z\"/>\n",
              "  </svg>\n",
              "      </button>\n",
              "      \n",
              "  <style>\n",
              "    .colab-df-container {\n",
              "      display:flex;\n",
              "      flex-wrap:wrap;\n",
              "      gap: 12px;\n",
              "    }\n",
              "\n",
              "    .colab-df-convert {\n",
              "      background-color: #E8F0FE;\n",
              "      border: none;\n",
              "      border-radius: 50%;\n",
              "      cursor: pointer;\n",
              "      display: none;\n",
              "      fill: #1967D2;\n",
              "      height: 32px;\n",
              "      padding: 0 0 0 0;\n",
              "      width: 32px;\n",
              "    }\n",
              "\n",
              "    .colab-df-convert:hover {\n",
              "      background-color: #E2EBFA;\n",
              "      box-shadow: 0px 1px 2px rgba(60, 64, 67, 0.3), 0px 1px 3px 1px rgba(60, 64, 67, 0.15);\n",
              "      fill: #174EA6;\n",
              "    }\n",
              "\n",
              "    [theme=dark] .colab-df-convert {\n",
              "      background-color: #3B4455;\n",
              "      fill: #D2E3FC;\n",
              "    }\n",
              "\n",
              "    [theme=dark] .colab-df-convert:hover {\n",
              "      background-color: #434B5C;\n",
              "      box-shadow: 0px 1px 3px 1px rgba(0, 0, 0, 0.15);\n",
              "      filter: drop-shadow(0px 1px 2px rgba(0, 0, 0, 0.3));\n",
              "      fill: #FFFFFF;\n",
              "    }\n",
              "  </style>\n",
              "\n",
              "      <script>\n",
              "        const buttonEl =\n",
              "          document.querySelector('#df-92513ad8-b1bc-4083-b0dd-31e8e132c862 button.colab-df-convert');\n",
              "        buttonEl.style.display =\n",
              "          google.colab.kernel.accessAllowed ? 'block' : 'none';\n",
              "\n",
              "        async function convertToInteractive(key) {\n",
              "          const element = document.querySelector('#df-92513ad8-b1bc-4083-b0dd-31e8e132c862');\n",
              "          const dataTable =\n",
              "            await google.colab.kernel.invokeFunction('convertToInteractive',\n",
              "                                                     [key], {});\n",
              "          if (!dataTable) return;\n",
              "\n",
              "          const docLinkHtml = 'Like what you see? Visit the ' +\n",
              "            '<a target=\"_blank\" href=https://colab.research.google.com/notebooks/data_table.ipynb>data table notebook</a>'\n",
              "            + ' to learn more about interactive tables.';\n",
              "          element.innerHTML = '';\n",
              "          dataTable['output_type'] = 'display_data';\n",
              "          await google.colab.output.renderOutput(dataTable, element);\n",
              "          const docLink = document.createElement('div');\n",
              "          docLink.innerHTML = docLinkHtml;\n",
              "          element.appendChild(docLink);\n",
              "        }\n",
              "      </script>\n",
              "    </div>\n",
              "  </div>\n",
              "  "
            ]
          },
          "metadata": {},
          "execution_count": 246
        }
      ],
      "id": "lmJB3ty4jnSo"
    },
    {
      "cell_type": "code",
      "source": [
        "eti_3_clean = filter_outliers(eti_3_nan_filtered, quantifiers, 0.02 )"
      ],
      "metadata": {
        "id": "SPgs7zOU2qK6"
      },
      "id": "SPgs7zOU2qK6",
      "execution_count": null,
      "outputs": []
    },
    {
      "cell_type": "code",
      "source": [
        "eti_3_nan_filtered.shape"
      ],
      "metadata": {
        "colab": {
          "base_uri": "https://localhost:8080/"
        },
        "outputId": "76443c29-5094-4925-9566-6caf697fe2a0",
        "id": "GbVHDJs0jnSp"
      },
      "execution_count": null,
      "outputs": [
        {
          "output_type": "execute_result",
          "data": {
            "text/plain": [
              "(2389, 11)"
            ]
          },
          "metadata": {},
          "execution_count": 248
        }
      ],
      "id": "GbVHDJs0jnSp"
    },
    {
      "cell_type": "markdown",
      "source": [
        "### Analisis de Outliers"
      ],
      "metadata": {
        "id": "yJB5lYeIjnSp"
      },
      "id": "yJB5lYeIjnSp"
    },
    {
      "cell_type": "code",
      "source": [
        "eti_3_nan_filtered.columns"
      ],
      "metadata": {
        "colab": {
          "base_uri": "https://localhost:8080/"
        },
        "outputId": "656813d0-4f8c-4985-8e5d-ae3b94a1130e",
        "id": "1jGFOv2HjnSp"
      },
      "execution_count": null,
      "outputs": [
        {
          "output_type": "execute_result",
          "data": {
            "text/plain": [
              "Index(['Patient', 'State', 'PE', 'SC', 'GNE', 'SE', 'LZC', 'STE', 'Mean',\n",
              "       'Std', 'Skew'],\n",
              "      dtype='object')"
            ]
          },
          "metadata": {},
          "execution_count": 249
        }
      ],
      "id": "1jGFOv2HjnSp"
    },
    {
      "cell_type": "code",
      "source": [
        "eti_3_clean = filter_outliers(eti_3_nan_filtered, quantifiers, 0.02 )"
      ],
      "metadata": {
        "id": "Vm4JalqMJTzn"
      },
      "execution_count": null,
      "outputs": [],
      "id": "Vm4JalqMJTzn"
    },
    {
      "cell_type": "code",
      "source": [
        "eti_3_clean"
      ],
      "metadata": {
        "colab": {
          "base_uri": "https://localhost:8080/"
        },
        "outputId": "14dfc210-03e4-4f8c-f8a8-d980375d3b47",
        "id": "VihqlJKxJTzn"
      },
      "execution_count": null,
      "outputs": [
        {
          "output_type": "execute_result",
          "data": {
            "text/plain": [
              "      Patient  State        PE        SC       GNE        SE       LZC  \\\n",
              "3         3.0    0.0  0.486271  0.278803  0.480243  0.420207  0.186225   \n",
              "4         3.0    0.0  0.493036  0.279539  0.491375  0.425493  0.192620   \n",
              "9         3.0    0.0  0.488883  0.279155  0.484765  0.433493  0.200872   \n",
              "10        3.0    0.0  0.523893  0.283790  0.543871  0.515461  0.291441   \n",
              "14        3.0    0.0  0.498630  0.280013  0.500453  0.428389  0.199443   \n",
              "...       ...    ...       ...       ...       ...       ...       ...   \n",
              "2386      3.0    0.0  0.539265  0.284173  0.567796  0.493027  0.279251   \n",
              "2387      3.0    0.0  0.538507  0.283964  0.566291  0.488882  0.272256   \n",
              "2388      3.0    0.0  0.538936  0.284054  0.567047  0.490957  0.270738   \n",
              "2390      3.0    0.0  0.519529  0.283694  0.537028  0.522160  0.294764   \n",
              "2392      3.0    0.0  0.506230  0.281294  0.513469  0.417632  0.203651   \n",
              "\n",
              "           STE          Mean        Std      Skew  \n",
              "3     0.707219  2.473696e-06  54.363639 -0.018547  \n",
              "4     0.712782 -9.303062e-07  53.188962 -0.022277  \n",
              "9     0.709615 -1.465920e-06  51.622943 -0.060702  \n",
              "10    0.739519 -5.698434e-06  25.527093  0.003489  \n",
              "14    0.717519 -7.295549e-06  52.081370 -0.054896  \n",
              "...        ...           ...        ...       ...  \n",
              "2386  0.751867  1.754938e-05  31.659502  0.034575  \n",
              "2387  0.751040 -1.199099e-05  34.037800  0.046853  \n",
              "2388  0.751444  8.332202e-06  34.746833  0.004379  \n",
              "2390  0.736046  8.581803e-06  27.410843 -0.009101  \n",
              "2392  0.724019 -2.262278e-06  38.568322  0.005107  \n",
              "\n",
              "[1956 rows x 11 columns]"
            ],
            "text/html": [
              "\n",
              "  <div id=\"df-0de5c768-ccda-4788-94d9-dd80bbf7e8b6\">\n",
              "    <div class=\"colab-df-container\">\n",
              "      <div>\n",
              "<style scoped>\n",
              "    .dataframe tbody tr th:only-of-type {\n",
              "        vertical-align: middle;\n",
              "    }\n",
              "\n",
              "    .dataframe tbody tr th {\n",
              "        vertical-align: top;\n",
              "    }\n",
              "\n",
              "    .dataframe thead th {\n",
              "        text-align: right;\n",
              "    }\n",
              "</style>\n",
              "<table border=\"1\" class=\"dataframe\">\n",
              "  <thead>\n",
              "    <tr style=\"text-align: right;\">\n",
              "      <th></th>\n",
              "      <th>Patient</th>\n",
              "      <th>State</th>\n",
              "      <th>PE</th>\n",
              "      <th>SC</th>\n",
              "      <th>GNE</th>\n",
              "      <th>SE</th>\n",
              "      <th>LZC</th>\n",
              "      <th>STE</th>\n",
              "      <th>Mean</th>\n",
              "      <th>Std</th>\n",
              "      <th>Skew</th>\n",
              "    </tr>\n",
              "  </thead>\n",
              "  <tbody>\n",
              "    <tr>\n",
              "      <th>3</th>\n",
              "      <td>3.0</td>\n",
              "      <td>0.0</td>\n",
              "      <td>0.486271</td>\n",
              "      <td>0.278803</td>\n",
              "      <td>0.480243</td>\n",
              "      <td>0.420207</td>\n",
              "      <td>0.186225</td>\n",
              "      <td>0.707219</td>\n",
              "      <td>2.473696e-06</td>\n",
              "      <td>54.363639</td>\n",
              "      <td>-0.018547</td>\n",
              "    </tr>\n",
              "    <tr>\n",
              "      <th>4</th>\n",
              "      <td>3.0</td>\n",
              "      <td>0.0</td>\n",
              "      <td>0.493036</td>\n",
              "      <td>0.279539</td>\n",
              "      <td>0.491375</td>\n",
              "      <td>0.425493</td>\n",
              "      <td>0.192620</td>\n",
              "      <td>0.712782</td>\n",
              "      <td>-9.303062e-07</td>\n",
              "      <td>53.188962</td>\n",
              "      <td>-0.022277</td>\n",
              "    </tr>\n",
              "    <tr>\n",
              "      <th>9</th>\n",
              "      <td>3.0</td>\n",
              "      <td>0.0</td>\n",
              "      <td>0.488883</td>\n",
              "      <td>0.279155</td>\n",
              "      <td>0.484765</td>\n",
              "      <td>0.433493</td>\n",
              "      <td>0.200872</td>\n",
              "      <td>0.709615</td>\n",
              "      <td>-1.465920e-06</td>\n",
              "      <td>51.622943</td>\n",
              "      <td>-0.060702</td>\n",
              "    </tr>\n",
              "    <tr>\n",
              "      <th>10</th>\n",
              "      <td>3.0</td>\n",
              "      <td>0.0</td>\n",
              "      <td>0.523893</td>\n",
              "      <td>0.283790</td>\n",
              "      <td>0.543871</td>\n",
              "      <td>0.515461</td>\n",
              "      <td>0.291441</td>\n",
              "      <td>0.739519</td>\n",
              "      <td>-5.698434e-06</td>\n",
              "      <td>25.527093</td>\n",
              "      <td>0.003489</td>\n",
              "    </tr>\n",
              "    <tr>\n",
              "      <th>14</th>\n",
              "      <td>3.0</td>\n",
              "      <td>0.0</td>\n",
              "      <td>0.498630</td>\n",
              "      <td>0.280013</td>\n",
              "      <td>0.500453</td>\n",
              "      <td>0.428389</td>\n",
              "      <td>0.199443</td>\n",
              "      <td>0.717519</td>\n",
              "      <td>-7.295549e-06</td>\n",
              "      <td>52.081370</td>\n",
              "      <td>-0.054896</td>\n",
              "    </tr>\n",
              "    <tr>\n",
              "      <th>...</th>\n",
              "      <td>...</td>\n",
              "      <td>...</td>\n",
              "      <td>...</td>\n",
              "      <td>...</td>\n",
              "      <td>...</td>\n",
              "      <td>...</td>\n",
              "      <td>...</td>\n",
              "      <td>...</td>\n",
              "      <td>...</td>\n",
              "      <td>...</td>\n",
              "      <td>...</td>\n",
              "    </tr>\n",
              "    <tr>\n",
              "      <th>2386</th>\n",
              "      <td>3.0</td>\n",
              "      <td>0.0</td>\n",
              "      <td>0.539265</td>\n",
              "      <td>0.284173</td>\n",
              "      <td>0.567796</td>\n",
              "      <td>0.493027</td>\n",
              "      <td>0.279251</td>\n",
              "      <td>0.751867</td>\n",
              "      <td>1.754938e-05</td>\n",
              "      <td>31.659502</td>\n",
              "      <td>0.034575</td>\n",
              "    </tr>\n",
              "    <tr>\n",
              "      <th>2387</th>\n",
              "      <td>3.0</td>\n",
              "      <td>0.0</td>\n",
              "      <td>0.538507</td>\n",
              "      <td>0.283964</td>\n",
              "      <td>0.566291</td>\n",
              "      <td>0.488882</td>\n",
              "      <td>0.272256</td>\n",
              "      <td>0.751040</td>\n",
              "      <td>-1.199099e-05</td>\n",
              "      <td>34.037800</td>\n",
              "      <td>0.046853</td>\n",
              "    </tr>\n",
              "    <tr>\n",
              "      <th>2388</th>\n",
              "      <td>3.0</td>\n",
              "      <td>0.0</td>\n",
              "      <td>0.538936</td>\n",
              "      <td>0.284054</td>\n",
              "      <td>0.567047</td>\n",
              "      <td>0.490957</td>\n",
              "      <td>0.270738</td>\n",
              "      <td>0.751444</td>\n",
              "      <td>8.332202e-06</td>\n",
              "      <td>34.746833</td>\n",
              "      <td>0.004379</td>\n",
              "    </tr>\n",
              "    <tr>\n",
              "      <th>2390</th>\n",
              "      <td>3.0</td>\n",
              "      <td>0.0</td>\n",
              "      <td>0.519529</td>\n",
              "      <td>0.283694</td>\n",
              "      <td>0.537028</td>\n",
              "      <td>0.522160</td>\n",
              "      <td>0.294764</td>\n",
              "      <td>0.736046</td>\n",
              "      <td>8.581803e-06</td>\n",
              "      <td>27.410843</td>\n",
              "      <td>-0.009101</td>\n",
              "    </tr>\n",
              "    <tr>\n",
              "      <th>2392</th>\n",
              "      <td>3.0</td>\n",
              "      <td>0.0</td>\n",
              "      <td>0.506230</td>\n",
              "      <td>0.281294</td>\n",
              "      <td>0.513469</td>\n",
              "      <td>0.417632</td>\n",
              "      <td>0.203651</td>\n",
              "      <td>0.724019</td>\n",
              "      <td>-2.262278e-06</td>\n",
              "      <td>38.568322</td>\n",
              "      <td>0.005107</td>\n",
              "    </tr>\n",
              "  </tbody>\n",
              "</table>\n",
              "<p>1956 rows × 11 columns</p>\n",
              "</div>\n",
              "      <button class=\"colab-df-convert\" onclick=\"convertToInteractive('df-0de5c768-ccda-4788-94d9-dd80bbf7e8b6')\"\n",
              "              title=\"Convert this dataframe to an interactive table.\"\n",
              "              style=\"display:none;\">\n",
              "        \n",
              "  <svg xmlns=\"http://www.w3.org/2000/svg\" height=\"24px\"viewBox=\"0 0 24 24\"\n",
              "       width=\"24px\">\n",
              "    <path d=\"M0 0h24v24H0V0z\" fill=\"none\"/>\n",
              "    <path d=\"M18.56 5.44l.94 2.06.94-2.06 2.06-.94-2.06-.94-.94-2.06-.94 2.06-2.06.94zm-11 1L8.5 8.5l.94-2.06 2.06-.94-2.06-.94L8.5 2.5l-.94 2.06-2.06.94zm10 10l.94 2.06.94-2.06 2.06-.94-2.06-.94-.94-2.06-.94 2.06-2.06.94z\"/><path d=\"M17.41 7.96l-1.37-1.37c-.4-.4-.92-.59-1.43-.59-.52 0-1.04.2-1.43.59L10.3 9.45l-7.72 7.72c-.78.78-.78 2.05 0 2.83L4 21.41c.39.39.9.59 1.41.59.51 0 1.02-.2 1.41-.59l7.78-7.78 2.81-2.81c.8-.78.8-2.07 0-2.86zM5.41 20L4 18.59l7.72-7.72 1.47 1.35L5.41 20z\"/>\n",
              "  </svg>\n",
              "      </button>\n",
              "      \n",
              "  <style>\n",
              "    .colab-df-container {\n",
              "      display:flex;\n",
              "      flex-wrap:wrap;\n",
              "      gap: 12px;\n",
              "    }\n",
              "\n",
              "    .colab-df-convert {\n",
              "      background-color: #E8F0FE;\n",
              "      border: none;\n",
              "      border-radius: 50%;\n",
              "      cursor: pointer;\n",
              "      display: none;\n",
              "      fill: #1967D2;\n",
              "      height: 32px;\n",
              "      padding: 0 0 0 0;\n",
              "      width: 32px;\n",
              "    }\n",
              "\n",
              "    .colab-df-convert:hover {\n",
              "      background-color: #E2EBFA;\n",
              "      box-shadow: 0px 1px 2px rgba(60, 64, 67, 0.3), 0px 1px 3px 1px rgba(60, 64, 67, 0.15);\n",
              "      fill: #174EA6;\n",
              "    }\n",
              "\n",
              "    [theme=dark] .colab-df-convert {\n",
              "      background-color: #3B4455;\n",
              "      fill: #D2E3FC;\n",
              "    }\n",
              "\n",
              "    [theme=dark] .colab-df-convert:hover {\n",
              "      background-color: #434B5C;\n",
              "      box-shadow: 0px 1px 3px 1px rgba(0, 0, 0, 0.15);\n",
              "      filter: drop-shadow(0px 1px 2px rgba(0, 0, 0, 0.3));\n",
              "      fill: #FFFFFF;\n",
              "    }\n",
              "  </style>\n",
              "\n",
              "      <script>\n",
              "        const buttonEl =\n",
              "          document.querySelector('#df-0de5c768-ccda-4788-94d9-dd80bbf7e8b6 button.colab-df-convert');\n",
              "        buttonEl.style.display =\n",
              "          google.colab.kernel.accessAllowed ? 'block' : 'none';\n",
              "\n",
              "        async function convertToInteractive(key) {\n",
              "          const element = document.querySelector('#df-0de5c768-ccda-4788-94d9-dd80bbf7e8b6');\n",
              "          const dataTable =\n",
              "            await google.colab.kernel.invokeFunction('convertToInteractive',\n",
              "                                                     [key], {});\n",
              "          if (!dataTable) return;\n",
              "\n",
              "          const docLinkHtml = 'Like what you see? Visit the ' +\n",
              "            '<a target=\"_blank\" href=https://colab.research.google.com/notebooks/data_table.ipynb>data table notebook</a>'\n",
              "            + ' to learn more about interactive tables.';\n",
              "          element.innerHTML = '';\n",
              "          dataTable['output_type'] = 'display_data';\n",
              "          await google.colab.output.renderOutput(dataTable, element);\n",
              "          const docLink = document.createElement('div');\n",
              "          docLink.innerHTML = docLinkHtml;\n",
              "          element.appendChild(docLink);\n",
              "        }\n",
              "      </script>\n",
              "    </div>\n",
              "  </div>\n",
              "  "
            ]
          },
          "metadata": {},
          "execution_count": 251
        }
      ],
      "id": "VihqlJKxJTzn"
    },
    {
      "cell_type": "code",
      "source": [
        "plt.figure(figsize=(15,10))\n",
        "pos = 1\n",
        "for i in quantifiers:\n",
        "    plt.subplot(3, 4, pos)\n",
        "    sns.boxplot(eti_3_nan_filtered[i])\n",
        "    pos += 1"
      ],
      "metadata": {
        "colab": {
          "base_uri": "https://localhost:8080/"
        },
        "outputId": "eaba9d75-ffec-4186-bc07-cf6d30024338",
        "id": "VGJbp7pwjnSq"
      },
      "execution_count": null,
      "outputs": [
        {
          "output_type": "stream",
          "name": "stderr",
          "text": [
            "/usr/local/lib/python3.7/dist-packages/seaborn/_decorators.py:43: FutureWarning: Pass the following variable as a keyword arg: x. From version 0.12, the only valid positional argument will be `data`, and passing other arguments without an explicit keyword will result in an error or misinterpretation.\n",
            "  FutureWarning\n",
            "/usr/local/lib/python3.7/dist-packages/seaborn/_decorators.py:43: FutureWarning: Pass the following variable as a keyword arg: x. From version 0.12, the only valid positional argument will be `data`, and passing other arguments without an explicit keyword will result in an error or misinterpretation.\n",
            "  FutureWarning\n",
            "/usr/local/lib/python3.7/dist-packages/seaborn/_decorators.py:43: FutureWarning: Pass the following variable as a keyword arg: x. From version 0.12, the only valid positional argument will be `data`, and passing other arguments without an explicit keyword will result in an error or misinterpretation.\n",
            "  FutureWarning\n",
            "/usr/local/lib/python3.7/dist-packages/seaborn/_decorators.py:43: FutureWarning: Pass the following variable as a keyword arg: x. From version 0.12, the only valid positional argument will be `data`, and passing other arguments without an explicit keyword will result in an error or misinterpretation.\n",
            "  FutureWarning\n",
            "/usr/local/lib/python3.7/dist-packages/seaborn/_decorators.py:43: FutureWarning: Pass the following variable as a keyword arg: x. From version 0.12, the only valid positional argument will be `data`, and passing other arguments without an explicit keyword will result in an error or misinterpretation.\n",
            "  FutureWarning\n",
            "/usr/local/lib/python3.7/dist-packages/seaborn/_decorators.py:43: FutureWarning: Pass the following variable as a keyword arg: x. From version 0.12, the only valid positional argument will be `data`, and passing other arguments without an explicit keyword will result in an error or misinterpretation.\n",
            "  FutureWarning\n",
            "/usr/local/lib/python3.7/dist-packages/seaborn/_decorators.py:43: FutureWarning: Pass the following variable as a keyword arg: x. From version 0.12, the only valid positional argument will be `data`, and passing other arguments without an explicit keyword will result in an error or misinterpretation.\n",
            "  FutureWarning\n",
            "/usr/local/lib/python3.7/dist-packages/seaborn/_decorators.py:43: FutureWarning: Pass the following variable as a keyword arg: x. From version 0.12, the only valid positional argument will be `data`, and passing other arguments without an explicit keyword will result in an error or misinterpretation.\n",
            "  FutureWarning\n",
            "/usr/local/lib/python3.7/dist-packages/seaborn/_decorators.py:43: FutureWarning: Pass the following variable as a keyword arg: x. From version 0.12, the only valid positional argument will be `data`, and passing other arguments without an explicit keyword will result in an error or misinterpretation.\n",
            "  FutureWarning\n"
          ]
        },
        {
          "output_type": "display_data",
          "data": {
            "text/plain": [
              "<Figure size 1080x720 with 9 Axes>"
            ],
            "image/png": "[encoded data removed]"
          },
          "metadata": {
            "needs_background": "light"
          }
        }
      ],
      "id": "VGJbp7pwjnSq"
    },
    {
      "cell_type": "code",
      "source": [
        "plt.figure(figsize=(15,10))\n",
        "pos = 1\n",
        "for i in quantifiers:\n",
        "    plt.subplot(3, 4, pos)\n",
        "    sns.boxplot(eti_3_clean[i])\n",
        "    pos += 1"
      ],
      "metadata": {
        "colab": {
          "base_uri": "https://localhost:8080/"
        },
        "outputId": "23671cfb-3e2c-41cf-bea1-fe4d2ae1d559",
        "id": "4QMKAw9ojnSq"
      },
      "execution_count": null,
      "outputs": [
        {
          "output_type": "stream",
          "name": "stderr",
          "text": [
            "/usr/local/lib/python3.7/dist-packages/seaborn/_decorators.py:43: FutureWarning: Pass the following variable as a keyword arg: x. From version 0.12, the only valid positional argument will be `data`, and passing other arguments without an explicit keyword will result in an error or misinterpretation.\n",
            "  FutureWarning\n",
            "/usr/local/lib/python3.7/dist-packages/seaborn/_decorators.py:43: FutureWarning: Pass the following variable as a keyword arg: x. From version 0.12, the only valid positional argument will be `data`, and passing other arguments without an explicit keyword will result in an error or misinterpretation.\n",
            "  FutureWarning\n",
            "/usr/local/lib/python3.7/dist-packages/seaborn/_decorators.py:43: FutureWarning: Pass the following variable as a keyword arg: x. From version 0.12, the only valid positional argument will be `data`, and passing other arguments without an explicit keyword will result in an error or misinterpretation.\n",
            "  FutureWarning\n",
            "/usr/local/lib/python3.7/dist-packages/seaborn/_decorators.py:43: FutureWarning: Pass the following variable as a keyword arg: x. From version 0.12, the only valid positional argument will be `data`, and passing other arguments without an explicit keyword will result in an error or misinterpretation.\n",
            "  FutureWarning\n",
            "/usr/local/lib/python3.7/dist-packages/seaborn/_decorators.py:43: FutureWarning: Pass the following variable as a keyword arg: x. From version 0.12, the only valid positional argument will be `data`, and passing other arguments without an explicit keyword will result in an error or misinterpretation.\n",
            "  FutureWarning\n",
            "/usr/local/lib/python3.7/dist-packages/seaborn/_decorators.py:43: FutureWarning: Pass the following variable as a keyword arg: x. From version 0.12, the only valid positional argument will be `data`, and passing other arguments without an explicit keyword will result in an error or misinterpretation.\n",
            "  FutureWarning\n",
            "/usr/local/lib/python3.7/dist-packages/seaborn/_decorators.py:43: FutureWarning: Pass the following variable as a keyword arg: x. From version 0.12, the only valid positional argument will be `data`, and passing other arguments without an explicit keyword will result in an error or misinterpretation.\n",
            "  FutureWarning\n",
            "/usr/local/lib/python3.7/dist-packages/seaborn/_decorators.py:43: FutureWarning: Pass the following variable as a keyword arg: x. From version 0.12, the only valid positional argument will be `data`, and passing other arguments without an explicit keyword will result in an error or misinterpretation.\n",
            "  FutureWarning\n",
            "/usr/local/lib/python3.7/dist-packages/seaborn/_decorators.py:43: FutureWarning: Pass the following variable as a keyword arg: x. From version 0.12, the only valid positional argument will be `data`, and passing other arguments without an explicit keyword will result in an error or misinterpretation.\n",
            "  FutureWarning\n"
          ]
        },
        {
          "output_type": "display_data",
          "data": {
            "text/plain": [
              "<Figure size 1080x720 with 9 Axes>"
            ],
            "image/png": "[encoded data removed]"
          },
          "metadata": {
            "needs_background": "light"
          }
        }
      ],
      "id": "4QMKAw9ojnSq"
    },
    {
      "cell_type": "code",
      "source": [
        "Q_registros_p3 = 1956/2389"
      ],
      "metadata": {
        "id": "5_u_pQGsI_Q2"
      },
      "execution_count": null,
      "outputs": [],
      "id": "5_u_pQGsI_Q2"
    },
    {
      "cell_type": "code",
      "source": [
        "Q_registros_p3"
      ],
      "metadata": {
        "colab": {
          "base_uri": "https://localhost:8080/"
        },
        "outputId": "a025af61-9e09-44a7-9666-ca676ab743ab",
        "id": "hksN9EIUI_Q3"
      },
      "execution_count": null,
      "outputs": [
        {
          "output_type": "execute_result",
          "data": {
            "text/plain": [
              "0.818752616157388"
            ]
          },
          "metadata": {},
          "execution_count": 255
        }
      ],
      "id": "hksN9EIUI_Q3"
    },
    {
      "cell_type": "markdown",
      "source": [
        "# DATASET CON 3 PACIENTES"
      ],
      "metadata": {
        "id": "mwsxS0FqCfqP"
      },
      "id": "mwsxS0FqCfqP"
    },
    {
      "cell_type": "code",
      "source": [
        "# Importamos el dataset con los 3 pacientes, sin datos nulos \n",
        "\n",
        "path = DATASETS_PATH + 'all_labeled_curado.csv'\n",
        "all_labeled_curado = pd.read_csv (path)\n",
        "print(all_labeled_curado)"
      ],
      "metadata": {
        "colab": {
          "base_uri": "https://localhost:8080/"
        },
        "id": "BhGACFfk4mHB",
        "outputId": "d3382fa2-1714-4233-b6b2-996e7466a5e6"
      },
      "id": "BhGACFfk4mHB",
      "execution_count": null,
      "outputs": [
        {
          "output_type": "stream",
          "name": "stdout",
          "text": [
            "      Patient  State        PE        SC       GNE        SE       LZC  \\\n",
            "0         1.0    1.0  0.598255  0.285388  0.662095  0.520937  0.325380   \n",
            "1         1.0    0.0  0.541613  0.283209  0.570060  0.413078  0.195333   \n",
            "2         1.0    0.0  0.543293  0.283316  0.572859  0.418008  0.199974   \n",
            "3         1.0    0.0  0.535949  0.282724  0.560678  0.391206  0.166309   \n",
            "4         1.0    0.0  0.436980  0.272283  0.398864  0.412815  0.116037   \n",
            "...       ...    ...       ...       ...       ...       ...       ...   \n",
            "5966      3.0    0.0  0.448407  0.274937  0.418891  0.460836  0.176777   \n",
            "5967      3.0    0.0  0.519529  0.283694  0.537028  0.522160  0.294764   \n",
            "5968      3.0    1.0  0.532872  0.284772  0.558522  0.501966  0.298883   \n",
            "5969      3.0    0.0  0.506230  0.281294  0.513469  0.417632  0.203651   \n",
            "5970      3.0    1.0  0.534341  0.285007  0.561251  0.549156  0.325218   \n",
            "\n",
            "           STE          Mean        Std      Skew  \n",
            "0     0.802138  4.426225e-06  15.557899 -0.000629  \n",
            "1     0.752879  2.075434e-05  48.467869 -0.031036  \n",
            "2     0.754335  5.322688e-06  46.771531 -0.077559  \n",
            "3     0.747854 -1.353617e-05  48.590217 -0.024175  \n",
            "4     0.668147 -5.555946e-07  41.749673 -0.087401  \n",
            "...        ...           ...        ...       ...  \n",
            "5966  0.677723 -1.282332e-05  42.577215 -0.120935  \n",
            "5967  0.736046  8.581803e-06  27.410843 -0.009101  \n",
            "5968  0.747369 -2.371154e-06  29.862033  0.157132  \n",
            "5969  0.724019 -2.262278e-06  38.568322  0.005107  \n",
            "5970  0.748813 -2.603982e-06  22.892093 -0.015104  \n",
            "\n",
            "[5971 rows x 11 columns]\n"
          ]
        }
      ]
    },
    {
      "cell_type": "code",
      "source": [
        "#all_labeled_curado = filter_outliers(eti_3_nan_filtered, quantifiers, 0.02)"
      ],
      "metadata": {
        "id": "hCk22Pn8jnSp"
      },
      "execution_count": null,
      "outputs": [],
      "id": "hCk22Pn8jnSp"
    },
    {
      "cell_type": "code",
      "source": [
        "all_labeled_curado\n",
        "#Los registros NaN fueron eliminados en el entregable anterior"
      ],
      "metadata": {
        "colab": {
          "base_uri": "https://localhost:8080/",
          "height": 424
        },
        "id": "y9BdIBV4rre1",
        "outputId": "8336ba22-11da-404f-d180-633dc911b448"
      },
      "execution_count": null,
      "outputs": [
        {
          "output_type": "execute_result",
          "data": {
            "text/plain": [
              "      Patient  State        PE        SC       GNE        SE       LZC  \\\n",
              "0         1.0    1.0  0.598255  0.285388  0.662095  0.520937  0.325380   \n",
              "1         1.0    0.0  0.541613  0.283209  0.570060  0.413078  0.195333   \n",
              "2         1.0    0.0  0.543293  0.283316  0.572859  0.418008  0.199974   \n",
              "3         1.0    0.0  0.535949  0.282724  0.560678  0.391206  0.166309   \n",
              "4         1.0    0.0  0.436980  0.272283  0.398864  0.412815  0.116037   \n",
              "...       ...    ...       ...       ...       ...       ...       ...   \n",
              "5966      3.0    0.0  0.448407  0.274937  0.418891  0.460836  0.176777   \n",
              "5967      3.0    0.0  0.519529  0.283694  0.537028  0.522160  0.294764   \n",
              "5968      3.0    1.0  0.532872  0.284772  0.558522  0.501966  0.298883   \n",
              "5969      3.0    0.0  0.506230  0.281294  0.513469  0.417632  0.203651   \n",
              "5970      3.0    1.0  0.534341  0.285007  0.561251  0.549156  0.325218   \n",
              "\n",
              "           STE          Mean        Std      Skew  \n",
              "0     0.802138  4.426225e-06  15.557899 -0.000629  \n",
              "1     0.752879  2.075434e-05  48.467869 -0.031036  \n",
              "2     0.754335  5.322688e-06  46.771531 -0.077559  \n",
              "3     0.747854 -1.353617e-05  48.590217 -0.024175  \n",
              "4     0.668147 -5.555946e-07  41.749673 -0.087401  \n",
              "...        ...           ...        ...       ...  \n",
              "5966  0.677723 -1.282332e-05  42.577215 -0.120935  \n",
              "5967  0.736046  8.581803e-06  27.410843 -0.009101  \n",
              "5968  0.747369 -2.371154e-06  29.862033  0.157132  \n",
              "5969  0.724019 -2.262278e-06  38.568322  0.005107  \n",
              "5970  0.748813 -2.603982e-06  22.892093 -0.015104  \n",
              "\n",
              "[5971 rows x 11 columns]"
            ],
            "text/html": [
              "\n",
              "  <div id=\"df-b527e15b-107c-42d6-b20f-4b7fa325e379\">\n",
              "    <div class=\"colab-df-container\">\n",
              "      <div>\n",
              "<style scoped>\n",
              "    .dataframe tbody tr th:only-of-type {\n",
              "        vertical-align: middle;\n",
              "    }\n",
              "\n",
              "    .dataframe tbody tr th {\n",
              "        vertical-align: top;\n",
              "    }\n",
              "\n",
              "    .dataframe thead th {\n",
              "        text-align: right;\n",
              "    }\n",
              "</style>\n",
              "<table border=\"1\" class=\"dataframe\">\n",
              "  <thead>\n",
              "    <tr style=\"text-align: right;\">\n",
              "      <th></th>\n",
              "      <th>Patient</th>\n",
              "      <th>State</th>\n",
              "      <th>PE</th>\n",
              "      <th>SC</th>\n",
              "      <th>GNE</th>\n",
              "      <th>SE</th>\n",
              "      <th>LZC</th>\n",
              "      <th>STE</th>\n",
              "      <th>Mean</th>\n",
              "      <th>Std</th>\n",
              "      <th>Skew</th>\n",
              "    </tr>\n",
              "  </thead>\n",
              "  <tbody>\n",
              "    <tr>\n",
              "      <th>0</th>\n",
              "      <td>1.0</td>\n",
              "      <td>1.0</td>\n",
              "      <td>0.598255</td>\n",
              "      <td>0.285388</td>\n",
              "      <td>0.662095</td>\n",
              "      <td>0.520937</td>\n",
              "      <td>0.325380</td>\n",
              "      <td>0.802138</td>\n",
              "      <td>4.426225e-06</td>\n",
              "      <td>15.557899</td>\n",
              "      <td>-0.000629</td>\n",
              "    </tr>\n",
              "    <tr>\n",
              "      <th>1</th>\n",
              "      <td>1.0</td>\n",
              "      <td>0.0</td>\n",
              "      <td>0.541613</td>\n",
              "      <td>0.283209</td>\n",
              "      <td>0.570060</td>\n",
              "      <td>0.413078</td>\n",
              "      <td>0.195333</td>\n",
              "      <td>0.752879</td>\n",
              "      <td>2.075434e-05</td>\n",
              "      <td>48.467869</td>\n",
              "      <td>-0.031036</td>\n",
              "    </tr>\n",
              "    <tr>\n",
              "      <th>2</th>\n",
              "      <td>1.0</td>\n",
              "      <td>0.0</td>\n",
              "      <td>0.543293</td>\n",
              "      <td>0.283316</td>\n",
              "      <td>0.572859</td>\n",
              "      <td>0.418008</td>\n",
              "      <td>0.199974</td>\n",
              "      <td>0.754335</td>\n",
              "      <td>5.322688e-06</td>\n",
              "      <td>46.771531</td>\n",
              "      <td>-0.077559</td>\n",
              "    </tr>\n",
              "    <tr>\n",
              "      <th>3</th>\n",
              "      <td>1.0</td>\n",
              "      <td>0.0</td>\n",
              "      <td>0.535949</td>\n",
              "      <td>0.282724</td>\n",
              "      <td>0.560678</td>\n",
              "      <td>0.391206</td>\n",
              "      <td>0.166309</td>\n",
              "      <td>0.747854</td>\n",
              "      <td>-1.353617e-05</td>\n",
              "      <td>48.590217</td>\n",
              "      <td>-0.024175</td>\n",
              "    </tr>\n",
              "    <tr>\n",
              "      <th>4</th>\n",
              "      <td>1.0</td>\n",
              "      <td>0.0</td>\n",
              "      <td>0.436980</td>\n",
              "      <td>0.272283</td>\n",
              "      <td>0.398864</td>\n",
              "      <td>0.412815</td>\n",
              "      <td>0.116037</td>\n",
              "      <td>0.668147</td>\n",
              "      <td>-5.555946e-07</td>\n",
              "      <td>41.749673</td>\n",
              "      <td>-0.087401</td>\n",
              "    </tr>\n",
              "    <tr>\n",
              "      <th>...</th>\n",
              "      <td>...</td>\n",
              "      <td>...</td>\n",
              "      <td>...</td>\n",
              "      <td>...</td>\n",
              "      <td>...</td>\n",
              "      <td>...</td>\n",
              "      <td>...</td>\n",
              "      <td>...</td>\n",
              "      <td>...</td>\n",
              "      <td>...</td>\n",
              "      <td>...</td>\n",
              "    </tr>\n",
              "    <tr>\n",
              "      <th>5966</th>\n",
              "      <td>3.0</td>\n",
              "      <td>0.0</td>\n",
              "      <td>0.448407</td>\n",
              "      <td>0.274937</td>\n",
              "      <td>0.418891</td>\n",
              "      <td>0.460836</td>\n",
              "      <td>0.176777</td>\n",
              "      <td>0.677723</td>\n",
              "      <td>-1.282332e-05</td>\n",
              "      <td>42.577215</td>\n",
              "      <td>-0.120935</td>\n",
              "    </tr>\n",
              "    <tr>\n",
              "      <th>5967</th>\n",
              "      <td>3.0</td>\n",
              "      <td>0.0</td>\n",
              "      <td>0.519529</td>\n",
              "      <td>0.283694</td>\n",
              "      <td>0.537028</td>\n",
              "      <td>0.522160</td>\n",
              "      <td>0.294764</td>\n",
              "      <td>0.736046</td>\n",
              "      <td>8.581803e-06</td>\n",
              "      <td>27.410843</td>\n",
              "      <td>-0.009101</td>\n",
              "    </tr>\n",
              "    <tr>\n",
              "      <th>5968</th>\n",
              "      <td>3.0</td>\n",
              "      <td>1.0</td>\n",
              "      <td>0.532872</td>\n",
              "      <td>0.284772</td>\n",
              "      <td>0.558522</td>\n",
              "      <td>0.501966</td>\n",
              "      <td>0.298883</td>\n",
              "      <td>0.747369</td>\n",
              "      <td>-2.371154e-06</td>\n",
              "      <td>29.862033</td>\n",
              "      <td>0.157132</td>\n",
              "    </tr>\n",
              "    <tr>\n",
              "      <th>5969</th>\n",
              "      <td>3.0</td>\n",
              "      <td>0.0</td>\n",
              "      <td>0.506230</td>\n",
              "      <td>0.281294</td>\n",
              "      <td>0.513469</td>\n",
              "      <td>0.417632</td>\n",
              "      <td>0.203651</td>\n",
              "      <td>0.724019</td>\n",
              "      <td>-2.262278e-06</td>\n",
              "      <td>38.568322</td>\n",
              "      <td>0.005107</td>\n",
              "    </tr>\n",
              "    <tr>\n",
              "      <th>5970</th>\n",
              "      <td>3.0</td>\n",
              "      <td>1.0</td>\n",
              "      <td>0.534341</td>\n",
              "      <td>0.285007</td>\n",
              "      <td>0.561251</td>\n",
              "      <td>0.549156</td>\n",
              "      <td>0.325218</td>\n",
              "      <td>0.748813</td>\n",
              "      <td>-2.603982e-06</td>\n",
              "      <td>22.892093</td>\n",
              "      <td>-0.015104</td>\n",
              "    </tr>\n",
              "  </tbody>\n",
              "</table>\n",
              "<p>5971 rows × 11 columns</p>\n",
              "</div>\n",
              "      <button class=\"colab-df-convert\" onclick=\"convertToInteractive('df-b527e15b-107c-42d6-b20f-4b7fa325e379')\"\n",
              "              title=\"Convert this dataframe to an interactive table.\"\n",
              "              style=\"display:none;\">\n",
              "        \n",
              "  <svg xmlns=\"http://www.w3.org/2000/svg\" height=\"24px\"viewBox=\"0 0 24 24\"\n",
              "       width=\"24px\">\n",
              "    <path d=\"M0 0h24v24H0V0z\" fill=\"none\"/>\n",
              "    <path d=\"M18.56 5.44l.94 2.06.94-2.06 2.06-.94-2.06-.94-.94-2.06-.94 2.06-2.06.94zm-11 1L8.5 8.5l.94-2.06 2.06-.94-2.06-.94L8.5 2.5l-.94 2.06-2.06.94zm10 10l.94 2.06.94-2.06 2.06-.94-2.06-.94-.94-2.06-.94 2.06-2.06.94z\"/><path d=\"M17.41 7.96l-1.37-1.37c-.4-.4-.92-.59-1.43-.59-.52 0-1.04.2-1.43.59L10.3 9.45l-7.72 7.72c-.78.78-.78 2.05 0 2.83L4 21.41c.39.39.9.59 1.41.59.51 0 1.02-.2 1.41-.59l7.78-7.78 2.81-2.81c.8-.78.8-2.07 0-2.86zM5.41 20L4 18.59l7.72-7.72 1.47 1.35L5.41 20z\"/>\n",
              "  </svg>\n",
              "      </button>\n",
              "      \n",
              "  <style>\n",
              "    .colab-df-container {\n",
              "      display:flex;\n",
              "      flex-wrap:wrap;\n",
              "      gap: 12px;\n",
              "    }\n",
              "\n",
              "    .colab-df-convert {\n",
              "      background-color: #E8F0FE;\n",
              "      border: none;\n",
              "      border-radius: 50%;\n",
              "      cursor: pointer;\n",
              "      display: none;\n",
              "      fill: #1967D2;\n",
              "      height: 32px;\n",
              "      padding: 0 0 0 0;\n",
              "      width: 32px;\n",
              "    }\n",
              "\n",
              "    .colab-df-convert:hover {\n",
              "      background-color: #E2EBFA;\n",
              "      box-shadow: 0px 1px 2px rgba(60, 64, 67, 0.3), 0px 1px 3px 1px rgba(60, 64, 67, 0.15);\n",
              "      fill: #174EA6;\n",
              "    }\n",
              "\n",
              "    [theme=dark] .colab-df-convert {\n",
              "      background-color: #3B4455;\n",
              "      fill: #D2E3FC;\n",
              "    }\n",
              "\n",
              "    [theme=dark] .colab-df-convert:hover {\n",
              "      background-color: #434B5C;\n",
              "      box-shadow: 0px 1px 3px 1px rgba(0, 0, 0, 0.15);\n",
              "      filter: drop-shadow(0px 1px 2px rgba(0, 0, 0, 0.3));\n",
              "      fill: #FFFFFF;\n",
              "    }\n",
              "  </style>\n",
              "\n",
              "      <script>\n",
              "        const buttonEl =\n",
              "          document.querySelector('#df-b527e15b-107c-42d6-b20f-4b7fa325e379 button.colab-df-convert');\n",
              "        buttonEl.style.display =\n",
              "          google.colab.kernel.accessAllowed ? 'block' : 'none';\n",
              "\n",
              "        async function convertToInteractive(key) {\n",
              "          const element = document.querySelector('#df-b527e15b-107c-42d6-b20f-4b7fa325e379');\n",
              "          const dataTable =\n",
              "            await google.colab.kernel.invokeFunction('convertToInteractive',\n",
              "                                                     [key], {});\n",
              "          if (!dataTable) return;\n",
              "\n",
              "          const docLinkHtml = 'Like what you see? Visit the ' +\n",
              "            '<a target=\"_blank\" href=https://colab.research.google.com/notebooks/data_table.ipynb>data table notebook</a>'\n",
              "            + ' to learn more about interactive tables.';\n",
              "          element.innerHTML = '';\n",
              "          dataTable['output_type'] = 'display_data';\n",
              "          await google.colab.output.renderOutput(dataTable, element);\n",
              "          const docLink = document.createElement('div');\n",
              "          docLink.innerHTML = docLinkHtml;\n",
              "          element.appendChild(docLink);\n",
              "        }\n",
              "      </script>\n",
              "    </div>\n",
              "  </div>\n",
              "  "
            ]
          },
          "metadata": {},
          "execution_count": 258
        }
      ],
      "id": "y9BdIBV4rre1"
    },
    {
      "cell_type": "code",
      "source": [
        "# Verificamos que no hayan quedado NaN\n",
        "all_labeled_curado[all_labeled_curado.isna().any(axis=1)]\n"
      ],
      "metadata": {
        "colab": {
          "base_uri": "https://localhost:8080/",
          "height": 49
        },
        "outputId": "b5f1875c-edb6-4313-8a45-7312d49f4c8d",
        "id": "3jt3m4Qxrre3"
      },
      "execution_count": null,
      "outputs": [
        {
          "output_type": "execute_result",
          "data": {
            "text/plain": [
              "Empty DataFrame\n",
              "Columns: [Patient, State, PE, SC, GNE, SE, LZC, STE, Mean, Std, Skew]\n",
              "Index: []"
            ],
            "text/html": [
              "\n",
              "  <div id=\"df-a512ab6c-1134-405f-8b4f-381f7d465af1\">\n",
              "    <div class=\"colab-df-container\">\n",
              "      <div>\n",
              "<style scoped>\n",
              "    .dataframe tbody tr th:only-of-type {\n",
              "        vertical-align: middle;\n",
              "    }\n",
              "\n",
              "    .dataframe tbody tr th {\n",
              "        vertical-align: top;\n",
              "    }\n",
              "\n",
              "    .dataframe thead th {\n",
              "        text-align: right;\n",
              "    }\n",
              "</style>\n",
              "<table border=\"1\" class=\"dataframe\">\n",
              "  <thead>\n",
              "    <tr style=\"text-align: right;\">\n",
              "      <th></th>\n",
              "      <th>Patient</th>\n",
              "      <th>State</th>\n",
              "      <th>PE</th>\n",
              "      <th>SC</th>\n",
              "      <th>GNE</th>\n",
              "      <th>SE</th>\n",
              "      <th>LZC</th>\n",
              "      <th>STE</th>\n",
              "      <th>Mean</th>\n",
              "      <th>Std</th>\n",
              "      <th>Skew</th>\n",
              "    </tr>\n",
              "  </thead>\n",
              "  <tbody>\n",
              "  </tbody>\n",
              "</table>\n",
              "</div>\n",
              "      <button class=\"colab-df-convert\" onclick=\"convertToInteractive('df-a512ab6c-1134-405f-8b4f-381f7d465af1')\"\n",
              "              title=\"Convert this dataframe to an interactive table.\"\n",
              "              style=\"display:none;\">\n",
              "        \n",
              "  <svg xmlns=\"http://www.w3.org/2000/svg\" height=\"24px\"viewBox=\"0 0 24 24\"\n",
              "       width=\"24px\">\n",
              "    <path d=\"M0 0h24v24H0V0z\" fill=\"none\"/>\n",
              "    <path d=\"M18.56 5.44l.94 2.06.94-2.06 2.06-.94-2.06-.94-.94-2.06-.94 2.06-2.06.94zm-11 1L8.5 8.5l.94-2.06 2.06-.94-2.06-.94L8.5 2.5l-.94 2.06-2.06.94zm10 10l.94 2.06.94-2.06 2.06-.94-2.06-.94-.94-2.06-.94 2.06-2.06.94z\"/><path d=\"M17.41 7.96l-1.37-1.37c-.4-.4-.92-.59-1.43-.59-.52 0-1.04.2-1.43.59L10.3 9.45l-7.72 7.72c-.78.78-.78 2.05 0 2.83L4 21.41c.39.39.9.59 1.41.59.51 0 1.02-.2 1.41-.59l7.78-7.78 2.81-2.81c.8-.78.8-2.07 0-2.86zM5.41 20L4 18.59l7.72-7.72 1.47 1.35L5.41 20z\"/>\n",
              "  </svg>\n",
              "      </button>\n",
              "      \n",
              "  <style>\n",
              "    .colab-df-container {\n",
              "      display:flex;\n",
              "      flex-wrap:wrap;\n",
              "      gap: 12px;\n",
              "    }\n",
              "\n",
              "    .colab-df-convert {\n",
              "      background-color: #E8F0FE;\n",
              "      border: none;\n",
              "      border-radius: 50%;\n",
              "      cursor: pointer;\n",
              "      display: none;\n",
              "      fill: #1967D2;\n",
              "      height: 32px;\n",
              "      padding: 0 0 0 0;\n",
              "      width: 32px;\n",
              "    }\n",
              "\n",
              "    .colab-df-convert:hover {\n",
              "      background-color: #E2EBFA;\n",
              "      box-shadow: 0px 1px 2px rgba(60, 64, 67, 0.3), 0px 1px 3px 1px rgba(60, 64, 67, 0.15);\n",
              "      fill: #174EA6;\n",
              "    }\n",
              "\n",
              "    [theme=dark] .colab-df-convert {\n",
              "      background-color: #3B4455;\n",
              "      fill: #D2E3FC;\n",
              "    }\n",
              "\n",
              "    [theme=dark] .colab-df-convert:hover {\n",
              "      background-color: #434B5C;\n",
              "      box-shadow: 0px 1px 3px 1px rgba(0, 0, 0, 0.15);\n",
              "      filter: drop-shadow(0px 1px 2px rgba(0, 0, 0, 0.3));\n",
              "      fill: #FFFFFF;\n",
              "    }\n",
              "  </style>\n",
              "\n",
              "      <script>\n",
              "        const buttonEl =\n",
              "          document.querySelector('#df-a512ab6c-1134-405f-8b4f-381f7d465af1 button.colab-df-convert');\n",
              "        buttonEl.style.display =\n",
              "          google.colab.kernel.accessAllowed ? 'block' : 'none';\n",
              "\n",
              "        async function convertToInteractive(key) {\n",
              "          const element = document.querySelector('#df-a512ab6c-1134-405f-8b4f-381f7d465af1');\n",
              "          const dataTable =\n",
              "            await google.colab.kernel.invokeFunction('convertToInteractive',\n",
              "                                                     [key], {});\n",
              "          if (!dataTable) return;\n",
              "\n",
              "          const docLinkHtml = 'Like what you see? Visit the ' +\n",
              "            '<a target=\"_blank\" href=https://colab.research.google.com/notebooks/data_table.ipynb>data table notebook</a>'\n",
              "            + ' to learn more about interactive tables.';\n",
              "          element.innerHTML = '';\n",
              "          dataTable['output_type'] = 'display_data';\n",
              "          await google.colab.output.renderOutput(dataTable, element);\n",
              "          const docLink = document.createElement('div');\n",
              "          docLink.innerHTML = docLinkHtml;\n",
              "          element.appendChild(docLink);\n",
              "        }\n",
              "      </script>\n",
              "    </div>\n",
              "  </div>\n",
              "  "
            ]
          },
          "metadata": {},
          "execution_count": 259
        }
      ],
      "id": "3jt3m4Qxrre3"
    },
    {
      "cell_type": "code",
      "source": [
        "all_labeled_curado.shape"
      ],
      "metadata": {
        "colab": {
          "base_uri": "https://localhost:8080/"
        },
        "outputId": "a89c15b4-5c20-4a66-db7f-6b0180ef5a82",
        "id": "-QJ5-LASrre4"
      },
      "execution_count": null,
      "outputs": [
        {
          "output_type": "execute_result",
          "data": {
            "text/plain": [
              "(5971, 11)"
            ]
          },
          "metadata": {},
          "execution_count": 260
        }
      ],
      "id": "-QJ5-LASrre4"
    },
    {
      "cell_type": "markdown",
      "source": [
        "### Análisis de Outliers"
      ],
      "metadata": {
        "id": "0N6Bc3ADrre4"
      },
      "id": "0N6Bc3ADrre4"
    },
    {
      "cell_type": "code",
      "source": [
        "all_labeled_curado.columns"
      ],
      "metadata": {
        "colab": {
          "base_uri": "https://localhost:8080/"
        },
        "outputId": "40e5db30-18d7-467d-b972-542a7df8ca8e",
        "id": "qws390vnrre5"
      },
      "execution_count": null,
      "outputs": [
        {
          "output_type": "execute_result",
          "data": {
            "text/plain": [
              "Index(['Patient', 'State', 'PE', 'SC', 'GNE', 'SE', 'LZC', 'STE', 'Mean',\n",
              "       'Std', 'Skew'],\n",
              "      dtype='object')"
            ]
          },
          "metadata": {},
          "execution_count": 261
        }
      ],
      "id": "qws390vnrre5"
    },
    {
      "cell_type": "code",
      "source": [
        "all_labeled_curado_filtered = filter_outliers(all_labeled_curado, quantifiers, 0.02)"
      ],
      "metadata": {
        "id": "CLCM09z7rre6"
      },
      "execution_count": null,
      "outputs": [],
      "id": "CLCM09z7rre6"
    },
    {
      "cell_type": "code",
      "source": [
        "all_labeled_curado_filtered"
      ],
      "metadata": {
        "colab": {
          "base_uri": "https://localhost:8080/",
          "height": 424
        },
        "outputId": "0eca5acc-3b9d-4b3b-b566-900a8eb6ebd9",
        "id": "UPUIG6cyrre6"
      },
      "execution_count": null,
      "outputs": [
        {
          "output_type": "execute_result",
          "data": {
            "text/plain": [
              "      Patient  State        PE        SC       GNE        SE       LZC  \\\n",
              "1         1.0    0.0  0.541613  0.283209  0.570060  0.413078  0.195333   \n",
              "2         1.0    0.0  0.543293  0.283316  0.572859  0.418008  0.199974   \n",
              "4         1.0    0.0  0.436980  0.272283  0.398864  0.412815  0.116037   \n",
              "5         1.0    0.0  0.470491  0.272987  0.471743  0.410658  0.153933   \n",
              "6         1.0    0.0  0.547944  0.283322  0.580141  0.409451  0.192583   \n",
              "...       ...    ...       ...       ...       ...       ...       ...   \n",
              "5965      3.0    0.0  0.538936  0.284054  0.567047  0.490957  0.270738   \n",
              "5966      3.0    0.0  0.448407  0.274937  0.418891  0.460836  0.176777   \n",
              "5967      3.0    0.0  0.519529  0.283694  0.537028  0.522160  0.294764   \n",
              "5969      3.0    0.0  0.506230  0.281294  0.513469  0.417632  0.203651   \n",
              "5970      3.0    1.0  0.534341  0.285007  0.561251  0.549156  0.325218   \n",
              "\n",
              "           STE          Mean        Std      Skew  \n",
              "1     0.752879  2.075434e-05  48.467869 -0.031036  \n",
              "2     0.754335  5.322688e-06  46.771531 -0.077559  \n",
              "4     0.668147 -5.555946e-07  41.749673 -0.087401  \n",
              "5     0.670242  1.195139e-05  40.564267 -0.070704  \n",
              "6     0.758125  8.023621e-06  49.719216 -0.070339  \n",
              "...        ...           ...        ...       ...  \n",
              "5965  0.751444  8.332202e-06  34.746833  0.004379  \n",
              "5966  0.677723 -1.282332e-05  42.577215 -0.120935  \n",
              "5967  0.736046  8.581803e-06  27.410843 -0.009101  \n",
              "5969  0.724019 -2.262278e-06  38.568322  0.005107  \n",
              "5970  0.748813 -2.603982e-06  22.892093 -0.015104  \n",
              "\n",
              "[4787 rows x 11 columns]"
            ],
            "text/html": [
              "\n",
              "  <div id=\"df-fa2a48a9-640d-445c-b7d7-59d5335f70c3\">\n",
              "    <div class=\"colab-df-container\">\n",
              "      <div>\n",
              "<style scoped>\n",
              "    .dataframe tbody tr th:only-of-type {\n",
              "        vertical-align: middle;\n",
              "    }\n",
              "\n",
              "    .dataframe tbody tr th {\n",
              "        vertical-align: top;\n",
              "    }\n",
              "\n",
              "    .dataframe thead th {\n",
              "        text-align: right;\n",
              "    }\n",
              "</style>\n",
              "<table border=\"1\" class=\"dataframe\">\n",
              "  <thead>\n",
              "    <tr style=\"text-align: right;\">\n",
              "      <th></th>\n",
              "      <th>Patient</th>\n",
              "      <th>State</th>\n",
              "      <th>PE</th>\n",
              "      <th>SC</th>\n",
              "      <th>GNE</th>\n",
              "      <th>SE</th>\n",
              "      <th>LZC</th>\n",
              "      <th>STE</th>\n",
              "      <th>Mean</th>\n",
              "      <th>Std</th>\n",
              "      <th>Skew</th>\n",
              "    </tr>\n",
              "  </thead>\n",
              "  <tbody>\n",
              "    <tr>\n",
              "      <th>1</th>\n",
              "      <td>1.0</td>\n",
              "      <td>0.0</td>\n",
              "      <td>0.541613</td>\n",
              "      <td>0.283209</td>\n",
              "      <td>0.570060</td>\n",
              "      <td>0.413078</td>\n",
              "      <td>0.195333</td>\n",
              "      <td>0.752879</td>\n",
              "      <td>2.075434e-05</td>\n",
              "      <td>48.467869</td>\n",
              "      <td>-0.031036</td>\n",
              "    </tr>\n",
              "    <tr>\n",
              "      <th>2</th>\n",
              "      <td>1.0</td>\n",
              "      <td>0.0</td>\n",
              "      <td>0.543293</td>\n",
              "      <td>0.283316</td>\n",
              "      <td>0.572859</td>\n",
              "      <td>0.418008</td>\n",
              "      <td>0.199974</td>\n",
              "      <td>0.754335</td>\n",
              "      <td>5.322688e-06</td>\n",
              "      <td>46.771531</td>\n",
              "      <td>-0.077559</td>\n",
              "    </tr>\n",
              "    <tr>\n",
              "      <th>4</th>\n",
              "      <td>1.0</td>\n",
              "      <td>0.0</td>\n",
              "      <td>0.436980</td>\n",
              "      <td>0.272283</td>\n",
              "      <td>0.398864</td>\n",
              "      <td>0.412815</td>\n",
              "      <td>0.116037</td>\n",
              "      <td>0.668147</td>\n",
              "      <td>-5.555946e-07</td>\n",
              "      <td>41.749673</td>\n",
              "      <td>-0.087401</td>\n",
              "    </tr>\n",
              "    <tr>\n",
              "      <th>5</th>\n",
              "      <td>1.0</td>\n",
              "      <td>0.0</td>\n",
              "      <td>0.470491</td>\n",
              "      <td>0.272987</td>\n",
              "      <td>0.471743</td>\n",
              "      <td>0.410658</td>\n",
              "      <td>0.153933</td>\n",
              "      <td>0.670242</td>\n",
              "      <td>1.195139e-05</td>\n",
              "      <td>40.564267</td>\n",
              "      <td>-0.070704</td>\n",
              "    </tr>\n",
              "    <tr>\n",
              "      <th>6</th>\n",
              "      <td>1.0</td>\n",
              "      <td>0.0</td>\n",
              "      <td>0.547944</td>\n",
              "      <td>0.283322</td>\n",
              "      <td>0.580141</td>\n",
              "      <td>0.409451</td>\n",
              "      <td>0.192583</td>\n",
              "      <td>0.758125</td>\n",
              "      <td>8.023621e-06</td>\n",
              "      <td>49.719216</td>\n",
              "      <td>-0.070339</td>\n",
              "    </tr>\n",
              "    <tr>\n",
              "      <th>...</th>\n",
              "      <td>...</td>\n",
              "      <td>...</td>\n",
              "      <td>...</td>\n",
              "      <td>...</td>\n",
              "      <td>...</td>\n",
              "      <td>...</td>\n",
              "      <td>...</td>\n",
              "      <td>...</td>\n",
              "      <td>...</td>\n",
              "      <td>...</td>\n",
              "      <td>...</td>\n",
              "    </tr>\n",
              "    <tr>\n",
              "      <th>5965</th>\n",
              "      <td>3.0</td>\n",
              "      <td>0.0</td>\n",
              "      <td>0.538936</td>\n",
              "      <td>0.284054</td>\n",
              "      <td>0.567047</td>\n",
              "      <td>0.490957</td>\n",
              "      <td>0.270738</td>\n",
              "      <td>0.751444</td>\n",
              "      <td>8.332202e-06</td>\n",
              "      <td>34.746833</td>\n",
              "      <td>0.004379</td>\n",
              "    </tr>\n",
              "    <tr>\n",
              "      <th>5966</th>\n",
              "      <td>3.0</td>\n",
              "      <td>0.0</td>\n",
              "      <td>0.448407</td>\n",
              "      <td>0.274937</td>\n",
              "      <td>0.418891</td>\n",
              "      <td>0.460836</td>\n",
              "      <td>0.176777</td>\n",
              "      <td>0.677723</td>\n",
              "      <td>-1.282332e-05</td>\n",
              "      <td>42.577215</td>\n",
              "      <td>-0.120935</td>\n",
              "    </tr>\n",
              "    <tr>\n",
              "      <th>5967</th>\n",
              "      <td>3.0</td>\n",
              "      <td>0.0</td>\n",
              "      <td>0.519529</td>\n",
              "      <td>0.283694</td>\n",
              "      <td>0.537028</td>\n",
              "      <td>0.522160</td>\n",
              "      <td>0.294764</td>\n",
              "      <td>0.736046</td>\n",
              "      <td>8.581803e-06</td>\n",
              "      <td>27.410843</td>\n",
              "      <td>-0.009101</td>\n",
              "    </tr>\n",
              "    <tr>\n",
              "      <th>5969</th>\n",
              "      <td>3.0</td>\n",
              "      <td>0.0</td>\n",
              "      <td>0.506230</td>\n",
              "      <td>0.281294</td>\n",
              "      <td>0.513469</td>\n",
              "      <td>0.417632</td>\n",
              "      <td>0.203651</td>\n",
              "      <td>0.724019</td>\n",
              "      <td>-2.262278e-06</td>\n",
              "      <td>38.568322</td>\n",
              "      <td>0.005107</td>\n",
              "    </tr>\n",
              "    <tr>\n",
              "      <th>5970</th>\n",
              "      <td>3.0</td>\n",
              "      <td>1.0</td>\n",
              "      <td>0.534341</td>\n",
              "      <td>0.285007</td>\n",
              "      <td>0.561251</td>\n",
              "      <td>0.549156</td>\n",
              "      <td>0.325218</td>\n",
              "      <td>0.748813</td>\n",
              "      <td>-2.603982e-06</td>\n",
              "      <td>22.892093</td>\n",
              "      <td>-0.015104</td>\n",
              "    </tr>\n",
              "  </tbody>\n",
              "</table>\n",
              "<p>4787 rows × 11 columns</p>\n",
              "</div>\n",
              "      <button class=\"colab-df-convert\" onclick=\"convertToInteractive('df-fa2a48a9-640d-445c-b7d7-59d5335f70c3')\"\n",
              "              title=\"Convert this dataframe to an interactive table.\"\n",
              "              style=\"display:none;\">\n",
              "        \n",
              "  <svg xmlns=\"http://www.w3.org/2000/svg\" height=\"24px\"viewBox=\"0 0 24 24\"\n",
              "       width=\"24px\">\n",
              "    <path d=\"M0 0h24v24H0V0z\" fill=\"none\"/>\n",
              "    <path d=\"M18.56 5.44l.94 2.06.94-2.06 2.06-.94-2.06-.94-.94-2.06-.94 2.06-2.06.94zm-11 1L8.5 8.5l.94-2.06 2.06-.94-2.06-.94L8.5 2.5l-.94 2.06-2.06.94zm10 10l.94 2.06.94-2.06 2.06-.94-2.06-.94-.94-2.06-.94 2.06-2.06.94z\"/><path d=\"M17.41 7.96l-1.37-1.37c-.4-.4-.92-.59-1.43-.59-.52 0-1.04.2-1.43.59L10.3 9.45l-7.72 7.72c-.78.78-.78 2.05 0 2.83L4 21.41c.39.39.9.59 1.41.59.51 0 1.02-.2 1.41-.59l7.78-7.78 2.81-2.81c.8-.78.8-2.07 0-2.86zM5.41 20L4 18.59l7.72-7.72 1.47 1.35L5.41 20z\"/>\n",
              "  </svg>\n",
              "      </button>\n",
              "      \n",
              "  <style>\n",
              "    .colab-df-container {\n",
              "      display:flex;\n",
              "      flex-wrap:wrap;\n",
              "      gap: 12px;\n",
              "    }\n",
              "\n",
              "    .colab-df-convert {\n",
              "      background-color: #E8F0FE;\n",
              "      border: none;\n",
              "      border-radius: 50%;\n",
              "      cursor: pointer;\n",
              "      display: none;\n",
              "      fill: #1967D2;\n",
              "      height: 32px;\n",
              "      padding: 0 0 0 0;\n",
              "      width: 32px;\n",
              "    }\n",
              "\n",
              "    .colab-df-convert:hover {\n",
              "      background-color: #E2EBFA;\n",
              "      box-shadow: 0px 1px 2px rgba(60, 64, 67, 0.3), 0px 1px 3px 1px rgba(60, 64, 67, 0.15);\n",
              "      fill: #174EA6;\n",
              "    }\n",
              "\n",
              "    [theme=dark] .colab-df-convert {\n",
              "      background-color: #3B4455;\n",
              "      fill: #D2E3FC;\n",
              "    }\n",
              "\n",
              "    [theme=dark] .colab-df-convert:hover {\n",
              "      background-color: #434B5C;\n",
              "      box-shadow: 0px 1px 3px 1px rgba(0, 0, 0, 0.15);\n",
              "      filter: drop-shadow(0px 1px 2px rgba(0, 0, 0, 0.3));\n",
              "      fill: #FFFFFF;\n",
              "    }\n",
              "  </style>\n",
              "\n",
              "      <script>\n",
              "        const buttonEl =\n",
              "          document.querySelector('#df-fa2a48a9-640d-445c-b7d7-59d5335f70c3 button.colab-df-convert');\n",
              "        buttonEl.style.display =\n",
              "          google.colab.kernel.accessAllowed ? 'block' : 'none';\n",
              "\n",
              "        async function convertToInteractive(key) {\n",
              "          const element = document.querySelector('#df-fa2a48a9-640d-445c-b7d7-59d5335f70c3');\n",
              "          const dataTable =\n",
              "            await google.colab.kernel.invokeFunction('convertToInteractive',\n",
              "                                                     [key], {});\n",
              "          if (!dataTable) return;\n",
              "\n",
              "          const docLinkHtml = 'Like what you see? Visit the ' +\n",
              "            '<a target=\"_blank\" href=https://colab.research.google.com/notebooks/data_table.ipynb>data table notebook</a>'\n",
              "            + ' to learn more about interactive tables.';\n",
              "          element.innerHTML = '';\n",
              "          dataTable['output_type'] = 'display_data';\n",
              "          await google.colab.output.renderOutput(dataTable, element);\n",
              "          const docLink = document.createElement('div');\n",
              "          docLink.innerHTML = docLinkHtml;\n",
              "          element.appendChild(docLink);\n",
              "        }\n",
              "      </script>\n",
              "    </div>\n",
              "  </div>\n",
              "  "
            ]
          },
          "metadata": {},
          "execution_count": 263
        }
      ],
      "id": "UPUIG6cyrre6"
    },
    {
      "cell_type": "code",
      "source": [
        "plt.figure(figsize=(15,10))\n",
        "pos = 1\n",
        "for i in quantifiers:\n",
        "    plt.subplot(3, 4, pos)\n",
        "    sns.boxplot(all_labeled_curado[i])\n",
        "    pos += 1"
      ],
      "metadata": {
        "colab": {
          "base_uri": "https://localhost:8080/",
          "height": 970
        },
        "outputId": "3d0d84ee-f907-4223-f229-b92adb93275f",
        "id": "Nn8NC2F9rre6"
      },
      "execution_count": null,
      "outputs": [
        {
          "output_type": "stream",
          "name": "stderr",
          "text": [
            "/usr/local/lib/python3.7/dist-packages/seaborn/_decorators.py:43: FutureWarning: Pass the following variable as a keyword arg: x. From version 0.12, the only valid positional argument will be `data`, and passing other arguments without an explicit keyword will result in an error or misinterpretation.\n",
            "  FutureWarning\n",
            "/usr/local/lib/python3.7/dist-packages/seaborn/_decorators.py:43: FutureWarning: Pass the following variable as a keyword arg: x. From version 0.12, the only valid positional argument will be `data`, and passing other arguments without an explicit keyword will result in an error or misinterpretation.\n",
            "  FutureWarning\n",
            "/usr/local/lib/python3.7/dist-packages/seaborn/_decorators.py:43: FutureWarning: Pass the following variable as a keyword arg: x. From version 0.12, the only valid positional argument will be `data`, and passing other arguments without an explicit keyword will result in an error or misinterpretation.\n",
            "  FutureWarning\n",
            "/usr/local/lib/python3.7/dist-packages/seaborn/_decorators.py:43: FutureWarning: Pass the following variable as a keyword arg: x. From version 0.12, the only valid positional argument will be `data`, and passing other arguments without an explicit keyword will result in an error or misinterpretation.\n",
            "  FutureWarning\n",
            "/usr/local/lib/python3.7/dist-packages/seaborn/_decorators.py:43: FutureWarning: Pass the following variable as a keyword arg: x. From version 0.12, the only valid positional argument will be `data`, and passing other arguments without an explicit keyword will result in an error or misinterpretation.\n",
            "  FutureWarning\n",
            "/usr/local/lib/python3.7/dist-packages/seaborn/_decorators.py:43: FutureWarning: Pass the following variable as a keyword arg: x. From version 0.12, the only valid positional argument will be `data`, and passing other arguments without an explicit keyword will result in an error or misinterpretation.\n",
            "  FutureWarning\n",
            "/usr/local/lib/python3.7/dist-packages/seaborn/_decorators.py:43: FutureWarning: Pass the following variable as a keyword arg: x. From version 0.12, the only valid positional argument will be `data`, and passing other arguments without an explicit keyword will result in an error or misinterpretation.\n",
            "  FutureWarning\n",
            "/usr/local/lib/python3.7/dist-packages/seaborn/_decorators.py:43: FutureWarning: Pass the following variable as a keyword arg: x. From version 0.12, the only valid positional argument will be `data`, and passing other arguments without an explicit keyword will result in an error or misinterpretation.\n",
            "  FutureWarning\n",
            "/usr/local/lib/python3.7/dist-packages/seaborn/_decorators.py:43: FutureWarning: Pass the following variable as a keyword arg: x. From version 0.12, the only valid positional argument will be `data`, and passing other arguments without an explicit keyword will result in an error or misinterpretation.\n",
            "  FutureWarning\n"
          ]
        },
        {
          "output_type": "display_data",
          "data": {
            "text/plain": [
              "<Figure size 1080x720 with 9 Axes>"
            ],
            "image/png": "[encoded data removed]"
          },
          "metadata": {
            "needs_background": "light"
          }
        }
      ],
      "id": "Nn8NC2F9rre6"
    },
    {
      "cell_type": "code",
      "source": [
        "plt.figure(figsize=(15,10))\n",
        "pos = 1\n",
        "for i in quantifiers:\n",
        "    plt.subplot(3, 4, pos)\n",
        "    sns.boxplot(all_labeled_curado_filtered[i])\n",
        "    pos += 1"
      ],
      "metadata": {
        "colab": {
          "base_uri": "https://localhost:8080/",
          "height": 970
        },
        "outputId": "c5367dba-bd07-4550-d5a1-22631a3c9ad3",
        "id": "3VJNpWqfrre7"
      },
      "execution_count": null,
      "outputs": [
        {
          "output_type": "stream",
          "name": "stderr",
          "text": [
            "/usr/local/lib/python3.7/dist-packages/seaborn/_decorators.py:43: FutureWarning: Pass the following variable as a keyword arg: x. From version 0.12, the only valid positional argument will be `data`, and passing other arguments without an explicit keyword will result in an error or misinterpretation.\n",
            "  FutureWarning\n",
            "/usr/local/lib/python3.7/dist-packages/seaborn/_decorators.py:43: FutureWarning: Pass the following variable as a keyword arg: x. From version 0.12, the only valid positional argument will be `data`, and passing other arguments without an explicit keyword will result in an error or misinterpretation.\n",
            "  FutureWarning\n",
            "/usr/local/lib/python3.7/dist-packages/seaborn/_decorators.py:43: FutureWarning: Pass the following variable as a keyword arg: x. From version 0.12, the only valid positional argument will be `data`, and passing other arguments without an explicit keyword will result in an error or misinterpretation.\n",
            "  FutureWarning\n",
            "/usr/local/lib/python3.7/dist-packages/seaborn/_decorators.py:43: FutureWarning: Pass the following variable as a keyword arg: x. From version 0.12, the only valid positional argument will be `data`, and passing other arguments without an explicit keyword will result in an error or misinterpretation.\n",
            "  FutureWarning\n",
            "/usr/local/lib/python3.7/dist-packages/seaborn/_decorators.py:43: FutureWarning: Pass the following variable as a keyword arg: x. From version 0.12, the only valid positional argument will be `data`, and passing other arguments without an explicit keyword will result in an error or misinterpretation.\n",
            "  FutureWarning\n",
            "/usr/local/lib/python3.7/dist-packages/seaborn/_decorators.py:43: FutureWarning: Pass the following variable as a keyword arg: x. From version 0.12, the only valid positional argument will be `data`, and passing other arguments without an explicit keyword will result in an error or misinterpretation.\n",
            "  FutureWarning\n",
            "/usr/local/lib/python3.7/dist-packages/seaborn/_decorators.py:43: FutureWarning: Pass the following variable as a keyword arg: x. From version 0.12, the only valid positional argument will be `data`, and passing other arguments without an explicit keyword will result in an error or misinterpretation.\n",
            "  FutureWarning\n",
            "/usr/local/lib/python3.7/dist-packages/seaborn/_decorators.py:43: FutureWarning: Pass the following variable as a keyword arg: x. From version 0.12, the only valid positional argument will be `data`, and passing other arguments without an explicit keyword will result in an error or misinterpretation.\n",
            "  FutureWarning\n",
            "/usr/local/lib/python3.7/dist-packages/seaborn/_decorators.py:43: FutureWarning: Pass the following variable as a keyword arg: x. From version 0.12, the only valid positional argument will be `data`, and passing other arguments without an explicit keyword will result in an error or misinterpretation.\n",
            "  FutureWarning\n"
          ]
        },
        {
          "output_type": "display_data",
          "data": {
            "text/plain": [
              "<Figure size 1080x720 with 9 Axes>"
            ],
            "image/png": "[encoded data removed]"
          },
          "metadata": {
            "needs_background": "light"
          }
        }
      ],
      "id": "3VJNpWqfrre7"
    },
    {
      "cell_type": "code",
      "source": [
        "Q_registros_3p = 4787/5971"
      ],
      "metadata": {
        "id": "iPBGepc6G_en"
      },
      "id": "iPBGepc6G_en",
      "execution_count": null,
      "outputs": []
    },
    {
      "cell_type": "code",
      "source": [
        "Q_registros_3p"
      ],
      "metadata": {
        "colab": {
          "base_uri": "https://localhost:8080/"
        },
        "id": "Do3uWfVqHSmx",
        "outputId": "d67b4754-5f8b-4983-f364-206e22efee42"
      },
      "id": "Do3uWfVqHSmx",
      "execution_count": null,
      "outputs": [
        {
          "output_type": "execute_result",
          "data": {
            "text/plain": [
              "0.8017082565734382"
            ]
          },
          "metadata": {},
          "execution_count": 267
        }
      ]
    },
    {
      "cell_type": "markdown",
      "source": [
        "# Conclusión primera parte\n",
        "De acuerdo a varias pruebas que fuimos haciendo sobre los datasets, nos quedamos con los datos dentro del quantil 98 en todos los casos. Hicimos visualizaciones de cada uno de los datasets trabajados. En todos los casos se observa una mejora en la distribución, pero específicamente en los pacientes 1 y 2 la eliminación de los outliers mejora visiblemente la distribución en los cuantificadores Mean, Std y Skew y en el Paciente 3 en todos los cuantificadores. <br>\n"
      ],
      "metadata": {
        "id": "Wxcqjrz-Dk5s"
      },
      "id": "Wxcqjrz-Dk5s"
    },
    {
      "cell_type": "markdown",
      "id": "988f1ffd-d190-475f-a3b2-9eb8d56d8a0a",
      "metadata": {
        "id": "988f1ffd-d190-475f-a3b2-9eb8d56d8a0a"
      },
      "source": [
        "# Segunda parte: Estudio de clasificadores\n",
        "\n",
        "#### Consigna: instanciar un modelo inicial que se usará como base para comparar con otros modelos. Usar un modelo lineal (ver archivo de ejemplo)\n",
        "\n",
        "El modelo base es una primera aproximación. No necesariamente estamos en busqueda de ajustar hiperparametros para incrementar unas decimas el F1-Score, sino que mas bien queremos conocer la performance del modelo en su ajuste mas basico. De esa manera cuando comencemos a ajustar mas y usar otros modelos no lineales, sabemos que no deberiamos tener algo peor al base. \n",
        "\n",
        "---\n",
        "#### Consigna: Elegir y justificar un modelo para seleccion de features\n",
        "\n",
        "Ya se vió que puede existir cierta correlación entre algunas de nuestras features. Para asegurar la efectividad del dataset, vamos a usar algun modelo que prediga cuales son los mejores features.\n",
        "\n",
        "Fuente: https://towardsdatascience.com/feature-selection-using-logistic-regression-model-efc949569f58\n",
        "\n",
        "---\n",
        "#### Consigna: Estudien, prueben, y diagnostiquen distintos clasificadores sobre nuestros set de datos. \n",
        "\n",
        "Prueben el dataset etiquetado separando por paciente y con el dataset completo (sin la columna de paciente). Por cada modelo: \n",
        "\n",
        "- Aplicar un selector de features\n",
        "- Estudiar que los hiperparametros se ajusten a nuestro dataset. \n",
        "- Refinar la busqueda de hiperparametros usando gridsearchCV o RandomSearchCV (recuerden que mucho antes de los hiperparametros, son los features los que mas determinan la efectividad del modelo). \n",
        "\n",
        "\n",
        "Modelos propuestos (no limitarse a):\n",
        "\n",
        "- Lineal (modelo base): LogisticRegression, SGDClassifier. _Fuente: https://scikit-learn.org/stable/modules/classes.html#module-sklearn.linear_model_\n",
        "- SVM: SVC, NuSVC, LinearSVC. _Fuente: https://scikit-learn.org/stable/modules/svm.html_\n",
        "- Ensemble:  BaggingClassifier, KNeighborsClassifier, RandomForestClassifier. _Fuente: https://scikit-learn.org/stable/modules/ensemble.html_\n",
        "- Opcional:\n",
        "    - Deep Learning: Keras Sequential (ver ejemplo)\n",
        "\n",
        "\n",
        "Por cada modelo usado deberia haber algun analisis sobre los hiperparametros que mejor se acomodan a nuestro dataset. No es necesario que se limiten a la lista propuesta de metodos. Pero deberia haber como minimo un modelo base, dos de SVM y dos de Ensemble. Pueden opcionalmente usar el VotingClassifier para combinar los resultados de los clasificadores usados en un modelo nuevo\n",
        "\n",
        "#### Consigna: Armar una grilla de resultados (ver archivo de ejemplo) y realizar conclusiones.\n",
        "\n",
        "Nota: Recuerden que las conclusiones no son unicamente acerca de cual es el mejor modelo. Cada modelo que instancian sufre una serie de modificaciones que pueden devenir de la teoria o mas bien de la prueba y el error. El resgistro del analisis sobre el desempeño de los modelos nos va a permitir evaluarlos y ubicarlos en el contexto de nuestro dataset particular.\n"
      ]
    },
    {
      "cell_type": "markdown",
      "source": [
        "# Paciente 1\n",
        "\n"
      ],
      "metadata": {
        "id": "L1-q77PQusIz"
      },
      "id": "L1-q77PQusIz"
    },
    {
      "cell_type": "markdown",
      "source": [
        "## 1) LogisticRegression"
      ],
      "metadata": {
        "id": "IXz8fpDHfejF"
      },
      "id": "IXz8fpDHfejF"
    },
    {
      "cell_type": "markdown",
      "source": [
        "### Etiquetas desbalanceadas"
      ],
      "metadata": {
        "id": "1R-DoyCkgAg7"
      },
      "id": "1R-DoyCkgAg7"
    },
    {
      "cell_type": "code",
      "source": [
        "from sklearn.preprocessing import MinMaxScaler\n",
        "from sklearn.feature_selection import SelectFromModel\n",
        "from sklearn.linear_model import LogisticRegression\n",
        "from sklearn.model_selection import train_test_split\n",
        "from sklearn.pipeline import Pipeline\n",
        "from sklearn.metrics import classification_report"
      ],
      "metadata": {
        "id": "y5SWdHKqweYi"
      },
      "id": "y5SWdHKqweYi",
      "execution_count": null,
      "outputs": []
    },
    {
      "cell_type": "code",
      "source": [
        "X_P1 = eti_1_clean.drop(labels=['State','Patient'], axis=1)\n",
        "y_P1 = eti_1_clean['State']"
      ],
      "metadata": {
        "id": "I3szMxwzyq8x"
      },
      "id": "I3szMxwzyq8x",
      "execution_count": null,
      "outputs": []
    },
    {
      "cell_type": "code",
      "source": [
        "# Train and validation\n",
        "X_P1_train, X_P1_val, y_P1_train, y_P1_val = train_test_split(X_P1, y_P1, test_size=0.30, random_state=0, shuffle=True)"
      ],
      "metadata": {
        "id": "x_VwPv2byGl5"
      },
      "id": "x_VwPv2byGl5",
      "execution_count": null,
      "outputs": []
    },
    {
      "cell_type": "code",
      "source": [
        "scaler = MinMaxScaler()\n",
        "ft_selector = LogisticRegression(random_state=0, penalty='l1', solver='liblinear')\n",
        "param_grid = {\n",
        "    'classifier__penalty': ['l1', 'l2'],\n",
        "    'classifier__random_state': [0],\n",
        "    'classifier__solver': ['liblinear'],\n",
        "    'classifier__class_weight': ['balanced']\n",
        "}\n",
        "model1 = LogisticRegression(random_state= 0)"
      ],
      "metadata": {
        "id": "AggBnzhoxExr"
      },
      "id": "AggBnzhoxExr",
      "execution_count": null,
      "outputs": []
    },
    {
      "cell_type": "code",
      "source": [
        "#ft_selector = LogisticRegression(random_state=0, penalty='l1', solver='liblinear')\n",
        "#ft_selector.fit(X_P1_train, y_P1_train)\n",
        "#coef = ft_selector.coef_[0]\n",
        "#coef"
      ],
      "metadata": {
        "id": "IxxG_KYUoyLL"
      },
      "id": "IxxG_KYUoyLL",
      "execution_count": null,
      "outputs": []
    },
    {
      "cell_type": "code",
      "source": [
        "#X_P1"
      ],
      "metadata": {
        "id": "4E_wAPUYpuZu"
      },
      "id": "4E_wAPUYpuZu",
      "execution_count": null,
      "outputs": []
    },
    {
      "cell_type": "code",
      "source": [
        "# Fit\n",
        "pipe = Pipeline([\n",
        "  ('scaler', scaler),\n",
        "  #('feature_selection', SelectFromModel(ft_selector)),\n",
        "  ('classifier', model1)\n",
        "])\n",
        "\n",
        "#model = GridSearchCV(pipe, param_grid, scoring='neg_mean_squared_error',cv=5)\n",
        "\n",
        "pipe.fit(X_P1_train, y_P1_train)\n",
        "#svr_cv = model"
      ],
      "metadata": {
        "colab": {
          "base_uri": "https://localhost:8080/"
        },
        "id": "Jc7J6zfFxMy4",
        "outputId": "6921dbc3-70be-4a09-d29c-7b339d3da56b"
      },
      "id": "Jc7J6zfFxMy4",
      "execution_count": null,
      "outputs": [
        {
          "output_type": "execute_result",
          "data": {
            "text/plain": [
              "Pipeline(steps=[('scaler', MinMaxScaler()),\n",
              "                ('classifier', LogisticRegression(random_state=0))])"
            ]
          },
          "metadata": {},
          "execution_count": 274
        }
      ]
    },
    {
      "cell_type": "code",
      "source": [
        "pipe.score(X_P1_val, y_P1_val)"
      ],
      "metadata": {
        "colab": {
          "base_uri": "https://localhost:8080/"
        },
        "id": "WsqyDdhWziR_",
        "outputId": "128af2b4-26d3-4b94-f412-7fecf37e4707"
      },
      "id": "WsqyDdhWziR_",
      "execution_count": null,
      "outputs": [
        {
          "output_type": "execute_result",
          "data": {
            "text/plain": [
              "0.9038461538461539"
            ]
          },
          "metadata": {},
          "execution_count": 275
        }
      ]
    },
    {
      "cell_type": "code",
      "source": [
        "\n",
        "# Utilizamos el modelo entrenado para predecir las etiquetas utilizando los datos de entrenamiento y de test\n",
        "y_P1_train_pred = pipe.predict(X_P1_train)\n",
        "y_P1_test_pred = pipe.predict(X_P1_val)"
      ],
      "metadata": {
        "id": "MiqvYvIozwz3",
        "cellView": "code"
      },
      "id": "MiqvYvIozwz3",
      "execution_count": null,
      "outputs": []
    },
    {
      "cell_type": "code",
      "source": [
        "print(classification_report(y_P1_train, y_P1_train_pred))"
      ],
      "metadata": {
        "colab": {
          "base_uri": "https://localhost:8080/"
        },
        "id": "rp4iDqoB0UUa",
        "outputId": "bae74c0f-c182-4d49-b696-a42485f81f0a"
      },
      "id": "rp4iDqoB0UUa",
      "execution_count": null,
      "outputs": [
        {
          "output_type": "stream",
          "name": "stdout",
          "text": [
            "              precision    recall  f1-score   support\n",
            "\n",
            "         0.0       0.89      1.00      0.94       643\n",
            "         1.0       0.00      0.00      0.00        82\n",
            "\n",
            "    accuracy                           0.89       725\n",
            "   macro avg       0.44      0.50      0.47       725\n",
            "weighted avg       0.79      0.89      0.83       725\n",
            "\n"
          ]
        },
        {
          "output_type": "stream",
          "name": "stderr",
          "text": [
            "/usr/local/lib/python3.7/dist-packages/sklearn/metrics/_classification.py:1318: UndefinedMetricWarning: Precision and F-score are ill-defined and being set to 0.0 in labels with no predicted samples. Use `zero_division` parameter to control this behavior.\n",
            "  _warn_prf(average, modifier, msg_start, len(result))\n",
            "/usr/local/lib/python3.7/dist-packages/sklearn/metrics/_classification.py:1318: UndefinedMetricWarning: Precision and F-score are ill-defined and being set to 0.0 in labels with no predicted samples. Use `zero_division` parameter to control this behavior.\n",
            "  _warn_prf(average, modifier, msg_start, len(result))\n",
            "/usr/local/lib/python3.7/dist-packages/sklearn/metrics/_classification.py:1318: UndefinedMetricWarning: Precision and F-score are ill-defined and being set to 0.0 in labels with no predicted samples. Use `zero_division` parameter to control this behavior.\n",
            "  _warn_prf(average, modifier, msg_start, len(result))\n"
          ]
        }
      ]
    },
    {
      "cell_type": "markdown",
      "source": [
        "### Balanceo de etiquetas por ADASYN OverSampling:\n",
        "  \n",
        "\n",
        "\n"
      ],
      "metadata": {
        "id": "2xpLz_OL1ECg"
      },
      "id": "2xpLz_OL1ECg"
    },
    {
      "cell_type": "code",
      "source": [
        "from imblearn.over_sampling import SMOTE, ADASYN"
      ],
      "metadata": {
        "id": "b9E9TyXp1Fkw"
      },
      "id": "b9E9TyXp1Fkw",
      "execution_count": null,
      "outputs": []
    },
    {
      "cell_type": "code",
      "source": [
        "ada = ADASYN(random_state=0)\n",
        "X_P1_resamp_adasyn, y_P1_resamp_adasyn = ada.fit_resample(X_P1, y_P1)"
      ],
      "metadata": {
        "id": "0NP87pcd2J1-"
      },
      "execution_count": null,
      "outputs": [],
      "id": "0NP87pcd2J1-"
    },
    {
      "cell_type": "code",
      "source": [
        "eti1_balanced = pd.DataFrame(pd.concat([X_P1_resamp_adasyn, y_P1_resamp_adasyn], axis=1), \n",
        "                                    columns=eti_1_clean.columns)"
      ],
      "metadata": {
        "id": "6pPYG2TX3X4i"
      },
      "execution_count": null,
      "outputs": [],
      "id": "6pPYG2TX3X4i"
    },
    {
      "cell_type": "code",
      "source": [
        "print(f'Nuevo tamaño del dataset: {len(eti1_balanced)}')\n",
        "print('==============================')\n",
        "print(f'Etiquetas:\\n{eti1_balanced.State.value_counts()}')\n",
        "print('==============================')\n",
        "print('Muestra')\n",
        "eti1_balanced[:3]"
      ],
      "metadata": {
        "colab": {
          "base_uri": "https://localhost:8080/"
        },
        "id": "88Qti9D63uXt",
        "outputId": "da0ed9fb-c092-4517-940a-2ab1ee76a4d4"
      },
      "execution_count": null,
      "outputs": [
        {
          "output_type": "stream",
          "name": "stdout",
          "text": [
            "Nuevo tamaño del dataset: 1879\n",
            "==============================\n",
            "Etiquetas:\n",
            "1.0    954\n",
            "0.0    925\n",
            "Name: State, dtype: int64\n",
            "==============================\n",
            "Muestra\n"
          ]
        },
        {
          "output_type": "execute_result",
          "data": {
            "text/plain": [
              "   Patient  State        PE        SC       GNE        SE       LZC       STE  \\\n",
              "0      NaN    1.0  0.598255  0.285388  0.662095  0.520937  0.325380  0.802138   \n",
              "1      NaN    0.0  0.541613  0.283209  0.570060  0.413078  0.195333  0.752879   \n",
              "2      NaN    0.0  0.543293  0.283316  0.572859  0.418008  0.199974  0.754335   \n",
              "\n",
              "       Mean        Std      Skew  \n",
              "0  0.000004  15.557899 -0.000629  \n",
              "1  0.000021  48.467869 -0.031036  \n",
              "2  0.000005  46.771531 -0.077559  "
            ],
            "text/html": [
              "\n",
              "  <div id=\"df-2424faed-797d-4bcc-8671-cd2e6d1c39e5\">\n",
              "    <div class=\"colab-df-container\">\n",
              "      <div>\n",
              "<style scoped>\n",
              "    .dataframe tbody tr th:only-of-type {\n",
              "        vertical-align: middle;\n",
              "    }\n",
              "\n",
              "    .dataframe tbody tr th {\n",
              "        vertical-align: top;\n",
              "    }\n",
              "\n",
              "    .dataframe thead th {\n",
              "        text-align: right;\n",
              "    }\n",
              "</style>\n",
              "<table border=\"1\" class=\"dataframe\">\n",
              "  <thead>\n",
              "    <tr style=\"text-align: right;\">\n",
              "      <th></th>\n",
              "      <th>Patient</th>\n",
              "      <th>State</th>\n",
              "      <th>PE</th>\n",
              "      <th>SC</th>\n",
              "      <th>GNE</th>\n",
              "      <th>SE</th>\n",
              "      <th>LZC</th>\n",
              "      <th>STE</th>\n",
              "      <th>Mean</th>\n",
              "      <th>Std</th>\n",
              "      <th>Skew</th>\n",
              "    </tr>\n",
              "  </thead>\n",
              "  <tbody>\n",
              "    <tr>\n",
              "      <th>0</th>\n",
              "      <td>NaN</td>\n",
              "      <td>1.0</td>\n",
              "      <td>0.598255</td>\n",
              "      <td>0.285388</td>\n",
              "      <td>0.662095</td>\n",
              "      <td>0.520937</td>\n",
              "      <td>0.325380</td>\n",
              "      <td>0.802138</td>\n",
              "      <td>0.000004</td>\n",
              "      <td>15.557899</td>\n",
              "      <td>-0.000629</td>\n",
              "    </tr>\n",
              "    <tr>\n",
              "      <th>1</th>\n",
              "      <td>NaN</td>\n",
              "      <td>0.0</td>\n",
              "      <td>0.541613</td>\n",
              "      <td>0.283209</td>\n",
              "      <td>0.570060</td>\n",
              "      <td>0.413078</td>\n",
              "      <td>0.195333</td>\n",
              "      <td>0.752879</td>\n",
              "      <td>0.000021</td>\n",
              "      <td>48.467869</td>\n",
              "      <td>-0.031036</td>\n",
              "    </tr>\n",
              "    <tr>\n",
              "      <th>2</th>\n",
              "      <td>NaN</td>\n",
              "      <td>0.0</td>\n",
              "      <td>0.543293</td>\n",
              "      <td>0.283316</td>\n",
              "      <td>0.572859</td>\n",
              "      <td>0.418008</td>\n",
              "      <td>0.199974</td>\n",
              "      <td>0.754335</td>\n",
              "      <td>0.000005</td>\n",
              "      <td>46.771531</td>\n",
              "      <td>-0.077559</td>\n",
              "    </tr>\n",
              "  </tbody>\n",
              "</table>\n",
              "</div>\n",
              "      <button class=\"colab-df-convert\" onclick=\"convertToInteractive('df-2424faed-797d-4bcc-8671-cd2e6d1c39e5')\"\n",
              "              title=\"Convert this dataframe to an interactive table.\"\n",
              "              style=\"display:none;\">\n",
              "        \n",
              "  <svg xmlns=\"http://www.w3.org/2000/svg\" height=\"24px\"viewBox=\"0 0 24 24\"\n",
              "       width=\"24px\">\n",
              "    <path d=\"M0 0h24v24H0V0z\" fill=\"none\"/>\n",
              "    <path d=\"M18.56 5.44l.94 2.06.94-2.06 2.06-.94-2.06-.94-.94-2.06-.94 2.06-2.06.94zm-11 1L8.5 8.5l.94-2.06 2.06-.94-2.06-.94L8.5 2.5l-.94 2.06-2.06.94zm10 10l.94 2.06.94-2.06 2.06-.94-2.06-.94-.94-2.06-.94 2.06-2.06.94z\"/><path d=\"M17.41 7.96l-1.37-1.37c-.4-.4-.92-.59-1.43-.59-.52 0-1.04.2-1.43.59L10.3 9.45l-7.72 7.72c-.78.78-.78 2.05 0 2.83L4 21.41c.39.39.9.59 1.41.59.51 0 1.02-.2 1.41-.59l7.78-7.78 2.81-2.81c.8-.78.8-2.07 0-2.86zM5.41 20L4 18.59l7.72-7.72 1.47 1.35L5.41 20z\"/>\n",
              "  </svg>\n",
              "      </button>\n",
              "      \n",
              "  <style>\n",
              "    .colab-df-container {\n",
              "      display:flex;\n",
              "      flex-wrap:wrap;\n",
              "      gap: 12px;\n",
              "    }\n",
              "\n",
              "    .colab-df-convert {\n",
              "      background-color: #E8F0FE;\n",
              "      border: none;\n",
              "      border-radius: 50%;\n",
              "      cursor: pointer;\n",
              "      display: none;\n",
              "      fill: #1967D2;\n",
              "      height: 32px;\n",
              "      padding: 0 0 0 0;\n",
              "      width: 32px;\n",
              "    }\n",
              "\n",
              "    .colab-df-convert:hover {\n",
              "      background-color: #E2EBFA;\n",
              "      box-shadow: 0px 1px 2px rgba(60, 64, 67, 0.3), 0px 1px 3px 1px rgba(60, 64, 67, 0.15);\n",
              "      fill: #174EA6;\n",
              "    }\n",
              "\n",
              "    [theme=dark] .colab-df-convert {\n",
              "      background-color: #3B4455;\n",
              "      fill: #D2E3FC;\n",
              "    }\n",
              "\n",
              "    [theme=dark] .colab-df-convert:hover {\n",
              "      background-color: #434B5C;\n",
              "      box-shadow: 0px 1px 3px 1px rgba(0, 0, 0, 0.15);\n",
              "      filter: drop-shadow(0px 1px 2px rgba(0, 0, 0, 0.3));\n",
              "      fill: #FFFFFF;\n",
              "    }\n",
              "  </style>\n",
              "\n",
              "      <script>\n",
              "        const buttonEl =\n",
              "          document.querySelector('#df-2424faed-797d-4bcc-8671-cd2e6d1c39e5 button.colab-df-convert');\n",
              "        buttonEl.style.display =\n",
              "          google.colab.kernel.accessAllowed ? 'block' : 'none';\n",
              "\n",
              "        async function convertToInteractive(key) {\n",
              "          const element = document.querySelector('#df-2424faed-797d-4bcc-8671-cd2e6d1c39e5');\n",
              "          const dataTable =\n",
              "            await google.colab.kernel.invokeFunction('convertToInteractive',\n",
              "                                                     [key], {});\n",
              "          if (!dataTable) return;\n",
              "\n",
              "          const docLinkHtml = 'Like what you see? Visit the ' +\n",
              "            '<a target=\"_blank\" href=https://colab.research.google.com/notebooks/data_table.ipynb>data table notebook</a>'\n",
              "            + ' to learn more about interactive tables.';\n",
              "          element.innerHTML = '';\n",
              "          dataTable['output_type'] = 'display_data';\n",
              "          await google.colab.output.renderOutput(dataTable, element);\n",
              "          const docLink = document.createElement('div');\n",
              "          docLink.innerHTML = docLinkHtml;\n",
              "          element.appendChild(docLink);\n",
              "        }\n",
              "      </script>\n",
              "    </div>\n",
              "  </div>\n",
              "  "
            ]
          },
          "metadata": {},
          "execution_count": 281
        }
      ],
      "id": "88Qti9D63uXt"
    },
    {
      "cell_type": "code",
      "source": [
        "X_P1 = eti1_balanced.drop(labels=['State','Patient'], axis=1)\n",
        "y_P1 = eti1_balanced['State']"
      ],
      "metadata": {
        "id": "SFtPE2fn1nfh"
      },
      "execution_count": null,
      "outputs": [],
      "id": "SFtPE2fn1nfh"
    },
    {
      "cell_type": "code",
      "source": [
        "# Train and validation\n",
        "X_P1_train, X_P1_val, y_P1_train, y_P1_val = train_test_split(X_P1, y_P1, test_size=0.30, random_state=0, shuffle=True)"
      ],
      "metadata": {
        "id": "Rhy2gdOt1nfi"
      },
      "execution_count": null,
      "outputs": [],
      "id": "Rhy2gdOt1nfi"
    },
    {
      "cell_type": "code",
      "source": [
        "scaler = MinMaxScaler()\n",
        "ft_selector = LogisticRegression(random_state=0, penalty='l1', solver='liblinear')\n",
        "param_grid = {\n",
        "    'classifier__penalty': ['l1', 'l2'],\n",
        "    'classifier__random_state': [0],\n",
        "    'classifier__solver': ['liblinear'],\n",
        "    'classifier__class_weight': ['balanced']\n",
        "}\n",
        "model2 = LogisticRegression(random_state= 0)"
      ],
      "metadata": {
        "id": "hhGrB9601nfi"
      },
      "execution_count": null,
      "outputs": [],
      "id": "hhGrB9601nfi"
    },
    {
      "cell_type": "code",
      "source": [
        "# Fit\n",
        "pipe = Pipeline([\n",
        "  ('scaler', scaler),\n",
        "  ('feature_selection', SelectFromModel(ft_selector)),\n",
        "  ('classifier', model2)\n",
        "])\n",
        "\n",
        "#model = GridSearchCV(pipe, param_grid, scoring='neg_mean_squared_error',cv=5)\n",
        "\n",
        "pipe.fit(X_P1_train, y_P1_train)\n",
        "#svr_cv = model"
      ],
      "metadata": {
        "colab": {
          "base_uri": "https://localhost:8080/"
        },
        "outputId": "3f946d6a-5b62-4ee5-f002-64e687d0ebaa",
        "id": "k6mWUnwv1nfi"
      },
      "execution_count": null,
      "outputs": [
        {
          "output_type": "execute_result",
          "data": {
            "text/plain": [
              "Pipeline(steps=[('scaler', MinMaxScaler()),\n",
              "                ('feature_selection',\n",
              "                 SelectFromModel(estimator=LogisticRegression(penalty='l1',\n",
              "                                                              random_state=0,\n",
              "                                                              solver='liblinear'))),\n",
              "                ('classifier', LogisticRegression(random_state=0))])"
            ]
          },
          "metadata": {},
          "execution_count": 285
        }
      ],
      "id": "k6mWUnwv1nfi"
    },
    {
      "cell_type": "code",
      "source": [
        "pipe.score(X_P1_train, y_P1_train)"
      ],
      "metadata": {
        "colab": {
          "base_uri": "https://localhost:8080/"
        },
        "outputId": "35f43ba8-c9e3-4b2d-9d26-a4e83ecb0f86",
        "id": "BhMY7afK1nfj"
      },
      "execution_count": null,
      "outputs": [
        {
          "output_type": "execute_result",
          "data": {
            "text/plain": [
              "0.6509505703422053"
            ]
          },
          "metadata": {},
          "execution_count": 286
        }
      ],
      "id": "BhMY7afK1nfj"
    },
    {
      "cell_type": "code",
      "source": [
        "pipe.score(X_P1_val, y_P1_val)"
      ],
      "metadata": {
        "colab": {
          "base_uri": "https://localhost:8080/"
        },
        "outputId": "2c7b2d4c-5c89-4dda-9b50-c3025a00a3bc",
        "id": "SUJ9_eC01nfj"
      },
      "execution_count": null,
      "outputs": [
        {
          "output_type": "execute_result",
          "data": {
            "text/plain": [
              "0.6968085106382979"
            ]
          },
          "metadata": {},
          "execution_count": 287
        }
      ],
      "id": "SUJ9_eC01nfj"
    },
    {
      "cell_type": "code",
      "source": [
        "# Utilizamos el modelo entrenado para predecir las etiquetas utilizando los datos de entrenamiento y de test\n",
        "y_P1_train_pred = pipe.predict(X_P1_train)\n",
        "y_P1_test_pred = pipe.predict(X_P1_val)"
      ],
      "metadata": {
        "id": "HNrj378R1nfj"
      },
      "execution_count": null,
      "outputs": [],
      "id": "HNrj378R1nfj"
    },
    {
      "cell_type": "code",
      "source": [
        "print(\"Entrenamiento\")\n",
        "print(classification_report(y_P1_train, y_P1_train_pred))\n",
        "\n",
        "print(\"Validacion\")\n",
        "print(classification_report(y_P1_val, y_P1_test_pred))"
      ],
      "metadata": {
        "colab": {
          "base_uri": "https://localhost:8080/"
        },
        "outputId": "0b09dd8a-53e3-40da-a735-9f6e82dba2a3",
        "id": "4Y6ArsOE1nfj"
      },
      "execution_count": null,
      "outputs": [
        {
          "output_type": "stream",
          "name": "stdout",
          "text": [
            "Entrenamiento\n",
            "              precision    recall  f1-score   support\n",
            "\n",
            "         0.0       0.65      0.61      0.63       639\n",
            "         1.0       0.65      0.69      0.67       676\n",
            "\n",
            "    accuracy                           0.65      1315\n",
            "   macro avg       0.65      0.65      0.65      1315\n",
            "weighted avg       0.65      0.65      0.65      1315\n",
            "\n",
            "Validacion\n",
            "              precision    recall  f1-score   support\n",
            "\n",
            "         0.0       0.71      0.68      0.70       286\n",
            "         1.0       0.69      0.71      0.70       278\n",
            "\n",
            "    accuracy                           0.70       564\n",
            "   macro avg       0.70      0.70      0.70       564\n",
            "weighted avg       0.70      0.70      0.70       564\n",
            "\n"
          ]
        }
      ],
      "id": "4Y6ArsOE1nfj"
    },
    {
      "cell_type": "markdown",
      "source": [
        "### Balanceo de etiquetas por Random OverSampling:"
      ],
      "metadata": {
        "id": "EBAjZpFq2jNo"
      },
      "id": "EBAjZpFq2jNo"
    },
    {
      "cell_type": "code",
      "source": [
        "!pip install imbalanced-learn"
      ],
      "metadata": {
        "colab": {
          "base_uri": "https://localhost:8080/"
        },
        "id": "RKvW1FfD1Ho-",
        "outputId": "0bc0d469-a043-4e0b-bb4e-f08f4673426d"
      },
      "execution_count": null,
      "outputs": [
        {
          "output_type": "stream",
          "name": "stdout",
          "text": [
            "Looking in indexes: https://pypi.org/simple, https://us-python.pkg.dev/colab-wheels/public/simple/\n",
            "Requirement already satisfied: imbalanced-learn in /usr/local/lib/python3.7/dist-packages (0.8.1)\n",
            "Requirement already satisfied: joblib>=0.11 in /usr/local/lib/python3.7/dist-packages (from imbalanced-learn) (1.1.0)\n",
            "Requirement already satisfied: scikit-learn>=0.24 in /usr/local/lib/python3.7/dist-packages (from imbalanced-learn) (1.0.2)\n",
            "Requirement already satisfied: numpy>=1.13.3 in /usr/local/lib/python3.7/dist-packages (from imbalanced-learn) (1.21.6)\n",
            "Requirement already satisfied: scipy>=0.19.1 in /usr/local/lib/python3.7/dist-packages (from imbalanced-learn) (1.7.3)\n",
            "Requirement already satisfied: threadpoolctl>=2.0.0 in /usr/local/lib/python3.7/dist-packages (from scikit-learn>=0.24->imbalanced-learn) (3.1.0)\n"
          ]
        }
      ],
      "id": "RKvW1FfD1Ho-"
    },
    {
      "cell_type": "code",
      "source": [
        "\n",
        "from imblearn.pipeline import make_pipeline\n",
        "from imblearn.over_sampling import RandomOverSampler\n",
        "from imblearn import FunctionSampler  # to use a idendity sampler\n",
        "from imblearn.over_sampling import SMOTE, ADASYN\n",
        "\n",
        "from sklearn.linear_model import LogisticRegression\n",
        "from sklearn.datasets import make_classification\n",
        "\n",
        "sns.set_context(\"poster\")"
      ],
      "metadata": {
        "id": "bXKmohro1Gv8"
      },
      "execution_count": null,
      "outputs": [],
      "id": "bXKmohro1Gv8"
    },
    {
      "cell_type": "code",
      "source": [
        "eti_1_clean['State'].value_counts()"
      ],
      "metadata": {
        "colab": {
          "base_uri": "https://localhost:8080/"
        },
        "id": "_FTjTu2b6Y0S",
        "outputId": "888f1eba-9e91-417c-e66a-2de8063c9d8f"
      },
      "execution_count": null,
      "outputs": [
        {
          "output_type": "execute_result",
          "data": {
            "text/plain": [
              "0.0    925\n",
              "1.0    112\n",
              "Name: State, dtype: int64"
            ]
          },
          "metadata": {},
          "execution_count": 292
        }
      ],
      "id": "_FTjTu2b6Y0S"
    },
    {
      "cell_type": "code",
      "source": [
        "y_P1 = eti_1_clean['State']\n",
        "X_P1 = eti_1_clean.drop(columns=['State'])"
      ],
      "metadata": {
        "id": "1_-DW7B05h79"
      },
      "execution_count": null,
      "outputs": [],
      "id": "1_-DW7B05h79"
    },
    {
      "cell_type": "code",
      "source": [
        "sampler = RandomOverSampler(random_state=0)\n",
        "X_P1_resamp_random, y_P1_resamp_random = sampler.fit_resample(X_P1, y_P1)"
      ],
      "metadata": {
        "id": "hPFdo0mCykRI"
      },
      "execution_count": null,
      "outputs": [],
      "id": "hPFdo0mCykRI"
    },
    {
      "cell_type": "code",
      "source": [
        "eti_1_balanced = pd.DataFrame(pd.concat([X_P1_resamp_random, y_P1_resamp_random], axis=1), \n",
        "                                    columns=eti_1_clean.columns)"
      ],
      "metadata": {
        "id": "H81TpnOXpK55"
      },
      "execution_count": null,
      "outputs": [],
      "id": "H81TpnOXpK55"
    },
    {
      "cell_type": "code",
      "source": [
        "print(f'Nuevo tamaño del dataset: {len(eti_1_balanced)}')\n",
        "print('==============================')\n",
        "print(f'Etiquetas:\\n{eti_1_balanced.State.value_counts()}')\n",
        "print('==============================')\n",
        "print('Muestra')\n",
        "eti_1_balanced[:3]"
      ],
      "metadata": {
        "colab": {
          "base_uri": "https://localhost:8080/"
        },
        "id": "37F5gTiMzmaO",
        "outputId": "52ac4738-834c-4b2f-ae69-4e8c3dbca48b"
      },
      "execution_count": null,
      "outputs": [
        {
          "output_type": "stream",
          "name": "stdout",
          "text": [
            "Nuevo tamaño del dataset: 1850\n",
            "==============================\n",
            "Etiquetas:\n",
            "1.0    925\n",
            "0.0    925\n",
            "Name: State, dtype: int64\n",
            "==============================\n",
            "Muestra\n"
          ]
        },
        {
          "output_type": "execute_result",
          "data": {
            "text/plain": [
              "   Patient  State        PE        SC       GNE        SE       LZC       STE  \\\n",
              "0      1.0    1.0  0.598255  0.285388  0.662095  0.520937  0.325380  0.802138   \n",
              "1      1.0    0.0  0.541613  0.283209  0.570060  0.413078  0.195333  0.752879   \n",
              "2      1.0    0.0  0.543293  0.283316  0.572859  0.418008  0.199974  0.754335   \n",
              "\n",
              "       Mean        Std      Skew  \n",
              "0  0.000004  15.557899 -0.000629  \n",
              "1  0.000021  48.467869 -0.031036  \n",
              "2  0.000005  46.771531 -0.077559  "
            ],
            "text/html": [
              "\n",
              "  <div id=\"df-eff5e1de-fe33-45b1-8993-320767893346\">\n",
              "    <div class=\"colab-df-container\">\n",
              "      <div>\n",
              "<style scoped>\n",
              "    .dataframe tbody tr th:only-of-type {\n",
              "        vertical-align: middle;\n",
              "    }\n",
              "\n",
              "    .dataframe tbody tr th {\n",
              "        vertical-align: top;\n",
              "    }\n",
              "\n",
              "    .dataframe thead th {\n",
              "        text-align: right;\n",
              "    }\n",
              "</style>\n",
              "<table border=\"1\" class=\"dataframe\">\n",
              "  <thead>\n",
              "    <tr style=\"text-align: right;\">\n",
              "      <th></th>\n",
              "      <th>Patient</th>\n",
              "      <th>State</th>\n",
              "      <th>PE</th>\n",
              "      <th>SC</th>\n",
              "      <th>GNE</th>\n",
              "      <th>SE</th>\n",
              "      <th>LZC</th>\n",
              "      <th>STE</th>\n",
              "      <th>Mean</th>\n",
              "      <th>Std</th>\n",
              "      <th>Skew</th>\n",
              "    </tr>\n",
              "  </thead>\n",
              "  <tbody>\n",
              "    <tr>\n",
              "      <th>0</th>\n",
              "      <td>1.0</td>\n",
              "      <td>1.0</td>\n",
              "      <td>0.598255</td>\n",
              "      <td>0.285388</td>\n",
              "      <td>0.662095</td>\n",
              "      <td>0.520937</td>\n",
              "      <td>0.325380</td>\n",
              "      <td>0.802138</td>\n",
              "      <td>0.000004</td>\n",
              "      <td>15.557899</td>\n",
              "      <td>-0.000629</td>\n",
              "    </tr>\n",
              "    <tr>\n",
              "      <th>1</th>\n",
              "      <td>1.0</td>\n",
              "      <td>0.0</td>\n",
              "      <td>0.541613</td>\n",
              "      <td>0.283209</td>\n",
              "      <td>0.570060</td>\n",
              "      <td>0.413078</td>\n",
              "      <td>0.195333</td>\n",
              "      <td>0.752879</td>\n",
              "      <td>0.000021</td>\n",
              "      <td>48.467869</td>\n",
              "      <td>-0.031036</td>\n",
              "    </tr>\n",
              "    <tr>\n",
              "      <th>2</th>\n",
              "      <td>1.0</td>\n",
              "      <td>0.0</td>\n",
              "      <td>0.543293</td>\n",
              "      <td>0.283316</td>\n",
              "      <td>0.572859</td>\n",
              "      <td>0.418008</td>\n",
              "      <td>0.199974</td>\n",
              "      <td>0.754335</td>\n",
              "      <td>0.000005</td>\n",
              "      <td>46.771531</td>\n",
              "      <td>-0.077559</td>\n",
              "    </tr>\n",
              "  </tbody>\n",
              "</table>\n",
              "</div>\n",
              "      <button class=\"colab-df-convert\" onclick=\"convertToInteractive('df-eff5e1de-fe33-45b1-8993-320767893346')\"\n",
              "              title=\"Convert this dataframe to an interactive table.\"\n",
              "              style=\"display:none;\">\n",
              "        \n",
              "  <svg xmlns=\"http://www.w3.org/2000/svg\" height=\"24px\"viewBox=\"0 0 24 24\"\n",
              "       width=\"24px\">\n",
              "    <path d=\"M0 0h24v24H0V0z\" fill=\"none\"/>\n",
              "    <path d=\"M18.56 5.44l.94 2.06.94-2.06 2.06-.94-2.06-.94-.94-2.06-.94 2.06-2.06.94zm-11 1L8.5 8.5l.94-2.06 2.06-.94-2.06-.94L8.5 2.5l-.94 2.06-2.06.94zm10 10l.94 2.06.94-2.06 2.06-.94-2.06-.94-.94-2.06-.94 2.06-2.06.94z\"/><path d=\"M17.41 7.96l-1.37-1.37c-.4-.4-.92-.59-1.43-.59-.52 0-1.04.2-1.43.59L10.3 9.45l-7.72 7.72c-.78.78-.78 2.05 0 2.83L4 21.41c.39.39.9.59 1.41.59.51 0 1.02-.2 1.41-.59l7.78-7.78 2.81-2.81c.8-.78.8-2.07 0-2.86zM5.41 20L4 18.59l7.72-7.72 1.47 1.35L5.41 20z\"/>\n",
              "  </svg>\n",
              "      </button>\n",
              "      \n",
              "  <style>\n",
              "    .colab-df-container {\n",
              "      display:flex;\n",
              "      flex-wrap:wrap;\n",
              "      gap: 12px;\n",
              "    }\n",
              "\n",
              "    .colab-df-convert {\n",
              "      background-color: #E8F0FE;\n",
              "      border: none;\n",
              "      border-radius: 50%;\n",
              "      cursor: pointer;\n",
              "      display: none;\n",
              "      fill: #1967D2;\n",
              "      height: 32px;\n",
              "      padding: 0 0 0 0;\n",
              "      width: 32px;\n",
              "    }\n",
              "\n",
              "    .colab-df-convert:hover {\n",
              "      background-color: #E2EBFA;\n",
              "      box-shadow: 0px 1px 2px rgba(60, 64, 67, 0.3), 0px 1px 3px 1px rgba(60, 64, 67, 0.15);\n",
              "      fill: #174EA6;\n",
              "    }\n",
              "\n",
              "    [theme=dark] .colab-df-convert {\n",
              "      background-color: #3B4455;\n",
              "      fill: #D2E3FC;\n",
              "    }\n",
              "\n",
              "    [theme=dark] .colab-df-convert:hover {\n",
              "      background-color: #434B5C;\n",
              "      box-shadow: 0px 1px 3px 1px rgba(0, 0, 0, 0.15);\n",
              "      filter: drop-shadow(0px 1px 2px rgba(0, 0, 0, 0.3));\n",
              "      fill: #FFFFFF;\n",
              "    }\n",
              "  </style>\n",
              "\n",
              "      <script>\n",
              "        const buttonEl =\n",
              "          document.querySelector('#df-eff5e1de-fe33-45b1-8993-320767893346 button.colab-df-convert');\n",
              "        buttonEl.style.display =\n",
              "          google.colab.kernel.accessAllowed ? 'block' : 'none';\n",
              "\n",
              "        async function convertToInteractive(key) {\n",
              "          const element = document.querySelector('#df-eff5e1de-fe33-45b1-8993-320767893346');\n",
              "          const dataTable =\n",
              "            await google.colab.kernel.invokeFunction('convertToInteractive',\n",
              "                                                     [key], {});\n",
              "          if (!dataTable) return;\n",
              "\n",
              "          const docLinkHtml = 'Like what you see? Visit the ' +\n",
              "            '<a target=\"_blank\" href=https://colab.research.google.com/notebooks/data_table.ipynb>data table notebook</a>'\n",
              "            + ' to learn more about interactive tables.';\n",
              "          element.innerHTML = '';\n",
              "          dataTable['output_type'] = 'display_data';\n",
              "          await google.colab.output.renderOutput(dataTable, element);\n",
              "          const docLink = document.createElement('div');\n",
              "          docLink.innerHTML = docLinkHtml;\n",
              "          element.appendChild(docLink);\n",
              "        }\n",
              "      </script>\n",
              "    </div>\n",
              "  </div>\n",
              "  "
            ]
          },
          "metadata": {},
          "execution_count": 296
        }
      ],
      "id": "37F5gTiMzmaO"
    },
    {
      "cell_type": "code",
      "source": [
        "print(len(eti_1_balanced))\n",
        "eti_1_balanced[:5]"
      ],
      "metadata": {
        "colab": {
          "base_uri": "https://localhost:8080/"
        },
        "id": "PlWREhP4pvvz",
        "outputId": "4b50bc99-2e88-4149-81f9-9f335f47d1b4"
      },
      "execution_count": null,
      "outputs": [
        {
          "output_type": "stream",
          "name": "stdout",
          "text": [
            "1850\n"
          ]
        },
        {
          "output_type": "execute_result",
          "data": {
            "text/plain": [
              "   Patient  State        PE        SC       GNE        SE       LZC       STE  \\\n",
              "0      1.0    1.0  0.598255  0.285388  0.662095  0.520937  0.325380  0.802138   \n",
              "1      1.0    0.0  0.541613  0.283209  0.570060  0.413078  0.195333  0.752879   \n",
              "2      1.0    0.0  0.543293  0.283316  0.572859  0.418008  0.199974  0.754335   \n",
              "3      1.0    0.0  0.535949  0.282724  0.560678  0.391206  0.166309  0.747854   \n",
              "4      1.0    0.0  0.436980  0.272283  0.398864  0.412815  0.116037  0.668147   \n",
              "\n",
              "           Mean        Std      Skew  \n",
              "0  4.426225e-06  15.557899 -0.000629  \n",
              "1  2.075434e-05  48.467869 -0.031036  \n",
              "2  5.322688e-06  46.771531 -0.077559  \n",
              "3 -1.353617e-05  48.590217 -0.024175  \n",
              "4 -5.555946e-07  41.749673 -0.087401  "
            ],
            "text/html": [
              "\n",
              "  <div id=\"df-ff84956e-4814-4ab7-8223-6738efe3cd9a\">\n",
              "    <div class=\"colab-df-container\">\n",
              "      <div>\n",
              "<style scoped>\n",
              "    .dataframe tbody tr th:only-of-type {\n",
              "        vertical-align: middle;\n",
              "    }\n",
              "\n",
              "    .dataframe tbody tr th {\n",
              "        vertical-align: top;\n",
              "    }\n",
              "\n",
              "    .dataframe thead th {\n",
              "        text-align: right;\n",
              "    }\n",
              "</style>\n",
              "<table border=\"1\" class=\"dataframe\">\n",
              "  <thead>\n",
              "    <tr style=\"text-align: right;\">\n",
              "      <th></th>\n",
              "      <th>Patient</th>\n",
              "      <th>State</th>\n",
              "      <th>PE</th>\n",
              "      <th>SC</th>\n",
              "      <th>GNE</th>\n",
              "      <th>SE</th>\n",
              "      <th>LZC</th>\n",
              "      <th>STE</th>\n",
              "      <th>Mean</th>\n",
              "      <th>Std</th>\n",
              "      <th>Skew</th>\n",
              "    </tr>\n",
              "  </thead>\n",
              "  <tbody>\n",
              "    <tr>\n",
              "      <th>0</th>\n",
              "      <td>1.0</td>\n",
              "      <td>1.0</td>\n",
              "      <td>0.598255</td>\n",
              "      <td>0.285388</td>\n",
              "      <td>0.662095</td>\n",
              "      <td>0.520937</td>\n",
              "      <td>0.325380</td>\n",
              "      <td>0.802138</td>\n",
              "      <td>4.426225e-06</td>\n",
              "      <td>15.557899</td>\n",
              "      <td>-0.000629</td>\n",
              "    </tr>\n",
              "    <tr>\n",
              "      <th>1</th>\n",
              "      <td>1.0</td>\n",
              "      <td>0.0</td>\n",
              "      <td>0.541613</td>\n",
              "      <td>0.283209</td>\n",
              "      <td>0.570060</td>\n",
              "      <td>0.413078</td>\n",
              "      <td>0.195333</td>\n",
              "      <td>0.752879</td>\n",
              "      <td>2.075434e-05</td>\n",
              "      <td>48.467869</td>\n",
              "      <td>-0.031036</td>\n",
              "    </tr>\n",
              "    <tr>\n",
              "      <th>2</th>\n",
              "      <td>1.0</td>\n",
              "      <td>0.0</td>\n",
              "      <td>0.543293</td>\n",
              "      <td>0.283316</td>\n",
              "      <td>0.572859</td>\n",
              "      <td>0.418008</td>\n",
              "      <td>0.199974</td>\n",
              "      <td>0.754335</td>\n",
              "      <td>5.322688e-06</td>\n",
              "      <td>46.771531</td>\n",
              "      <td>-0.077559</td>\n",
              "    </tr>\n",
              "    <tr>\n",
              "      <th>3</th>\n",
              "      <td>1.0</td>\n",
              "      <td>0.0</td>\n",
              "      <td>0.535949</td>\n",
              "      <td>0.282724</td>\n",
              "      <td>0.560678</td>\n",
              "      <td>0.391206</td>\n",
              "      <td>0.166309</td>\n",
              "      <td>0.747854</td>\n",
              "      <td>-1.353617e-05</td>\n",
              "      <td>48.590217</td>\n",
              "      <td>-0.024175</td>\n",
              "    </tr>\n",
              "    <tr>\n",
              "      <th>4</th>\n",
              "      <td>1.0</td>\n",
              "      <td>0.0</td>\n",
              "      <td>0.436980</td>\n",
              "      <td>0.272283</td>\n",
              "      <td>0.398864</td>\n",
              "      <td>0.412815</td>\n",
              "      <td>0.116037</td>\n",
              "      <td>0.668147</td>\n",
              "      <td>-5.555946e-07</td>\n",
              "      <td>41.749673</td>\n",
              "      <td>-0.087401</td>\n",
              "    </tr>\n",
              "  </tbody>\n",
              "</table>\n",
              "</div>\n",
              "      <button class=\"colab-df-convert\" onclick=\"convertToInteractive('df-ff84956e-4814-4ab7-8223-6738efe3cd9a')\"\n",
              "              title=\"Convert this dataframe to an interactive table.\"\n",
              "              style=\"display:none;\">\n",
              "        \n",
              "  <svg xmlns=\"http://www.w3.org/2000/svg\" height=\"24px\"viewBox=\"0 0 24 24\"\n",
              "       width=\"24px\">\n",
              "    <path d=\"M0 0h24v24H0V0z\" fill=\"none\"/>\n",
              "    <path d=\"M18.56 5.44l.94 2.06.94-2.06 2.06-.94-2.06-.94-.94-2.06-.94 2.06-2.06.94zm-11 1L8.5 8.5l.94-2.06 2.06-.94-2.06-.94L8.5 2.5l-.94 2.06-2.06.94zm10 10l.94 2.06.94-2.06 2.06-.94-2.06-.94-.94-2.06-.94 2.06-2.06.94z\"/><path d=\"M17.41 7.96l-1.37-1.37c-.4-.4-.92-.59-1.43-.59-.52 0-1.04.2-1.43.59L10.3 9.45l-7.72 7.72c-.78.78-.78 2.05 0 2.83L4 21.41c.39.39.9.59 1.41.59.51 0 1.02-.2 1.41-.59l7.78-7.78 2.81-2.81c.8-.78.8-2.07 0-2.86zM5.41 20L4 18.59l7.72-7.72 1.47 1.35L5.41 20z\"/>\n",
              "  </svg>\n",
              "      </button>\n",
              "      \n",
              "  <style>\n",
              "    .colab-df-container {\n",
              "      display:flex;\n",
              "      flex-wrap:wrap;\n",
              "      gap: 12px;\n",
              "    }\n",
              "\n",
              "    .colab-df-convert {\n",
              "      background-color: #E8F0FE;\n",
              "      border: none;\n",
              "      border-radius: 50%;\n",
              "      cursor: pointer;\n",
              "      display: none;\n",
              "      fill: #1967D2;\n",
              "      height: 32px;\n",
              "      padding: 0 0 0 0;\n",
              "      width: 32px;\n",
              "    }\n",
              "\n",
              "    .colab-df-convert:hover {\n",
              "      background-color: #E2EBFA;\n",
              "      box-shadow: 0px 1px 2px rgba(60, 64, 67, 0.3), 0px 1px 3px 1px rgba(60, 64, 67, 0.15);\n",
              "      fill: #174EA6;\n",
              "    }\n",
              "\n",
              "    [theme=dark] .colab-df-convert {\n",
              "      background-color: #3B4455;\n",
              "      fill: #D2E3FC;\n",
              "    }\n",
              "\n",
              "    [theme=dark] .colab-df-convert:hover {\n",
              "      background-color: #434B5C;\n",
              "      box-shadow: 0px 1px 3px 1px rgba(0, 0, 0, 0.15);\n",
              "      filter: drop-shadow(0px 1px 2px rgba(0, 0, 0, 0.3));\n",
              "      fill: #FFFFFF;\n",
              "    }\n",
              "  </style>\n",
              "\n",
              "      <script>\n",
              "        const buttonEl =\n",
              "          document.querySelector('#df-ff84956e-4814-4ab7-8223-6738efe3cd9a button.colab-df-convert');\n",
              "        buttonEl.style.display =\n",
              "          google.colab.kernel.accessAllowed ? 'block' : 'none';\n",
              "\n",
              "        async function convertToInteractive(key) {\n",
              "          const element = document.querySelector('#df-ff84956e-4814-4ab7-8223-6738efe3cd9a');\n",
              "          const dataTable =\n",
              "            await google.colab.kernel.invokeFunction('convertToInteractive',\n",
              "                                                     [key], {});\n",
              "          if (!dataTable) return;\n",
              "\n",
              "          const docLinkHtml = 'Like what you see? Visit the ' +\n",
              "            '<a target=\"_blank\" href=https://colab.research.google.com/notebooks/data_table.ipynb>data table notebook</a>'\n",
              "            + ' to learn more about interactive tables.';\n",
              "          element.innerHTML = '';\n",
              "          dataTable['output_type'] = 'display_data';\n",
              "          await google.colab.output.renderOutput(dataTable, element);\n",
              "          const docLink = document.createElement('div');\n",
              "          docLink.innerHTML = docLinkHtml;\n",
              "          element.appendChild(docLink);\n",
              "        }\n",
              "      </script>\n",
              "    </div>\n",
              "  </div>\n",
              "  "
            ]
          },
          "metadata": {},
          "execution_count": 297
        }
      ],
      "id": "PlWREhP4pvvz"
    },
    {
      "cell_type": "code",
      "source": [
        "#Modelo"
      ],
      "metadata": {
        "id": "JT4x34r03YzJ"
      },
      "id": "JT4x34r03YzJ",
      "execution_count": null,
      "outputs": []
    },
    {
      "cell_type": "code",
      "source": [
        "X_P1 = eti_1_balanced.drop(labels=['State','Patient'], axis=1)\n",
        "y_P1 = eti_1_balanced['State']"
      ],
      "metadata": {
        "id": "8hj4b-I73klP"
      },
      "execution_count": null,
      "outputs": [],
      "id": "8hj4b-I73klP"
    },
    {
      "cell_type": "code",
      "source": [
        "# Train and validation\n",
        "X_P1_train, X_P1_val, y_P1_train, y_P1_val = train_test_split(X_P1, y_P1, test_size=0.30, random_state=0, shuffle=True)"
      ],
      "metadata": {
        "id": "K0f8Cqfx3klQ"
      },
      "execution_count": null,
      "outputs": [],
      "id": "K0f8Cqfx3klQ"
    },
    {
      "cell_type": "code",
      "source": [
        "scaler = MinMaxScaler()\n",
        "ft_selector = LogisticRegression(random_state=0, penalty='l1', solver='liblinear')\n",
        "param_grid = {\n",
        "    'classifier__penalty': ['l1', 'l2'],\n",
        "    'classifier__random_state': [0],\n",
        "    'classifier__solver': ['liblinear'],\n",
        "    'classifier__class_weight': ['balanced']\n",
        "}\n",
        "model3 = LogisticRegression(random_state= 0)"
      ],
      "metadata": {
        "id": "ghI6ufU23klR"
      },
      "execution_count": null,
      "outputs": [],
      "id": "ghI6ufU23klR"
    },
    {
      "cell_type": "code",
      "source": [
        "# Fit\n",
        "pipe = Pipeline([\n",
        "  ('scaler', scaler),\n",
        "  ('feature_selection', SelectFromModel(ft_selector)),\n",
        "  ('classifier', model3)\n",
        "])\n",
        "\n",
        "#model = GridSearchCV(pipe, param_grid, scoring='neg_mean_squared_error',cv=5)\n",
        "\n",
        "pipe.fit(X_P1_train, y_P1_train)\n",
        "#svr_cv = model"
      ],
      "metadata": {
        "colab": {
          "base_uri": "https://localhost:8080/"
        },
        "outputId": "ad8f96e8-8c58-4994-aa1b-a2832dcb5ff8",
        "id": "jZVb-wdx3klR"
      },
      "execution_count": null,
      "outputs": [
        {
          "output_type": "execute_result",
          "data": {
            "text/plain": [
              "Pipeline(steps=[('scaler', MinMaxScaler()),\n",
              "                ('feature_selection',\n",
              "                 SelectFromModel(estimator=LogisticRegression(penalty='l1',\n",
              "                                                              random_state=0,\n",
              "                                                              solver='liblinear'))),\n",
              "                ('classifier', LogisticRegression(random_state=0))])"
            ]
          },
          "metadata": {},
          "execution_count": 302
        }
      ],
      "id": "jZVb-wdx3klR"
    },
    {
      "cell_type": "code",
      "source": [
        "pipe.score(X_P1_train, y_P1_train)"
      ],
      "metadata": {
        "colab": {
          "base_uri": "https://localhost:8080/"
        },
        "outputId": "aec67808-97ab-4d5d-8947-57fcf13b3f67",
        "id": "_-cLBPBd3klS"
      },
      "execution_count": null,
      "outputs": [
        {
          "output_type": "execute_result",
          "data": {
            "text/plain": [
              "0.6733590733590734"
            ]
          },
          "metadata": {},
          "execution_count": 303
        }
      ],
      "id": "_-cLBPBd3klS"
    },
    {
      "cell_type": "code",
      "source": [
        "pipe.score(X_P1_val, y_P1_val)"
      ],
      "metadata": {
        "colab": {
          "base_uri": "https://localhost:8080/"
        },
        "outputId": "fb19109e-b7c5-4f34-fcb5-cef700b7c6df",
        "id": "KtcA6mkV3klS"
      },
      "execution_count": null,
      "outputs": [
        {
          "output_type": "execute_result",
          "data": {
            "text/plain": [
              "0.7243243243243244"
            ]
          },
          "metadata": {},
          "execution_count": 304
        }
      ],
      "id": "KtcA6mkV3klS"
    },
    {
      "cell_type": "code",
      "source": [
        "# Utilizamos el modelo entrenado para predecir las etiquetas utilizando los datos de entrenamiento y de test\n",
        "y_P1_train_pred = pipe.predict(X_P1_train)\n",
        "y_P1_test_pred = pipe.predict(X_P1_val)"
      ],
      "metadata": {
        "id": "cuSrM4Zd3klT"
      },
      "execution_count": null,
      "outputs": [],
      "id": "cuSrM4Zd3klT"
    },
    {
      "cell_type": "code",
      "source": [
        "print(\"Entrenamiento\")\n",
        "print(classification_report(y_P1_train, y_P1_train_pred))\n",
        "\n",
        "print(\"Validacion\")\n",
        "print(classification_report(y_P1_val, y_P1_test_pred))"
      ],
      "metadata": {
        "colab": {
          "base_uri": "https://localhost:8080/"
        },
        "outputId": "10d85815-0fd7-450b-a64a-b7a786fa709e",
        "id": "WmT3qVc73klT"
      },
      "execution_count": null,
      "outputs": [
        {
          "output_type": "stream",
          "name": "stdout",
          "text": [
            "Entrenamiento\n",
            "              precision    recall  f1-score   support\n",
            "\n",
            "         0.0       0.68      0.62      0.65       630\n",
            "         1.0       0.67      0.73      0.70       665\n",
            "\n",
            "    accuracy                           0.67      1295\n",
            "   macro avg       0.67      0.67      0.67      1295\n",
            "weighted avg       0.67      0.67      0.67      1295\n",
            "\n",
            "Validacion\n",
            "              precision    recall  f1-score   support\n",
            "\n",
            "         0.0       0.77      0.69      0.73       295\n",
            "         1.0       0.69      0.76      0.72       260\n",
            "\n",
            "    accuracy                           0.72       555\n",
            "   macro avg       0.73      0.73      0.72       555\n",
            "weighted avg       0.73      0.72      0.72       555\n",
            "\n"
          ]
        }
      ],
      "id": "WmT3qVc73klT"
    },
    {
      "cell_type": "markdown",
      "source": [
        "### Evaluación del balanceo de etiquetas\n",
        "Observando las métricas obtenidas anteriormente, decidimos utilizar el dataset balanceado ya que obtuvimos mejores resultados para el Paciente 1 con el método de Logistic Regression. El balanceo lo vamos a realizar por el método de Random OverSampling ya que este método utiliza datos ya existentes en vez de sintetizar nuevos datos, como es el caso de ADASYN OverSampling. \n"
      ],
      "metadata": {
        "id": "Z1WEV8S8grfh"
      },
      "id": "Z1WEV8S8grfh"
    },
    {
      "cell_type": "markdown",
      "source": [
        "### Feature Selection"
      ],
      "metadata": {
        "id": "zUmj-Wm1hffk"
      },
      "id": "zUmj-Wm1hffk"
    },
    {
      "cell_type": "code",
      "source": [
        "from sklearn.svm import SVC, NuSVC\n",
        "from sklearn.ensemble import RandomForestClassifier\n",
        "from sklearn.neighbors import KNeighborsClassifier"
      ],
      "metadata": {
        "id": "nIsvJ5mitFj0"
      },
      "id": "nIsvJ5mitFj0",
      "execution_count": null,
      "outputs": []
    },
    {
      "cell_type": "code",
      "source": [
        "#Modelo"
      ],
      "metadata": {
        "id": "UO7uQUkEmFFz"
      },
      "execution_count": null,
      "outputs": [],
      "id": "UO7uQUkEmFFz"
    },
    {
      "cell_type": "code",
      "source": [
        "X_P1 = eti_1_balanced.drop(labels=['State','Patient'], axis=1)\n",
        "y_P1 = eti_1_balanced['State']"
      ],
      "metadata": {
        "id": "TM59o4A2mFFz"
      },
      "execution_count": null,
      "outputs": [],
      "id": "TM59o4A2mFFz"
    },
    {
      "cell_type": "code",
      "source": [
        "# Train and validation\n",
        "X_P1_train, X_P1_val, y_P1_train, y_P1_val = train_test_split(X_P1, y_P1, test_size=0.30, random_state=42, shuffle=True)"
      ],
      "metadata": {
        "id": "rzjTgEdCmFFz"
      },
      "execution_count": null,
      "outputs": [],
      "id": "rzjTgEdCmFFz"
    },
    {
      "cell_type": "code",
      "source": [
        "scaler = MinMaxScaler()\n",
        "ft_selector = LogisticRegression(random_state=0, penalty='l2', solver='liblinear')\n",
        "model3 = KNeighborsClassifier(n_neighbors=3)"
      ],
      "metadata": {
        "id": "-vz9PyVOmFFz"
      },
      "execution_count": null,
      "outputs": [],
      "id": "-vz9PyVOmFFz"
    },
    {
      "cell_type": "code",
      "source": [
        "# Fit\n",
        "pipe = Pipeline([\n",
        "  ('scaler', scaler),\n",
        " # ('feature_selection', SelectFromModel(ft_selector)),\n",
        "  ('classifier', model3)\n",
        "])\n",
        "\n",
        "#model = GridSearchCV(pipe, param_grid, scoring='neg_mean_squared_error',cv=5)\n",
        "\n",
        "pipe.fit(X_P1_train, y_P1_train)\n",
        "#svr_cv = model"
      ],
      "metadata": {
        "colab": {
          "base_uri": "https://localhost:8080/"
        },
        "outputId": "d526f8a7-7ea2-4d61-8d12-b50685b7a5df",
        "id": "XOoPi0WxmFF0"
      },
      "execution_count": null,
      "outputs": [
        {
          "output_type": "execute_result",
          "data": {
            "text/plain": [
              "Pipeline(steps=[('scaler', MinMaxScaler()),\n",
              "                ('classifier', KNeighborsClassifier(n_neighbors=3))])"
            ]
          },
          "metadata": {},
          "execution_count": 312
        }
      ],
      "id": "XOoPi0WxmFF0"
    },
    {
      "cell_type": "code",
      "source": [
        "pipe.score(X_P1_train, y_P1_train)"
      ],
      "metadata": {
        "colab": {
          "base_uri": "https://localhost:8080/"
        },
        "outputId": "c182bef4-75bc-4127-8b1e-98d7b88c5c88",
        "id": "MaCXJar4mFF0"
      },
      "execution_count": null,
      "outputs": [
        {
          "output_type": "execute_result",
          "data": {
            "text/plain": [
              "0.9335907335907336"
            ]
          },
          "metadata": {},
          "execution_count": 313
        }
      ],
      "id": "MaCXJar4mFF0"
    },
    {
      "cell_type": "code",
      "source": [
        "pipe.score(X_P1_val, y_P1_val)"
      ],
      "metadata": {
        "colab": {
          "base_uri": "https://localhost:8080/"
        },
        "outputId": "ac6fd39a-8696-40c8-c161-e41e6cfc262c",
        "id": "CQsVKndHmFF0"
      },
      "execution_count": null,
      "outputs": [
        {
          "output_type": "execute_result",
          "data": {
            "text/plain": [
              "0.8738738738738738"
            ]
          },
          "metadata": {},
          "execution_count": 314
        }
      ],
      "id": "CQsVKndHmFF0"
    },
    {
      "cell_type": "code",
      "source": [
        "# Utilizamos el modelo entrenado para predecir las etiquetas utilizando los datos de entrenamiento y de test\n",
        "y_P1_train_pred = pipe.predict(X_P1_train)\n",
        "y_P1_test_pred = pipe.predict(X_P1_val)"
      ],
      "metadata": {
        "id": "Wkf0ZRP-mFF0"
      },
      "execution_count": null,
      "outputs": [],
      "id": "Wkf0ZRP-mFF0"
    },
    {
      "cell_type": "code",
      "source": [
        "print(\"Entrenamiento sin utilizar feature_selector\")\n",
        "print(classification_report(y_P1_train, y_P1_train_pred))\n",
        "\n",
        "print(\"Validacion sin utilizar feature_selector\")\n",
        "print(classification_report(y_P1_val, y_P1_test_pred))"
      ],
      "metadata": {
        "colab": {
          "base_uri": "https://localhost:8080/"
        },
        "outputId": "d1703644-6640-46da-fb6e-9b1f5be6991c",
        "id": "LA9_1uUEmFF0"
      },
      "execution_count": null,
      "outputs": [
        {
          "output_type": "stream",
          "name": "stdout",
          "text": [
            "Entrenamiento sin utilizar feature_selector\n",
            "              precision    recall  f1-score   support\n",
            "\n",
            "         0.0       1.00      0.87      0.93       650\n",
            "         1.0       0.88      1.00      0.94       645\n",
            "\n",
            "    accuracy                           0.93      1295\n",
            "   macro avg       0.94      0.93      0.93      1295\n",
            "weighted avg       0.94      0.93      0.93      1295\n",
            "\n",
            "Validacion sin utilizar feature_selector\n",
            "              precision    recall  f1-score   support\n",
            "\n",
            "         0.0       1.00      0.75      0.85       275\n",
            "         1.0       0.80      1.00      0.89       280\n",
            "\n",
            "    accuracy                           0.87       555\n",
            "   macro avg       0.90      0.87      0.87       555\n",
            "weighted avg       0.90      0.87      0.87       555\n",
            "\n"
          ]
        }
      ],
      "id": "LA9_1uUEmFF0"
    },
    {
      "cell_type": "code",
      "source": [
        "#Utilizando el selector de features:"
      ],
      "metadata": {
        "id": "0TQ2rne-rGEi"
      },
      "id": "0TQ2rne-rGEi",
      "execution_count": null,
      "outputs": []
    },
    {
      "cell_type": "code",
      "source": [
        "# Fit\n",
        "pipe = Pipeline([\n",
        "  ('scaler', scaler),\n",
        " ('feature_selection', SelectFromModel(ft_selector)),\n",
        "  ('classifier', model3)\n",
        "])\n",
        "\n",
        "#model = GridSearchCV(pipe, param_grid, scoring='neg_mean_squared_error',cv=5)\n",
        "\n",
        "pipe.fit(X_P1_train, y_P1_train)\n",
        "#svr_cv = model"
      ],
      "metadata": {
        "colab": {
          "base_uri": "https://localhost:8080/"
        },
        "outputId": "9f418c4f-61c8-48e2-8653-72ff0549ad9a",
        "id": "-L42VQ9brGYk"
      },
      "execution_count": null,
      "outputs": [
        {
          "output_type": "execute_result",
          "data": {
            "text/plain": [
              "Pipeline(steps=[('scaler', MinMaxScaler()),\n",
              "                ('feature_selection',\n",
              "                 SelectFromModel(estimator=LogisticRegression(random_state=0,\n",
              "                                                              solver='liblinear'))),\n",
              "                ('classifier', KNeighborsClassifier(n_neighbors=3))])"
            ]
          },
          "metadata": {},
          "execution_count": 318
        }
      ],
      "id": "-L42VQ9brGYk"
    },
    {
      "cell_type": "code",
      "source": [
        "pipe.score(X_P1_train, y_P1_train)"
      ],
      "metadata": {
        "colab": {
          "base_uri": "https://localhost:8080/"
        },
        "outputId": "0494514e-706a-4c02-89fd-cb036f46feff",
        "id": "8SXwWEUTrGYl"
      },
      "execution_count": null,
      "outputs": [
        {
          "output_type": "execute_result",
          "data": {
            "text/plain": [
              "0.9305019305019305"
            ]
          },
          "metadata": {},
          "execution_count": 319
        }
      ],
      "id": "8SXwWEUTrGYl"
    },
    {
      "cell_type": "code",
      "source": [
        "pipe.score(X_P1_val, y_P1_val)"
      ],
      "metadata": {
        "colab": {
          "base_uri": "https://localhost:8080/"
        },
        "outputId": "5e96aec7-d575-4016-877f-ea9636c930ce",
        "id": "d32td5RjrGYl"
      },
      "execution_count": null,
      "outputs": [
        {
          "output_type": "execute_result",
          "data": {
            "text/plain": [
              "0.8774774774774775"
            ]
          },
          "metadata": {},
          "execution_count": 320
        }
      ],
      "id": "d32td5RjrGYl"
    },
    {
      "cell_type": "code",
      "source": [
        "# Utilizamos el modelo entrenado para predecir las etiquetas utilizando los datos de entrenamiento y de test\n",
        "y_P1_train_pred = pipe.predict(X_P1_train)\n",
        "y_P1_test_pred = pipe.predict(X_P1_val)"
      ],
      "metadata": {
        "id": "ivyMtM1WrGYm"
      },
      "execution_count": null,
      "outputs": [],
      "id": "ivyMtM1WrGYm"
    },
    {
      "cell_type": "code",
      "source": [
        "print(\"Entrenamiento utilizando feature_selector\")\n",
        "print(classification_report(y_P1_train, y_P1_train_pred))\n",
        "\n",
        "print(\"Validacion utilizando feature_selector\")\n",
        "print(classification_report(y_P1_val, y_P1_test_pred))"
      ],
      "metadata": {
        "colab": {
          "base_uri": "https://localhost:8080/"
        },
        "outputId": "2432c654-838a-4f9e-81ce-1194813bf363",
        "id": "vPH9vyQ0rGYm"
      },
      "execution_count": null,
      "outputs": [
        {
          "output_type": "stream",
          "name": "stdout",
          "text": [
            "Entrenamiento utilizando feature_selector\n",
            "              precision    recall  f1-score   support\n",
            "\n",
            "         0.0       1.00      0.86      0.93       650\n",
            "         1.0       0.88      1.00      0.93       645\n",
            "\n",
            "    accuracy                           0.93      1295\n",
            "   macro avg       0.94      0.93      0.93      1295\n",
            "weighted avg       0.94      0.93      0.93      1295\n",
            "\n",
            "Validacion utilizando feature_selector\n",
            "              precision    recall  f1-score   support\n",
            "\n",
            "         0.0       1.00      0.75      0.86       275\n",
            "         1.0       0.80      1.00      0.89       280\n",
            "\n",
            "    accuracy                           0.88       555\n",
            "   macro avg       0.90      0.88      0.88       555\n",
            "weighted avg       0.90      0.88      0.88       555\n",
            "\n"
          ]
        }
      ],
      "id": "vPH9vyQ0rGYm"
    },
    {
      "cell_type": "markdown",
      "source": [
        "\n",
        "Anteriormente, analizamos los resultados del modelo utilizando un selector de features (LogisticRegression) comparando con aquellos obtenidos del modelo sin la utilización de este selector. \n",
        "\n",
        "Dado a que nuestro dataset no presenta una dimensión tan grande, y los resultados no muestran un beneficio sustantivo, no vemos la necesidad de utilizar un selector de features. \n",
        "Este análisis fue repetido para otros pacientes y se obtuvieron los mismos resultados, por lo que se obvia el procedimiento de los mismos. "
      ],
      "metadata": {
        "id": "jNVmNl-4rUEt"
      },
      "id": "jNVmNl-4rUEt"
    },
    {
      "cell_type": "markdown",
      "source": [
        "## 2) Seleccion de modelo\n"
      ],
      "metadata": {
        "id": "IQS3oKcDvcqr"
      },
      "id": "IQS3oKcDvcqr"
    },
    {
      "cell_type": "code",
      "source": [
        "from sklearn.svm import SVC, NuSVC\n",
        "from sklearn.ensemble import RandomForestClassifier\n",
        "from sklearn.neighbors import KNeighborsClassifier"
      ],
      "metadata": {
        "id": "EKaLw-_GwHew"
      },
      "id": "EKaLw-_GwHew",
      "execution_count": null,
      "outputs": []
    },
    {
      "cell_type": "code",
      "source": [
        "clfs_P1 = [LogisticRegression(), \n",
        "           SVC(), \n",
        "           NuSVC(), \n",
        "           KNeighborsClassifier(), \n",
        "           RandomForestClassifier()] "
      ],
      "metadata": {
        "id": "rZr62Uf6vf7Y"
      },
      "id": "rZr62Uf6vf7Y",
      "execution_count": null,
      "outputs": []
    },
    {
      "cell_type": "code",
      "source": [
        "for clf in clfs_P1:\n",
        "  print(f\"Probando Modelo {str(clf)}\")\n",
        "  pipe = Pipeline([\n",
        "  ('scaler', scaler),\n",
        "   #('feature_selection', SelectFromModel(ft_selector)),\n",
        "  ('classifier', clf)\n",
        "  ])\n",
        "\n",
        "  pipe.fit(X_P1_train, y_P1_train)\n",
        "#svr_cv = model\n",
        "  pipe.score(X_P1_val, y_P1_val)\n",
        "  # Utilizamos el modelo entrenado para predecir las etiquetas utilizando los datos de entrenamiento y de test\n",
        "  y_P1_train_pred = pipe.predict(X_P1_train)\n",
        "  y_P1_test_pred = pipe.predict(X_P1_val)\n",
        "\n",
        "\n",
        "  print(\"Entrenamiento\")\n",
        "  print(classification_report(y_P1_train, y_P1_train_pred))\n",
        "  print(\"Validacion\")\n",
        "  print(classification_report(y_P1_val, y_P1_test_pred))\n"
      ],
      "metadata": {
        "colab": {
          "base_uri": "https://localhost:8080/"
        },
        "id": "hMuT3m6Twv25",
        "outputId": "c2153143-68ed-4957-e93d-a8655999a320"
      },
      "id": "hMuT3m6Twv25",
      "execution_count": null,
      "outputs": [
        {
          "output_type": "stream",
          "name": "stdout",
          "text": [
            "Probando Modelo LogisticRegression()\n",
            "Entrenamiento\n",
            "              precision    recall  f1-score   support\n",
            "\n",
            "         0.0       0.69      0.65      0.67       650\n",
            "         1.0       0.67      0.71      0.69       645\n",
            "\n",
            "    accuracy                           0.68      1295\n",
            "   macro avg       0.68      0.68      0.68      1295\n",
            "weighted avg       0.68      0.68      0.68      1295\n",
            "\n",
            "Validacion\n",
            "              precision    recall  f1-score   support\n",
            "\n",
            "         0.0       0.72      0.65      0.68       275\n",
            "         1.0       0.68      0.75      0.72       280\n",
            "\n",
            "    accuracy                           0.70       555\n",
            "   macro avg       0.70      0.70      0.70       555\n",
            "weighted avg       0.70      0.70      0.70       555\n",
            "\n",
            "Probando Modelo SVC()\n",
            "Entrenamiento\n",
            "              precision    recall  f1-score   support\n",
            "\n",
            "         0.0       0.80      0.63      0.70       650\n",
            "         1.0       0.69      0.84      0.76       645\n",
            "\n",
            "    accuracy                           0.73      1295\n",
            "   macro avg       0.74      0.73      0.73      1295\n",
            "weighted avg       0.74      0.73      0.73      1295\n",
            "\n",
            "Validacion\n",
            "              precision    recall  f1-score   support\n",
            "\n",
            "         0.0       0.80      0.62      0.70       275\n",
            "         1.0       0.70      0.85      0.76       280\n",
            "\n",
            "    accuracy                           0.74       555\n",
            "   macro avg       0.75      0.73      0.73       555\n",
            "weighted avg       0.75      0.74      0.73       555\n",
            "\n",
            "Probando Modelo NuSVC()\n",
            "Entrenamiento\n",
            "              precision    recall  f1-score   support\n",
            "\n",
            "         0.0       0.87      0.73      0.79       650\n",
            "         1.0       0.77      0.89      0.82       645\n",
            "\n",
            "    accuracy                           0.81      1295\n",
            "   macro avg       0.82      0.81      0.81      1295\n",
            "weighted avg       0.82      0.81      0.81      1295\n",
            "\n",
            "Validacion\n",
            "              precision    recall  f1-score   support\n",
            "\n",
            "         0.0       0.81      0.72      0.76       275\n",
            "         1.0       0.75      0.83      0.79       280\n",
            "\n",
            "    accuracy                           0.78       555\n",
            "   macro avg       0.78      0.78      0.78       555\n",
            "weighted avg       0.78      0.78      0.78       555\n",
            "\n",
            "Probando Modelo KNeighborsClassifier()\n",
            "Entrenamiento\n",
            "              precision    recall  f1-score   support\n",
            "\n",
            "         0.0       1.00      0.75      0.86       650\n",
            "         1.0       0.80      1.00      0.89       645\n",
            "\n",
            "    accuracy                           0.87      1295\n",
            "   macro avg       0.90      0.87      0.87      1295\n",
            "weighted avg       0.90      0.87      0.87      1295\n",
            "\n",
            "Validacion\n",
            "              precision    recall  f1-score   support\n",
            "\n",
            "         0.0       0.98      0.64      0.77       275\n",
            "         1.0       0.73      0.99      0.84       280\n",
            "\n",
            "    accuracy                           0.81       555\n",
            "   macro avg       0.86      0.81      0.81       555\n",
            "weighted avg       0.86      0.81      0.81       555\n",
            "\n",
            "Probando Modelo RandomForestClassifier()\n",
            "Entrenamiento\n",
            "              precision    recall  f1-score   support\n",
            "\n",
            "         0.0       1.00      1.00      1.00       650\n",
            "         1.0       1.00      1.00      1.00       645\n",
            "\n",
            "    accuracy                           1.00      1295\n",
            "   macro avg       1.00      1.00      1.00      1295\n",
            "weighted avg       1.00      1.00      1.00      1295\n",
            "\n",
            "Validacion\n",
            "              precision    recall  f1-score   support\n",
            "\n",
            "         0.0       1.00      0.95      0.97       275\n",
            "         1.0       0.95      1.00      0.98       280\n",
            "\n",
            "    accuracy                           0.97       555\n",
            "   macro avg       0.98      0.97      0.97       555\n",
            "weighted avg       0.98      0.97      0.97       555\n",
            "\n"
          ]
        }
      ]
    },
    {
      "cell_type": "markdown",
      "source": [
        "Para el paciente 1, el modelo que mejor clasifica es el Random Forest Classifier."
      ],
      "metadata": {
        "id": "mBp0eWE2uplb"
      },
      "id": "mBp0eWE2uplb"
    },
    {
      "cell_type": "markdown",
      "source": [
        "# Paciente 2\n",
        "\n"
      ],
      "metadata": {
        "id": "YYGzHVwIpkxd"
      },
      "id": "YYGzHVwIpkxd"
    },
    {
      "cell_type": "markdown",
      "source": [
        "## 1) LogisticRegression"
      ],
      "metadata": {
        "id": "nDkjQXdJpkxe"
      },
      "id": "nDkjQXdJpkxe"
    },
    {
      "cell_type": "markdown",
      "source": [
        "### Balanceo de etiquetas por Random OverSampling:"
      ],
      "metadata": {
        "id": "MH1M3hAWpkxe"
      },
      "id": "MH1M3hAWpkxe"
    },
    {
      "cell_type": "code",
      "source": [
        "eti_2_clean['State'].value_counts()"
      ],
      "metadata": {
        "colab": {
          "base_uri": "https://localhost:8080/"
        },
        "outputId": "f3cea83a-d8c4-47b2-e6b1-6c5e2b62a19a",
        "id": "_V_UR-oOpkxf"
      },
      "execution_count": null,
      "outputs": [
        {
          "output_type": "execute_result",
          "data": {
            "text/plain": [
              "0.0    1767\n",
              "1.0     120\n",
              "Name: State, dtype: int64"
            ]
          },
          "metadata": {},
          "execution_count": 326
        }
      ],
      "id": "_V_UR-oOpkxf"
    },
    {
      "cell_type": "code",
      "source": [
        "y_P2 = eti_2_clean['State']\n",
        "X_P2 = eti_2_clean.drop(columns=['State'])"
      ],
      "metadata": {
        "id": "axR6wmevpkxf"
      },
      "execution_count": null,
      "outputs": [],
      "id": "axR6wmevpkxf"
    },
    {
      "cell_type": "code",
      "source": [
        "sampler = RandomOverSampler(random_state=0)\n",
        "X_P2_resamp_random, y_P2_resamp_random = sampler.fit_resample(X_P2, y_P2)"
      ],
      "metadata": {
        "id": "Ol39hPqKpkxg"
      },
      "execution_count": null,
      "outputs": [],
      "id": "Ol39hPqKpkxg"
    },
    {
      "cell_type": "code",
      "source": [
        "eti_2_balanced = pd.DataFrame(pd.concat([X_P2_resamp_random, y_P2_resamp_random], axis=1), \n",
        "                                    columns=eti_2_clean.columns)"
      ],
      "metadata": {
        "id": "2nTUlxcxpkxg"
      },
      "execution_count": null,
      "outputs": [],
      "id": "2nTUlxcxpkxg"
    },
    {
      "cell_type": "code",
      "source": [
        "print(f'Nuevo tamaño del dataset: {len(eti_2_balanced)}')\n",
        "print('==============================')\n",
        "print(f'Etiquetas:\\n{eti_2_balanced.State.value_counts()}')\n",
        "print('==============================')\n",
        "print('Muestra')\n",
        "eti_2_balanced[:3]"
      ],
      "metadata": {
        "colab": {
          "base_uri": "https://localhost:8080/",
          "height": 282
        },
        "outputId": "f33aff2f-bdc8-4d72-9393-9c7e5766c0d8",
        "id": "DICXiYuvpkxg"
      },
      "execution_count": null,
      "outputs": [
        {
          "output_type": "stream",
          "name": "stdout",
          "text": [
            "Nuevo tamaño del dataset: 3534\n",
            "==============================\n",
            "Etiquetas:\n",
            "0.0    1767\n",
            "1.0    1767\n",
            "Name: State, dtype: int64\n",
            "==============================\n",
            "Muestra\n"
          ]
        },
        {
          "output_type": "execute_result",
          "data": {
            "text/plain": [
              "   Patient  State        PE        SC       GNE        SE       LZC       STE  \\\n",
              "0      2.0    0.0  0.572336  0.285645  0.621824  0.577791  0.377290  0.780848   \n",
              "1      2.0    0.0  0.566942  0.285178  0.612575  0.532172  0.319409  0.775831   \n",
              "2      2.0    0.0  0.552564  0.284369  0.589182  0.529328  0.303794  0.763356   \n",
              "\n",
              "       Mean        Std      Skew  \n",
              "0  0.000009  37.022934 -0.090754  \n",
              "1 -0.000018  44.845233 -0.008312  \n",
              "2  0.000008  49.983464 -0.011894  "
            ],
            "text/html": [
              "\n",
              "  <div id=\"df-d78abedf-2be9-48f5-bc2d-b63151bf9d7a\">\n",
              "    <div class=\"colab-df-container\">\n",
              "      <div>\n",
              "<style scoped>\n",
              "    .dataframe tbody tr th:only-of-type {\n",
              "        vertical-align: middle;\n",
              "    }\n",
              "\n",
              "    .dataframe tbody tr th {\n",
              "        vertical-align: top;\n",
              "    }\n",
              "\n",
              "    .dataframe thead th {\n",
              "        text-align: right;\n",
              "    }\n",
              "</style>\n",
              "<table border=\"1\" class=\"dataframe\">\n",
              "  <thead>\n",
              "    <tr style=\"text-align: right;\">\n",
              "      <th></th>\n",
              "      <th>Patient</th>\n",
              "      <th>State</th>\n",
              "      <th>PE</th>\n",
              "      <th>SC</th>\n",
              "      <th>GNE</th>\n",
              "      <th>SE</th>\n",
              "      <th>LZC</th>\n",
              "      <th>STE</th>\n",
              "      <th>Mean</th>\n",
              "      <th>Std</th>\n",
              "      <th>Skew</th>\n",
              "    </tr>\n",
              "  </thead>\n",
              "  <tbody>\n",
              "    <tr>\n",
              "      <th>0</th>\n",
              "      <td>2.0</td>\n",
              "      <td>0.0</td>\n",
              "      <td>0.572336</td>\n",
              "      <td>0.285645</td>\n",
              "      <td>0.621824</td>\n",
              "      <td>0.577791</td>\n",
              "      <td>0.377290</td>\n",
              "      <td>0.780848</td>\n",
              "      <td>0.000009</td>\n",
              "      <td>37.022934</td>\n",
              "      <td>-0.090754</td>\n",
              "    </tr>\n",
              "    <tr>\n",
              "      <th>1</th>\n",
              "      <td>2.0</td>\n",
              "      <td>0.0</td>\n",
              "      <td>0.566942</td>\n",
              "      <td>0.285178</td>\n",
              "      <td>0.612575</td>\n",
              "      <td>0.532172</td>\n",
              "      <td>0.319409</td>\n",
              "      <td>0.775831</td>\n",
              "      <td>-0.000018</td>\n",
              "      <td>44.845233</td>\n",
              "      <td>-0.008312</td>\n",
              "    </tr>\n",
              "    <tr>\n",
              "      <th>2</th>\n",
              "      <td>2.0</td>\n",
              "      <td>0.0</td>\n",
              "      <td>0.552564</td>\n",
              "      <td>0.284369</td>\n",
              "      <td>0.589182</td>\n",
              "      <td>0.529328</td>\n",
              "      <td>0.303794</td>\n",
              "      <td>0.763356</td>\n",
              "      <td>0.000008</td>\n",
              "      <td>49.983464</td>\n",
              "      <td>-0.011894</td>\n",
              "    </tr>\n",
              "  </tbody>\n",
              "</table>\n",
              "</div>\n",
              "      <button class=\"colab-df-convert\" onclick=\"convertToInteractive('df-d78abedf-2be9-48f5-bc2d-b63151bf9d7a')\"\n",
              "              title=\"Convert this dataframe to an interactive table.\"\n",
              "              style=\"display:none;\">\n",
              "        \n",
              "  <svg xmlns=\"http://www.w3.org/2000/svg\" height=\"24px\"viewBox=\"0 0 24 24\"\n",
              "       width=\"24px\">\n",
              "    <path d=\"M0 0h24v24H0V0z\" fill=\"none\"/>\n",
              "    <path d=\"M18.56 5.44l.94 2.06.94-2.06 2.06-.94-2.06-.94-.94-2.06-.94 2.06-2.06.94zm-11 1L8.5 8.5l.94-2.06 2.06-.94-2.06-.94L8.5 2.5l-.94 2.06-2.06.94zm10 10l.94 2.06.94-2.06 2.06-.94-2.06-.94-.94-2.06-.94 2.06-2.06.94z\"/><path d=\"M17.41 7.96l-1.37-1.37c-.4-.4-.92-.59-1.43-.59-.52 0-1.04.2-1.43.59L10.3 9.45l-7.72 7.72c-.78.78-.78 2.05 0 2.83L4 21.41c.39.39.9.59 1.41.59.51 0 1.02-.2 1.41-.59l7.78-7.78 2.81-2.81c.8-.78.8-2.07 0-2.86zM5.41 20L4 18.59l7.72-7.72 1.47 1.35L5.41 20z\"/>\n",
              "  </svg>\n",
              "      </button>\n",
              "      \n",
              "  <style>\n",
              "    .colab-df-container {\n",
              "      display:flex;\n",
              "      flex-wrap:wrap;\n",
              "      gap: 12px;\n",
              "    }\n",
              "\n",
              "    .colab-df-convert {\n",
              "      background-color: #E8F0FE;\n",
              "      border: none;\n",
              "      border-radius: 50%;\n",
              "      cursor: pointer;\n",
              "      display: none;\n",
              "      fill: #1967D2;\n",
              "      height: 32px;\n",
              "      padding: 0 0 0 0;\n",
              "      width: 32px;\n",
              "    }\n",
              "\n",
              "    .colab-df-convert:hover {\n",
              "      background-color: #E2EBFA;\n",
              "      box-shadow: 0px 1px 2px rgba(60, 64, 67, 0.3), 0px 1px 3px 1px rgba(60, 64, 67, 0.15);\n",
              "      fill: #174EA6;\n",
              "    }\n",
              "\n",
              "    [theme=dark] .colab-df-convert {\n",
              "      background-color: #3B4455;\n",
              "      fill: #D2E3FC;\n",
              "    }\n",
              "\n",
              "    [theme=dark] .colab-df-convert:hover {\n",
              "      background-color: #434B5C;\n",
              "      box-shadow: 0px 1px 3px 1px rgba(0, 0, 0, 0.15);\n",
              "      filter: drop-shadow(0px 1px 2px rgba(0, 0, 0, 0.3));\n",
              "      fill: #FFFFFF;\n",
              "    }\n",
              "  </style>\n",
              "\n",
              "      <script>\n",
              "        const buttonEl =\n",
              "          document.querySelector('#df-d78abedf-2be9-48f5-bc2d-b63151bf9d7a button.colab-df-convert');\n",
              "        buttonEl.style.display =\n",
              "          google.colab.kernel.accessAllowed ? 'block' : 'none';\n",
              "\n",
              "        async function convertToInteractive(key) {\n",
              "          const element = document.querySelector('#df-d78abedf-2be9-48f5-bc2d-b63151bf9d7a');\n",
              "          const dataTable =\n",
              "            await google.colab.kernel.invokeFunction('convertToInteractive',\n",
              "                                                     [key], {});\n",
              "          if (!dataTable) return;\n",
              "\n",
              "          const docLinkHtml = 'Like what you see? Visit the ' +\n",
              "            '<a target=\"_blank\" href=https://colab.research.google.com/notebooks/data_table.ipynb>data table notebook</a>'\n",
              "            + ' to learn more about interactive tables.';\n",
              "          element.innerHTML = '';\n",
              "          dataTable['output_type'] = 'display_data';\n",
              "          await google.colab.output.renderOutput(dataTable, element);\n",
              "          const docLink = document.createElement('div');\n",
              "          docLink.innerHTML = docLinkHtml;\n",
              "          element.appendChild(docLink);\n",
              "        }\n",
              "      </script>\n",
              "    </div>\n",
              "  </div>\n",
              "  "
            ]
          },
          "metadata": {},
          "execution_count": 330
        }
      ],
      "id": "DICXiYuvpkxg"
    },
    {
      "cell_type": "code",
      "source": [
        "print(len(eti_2_balanced))\n",
        "eti_2_balanced[:5]"
      ],
      "metadata": {
        "colab": {
          "base_uri": "https://localhost:8080/",
          "height": 224
        },
        "outputId": "653da710-e3d7-4fa1-9bb0-d8425fa6b6e9",
        "id": "N_gpbaI3pkxh"
      },
      "execution_count": null,
      "outputs": [
        {
          "output_type": "stream",
          "name": "stdout",
          "text": [
            "3534\n"
          ]
        },
        {
          "output_type": "execute_result",
          "data": {
            "text/plain": [
              "   Patient  State        PE        SC       GNE        SE       LZC       STE  \\\n",
              "0      2.0    0.0  0.572336  0.285645  0.621824  0.577791  0.377290  0.780848   \n",
              "1      2.0    0.0  0.566942  0.285178  0.612575  0.532172  0.319409  0.775831   \n",
              "2      2.0    0.0  0.552564  0.284369  0.589182  0.529328  0.303794  0.763356   \n",
              "3      2.0    0.0  0.556818  0.284258  0.595606  0.508472  0.286661  0.766666   \n",
              "4      2.0    1.0  0.565710  0.286255  0.611683  0.576527  0.364277  0.775487   \n",
              "\n",
              "           Mean        Std      Skew  \n",
              "0  8.877483e-06  37.022934 -0.090754  \n",
              "1 -1.764079e-05  44.845233 -0.008312  \n",
              "2  8.149561e-06  49.983464 -0.011894  \n",
              "3  2.663218e-07  48.789913  0.027541  \n",
              "4 -1.245249e-05  36.183497 -0.319746  "
            ],
            "text/html": [
              "\n",
              "  <div id=\"df-3adbc629-7e40-4334-b961-c626a6438bd9\">\n",
              "    <div class=\"colab-df-container\">\n",
              "      <div>\n",
              "<style scoped>\n",
              "    .dataframe tbody tr th:only-of-type {\n",
              "        vertical-align: middle;\n",
              "    }\n",
              "\n",
              "    .dataframe tbody tr th {\n",
              "        vertical-align: top;\n",
              "    }\n",
              "\n",
              "    .dataframe thead th {\n",
              "        text-align: right;\n",
              "    }\n",
              "</style>\n",
              "<table border=\"1\" class=\"dataframe\">\n",
              "  <thead>\n",
              "    <tr style=\"text-align: right;\">\n",
              "      <th></th>\n",
              "      <th>Patient</th>\n",
              "      <th>State</th>\n",
              "      <th>PE</th>\n",
              "      <th>SC</th>\n",
              "      <th>GNE</th>\n",
              "      <th>SE</th>\n",
              "      <th>LZC</th>\n",
              "      <th>STE</th>\n",
              "      <th>Mean</th>\n",
              "      <th>Std</th>\n",
              "      <th>Skew</th>\n",
              "    </tr>\n",
              "  </thead>\n",
              "  <tbody>\n",
              "    <tr>\n",
              "      <th>0</th>\n",
              "      <td>2.0</td>\n",
              "      <td>0.0</td>\n",
              "      <td>0.572336</td>\n",
              "      <td>0.285645</td>\n",
              "      <td>0.621824</td>\n",
              "      <td>0.577791</td>\n",
              "      <td>0.377290</td>\n",
              "      <td>0.780848</td>\n",
              "      <td>8.877483e-06</td>\n",
              "      <td>37.022934</td>\n",
              "      <td>-0.090754</td>\n",
              "    </tr>\n",
              "    <tr>\n",
              "      <th>1</th>\n",
              "      <td>2.0</td>\n",
              "      <td>0.0</td>\n",
              "      <td>0.566942</td>\n",
              "      <td>0.285178</td>\n",
              "      <td>0.612575</td>\n",
              "      <td>0.532172</td>\n",
              "      <td>0.319409</td>\n",
              "      <td>0.775831</td>\n",
              "      <td>-1.764079e-05</td>\n",
              "      <td>44.845233</td>\n",
              "      <td>-0.008312</td>\n",
              "    </tr>\n",
              "    <tr>\n",
              "      <th>2</th>\n",
              "      <td>2.0</td>\n",
              "      <td>0.0</td>\n",
              "      <td>0.552564</td>\n",
              "      <td>0.284369</td>\n",
              "      <td>0.589182</td>\n",
              "      <td>0.529328</td>\n",
              "      <td>0.303794</td>\n",
              "      <td>0.763356</td>\n",
              "      <td>8.149561e-06</td>\n",
              "      <td>49.983464</td>\n",
              "      <td>-0.011894</td>\n",
              "    </tr>\n",
              "    <tr>\n",
              "      <th>3</th>\n",
              "      <td>2.0</td>\n",
              "      <td>0.0</td>\n",
              "      <td>0.556818</td>\n",
              "      <td>0.284258</td>\n",
              "      <td>0.595606</td>\n",
              "      <td>0.508472</td>\n",
              "      <td>0.286661</td>\n",
              "      <td>0.766666</td>\n",
              "      <td>2.663218e-07</td>\n",
              "      <td>48.789913</td>\n",
              "      <td>0.027541</td>\n",
              "    </tr>\n",
              "    <tr>\n",
              "      <th>4</th>\n",
              "      <td>2.0</td>\n",
              "      <td>1.0</td>\n",
              "      <td>0.565710</td>\n",
              "      <td>0.286255</td>\n",
              "      <td>0.611683</td>\n",
              "      <td>0.576527</td>\n",
              "      <td>0.364277</td>\n",
              "      <td>0.775487</td>\n",
              "      <td>-1.245249e-05</td>\n",
              "      <td>36.183497</td>\n",
              "      <td>-0.319746</td>\n",
              "    </tr>\n",
              "  </tbody>\n",
              "</table>\n",
              "</div>\n",
              "      <button class=\"colab-df-convert\" onclick=\"convertToInteractive('df-3adbc629-7e40-4334-b961-c626a6438bd9')\"\n",
              "              title=\"Convert this dataframe to an interactive table.\"\n",
              "              style=\"display:none;\">\n",
              "        \n",
              "  <svg xmlns=\"http://www.w3.org/2000/svg\" height=\"24px\"viewBox=\"0 0 24 24\"\n",
              "       width=\"24px\">\n",
              "    <path d=\"M0 0h24v24H0V0z\" fill=\"none\"/>\n",
              "    <path d=\"M18.56 5.44l.94 2.06.94-2.06 2.06-.94-2.06-.94-.94-2.06-.94 2.06-2.06.94zm-11 1L8.5 8.5l.94-2.06 2.06-.94-2.06-.94L8.5 2.5l-.94 2.06-2.06.94zm10 10l.94 2.06.94-2.06 2.06-.94-2.06-.94-.94-2.06-.94 2.06-2.06.94z\"/><path d=\"M17.41 7.96l-1.37-1.37c-.4-.4-.92-.59-1.43-.59-.52 0-1.04.2-1.43.59L10.3 9.45l-7.72 7.72c-.78.78-.78 2.05 0 2.83L4 21.41c.39.39.9.59 1.41.59.51 0 1.02-.2 1.41-.59l7.78-7.78 2.81-2.81c.8-.78.8-2.07 0-2.86zM5.41 20L4 18.59l7.72-7.72 1.47 1.35L5.41 20z\"/>\n",
              "  </svg>\n",
              "      </button>\n",
              "      \n",
              "  <style>\n",
              "    .colab-df-container {\n",
              "      display:flex;\n",
              "      flex-wrap:wrap;\n",
              "      gap: 12px;\n",
              "    }\n",
              "\n",
              "    .colab-df-convert {\n",
              "      background-color: #E8F0FE;\n",
              "      border: none;\n",
              "      border-radius: 50%;\n",
              "      cursor: pointer;\n",
              "      display: none;\n",
              "      fill: #1967D2;\n",
              "      height: 32px;\n",
              "      padding: 0 0 0 0;\n",
              "      width: 32px;\n",
              "    }\n",
              "\n",
              "    .colab-df-convert:hover {\n",
              "      background-color: #E2EBFA;\n",
              "      box-shadow: 0px 1px 2px rgba(60, 64, 67, 0.3), 0px 1px 3px 1px rgba(60, 64, 67, 0.15);\n",
              "      fill: #174EA6;\n",
              "    }\n",
              "\n",
              "    [theme=dark] .colab-df-convert {\n",
              "      background-color: #3B4455;\n",
              "      fill: #D2E3FC;\n",
              "    }\n",
              "\n",
              "    [theme=dark] .colab-df-convert:hover {\n",
              "      background-color: #434B5C;\n",
              "      box-shadow: 0px 1px 3px 1px rgba(0, 0, 0, 0.15);\n",
              "      filter: drop-shadow(0px 1px 2px rgba(0, 0, 0, 0.3));\n",
              "      fill: #FFFFFF;\n",
              "    }\n",
              "  </style>\n",
              "\n",
              "      <script>\n",
              "        const buttonEl =\n",
              "          document.querySelector('#df-3adbc629-7e40-4334-b961-c626a6438bd9 button.colab-df-convert');\n",
              "        buttonEl.style.display =\n",
              "          google.colab.kernel.accessAllowed ? 'block' : 'none';\n",
              "\n",
              "        async function convertToInteractive(key) {\n",
              "          const element = document.querySelector('#df-3adbc629-7e40-4334-b961-c626a6438bd9');\n",
              "          const dataTable =\n",
              "            await google.colab.kernel.invokeFunction('convertToInteractive',\n",
              "                                                     [key], {});\n",
              "          if (!dataTable) return;\n",
              "\n",
              "          const docLinkHtml = 'Like what you see? Visit the ' +\n",
              "            '<a target=\"_blank\" href=https://colab.research.google.com/notebooks/data_table.ipynb>data table notebook</a>'\n",
              "            + ' to learn more about interactive tables.';\n",
              "          element.innerHTML = '';\n",
              "          dataTable['output_type'] = 'display_data';\n",
              "          await google.colab.output.renderOutput(dataTable, element);\n",
              "          const docLink = document.createElement('div');\n",
              "          docLink.innerHTML = docLinkHtml;\n",
              "          element.appendChild(docLink);\n",
              "        }\n",
              "      </script>\n",
              "    </div>\n",
              "  </div>\n",
              "  "
            ]
          },
          "metadata": {},
          "execution_count": 331
        }
      ],
      "id": "N_gpbaI3pkxh"
    },
    {
      "cell_type": "code",
      "source": [
        "#Modelo"
      ],
      "metadata": {
        "id": "MRedXY0fpkxh"
      },
      "execution_count": null,
      "outputs": [],
      "id": "MRedXY0fpkxh"
    },
    {
      "cell_type": "code",
      "source": [
        "X_P2 = eti_2_balanced.drop(labels=['State','Patient'], axis=1)\n",
        "y_P2 = eti_2_balanced['State']"
      ],
      "metadata": {
        "id": "pHp1W9Efpkxh"
      },
      "execution_count": null,
      "outputs": [],
      "id": "pHp1W9Efpkxh"
    },
    {
      "cell_type": "code",
      "source": [
        "# Train and validation\n",
        "X_P2_train, X_P2_val, y_P2_train, y_P2_val = train_test_split(X_P2, y_P2, test_size=0.30, random_state=42, shuffle=True)"
      ],
      "metadata": {
        "id": "K6ogp0pIpkxh"
      },
      "execution_count": null,
      "outputs": [],
      "id": "K6ogp0pIpkxh"
    },
    {
      "cell_type": "code",
      "source": [
        "scaler = MinMaxScaler()\n",
        "ft_selector = LogisticRegression(random_state=0, penalty='l2', solver='liblinear')\n",
        "param_grid = {\n",
        "    'classifier__penalty': ['l1', 'l2'],\n",
        "    'classifier__random_state': [0],\n",
        "    'classifier__solver': ['liblinear'],\n",
        "    'classifier__class_weight': ['balanced']\n",
        "}\n",
        "model3 = KNeighborsClassifier(n_neighbors=3)"
      ],
      "metadata": {
        "id": "LzUrDNLApkxh"
      },
      "execution_count": null,
      "outputs": [],
      "id": "LzUrDNLApkxh"
    },
    {
      "cell_type": "code",
      "source": [
        "# Fit\n",
        "pipe = Pipeline([\n",
        "  ('scaler', scaler),\n",
        "  ('feature_selection', SelectFromModel(ft_selector)),\n",
        "  ('classifier', model3)\n",
        "])\n",
        "\n",
        "#model = GridSearchCV(pipe, param_grid, scoring='neg_mean_squared_error',cv=5)\n",
        "\n",
        "pipe.fit(X_P2_train, y_P2_train)\n",
        "#svr_cv = model"
      ],
      "metadata": {
        "colab": {
          "base_uri": "https://localhost:8080/"
        },
        "outputId": "cbe4cbc2-0fac-43ff-952e-20e15c888fab",
        "id": "pBpLLvVMpkxi"
      },
      "execution_count": null,
      "outputs": [
        {
          "output_type": "execute_result",
          "data": {
            "text/plain": [
              "Pipeline(steps=[('scaler', MinMaxScaler()),\n",
              "                ('feature_selection',\n",
              "                 SelectFromModel(estimator=LogisticRegression(random_state=0,\n",
              "                                                              solver='liblinear'))),\n",
              "                ('classifier', KNeighborsClassifier(n_neighbors=3))])"
            ]
          },
          "metadata": {},
          "execution_count": 336
        }
      ],
      "id": "pBpLLvVMpkxi"
    },
    {
      "cell_type": "code",
      "source": [
        "pipe.score(X_P2_train, y_P2_train)"
      ],
      "metadata": {
        "colab": {
          "base_uri": "https://localhost:8080/"
        },
        "outputId": "f268864c-af96-4de4-ef2d-04b2c2a4af35",
        "id": "DHQKSpMupkxi"
      },
      "execution_count": null,
      "outputs": [
        {
          "output_type": "execute_result",
          "data": {
            "text/plain": [
              "0.9611807521229276"
            ]
          },
          "metadata": {},
          "execution_count": 337
        }
      ],
      "id": "DHQKSpMupkxi"
    },
    {
      "cell_type": "code",
      "source": [
        "pipe.score(X_P2_val, y_P2_val)"
      ],
      "metadata": {
        "colab": {
          "base_uri": "https://localhost:8080/"
        },
        "outputId": "1d3b26c2-9e4a-4d41-d8ba-93b1d8edf8fa",
        "id": "KLpuz6oupkxi"
      },
      "execution_count": null,
      "outputs": [
        {
          "output_type": "execute_result",
          "data": {
            "text/plain": [
              "0.9029217719132894"
            ]
          },
          "metadata": {},
          "execution_count": 338
        }
      ],
      "id": "KLpuz6oupkxi"
    },
    {
      "cell_type": "code",
      "source": [
        "# Utilizamos el modelo entrenado para predecir las etiquetas utilizando los datos de entrenamiento y de test\n",
        "y_P2_train_pred = pipe.predict(X_P2_train)\n",
        "y_P2_test_pred = pipe.predict(X_P2_val)"
      ],
      "metadata": {
        "id": "MIX6_Vykpkxi"
      },
      "execution_count": null,
      "outputs": [],
      "id": "MIX6_Vykpkxi"
    },
    {
      "cell_type": "code",
      "source": [
        "print(\"Entrenamiento\")\n",
        "print(classification_report(y_P2_train, y_P2_train_pred))\n",
        "\n",
        "print(\"Validacion\")\n",
        "print(classification_report(y_P2_val, y_P2_test_pred))"
      ],
      "metadata": {
        "colab": {
          "base_uri": "https://localhost:8080/"
        },
        "outputId": "49934084-fc2f-4982-df1e-0866df833f84",
        "id": "g7U7EZGhpkxi"
      },
      "execution_count": null,
      "outputs": [
        {
          "output_type": "stream",
          "name": "stdout",
          "text": [
            "Entrenamiento\n",
            "              precision    recall  f1-score   support\n",
            "\n",
            "         0.0       1.00      0.92      0.96      1214\n",
            "         1.0       0.93      1.00      0.96      1259\n",
            "\n",
            "    accuracy                           0.96      2473\n",
            "   macro avg       0.96      0.96      0.96      2473\n",
            "weighted avg       0.96      0.96      0.96      2473\n",
            "\n",
            "Validacion\n",
            "              precision    recall  f1-score   support\n",
            "\n",
            "         0.0       1.00      0.81      0.90       553\n",
            "         1.0       0.83      1.00      0.91       508\n",
            "\n",
            "    accuracy                           0.90      1061\n",
            "   macro avg       0.92      0.91      0.90      1061\n",
            "weighted avg       0.92      0.90      0.90      1061\n",
            "\n"
          ]
        }
      ],
      "id": "g7U7EZGhpkxi"
    },
    {
      "cell_type": "code",
      "source": [
        "eti_2_clean['State'].value_counts()"
      ],
      "metadata": {
        "colab": {
          "base_uri": "https://localhost:8080/"
        },
        "outputId": "85df996a-f6a4-40fc-8838-6735401f1030",
        "id": "ph72FXSnsYnm"
      },
      "execution_count": null,
      "outputs": [
        {
          "output_type": "execute_result",
          "data": {
            "text/plain": [
              "0.0    1767\n",
              "1.0     120\n",
              "Name: State, dtype: int64"
            ]
          },
          "metadata": {},
          "execution_count": 341
        }
      ],
      "id": "ph72FXSnsYnm"
    },
    {
      "cell_type": "code",
      "source": [
        "y_P2 = eti_2_clean['State']\n",
        "X_P2 = eti_2_clean.drop(columns=['State'])"
      ],
      "metadata": {
        "id": "USyFs0nBsYnn"
      },
      "execution_count": null,
      "outputs": [],
      "id": "USyFs0nBsYnn"
    },
    {
      "cell_type": "code",
      "source": [
        "sampler = RandomOverSampler(random_state=0)\n",
        "X_P2_resamp_random, y_P2_resamp_random = sampler.fit_resample(X_P2, y_P2)"
      ],
      "metadata": {
        "id": "QpQpClLSsYnn"
      },
      "execution_count": null,
      "outputs": [],
      "id": "QpQpClLSsYnn"
    },
    {
      "cell_type": "code",
      "source": [
        "eti_2_balanced = pd.DataFrame(pd.concat([X_P2_resamp_random, y_P2_resamp_random], axis=1), \n",
        "                                    columns=eti_2_clean.columns)"
      ],
      "metadata": {
        "id": "7ZeaQ_ZJsYnn"
      },
      "execution_count": null,
      "outputs": [],
      "id": "7ZeaQ_ZJsYnn"
    },
    {
      "cell_type": "code",
      "source": [
        "print(f'Nuevo tamaño del dataset: {len(eti_2_balanced)}')\n",
        "print('==============================')\n",
        "print(f'Etiquetas:\\n{eti_2_balanced.State.value_counts()}')\n",
        "print('==============================')\n",
        "print('Muestra')\n",
        "eti_2_balanced[:3]"
      ],
      "metadata": {
        "colab": {
          "base_uri": "https://localhost:8080/",
          "height": 282
        },
        "outputId": "155e434d-524b-4fd9-d264-c4d3838f3f26",
        "id": "rEVyuRlqsYnn"
      },
      "execution_count": null,
      "outputs": [
        {
          "output_type": "stream",
          "name": "stdout",
          "text": [
            "Nuevo tamaño del dataset: 3534\n",
            "==============================\n",
            "Etiquetas:\n",
            "0.0    1767\n",
            "1.0    1767\n",
            "Name: State, dtype: int64\n",
            "==============================\n",
            "Muestra\n"
          ]
        },
        {
          "output_type": "execute_result",
          "data": {
            "text/plain": [
              "   Patient  State        PE        SC       GNE        SE       LZC       STE  \\\n",
              "0      2.0    0.0  0.572336  0.285645  0.621824  0.577791  0.377290  0.780848   \n",
              "1      2.0    0.0  0.566942  0.285178  0.612575  0.532172  0.319409  0.775831   \n",
              "2      2.0    0.0  0.552564  0.284369  0.589182  0.529328  0.303794  0.763356   \n",
              "\n",
              "       Mean        Std      Skew  \n",
              "0  0.000009  37.022934 -0.090754  \n",
              "1 -0.000018  44.845233 -0.008312  \n",
              "2  0.000008  49.983464 -0.011894  "
            ],
            "text/html": [
              "\n",
              "  <div id=\"df-546d7bb8-e878-4081-af37-03ba931f517c\">\n",
              "    <div class=\"colab-df-container\">\n",
              "      <div>\n",
              "<style scoped>\n",
              "    .dataframe tbody tr th:only-of-type {\n",
              "        vertical-align: middle;\n",
              "    }\n",
              "\n",
              "    .dataframe tbody tr th {\n",
              "        vertical-align: top;\n",
              "    }\n",
              "\n",
              "    .dataframe thead th {\n",
              "        text-align: right;\n",
              "    }\n",
              "</style>\n",
              "<table border=\"1\" class=\"dataframe\">\n",
              "  <thead>\n",
              "    <tr style=\"text-align: right;\">\n",
              "      <th></th>\n",
              "      <th>Patient</th>\n",
              "      <th>State</th>\n",
              "      <th>PE</th>\n",
              "      <th>SC</th>\n",
              "      <th>GNE</th>\n",
              "      <th>SE</th>\n",
              "      <th>LZC</th>\n",
              "      <th>STE</th>\n",
              "      <th>Mean</th>\n",
              "      <th>Std</th>\n",
              "      <th>Skew</th>\n",
              "    </tr>\n",
              "  </thead>\n",
              "  <tbody>\n",
              "    <tr>\n",
              "      <th>0</th>\n",
              "      <td>2.0</td>\n",
              "      <td>0.0</td>\n",
              "      <td>0.572336</td>\n",
              "      <td>0.285645</td>\n",
              "      <td>0.621824</td>\n",
              "      <td>0.577791</td>\n",
              "      <td>0.377290</td>\n",
              "      <td>0.780848</td>\n",
              "      <td>0.000009</td>\n",
              "      <td>37.022934</td>\n",
              "      <td>-0.090754</td>\n",
              "    </tr>\n",
              "    <tr>\n",
              "      <th>1</th>\n",
              "      <td>2.0</td>\n",
              "      <td>0.0</td>\n",
              "      <td>0.566942</td>\n",
              "      <td>0.285178</td>\n",
              "      <td>0.612575</td>\n",
              "      <td>0.532172</td>\n",
              "      <td>0.319409</td>\n",
              "      <td>0.775831</td>\n",
              "      <td>-0.000018</td>\n",
              "      <td>44.845233</td>\n",
              "      <td>-0.008312</td>\n",
              "    </tr>\n",
              "    <tr>\n",
              "      <th>2</th>\n",
              "      <td>2.0</td>\n",
              "      <td>0.0</td>\n",
              "      <td>0.552564</td>\n",
              "      <td>0.284369</td>\n",
              "      <td>0.589182</td>\n",
              "      <td>0.529328</td>\n",
              "      <td>0.303794</td>\n",
              "      <td>0.763356</td>\n",
              "      <td>0.000008</td>\n",
              "      <td>49.983464</td>\n",
              "      <td>-0.011894</td>\n",
              "    </tr>\n",
              "  </tbody>\n",
              "</table>\n",
              "</div>\n",
              "      <button class=\"colab-df-convert\" onclick=\"convertToInteractive('df-546d7bb8-e878-4081-af37-03ba931f517c')\"\n",
              "              title=\"Convert this dataframe to an interactive table.\"\n",
              "              style=\"display:none;\">\n",
              "        \n",
              "  <svg xmlns=\"http://www.w3.org/2000/svg\" height=\"24px\"viewBox=\"0 0 24 24\"\n",
              "       width=\"24px\">\n",
              "    <path d=\"M0 0h24v24H0V0z\" fill=\"none\"/>\n",
              "    <path d=\"M18.56 5.44l.94 2.06.94-2.06 2.06-.94-2.06-.94-.94-2.06-.94 2.06-2.06.94zm-11 1L8.5 8.5l.94-2.06 2.06-.94-2.06-.94L8.5 2.5l-.94 2.06-2.06.94zm10 10l.94 2.06.94-2.06 2.06-.94-2.06-.94-.94-2.06-.94 2.06-2.06.94z\"/><path d=\"M17.41 7.96l-1.37-1.37c-.4-.4-.92-.59-1.43-.59-.52 0-1.04.2-1.43.59L10.3 9.45l-7.72 7.72c-.78.78-.78 2.05 0 2.83L4 21.41c.39.39.9.59 1.41.59.51 0 1.02-.2 1.41-.59l7.78-7.78 2.81-2.81c.8-.78.8-2.07 0-2.86zM5.41 20L4 18.59l7.72-7.72 1.47 1.35L5.41 20z\"/>\n",
              "  </svg>\n",
              "      </button>\n",
              "      \n",
              "  <style>\n",
              "    .colab-df-container {\n",
              "      display:flex;\n",
              "      flex-wrap:wrap;\n",
              "      gap: 12px;\n",
              "    }\n",
              "\n",
              "    .colab-df-convert {\n",
              "      background-color: #E8F0FE;\n",
              "      border: none;\n",
              "      border-radius: 50%;\n",
              "      cursor: pointer;\n",
              "      display: none;\n",
              "      fill: #1967D2;\n",
              "      height: 32px;\n",
              "      padding: 0 0 0 0;\n",
              "      width: 32px;\n",
              "    }\n",
              "\n",
              "    .colab-df-convert:hover {\n",
              "      background-color: #E2EBFA;\n",
              "      box-shadow: 0px 1px 2px rgba(60, 64, 67, 0.3), 0px 1px 3px 1px rgba(60, 64, 67, 0.15);\n",
              "      fill: #174EA6;\n",
              "    }\n",
              "\n",
              "    [theme=dark] .colab-df-convert {\n",
              "      background-color: #3B4455;\n",
              "      fill: #D2E3FC;\n",
              "    }\n",
              "\n",
              "    [theme=dark] .colab-df-convert:hover {\n",
              "      background-color: #434B5C;\n",
              "      box-shadow: 0px 1px 3px 1px rgba(0, 0, 0, 0.15);\n",
              "      filter: drop-shadow(0px 1px 2px rgba(0, 0, 0, 0.3));\n",
              "      fill: #FFFFFF;\n",
              "    }\n",
              "  </style>\n",
              "\n",
              "      <script>\n",
              "        const buttonEl =\n",
              "          document.querySelector('#df-546d7bb8-e878-4081-af37-03ba931f517c button.colab-df-convert');\n",
              "        buttonEl.style.display =\n",
              "          google.colab.kernel.accessAllowed ? 'block' : 'none';\n",
              "\n",
              "        async function convertToInteractive(key) {\n",
              "          const element = document.querySelector('#df-546d7bb8-e878-4081-af37-03ba931f517c');\n",
              "          const dataTable =\n",
              "            await google.colab.kernel.invokeFunction('convertToInteractive',\n",
              "                                                     [key], {});\n",
              "          if (!dataTable) return;\n",
              "\n",
              "          const docLinkHtml = 'Like what you see? Visit the ' +\n",
              "            '<a target=\"_blank\" href=https://colab.research.google.com/notebooks/data_table.ipynb>data table notebook</a>'\n",
              "            + ' to learn more about interactive tables.';\n",
              "          element.innerHTML = '';\n",
              "          dataTable['output_type'] = 'display_data';\n",
              "          await google.colab.output.renderOutput(dataTable, element);\n",
              "          const docLink = document.createElement('div');\n",
              "          docLink.innerHTML = docLinkHtml;\n",
              "          element.appendChild(docLink);\n",
              "        }\n",
              "      </script>\n",
              "    </div>\n",
              "  </div>\n",
              "  "
            ]
          },
          "metadata": {},
          "execution_count": 345
        }
      ],
      "id": "rEVyuRlqsYnn"
    },
    {
      "cell_type": "code",
      "source": [
        "print(len(eti_2_balanced))\n",
        "eti_2_balanced[:5]"
      ],
      "metadata": {
        "colab": {
          "base_uri": "https://localhost:8080/",
          "height": 224
        },
        "outputId": "f5654091-e7f8-448c-83bb-e39c83d4890d",
        "id": "bcjON2yLsYnn"
      },
      "execution_count": null,
      "outputs": [
        {
          "output_type": "stream",
          "name": "stdout",
          "text": [
            "3534\n"
          ]
        },
        {
          "output_type": "execute_result",
          "data": {
            "text/plain": [
              "   Patient  State        PE        SC       GNE        SE       LZC       STE  \\\n",
              "0      2.0    0.0  0.572336  0.285645  0.621824  0.577791  0.377290  0.780848   \n",
              "1      2.0    0.0  0.566942  0.285178  0.612575  0.532172  0.319409  0.775831   \n",
              "2      2.0    0.0  0.552564  0.284369  0.589182  0.529328  0.303794  0.763356   \n",
              "3      2.0    0.0  0.556818  0.284258  0.595606  0.508472  0.286661  0.766666   \n",
              "4      2.0    1.0  0.565710  0.286255  0.611683  0.576527  0.364277  0.775487   \n",
              "\n",
              "           Mean        Std      Skew  \n",
              "0  8.877483e-06  37.022934 -0.090754  \n",
              "1 -1.764079e-05  44.845233 -0.008312  \n",
              "2  8.149561e-06  49.983464 -0.011894  \n",
              "3  2.663218e-07  48.789913  0.027541  \n",
              "4 -1.245249e-05  36.183497 -0.319746  "
            ],
            "text/html": [
              "\n",
              "  <div id=\"df-a413e03e-f52f-4c55-a3fa-9eb6d147cba5\">\n",
              "    <div class=\"colab-df-container\">\n",
              "      <div>\n",
              "<style scoped>\n",
              "    .dataframe tbody tr th:only-of-type {\n",
              "        vertical-align: middle;\n",
              "    }\n",
              "\n",
              "    .dataframe tbody tr th {\n",
              "        vertical-align: top;\n",
              "    }\n",
              "\n",
              "    .dataframe thead th {\n",
              "        text-align: right;\n",
              "    }\n",
              "</style>\n",
              "<table border=\"1\" class=\"dataframe\">\n",
              "  <thead>\n",
              "    <tr style=\"text-align: right;\">\n",
              "      <th></th>\n",
              "      <th>Patient</th>\n",
              "      <th>State</th>\n",
              "      <th>PE</th>\n",
              "      <th>SC</th>\n",
              "      <th>GNE</th>\n",
              "      <th>SE</th>\n",
              "      <th>LZC</th>\n",
              "      <th>STE</th>\n",
              "      <th>Mean</th>\n",
              "      <th>Std</th>\n",
              "      <th>Skew</th>\n",
              "    </tr>\n",
              "  </thead>\n",
              "  <tbody>\n",
              "    <tr>\n",
              "      <th>0</th>\n",
              "      <td>2.0</td>\n",
              "      <td>0.0</td>\n",
              "      <td>0.572336</td>\n",
              "      <td>0.285645</td>\n",
              "      <td>0.621824</td>\n",
              "      <td>0.577791</td>\n",
              "      <td>0.377290</td>\n",
              "      <td>0.780848</td>\n",
              "      <td>8.877483e-06</td>\n",
              "      <td>37.022934</td>\n",
              "      <td>-0.090754</td>\n",
              "    </tr>\n",
              "    <tr>\n",
              "      <th>1</th>\n",
              "      <td>2.0</td>\n",
              "      <td>0.0</td>\n",
              "      <td>0.566942</td>\n",
              "      <td>0.285178</td>\n",
              "      <td>0.612575</td>\n",
              "      <td>0.532172</td>\n",
              "      <td>0.319409</td>\n",
              "      <td>0.775831</td>\n",
              "      <td>-1.764079e-05</td>\n",
              "      <td>44.845233</td>\n",
              "      <td>-0.008312</td>\n",
              "    </tr>\n",
              "    <tr>\n",
              "      <th>2</th>\n",
              "      <td>2.0</td>\n",
              "      <td>0.0</td>\n",
              "      <td>0.552564</td>\n",
              "      <td>0.284369</td>\n",
              "      <td>0.589182</td>\n",
              "      <td>0.529328</td>\n",
              "      <td>0.303794</td>\n",
              "      <td>0.763356</td>\n",
              "      <td>8.149561e-06</td>\n",
              "      <td>49.983464</td>\n",
              "      <td>-0.011894</td>\n",
              "    </tr>\n",
              "    <tr>\n",
              "      <th>3</th>\n",
              "      <td>2.0</td>\n",
              "      <td>0.0</td>\n",
              "      <td>0.556818</td>\n",
              "      <td>0.284258</td>\n",
              "      <td>0.595606</td>\n",
              "      <td>0.508472</td>\n",
              "      <td>0.286661</td>\n",
              "      <td>0.766666</td>\n",
              "      <td>2.663218e-07</td>\n",
              "      <td>48.789913</td>\n",
              "      <td>0.027541</td>\n",
              "    </tr>\n",
              "    <tr>\n",
              "      <th>4</th>\n",
              "      <td>2.0</td>\n",
              "      <td>1.0</td>\n",
              "      <td>0.565710</td>\n",
              "      <td>0.286255</td>\n",
              "      <td>0.611683</td>\n",
              "      <td>0.576527</td>\n",
              "      <td>0.364277</td>\n",
              "      <td>0.775487</td>\n",
              "      <td>-1.245249e-05</td>\n",
              "      <td>36.183497</td>\n",
              "      <td>-0.319746</td>\n",
              "    </tr>\n",
              "  </tbody>\n",
              "</table>\n",
              "</div>\n",
              "      <button class=\"colab-df-convert\" onclick=\"convertToInteractive('df-a413e03e-f52f-4c55-a3fa-9eb6d147cba5')\"\n",
              "              title=\"Convert this dataframe to an interactive table.\"\n",
              "              style=\"display:none;\">\n",
              "        \n",
              "  <svg xmlns=\"http://www.w3.org/2000/svg\" height=\"24px\"viewBox=\"0 0 24 24\"\n",
              "       width=\"24px\">\n",
              "    <path d=\"M0 0h24v24H0V0z\" fill=\"none\"/>\n",
              "    <path d=\"M18.56 5.44l.94 2.06.94-2.06 2.06-.94-2.06-.94-.94-2.06-.94 2.06-2.06.94zm-11 1L8.5 8.5l.94-2.06 2.06-.94-2.06-.94L8.5 2.5l-.94 2.06-2.06.94zm10 10l.94 2.06.94-2.06 2.06-.94-2.06-.94-.94-2.06-.94 2.06-2.06.94z\"/><path d=\"M17.41 7.96l-1.37-1.37c-.4-.4-.92-.59-1.43-.59-.52 0-1.04.2-1.43.59L10.3 9.45l-7.72 7.72c-.78.78-.78 2.05 0 2.83L4 21.41c.39.39.9.59 1.41.59.51 0 1.02-.2 1.41-.59l7.78-7.78 2.81-2.81c.8-.78.8-2.07 0-2.86zM5.41 20L4 18.59l7.72-7.72 1.47 1.35L5.41 20z\"/>\n",
              "  </svg>\n",
              "      </button>\n",
              "      \n",
              "  <style>\n",
              "    .colab-df-container {\n",
              "      display:flex;\n",
              "      flex-wrap:wrap;\n",
              "      gap: 12px;\n",
              "    }\n",
              "\n",
              "    .colab-df-convert {\n",
              "      background-color: #E8F0FE;\n",
              "      border: none;\n",
              "      border-radius: 50%;\n",
              "      cursor: pointer;\n",
              "      display: none;\n",
              "      fill: #1967D2;\n",
              "      height: 32px;\n",
              "      padding: 0 0 0 0;\n",
              "      width: 32px;\n",
              "    }\n",
              "\n",
              "    .colab-df-convert:hover {\n",
              "      background-color: #E2EBFA;\n",
              "      box-shadow: 0px 1px 2px rgba(60, 64, 67, 0.3), 0px 1px 3px 1px rgba(60, 64, 67, 0.15);\n",
              "      fill: #174EA6;\n",
              "    }\n",
              "\n",
              "    [theme=dark] .colab-df-convert {\n",
              "      background-color: #3B4455;\n",
              "      fill: #D2E3FC;\n",
              "    }\n",
              "\n",
              "    [theme=dark] .colab-df-convert:hover {\n",
              "      background-color: #434B5C;\n",
              "      box-shadow: 0px 1px 3px 1px rgba(0, 0, 0, 0.15);\n",
              "      filter: drop-shadow(0px 1px 2px rgba(0, 0, 0, 0.3));\n",
              "      fill: #FFFFFF;\n",
              "    }\n",
              "  </style>\n",
              "\n",
              "      <script>\n",
              "        const buttonEl =\n",
              "          document.querySelector('#df-a413e03e-f52f-4c55-a3fa-9eb6d147cba5 button.colab-df-convert');\n",
              "        buttonEl.style.display =\n",
              "          google.colab.kernel.accessAllowed ? 'block' : 'none';\n",
              "\n",
              "        async function convertToInteractive(key) {\n",
              "          const element = document.querySelector('#df-a413e03e-f52f-4c55-a3fa-9eb6d147cba5');\n",
              "          const dataTable =\n",
              "            await google.colab.kernel.invokeFunction('convertToInteractive',\n",
              "                                                     [key], {});\n",
              "          if (!dataTable) return;\n",
              "\n",
              "          const docLinkHtml = 'Like what you see? Visit the ' +\n",
              "            '<a target=\"_blank\" href=https://colab.research.google.com/notebooks/data_table.ipynb>data table notebook</a>'\n",
              "            + ' to learn more about interactive tables.';\n",
              "          element.innerHTML = '';\n",
              "          dataTable['output_type'] = 'display_data';\n",
              "          await google.colab.output.renderOutput(dataTable, element);\n",
              "          const docLink = document.createElement('div');\n",
              "          docLink.innerHTML = docLinkHtml;\n",
              "          element.appendChild(docLink);\n",
              "        }\n",
              "      </script>\n",
              "    </div>\n",
              "  </div>\n",
              "  "
            ]
          },
          "metadata": {},
          "execution_count": 346
        }
      ],
      "id": "bcjON2yLsYnn"
    },
    {
      "cell_type": "code",
      "source": [
        "#Modelo"
      ],
      "metadata": {
        "id": "RiHM8udusYno"
      },
      "execution_count": null,
      "outputs": [],
      "id": "RiHM8udusYno"
    },
    {
      "cell_type": "code",
      "source": [
        "X_P2 = eti_2_balanced.drop(labels=['State','Patient'], axis=1)\n",
        "y_P2 = eti_2_balanced['State']"
      ],
      "metadata": {
        "id": "jcC215tssYno"
      },
      "execution_count": null,
      "outputs": [],
      "id": "jcC215tssYno"
    },
    {
      "cell_type": "code",
      "source": [
        "# Train and validation\n",
        "X_P2_train, X_P2_val, y_P2_train, y_P2_val = train_test_split(X_P2, y_P2, test_size=0.30, random_state=0, shuffle=True)"
      ],
      "metadata": {
        "id": "Ctfk71XzsYno"
      },
      "execution_count": null,
      "outputs": [],
      "id": "Ctfk71XzsYno"
    },
    {
      "cell_type": "markdown",
      "source": [
        "## 2) Seleccion de modelo\n"
      ],
      "metadata": {
        "id": "Qau1oA1kvUgK"
      },
      "id": "Qau1oA1kvUgK"
    },
    {
      "cell_type": "code",
      "source": [
        "from sklearn.svm import SVC, NuSVC\n",
        "from sklearn.ensemble import RandomForestClassifier\n",
        "from sklearn.neighbors import KNeighborsClassifier"
      ],
      "metadata": {
        "id": "6RHJSCiKvUgK"
      },
      "execution_count": null,
      "outputs": [],
      "id": "6RHJSCiKvUgK"
    },
    {
      "cell_type": "code",
      "source": [
        "clfs_P2 = [LogisticRegression(), \n",
        "           SVC(), \n",
        "           NuSVC(), \n",
        "           KNeighborsClassifier(), \n",
        "           RandomForestClassifier()] "
      ],
      "metadata": {
        "id": "0ThRFwAxvUgK"
      },
      "execution_count": null,
      "outputs": [],
      "id": "0ThRFwAxvUgK"
    },
    {
      "cell_type": "code",
      "source": [
        "for clf in clfs_P2:\n",
        "  print(f\"Probando Modelo {str(clf)}\")\n",
        "  pipe = Pipeline([\n",
        "  ('scaler', scaler),\n",
        "   #('feature_selection', SelectFromModel(ft_selector)),\n",
        "  ('classifier', clf)\n",
        "  ])\n",
        "\n",
        "  pipe.fit(X_P2_train, y_P2_train)\n",
        "#svr_cv = model\n",
        "  pipe.score(X_P2_val, y_P2_val)\n",
        "  # Utilizamos el modelo entrenado para predecir las etiquetas utilizando los datos de entrenamiento y de test\n",
        "  y_P2_train_pred = pipe.predict(X_P2_train)\n",
        "  y_P2_test_pred = pipe.predict(X_P2_val)\n",
        "\n",
        "\n",
        "  print(\"Entrenamiento\")\n",
        "  print(classification_report(y_P2_train, y_P2_train_pred))\n",
        "  print(\"Validacion\")\n",
        "  print(classification_report(y_P2_val, y_P2_test_pred))\n"
      ],
      "metadata": {
        "colab": {
          "base_uri": "https://localhost:8080/"
        },
        "outputId": "8604e557-53f4-429c-f24e-257e8467f834",
        "id": "tAzQjFjdvUgK"
      },
      "execution_count": null,
      "outputs": [
        {
          "output_type": "stream",
          "name": "stdout",
          "text": [
            "Probando Modelo LogisticRegression()\n",
            "Entrenamiento\n",
            "              precision    recall  f1-score   support\n",
            "\n",
            "         0.0       0.67      0.61      0.64      1222\n",
            "         1.0       0.65      0.71      0.68      1251\n",
            "\n",
            "    accuracy                           0.66      2473\n",
            "   macro avg       0.66      0.66      0.66      2473\n",
            "weighted avg       0.66      0.66      0.66      2473\n",
            "\n",
            "Validacion\n",
            "              precision    recall  f1-score   support\n",
            "\n",
            "         0.0       0.68      0.61      0.64       545\n",
            "         1.0       0.63      0.70      0.66       516\n",
            "\n",
            "    accuracy                           0.65      1061\n",
            "   macro avg       0.66      0.65      0.65      1061\n",
            "weighted avg       0.66      0.65      0.65      1061\n",
            "\n",
            "Probando Modelo SVC()\n",
            "Entrenamiento\n",
            "              precision    recall  f1-score   support\n",
            "\n",
            "         0.0       0.81      0.57      0.67      1222\n",
            "         1.0       0.68      0.87      0.76      1251\n",
            "\n",
            "    accuracy                           0.72      2473\n",
            "   macro avg       0.75      0.72      0.72      2473\n",
            "weighted avg       0.74      0.72      0.72      2473\n",
            "\n",
            "Validacion\n",
            "              precision    recall  f1-score   support\n",
            "\n",
            "         0.0       0.80      0.56      0.66       545\n",
            "         1.0       0.65      0.85      0.74       516\n",
            "\n",
            "    accuracy                           0.70      1061\n",
            "   macro avg       0.72      0.71      0.70      1061\n",
            "weighted avg       0.73      0.70      0.70      1061\n",
            "\n",
            "Probando Modelo NuSVC()\n",
            "Entrenamiento\n",
            "              precision    recall  f1-score   support\n",
            "\n",
            "         0.0       0.87      0.71      0.79      1222\n",
            "         1.0       0.76      0.90      0.83      1251\n",
            "\n",
            "    accuracy                           0.81      2473\n",
            "   macro avg       0.82      0.81      0.81      2473\n",
            "weighted avg       0.82      0.81      0.81      2473\n",
            "\n",
            "Validacion\n",
            "              precision    recall  f1-score   support\n",
            "\n",
            "         0.0       0.85      0.69      0.76       545\n",
            "         1.0       0.73      0.87      0.79       516\n",
            "\n",
            "    accuracy                           0.78      1061\n",
            "   macro avg       0.79      0.78      0.78      1061\n",
            "weighted avg       0.79      0.78      0.78      1061\n",
            "\n",
            "Probando Modelo KNeighborsClassifier()\n",
            "Entrenamiento\n",
            "              precision    recall  f1-score   support\n",
            "\n",
            "         0.0       1.00      0.84      0.92      1222\n",
            "         1.0       0.87      1.00      0.93      1251\n",
            "\n",
            "    accuracy                           0.92      2473\n",
            "   macro avg       0.93      0.92      0.92      2473\n",
            "weighted avg       0.93      0.92      0.92      2473\n",
            "\n",
            "Validacion\n",
            "              precision    recall  f1-score   support\n",
            "\n",
            "         0.0       1.00      0.81      0.89       545\n",
            "         1.0       0.83      1.00      0.91       516\n",
            "\n",
            "    accuracy                           0.90      1061\n",
            "   macro avg       0.91      0.90      0.90      1061\n",
            "weighted avg       0.92      0.90      0.90      1061\n",
            "\n",
            "Probando Modelo RandomForestClassifier()\n",
            "Entrenamiento\n",
            "              precision    recall  f1-score   support\n",
            "\n",
            "         0.0       1.00      1.00      1.00      1222\n",
            "         1.0       1.00      1.00      1.00      1251\n",
            "\n",
            "    accuracy                           1.00      2473\n",
            "   macro avg       1.00      1.00      1.00      2473\n",
            "weighted avg       1.00      1.00      1.00      2473\n",
            "\n",
            "Validacion\n",
            "              precision    recall  f1-score   support\n",
            "\n",
            "         0.0       1.00      0.97      0.98       545\n",
            "         1.0       0.97      1.00      0.98       516\n",
            "\n",
            "    accuracy                           0.98      1061\n",
            "   macro avg       0.98      0.98      0.98      1061\n",
            "weighted avg       0.98      0.98      0.98      1061\n",
            "\n"
          ]
        }
      ],
      "id": "tAzQjFjdvUgK"
    },
    {
      "cell_type": "markdown",
      "source": [
        "Para el paciente 2, el modelo que mejor clasifica es el Random Forest Classifier."
      ],
      "metadata": {
        "id": "M_Ju3gAovUgL"
      },
      "id": "M_Ju3gAovUgL"
    },
    {
      "cell_type": "markdown",
      "source": [
        "# Paciente 3\n",
        "\n"
      ],
      "metadata": {
        "id": "R-ELuCDC0lTf"
      },
      "id": "R-ELuCDC0lTf"
    },
    {
      "cell_type": "markdown",
      "source": [
        "## 1) LogisticRegression"
      ],
      "metadata": {
        "id": "bPVt6AAE0lTg"
      },
      "id": "bPVt6AAE0lTg"
    },
    {
      "cell_type": "markdown",
      "source": [
        "### Balanceo de etiquetas por Random OverSampling:"
      ],
      "metadata": {
        "id": "VNQH8Q6f0lTg"
      },
      "id": "VNQH8Q6f0lTg"
    },
    {
      "cell_type": "code",
      "source": [
        "eti_3_clean['State'].value_counts()"
      ],
      "metadata": {
        "colab": {
          "base_uri": "https://localhost:8080/"
        },
        "outputId": "d3e5f582-1143-4d2f-e2c0-1275d7a2d403",
        "id": "DYG4FOoX0lTg"
      },
      "execution_count": null,
      "outputs": [
        {
          "output_type": "execute_result",
          "data": {
            "text/plain": [
              "0.0    1843\n",
              "1.0     113\n",
              "Name: State, dtype: int64"
            ]
          },
          "metadata": {},
          "execution_count": 353
        }
      ],
      "id": "DYG4FOoX0lTg"
    },
    {
      "cell_type": "code",
      "source": [
        "y_P3 = eti_3_clean['State']\n",
        "X_P3 = eti_3_clean.drop(columns=['State'])"
      ],
      "metadata": {
        "id": "r4TGznAE0lTg"
      },
      "execution_count": null,
      "outputs": [],
      "id": "r4TGznAE0lTg"
    },
    {
      "cell_type": "code",
      "source": [
        "sampler = RandomOverSampler(random_state=0)\n",
        "X_P3_resamp_random, y_P3_resamp_random = sampler.fit_resample(X_P3, y_P3)"
      ],
      "metadata": {
        "id": "rCWQW8s80lTg"
      },
      "execution_count": null,
      "outputs": [],
      "id": "rCWQW8s80lTg"
    },
    {
      "cell_type": "code",
      "source": [
        "eti_3_balanced = pd.DataFrame(pd.concat([X_P3_resamp_random, y_P3_resamp_random], axis=1), \n",
        "                                    columns=eti_3_clean.columns)"
      ],
      "metadata": {
        "id": "g0Ik2BBv0lTh"
      },
      "execution_count": null,
      "outputs": [],
      "id": "g0Ik2BBv0lTh"
    },
    {
      "cell_type": "code",
      "source": [
        "print(f'Nuevo tamaño del dataset: {len(eti_3_balanced)}')\n",
        "print('==============================')\n",
        "print(f'Etiquetas:\\n{eti_3_balanced.State.value_counts()}')\n",
        "print('==============================')\n",
        "print('Muestra')\n",
        "eti_3_balanced[:3]"
      ],
      "metadata": {
        "colab": {
          "base_uri": "https://localhost:8080/",
          "height": 282
        },
        "outputId": "84756a7c-6376-469d-a807-e32535e5cdde",
        "id": "IWib8-_o0lTh"
      },
      "execution_count": null,
      "outputs": [
        {
          "output_type": "stream",
          "name": "stdout",
          "text": [
            "Nuevo tamaño del dataset: 3686\n",
            "==============================\n",
            "Etiquetas:\n",
            "0.0    1843\n",
            "1.0    1843\n",
            "Name: State, dtype: int64\n",
            "==============================\n",
            "Muestra\n"
          ]
        },
        {
          "output_type": "execute_result",
          "data": {
            "text/plain": [
              "   Patient  State        PE        SC       GNE        SE       LZC       STE  \\\n",
              "0      3.0    0.0  0.486271  0.278803  0.480243  0.420207  0.186225  0.707219   \n",
              "1      3.0    0.0  0.493036  0.279539  0.491375  0.425493  0.192620  0.712782   \n",
              "2      3.0    0.0  0.488883  0.279155  0.484765  0.433493  0.200872  0.709615   \n",
              "\n",
              "           Mean        Std      Skew  \n",
              "0  2.473696e-06  54.363639 -0.018547  \n",
              "1 -9.303062e-07  53.188962 -0.022277  \n",
              "2 -1.465920e-06  51.622943 -0.060702  "
            ],
            "text/html": [
              "\n",
              "  <div id=\"df-533f4326-d1b7-4301-8938-1039c76cb8e7\">\n",
              "    <div class=\"colab-df-container\">\n",
              "      <div>\n",
              "<style scoped>\n",
              "    .dataframe tbody tr th:only-of-type {\n",
              "        vertical-align: middle;\n",
              "    }\n",
              "\n",
              "    .dataframe tbody tr th {\n",
              "        vertical-align: top;\n",
              "    }\n",
              "\n",
              "    .dataframe thead th {\n",
              "        text-align: right;\n",
              "    }\n",
              "</style>\n",
              "<table border=\"1\" class=\"dataframe\">\n",
              "  <thead>\n",
              "    <tr style=\"text-align: right;\">\n",
              "      <th></th>\n",
              "      <th>Patient</th>\n",
              "      <th>State</th>\n",
              "      <th>PE</th>\n",
              "      <th>SC</th>\n",
              "      <th>GNE</th>\n",
              "      <th>SE</th>\n",
              "      <th>LZC</th>\n",
              "      <th>STE</th>\n",
              "      <th>Mean</th>\n",
              "      <th>Std</th>\n",
              "      <th>Skew</th>\n",
              "    </tr>\n",
              "  </thead>\n",
              "  <tbody>\n",
              "    <tr>\n",
              "      <th>0</th>\n",
              "      <td>3.0</td>\n",
              "      <td>0.0</td>\n",
              "      <td>0.486271</td>\n",
              "      <td>0.278803</td>\n",
              "      <td>0.480243</td>\n",
              "      <td>0.420207</td>\n",
              "      <td>0.186225</td>\n",
              "      <td>0.707219</td>\n",
              "      <td>2.473696e-06</td>\n",
              "      <td>54.363639</td>\n",
              "      <td>-0.018547</td>\n",
              "    </tr>\n",
              "    <tr>\n",
              "      <th>1</th>\n",
              "      <td>3.0</td>\n",
              "      <td>0.0</td>\n",
              "      <td>0.493036</td>\n",
              "      <td>0.279539</td>\n",
              "      <td>0.491375</td>\n",
              "      <td>0.425493</td>\n",
              "      <td>0.192620</td>\n",
              "      <td>0.712782</td>\n",
              "      <td>-9.303062e-07</td>\n",
              "      <td>53.188962</td>\n",
              "      <td>-0.022277</td>\n",
              "    </tr>\n",
              "    <tr>\n",
              "      <th>2</th>\n",
              "      <td>3.0</td>\n",
              "      <td>0.0</td>\n",
              "      <td>0.488883</td>\n",
              "      <td>0.279155</td>\n",
              "      <td>0.484765</td>\n",
              "      <td>0.433493</td>\n",
              "      <td>0.200872</td>\n",
              "      <td>0.709615</td>\n",
              "      <td>-1.465920e-06</td>\n",
              "      <td>51.622943</td>\n",
              "      <td>-0.060702</td>\n",
              "    </tr>\n",
              "  </tbody>\n",
              "</table>\n",
              "</div>\n",
              "      <button class=\"colab-df-convert\" onclick=\"convertToInteractive('df-533f4326-d1b7-4301-8938-1039c76cb8e7')\"\n",
              "              title=\"Convert this dataframe to an interactive table.\"\n",
              "              style=\"display:none;\">\n",
              "        \n",
              "  <svg xmlns=\"http://www.w3.org/2000/svg\" height=\"24px\"viewBox=\"0 0 24 24\"\n",
              "       width=\"24px\">\n",
              "    <path d=\"M0 0h24v24H0V0z\" fill=\"none\"/>\n",
              "    <path d=\"M18.56 5.44l.94 2.06.94-2.06 2.06-.94-2.06-.94-.94-2.06-.94 2.06-2.06.94zm-11 1L8.5 8.5l.94-2.06 2.06-.94-2.06-.94L8.5 2.5l-.94 2.06-2.06.94zm10 10l.94 2.06.94-2.06 2.06-.94-2.06-.94-.94-2.06-.94 2.06-2.06.94z\"/><path d=\"M17.41 7.96l-1.37-1.37c-.4-.4-.92-.59-1.43-.59-.52 0-1.04.2-1.43.59L10.3 9.45l-7.72 7.72c-.78.78-.78 2.05 0 2.83L4 21.41c.39.39.9.59 1.41.59.51 0 1.02-.2 1.41-.59l7.78-7.78 2.81-2.81c.8-.78.8-2.07 0-2.86zM5.41 20L4 18.59l7.72-7.72 1.47 1.35L5.41 20z\"/>\n",
              "  </svg>\n",
              "      </button>\n",
              "      \n",
              "  <style>\n",
              "    .colab-df-container {\n",
              "      display:flex;\n",
              "      flex-wrap:wrap;\n",
              "      gap: 12px;\n",
              "    }\n",
              "\n",
              "    .colab-df-convert {\n",
              "      background-color: #E8F0FE;\n",
              "      border: none;\n",
              "      border-radius: 50%;\n",
              "      cursor: pointer;\n",
              "      display: none;\n",
              "      fill: #1967D2;\n",
              "      height: 32px;\n",
              "      padding: 0 0 0 0;\n",
              "      width: 32px;\n",
              "    }\n",
              "\n",
              "    .colab-df-convert:hover {\n",
              "      background-color: #E2EBFA;\n",
              "      box-shadow: 0px 1px 2px rgba(60, 64, 67, 0.3), 0px 1px 3px 1px rgba(60, 64, 67, 0.15);\n",
              "      fill: #174EA6;\n",
              "    }\n",
              "\n",
              "    [theme=dark] .colab-df-convert {\n",
              "      background-color: #3B4455;\n",
              "      fill: #D2E3FC;\n",
              "    }\n",
              "\n",
              "    [theme=dark] .colab-df-convert:hover {\n",
              "      background-color: #434B5C;\n",
              "      box-shadow: 0px 1px 3px 1px rgba(0, 0, 0, 0.15);\n",
              "      filter: drop-shadow(0px 1px 2px rgba(0, 0, 0, 0.3));\n",
              "      fill: #FFFFFF;\n",
              "    }\n",
              "  </style>\n",
              "\n",
              "      <script>\n",
              "        const buttonEl =\n",
              "          document.querySelector('#df-533f4326-d1b7-4301-8938-1039c76cb8e7 button.colab-df-convert');\n",
              "        buttonEl.style.display =\n",
              "          google.colab.kernel.accessAllowed ? 'block' : 'none';\n",
              "\n",
              "        async function convertToInteractive(key) {\n",
              "          const element = document.querySelector('#df-533f4326-d1b7-4301-8938-1039c76cb8e7');\n",
              "          const dataTable =\n",
              "            await google.colab.kernel.invokeFunction('convertToInteractive',\n",
              "                                                     [key], {});\n",
              "          if (!dataTable) return;\n",
              "\n",
              "          const docLinkHtml = 'Like what you see? Visit the ' +\n",
              "            '<a target=\"_blank\" href=https://colab.research.google.com/notebooks/data_table.ipynb>data table notebook</a>'\n",
              "            + ' to learn more about interactive tables.';\n",
              "          element.innerHTML = '';\n",
              "          dataTable['output_type'] = 'display_data';\n",
              "          await google.colab.output.renderOutput(dataTable, element);\n",
              "          const docLink = document.createElement('div');\n",
              "          docLink.innerHTML = docLinkHtml;\n",
              "          element.appendChild(docLink);\n",
              "        }\n",
              "      </script>\n",
              "    </div>\n",
              "  </div>\n",
              "  "
            ]
          },
          "metadata": {},
          "execution_count": 357
        }
      ],
      "id": "IWib8-_o0lTh"
    },
    {
      "cell_type": "code",
      "source": [
        "print(len(eti_3_balanced))\n",
        "eti_3_balanced[:5]"
      ],
      "metadata": {
        "colab": {
          "base_uri": "https://localhost:8080/",
          "height": 224
        },
        "outputId": "38bb0e01-ee77-4005-a04a-ade96596d779",
        "id": "nSsLXoL00lTh"
      },
      "execution_count": null,
      "outputs": [
        {
          "output_type": "stream",
          "name": "stdout",
          "text": [
            "3686\n"
          ]
        },
        {
          "output_type": "execute_result",
          "data": {
            "text/plain": [
              "   Patient  State        PE        SC       GNE        SE       LZC       STE  \\\n",
              "0      3.0    0.0  0.486271  0.278803  0.480243  0.420207  0.186225  0.707219   \n",
              "1      3.0    0.0  0.493036  0.279539  0.491375  0.425493  0.192620  0.712782   \n",
              "2      3.0    0.0  0.488883  0.279155  0.484765  0.433493  0.200872  0.709615   \n",
              "3      3.0    0.0  0.523893  0.283790  0.543871  0.515461  0.291441  0.739519   \n",
              "4      3.0    0.0  0.498630  0.280013  0.500453  0.428389  0.199443  0.717519   \n",
              "\n",
              "           Mean        Std      Skew  \n",
              "0  2.473696e-06  54.363639 -0.018547  \n",
              "1 -9.303062e-07  53.188962 -0.022277  \n",
              "2 -1.465920e-06  51.622943 -0.060702  \n",
              "3 -5.698434e-06  25.527093  0.003489  \n",
              "4 -7.295549e-06  52.081370 -0.054896  "
            ],
            "text/html": [
              "\n",
              "  <div id=\"df-fd9803b0-f923-4055-ba47-dc7e14174741\">\n",
              "    <div class=\"colab-df-container\">\n",
              "      <div>\n",
              "<style scoped>\n",
              "    .dataframe tbody tr th:only-of-type {\n",
              "        vertical-align: middle;\n",
              "    }\n",
              "\n",
              "    .dataframe tbody tr th {\n",
              "        vertical-align: top;\n",
              "    }\n",
              "\n",
              "    .dataframe thead th {\n",
              "        text-align: right;\n",
              "    }\n",
              "</style>\n",
              "<table border=\"1\" class=\"dataframe\">\n",
              "  <thead>\n",
              "    <tr style=\"text-align: right;\">\n",
              "      <th></th>\n",
              "      <th>Patient</th>\n",
              "      <th>State</th>\n",
              "      <th>PE</th>\n",
              "      <th>SC</th>\n",
              "      <th>GNE</th>\n",
              "      <th>SE</th>\n",
              "      <th>LZC</th>\n",
              "      <th>STE</th>\n",
              "      <th>Mean</th>\n",
              "      <th>Std</th>\n",
              "      <th>Skew</th>\n",
              "    </tr>\n",
              "  </thead>\n",
              "  <tbody>\n",
              "    <tr>\n",
              "      <th>0</th>\n",
              "      <td>3.0</td>\n",
              "      <td>0.0</td>\n",
              "      <td>0.486271</td>\n",
              "      <td>0.278803</td>\n",
              "      <td>0.480243</td>\n",
              "      <td>0.420207</td>\n",
              "      <td>0.186225</td>\n",
              "      <td>0.707219</td>\n",
              "      <td>2.473696e-06</td>\n",
              "      <td>54.363639</td>\n",
              "      <td>-0.018547</td>\n",
              "    </tr>\n",
              "    <tr>\n",
              "      <th>1</th>\n",
              "      <td>3.0</td>\n",
              "      <td>0.0</td>\n",
              "      <td>0.493036</td>\n",
              "      <td>0.279539</td>\n",
              "      <td>0.491375</td>\n",
              "      <td>0.425493</td>\n",
              "      <td>0.192620</td>\n",
              "      <td>0.712782</td>\n",
              "      <td>-9.303062e-07</td>\n",
              "      <td>53.188962</td>\n",
              "      <td>-0.022277</td>\n",
              "    </tr>\n",
              "    <tr>\n",
              "      <th>2</th>\n",
              "      <td>3.0</td>\n",
              "      <td>0.0</td>\n",
              "      <td>0.488883</td>\n",
              "      <td>0.279155</td>\n",
              "      <td>0.484765</td>\n",
              "      <td>0.433493</td>\n",
              "      <td>0.200872</td>\n",
              "      <td>0.709615</td>\n",
              "      <td>-1.465920e-06</td>\n",
              "      <td>51.622943</td>\n",
              "      <td>-0.060702</td>\n",
              "    </tr>\n",
              "    <tr>\n",
              "      <th>3</th>\n",
              "      <td>3.0</td>\n",
              "      <td>0.0</td>\n",
              "      <td>0.523893</td>\n",
              "      <td>0.283790</td>\n",
              "      <td>0.543871</td>\n",
              "      <td>0.515461</td>\n",
              "      <td>0.291441</td>\n",
              "      <td>0.739519</td>\n",
              "      <td>-5.698434e-06</td>\n",
              "      <td>25.527093</td>\n",
              "      <td>0.003489</td>\n",
              "    </tr>\n",
              "    <tr>\n",
              "      <th>4</th>\n",
              "      <td>3.0</td>\n",
              "      <td>0.0</td>\n",
              "      <td>0.498630</td>\n",
              "      <td>0.280013</td>\n",
              "      <td>0.500453</td>\n",
              "      <td>0.428389</td>\n",
              "      <td>0.199443</td>\n",
              "      <td>0.717519</td>\n",
              "      <td>-7.295549e-06</td>\n",
              "      <td>52.081370</td>\n",
              "      <td>-0.054896</td>\n",
              "    </tr>\n",
              "  </tbody>\n",
              "</table>\n",
              "</div>\n",
              "      <button class=\"colab-df-convert\" onclick=\"convertToInteractive('df-fd9803b0-f923-4055-ba47-dc7e14174741')\"\n",
              "              title=\"Convert this dataframe to an interactive table.\"\n",
              "              style=\"display:none;\">\n",
              "        \n",
              "  <svg xmlns=\"http://www.w3.org/2000/svg\" height=\"24px\"viewBox=\"0 0 24 24\"\n",
              "       width=\"24px\">\n",
              "    <path d=\"M0 0h24v24H0V0z\" fill=\"none\"/>\n",
              "    <path d=\"M18.56 5.44l.94 2.06.94-2.06 2.06-.94-2.06-.94-.94-2.06-.94 2.06-2.06.94zm-11 1L8.5 8.5l.94-2.06 2.06-.94-2.06-.94L8.5 2.5l-.94 2.06-2.06.94zm10 10l.94 2.06.94-2.06 2.06-.94-2.06-.94-.94-2.06-.94 2.06-2.06.94z\"/><path d=\"M17.41 7.96l-1.37-1.37c-.4-.4-.92-.59-1.43-.59-.52 0-1.04.2-1.43.59L10.3 9.45l-7.72 7.72c-.78.78-.78 2.05 0 2.83L4 21.41c.39.39.9.59 1.41.59.51 0 1.02-.2 1.41-.59l7.78-7.78 2.81-2.81c.8-.78.8-2.07 0-2.86zM5.41 20L4 18.59l7.72-7.72 1.47 1.35L5.41 20z\"/>\n",
              "  </svg>\n",
              "      </button>\n",
              "      \n",
              "  <style>\n",
              "    .colab-df-container {\n",
              "      display:flex;\n",
              "      flex-wrap:wrap;\n",
              "      gap: 12px;\n",
              "    }\n",
              "\n",
              "    .colab-df-convert {\n",
              "      background-color: #E8F0FE;\n",
              "      border: none;\n",
              "      border-radius: 50%;\n",
              "      cursor: pointer;\n",
              "      display: none;\n",
              "      fill: #1967D2;\n",
              "      height: 32px;\n",
              "      padding: 0 0 0 0;\n",
              "      width: 32px;\n",
              "    }\n",
              "\n",
              "    .colab-df-convert:hover {\n",
              "      background-color: #E2EBFA;\n",
              "      box-shadow: 0px 1px 2px rgba(60, 64, 67, 0.3), 0px 1px 3px 1px rgba(60, 64, 67, 0.15);\n",
              "      fill: #174EA6;\n",
              "    }\n",
              "\n",
              "    [theme=dark] .colab-df-convert {\n",
              "      background-color: #3B4455;\n",
              "      fill: #D2E3FC;\n",
              "    }\n",
              "\n",
              "    [theme=dark] .colab-df-convert:hover {\n",
              "      background-color: #434B5C;\n",
              "      box-shadow: 0px 1px 3px 1px rgba(0, 0, 0, 0.15);\n",
              "      filter: drop-shadow(0px 1px 2px rgba(0, 0, 0, 0.3));\n",
              "      fill: #FFFFFF;\n",
              "    }\n",
              "  </style>\n",
              "\n",
              "      <script>\n",
              "        const buttonEl =\n",
              "          document.querySelector('#df-fd9803b0-f923-4055-ba47-dc7e14174741 button.colab-df-convert');\n",
              "        buttonEl.style.display =\n",
              "          google.colab.kernel.accessAllowed ? 'block' : 'none';\n",
              "\n",
              "        async function convertToInteractive(key) {\n",
              "          const element = document.querySelector('#df-fd9803b0-f923-4055-ba47-dc7e14174741');\n",
              "          const dataTable =\n",
              "            await google.colab.kernel.invokeFunction('convertToInteractive',\n",
              "                                                     [key], {});\n",
              "          if (!dataTable) return;\n",
              "\n",
              "          const docLinkHtml = 'Like what you see? Visit the ' +\n",
              "            '<a target=\"_blank\" href=https://colab.research.google.com/notebooks/data_table.ipynb>data table notebook</a>'\n",
              "            + ' to learn more about interactive tables.';\n",
              "          element.innerHTML = '';\n",
              "          dataTable['output_type'] = 'display_data';\n",
              "          await google.colab.output.renderOutput(dataTable, element);\n",
              "          const docLink = document.createElement('div');\n",
              "          docLink.innerHTML = docLinkHtml;\n",
              "          element.appendChild(docLink);\n",
              "        }\n",
              "      </script>\n",
              "    </div>\n",
              "  </div>\n",
              "  "
            ]
          },
          "metadata": {},
          "execution_count": 358
        }
      ],
      "id": "nSsLXoL00lTh"
    },
    {
      "cell_type": "code",
      "source": [
        "#Modelo"
      ],
      "metadata": {
        "id": "DV9u5gU40lTh"
      },
      "execution_count": null,
      "outputs": [],
      "id": "DV9u5gU40lTh"
    },
    {
      "cell_type": "code",
      "source": [
        "X_P3 = eti_3_balanced.drop(labels=['State','Patient'], axis=1)\n",
        "y_P3 = eti_3_balanced['State']"
      ],
      "metadata": {
        "id": "xH9BhT-C0lTj"
      },
      "execution_count": null,
      "outputs": [],
      "id": "xH9BhT-C0lTj"
    },
    {
      "cell_type": "code",
      "source": [
        "# Train and validation\n",
        "X_P3_train, X_P3_val, y_P3_train, y_P3_val = train_test_split(X_P3, y_P3, test_size=0.30, random_state=0, shuffle=True)"
      ],
      "metadata": {
        "id": "XQDcu2210lTj"
      },
      "execution_count": null,
      "outputs": [],
      "id": "XQDcu2210lTj"
    },
    {
      "cell_type": "code",
      "source": [
        "scaler = MinMaxScaler()\n",
        "ft_selector = LogisticRegression(random_state=0, penalty='l2', solver='liblinear')\n",
        "param_grid = {\n",
        "    'classifier__penalty': ['l1', 'l2'],\n",
        "    'classifier__random_state': [0],\n",
        "    'classifier__solver': ['liblinear'],\n",
        "    'classifier__class_weight': ['balanced']\n",
        "}\n",
        "model3 = KNeighborsClassifier(n_neighbors=3)"
      ],
      "metadata": {
        "id": "2XIyebV80lTj"
      },
      "execution_count": null,
      "outputs": [],
      "id": "2XIyebV80lTj"
    },
    {
      "cell_type": "code",
      "source": [
        "# Fit\n",
        "pipe = Pipeline([\n",
        "  ('scaler', scaler),\n",
        "  ('feature_selection', SelectFromModel(ft_selector)),\n",
        "  ('classifier', model3)\n",
        "])\n",
        "\n",
        "#model = GridSearchCV(pipe, param_grid, scoring='neg_mean_squared_error',cv=5)\n",
        "\n",
        "pipe.fit(X_P3_train, y_P3_train)\n",
        "#svr_cv = model"
      ],
      "metadata": {
        "colab": {
          "base_uri": "https://localhost:8080/"
        },
        "outputId": "1d18ede8-cb76-41ec-ef69-3a726054dffb",
        "id": "yamerbep0lTk"
      },
      "execution_count": null,
      "outputs": [
        {
          "output_type": "execute_result",
          "data": {
            "text/plain": [
              "Pipeline(steps=[('scaler', MinMaxScaler()),\n",
              "                ('feature_selection',\n",
              "                 SelectFromModel(estimator=LogisticRegression(random_state=0,\n",
              "                                                              solver='liblinear'))),\n",
              "                ('classifier', KNeighborsClassifier(n_neighbors=3))])"
            ]
          },
          "metadata": {},
          "execution_count": 363
        }
      ],
      "id": "yamerbep0lTk"
    },
    {
      "cell_type": "code",
      "source": [
        "pipe.score(X_P3_train, y_P3_train)"
      ],
      "metadata": {
        "colab": {
          "base_uri": "https://localhost:8080/"
        },
        "outputId": "4ef4751b-b040-424f-8b1c-4b0ef7dc135a",
        "id": "9pDPbJRF0lTk"
      },
      "execution_count": null,
      "outputs": [
        {
          "output_type": "execute_result",
          "data": {
            "text/plain": [
              "0.9624031007751938"
            ]
          },
          "metadata": {},
          "execution_count": 364
        }
      ],
      "id": "9pDPbJRF0lTk"
    },
    {
      "cell_type": "code",
      "source": [
        "pipe.score(X_P3_val, y_P3_val)"
      ],
      "metadata": {
        "colab": {
          "base_uri": "https://localhost:8080/"
        },
        "outputId": "9cb08f8f-b3ef-4bd5-9cc8-49cb92045d0c",
        "id": "XRRXftNB0lTk"
      },
      "execution_count": null,
      "outputs": [
        {
          "output_type": "execute_result",
          "data": {
            "text/plain": [
              "0.9430379746835443"
            ]
          },
          "metadata": {},
          "execution_count": 365
        }
      ],
      "id": "XRRXftNB0lTk"
    },
    {
      "cell_type": "code",
      "source": [
        "# Utilizamos el modelo entrenado para predecir las etiquetas utilizando los datos de entrenamiento y de test\n",
        "y_P3_train_pred = pipe.predict(X_P3_train)\n",
        "y_P3_test_pred = pipe.predict(X_P3_val)"
      ],
      "metadata": {
        "id": "2ekaQKrA0lTk"
      },
      "execution_count": null,
      "outputs": [],
      "id": "2ekaQKrA0lTk"
    },
    {
      "cell_type": "code",
      "source": [
        "print(\"Entrenamiento\")\n",
        "print(classification_report(y_P3_train, y_P3_train_pred))\n",
        "\n",
        "print(\"Validacion\")\n",
        "print(classification_report(y_P3_val, y_P3_test_pred))"
      ],
      "metadata": {
        "colab": {
          "base_uri": "https://localhost:8080/"
        },
        "outputId": "b98f613c-6dad-4b39-9a76-92e0e60f6415",
        "id": "VhUJZU-x0lTk"
      },
      "execution_count": null,
      "outputs": [
        {
          "output_type": "stream",
          "name": "stdout",
          "text": [
            "Entrenamiento\n",
            "              precision    recall  f1-score   support\n",
            "\n",
            "         0.0       1.00      0.93      0.96      1296\n",
            "         1.0       0.93      1.00      0.96      1284\n",
            "\n",
            "    accuracy                           0.96      2580\n",
            "   macro avg       0.96      0.96      0.96      2580\n",
            "weighted avg       0.97      0.96      0.96      2580\n",
            "\n",
            "Validacion\n",
            "              precision    recall  f1-score   support\n",
            "\n",
            "         0.0       1.00      0.88      0.94       547\n",
            "         1.0       0.90      1.00      0.95       559\n",
            "\n",
            "    accuracy                           0.94      1106\n",
            "   macro avg       0.95      0.94      0.94      1106\n",
            "weighted avg       0.95      0.94      0.94      1106\n",
            "\n"
          ]
        }
      ],
      "id": "VhUJZU-x0lTk"
    },
    {
      "cell_type": "code",
      "source": [
        "eti_3_clean['State'].value_counts()"
      ],
      "metadata": {
        "colab": {
          "base_uri": "https://localhost:8080/"
        },
        "outputId": "0b4809c7-b3f8-4fdf-ef4c-f46b7ba9d679",
        "id": "9nktGeK20lTl"
      },
      "execution_count": null,
      "outputs": [
        {
          "output_type": "execute_result",
          "data": {
            "text/plain": [
              "0.0    1843\n",
              "1.0     113\n",
              "Name: State, dtype: int64"
            ]
          },
          "metadata": {},
          "execution_count": 368
        }
      ],
      "id": "9nktGeK20lTl"
    },
    {
      "cell_type": "code",
      "source": [
        "y_P3 = eti_3_clean['State']\n",
        "X_P3 = eti_3_clean.drop(columns=['State'])"
      ],
      "metadata": {
        "id": "twaRMp6c0lTl"
      },
      "execution_count": null,
      "outputs": [],
      "id": "twaRMp6c0lTl"
    },
    {
      "cell_type": "code",
      "source": [
        "sampler = RandomOverSampler(random_state=0)\n",
        "X_P3_resamp_random, y_P3_resamp_random = sampler.fit_resample(X_P3, y_P3)"
      ],
      "metadata": {
        "id": "wgAl_MtJ0lTl"
      },
      "execution_count": null,
      "outputs": [],
      "id": "wgAl_MtJ0lTl"
    },
    {
      "cell_type": "code",
      "source": [
        "eti_3_balanced = pd.DataFrame(pd.concat([X_P3_resamp_random, y_P3_resamp_random], axis=1), \n",
        "                                    columns=eti_3_clean.columns)"
      ],
      "metadata": {
        "id": "U_8U72IQ0lTl"
      },
      "execution_count": null,
      "outputs": [],
      "id": "U_8U72IQ0lTl"
    },
    {
      "cell_type": "code",
      "source": [
        "print(f'Nuevo tamaño del dataset: {len(eti_3_balanced)}')\n",
        "print('==============================')\n",
        "print(f'Etiquetas:\\n{eti_3_balanced.State.value_counts()}')\n",
        "print('==============================')\n",
        "print('Muestra')\n",
        "eti_3_balanced[:3]"
      ],
      "metadata": {
        "colab": {
          "base_uri": "https://localhost:8080/",
          "height": 282
        },
        "outputId": "79308efa-b42e-4b7b-ca2a-04cb20c82f31",
        "id": "ezvQwz0t0lTl"
      },
      "execution_count": null,
      "outputs": [
        {
          "output_type": "stream",
          "name": "stdout",
          "text": [
            "Nuevo tamaño del dataset: 3686\n",
            "==============================\n",
            "Etiquetas:\n",
            "0.0    1843\n",
            "1.0    1843\n",
            "Name: State, dtype: int64\n",
            "==============================\n",
            "Muestra\n"
          ]
        },
        {
          "output_type": "execute_result",
          "data": {
            "text/plain": [
              "   Patient  State        PE        SC       GNE        SE       LZC       STE  \\\n",
              "0      3.0    0.0  0.486271  0.278803  0.480243  0.420207  0.186225  0.707219   \n",
              "1      3.0    0.0  0.493036  0.279539  0.491375  0.425493  0.192620  0.712782   \n",
              "2      3.0    0.0  0.488883  0.279155  0.484765  0.433493  0.200872  0.709615   \n",
              "\n",
              "           Mean        Std      Skew  \n",
              "0  2.473696e-06  54.363639 -0.018547  \n",
              "1 -9.303062e-07  53.188962 -0.022277  \n",
              "2 -1.465920e-06  51.622943 -0.060702  "
            ],
            "text/html": [
              "\n",
              "  <div id=\"df-a7c3851c-6276-40c7-b283-3e72b8d81d32\">\n",
              "    <div class=\"colab-df-container\">\n",
              "      <div>\n",
              "<style scoped>\n",
              "    .dataframe tbody tr th:only-of-type {\n",
              "        vertical-align: middle;\n",
              "    }\n",
              "\n",
              "    .dataframe tbody tr th {\n",
              "        vertical-align: top;\n",
              "    }\n",
              "\n",
              "    .dataframe thead th {\n",
              "        text-align: right;\n",
              "    }\n",
              "</style>\n",
              "<table border=\"1\" class=\"dataframe\">\n",
              "  <thead>\n",
              "    <tr style=\"text-align: right;\">\n",
              "      <th></th>\n",
              "      <th>Patient</th>\n",
              "      <th>State</th>\n",
              "      <th>PE</th>\n",
              "      <th>SC</th>\n",
              "      <th>GNE</th>\n",
              "      <th>SE</th>\n",
              "      <th>LZC</th>\n",
              "      <th>STE</th>\n",
              "      <th>Mean</th>\n",
              "      <th>Std</th>\n",
              "      <th>Skew</th>\n",
              "    </tr>\n",
              "  </thead>\n",
              "  <tbody>\n",
              "    <tr>\n",
              "      <th>0</th>\n",
              "      <td>3.0</td>\n",
              "      <td>0.0</td>\n",
              "      <td>0.486271</td>\n",
              "      <td>0.278803</td>\n",
              "      <td>0.480243</td>\n",
              "      <td>0.420207</td>\n",
              "      <td>0.186225</td>\n",
              "      <td>0.707219</td>\n",
              "      <td>2.473696e-06</td>\n",
              "      <td>54.363639</td>\n",
              "      <td>-0.018547</td>\n",
              "    </tr>\n",
              "    <tr>\n",
              "      <th>1</th>\n",
              "      <td>3.0</td>\n",
              "      <td>0.0</td>\n",
              "      <td>0.493036</td>\n",
              "      <td>0.279539</td>\n",
              "      <td>0.491375</td>\n",
              "      <td>0.425493</td>\n",
              "      <td>0.192620</td>\n",
              "      <td>0.712782</td>\n",
              "      <td>-9.303062e-07</td>\n",
              "      <td>53.188962</td>\n",
              "      <td>-0.022277</td>\n",
              "    </tr>\n",
              "    <tr>\n",
              "      <th>2</th>\n",
              "      <td>3.0</td>\n",
              "      <td>0.0</td>\n",
              "      <td>0.488883</td>\n",
              "      <td>0.279155</td>\n",
              "      <td>0.484765</td>\n",
              "      <td>0.433493</td>\n",
              "      <td>0.200872</td>\n",
              "      <td>0.709615</td>\n",
              "      <td>-1.465920e-06</td>\n",
              "      <td>51.622943</td>\n",
              "      <td>-0.060702</td>\n",
              "    </tr>\n",
              "  </tbody>\n",
              "</table>\n",
              "</div>\n",
              "      <button class=\"colab-df-convert\" onclick=\"convertToInteractive('df-a7c3851c-6276-40c7-b283-3e72b8d81d32')\"\n",
              "              title=\"Convert this dataframe to an interactive table.\"\n",
              "              style=\"display:none;\">\n",
              "        \n",
              "  <svg xmlns=\"http://www.w3.org/2000/svg\" height=\"24px\"viewBox=\"0 0 24 24\"\n",
              "       width=\"24px\">\n",
              "    <path d=\"M0 0h24v24H0V0z\" fill=\"none\"/>\n",
              "    <path d=\"M18.56 5.44l.94 2.06.94-2.06 2.06-.94-2.06-.94-.94-2.06-.94 2.06-2.06.94zm-11 1L8.5 8.5l.94-2.06 2.06-.94-2.06-.94L8.5 2.5l-.94 2.06-2.06.94zm10 10l.94 2.06.94-2.06 2.06-.94-2.06-.94-.94-2.06-.94 2.06-2.06.94z\"/><path d=\"M17.41 7.96l-1.37-1.37c-.4-.4-.92-.59-1.43-.59-.52 0-1.04.2-1.43.59L10.3 9.45l-7.72 7.72c-.78.78-.78 2.05 0 2.83L4 21.41c.39.39.9.59 1.41.59.51 0 1.02-.2 1.41-.59l7.78-7.78 2.81-2.81c.8-.78.8-2.07 0-2.86zM5.41 20L4 18.59l7.72-7.72 1.47 1.35L5.41 20z\"/>\n",
              "  </svg>\n",
              "      </button>\n",
              "      \n",
              "  <style>\n",
              "    .colab-df-container {\n",
              "      display:flex;\n",
              "      flex-wrap:wrap;\n",
              "      gap: 12px;\n",
              "    }\n",
              "\n",
              "    .colab-df-convert {\n",
              "      background-color: #E8F0FE;\n",
              "      border: none;\n",
              "      border-radius: 50%;\n",
              "      cursor: pointer;\n",
              "      display: none;\n",
              "      fill: #1967D2;\n",
              "      height: 32px;\n",
              "      padding: 0 0 0 0;\n",
              "      width: 32px;\n",
              "    }\n",
              "\n",
              "    .colab-df-convert:hover {\n",
              "      background-color: #E2EBFA;\n",
              "      box-shadow: 0px 1px 2px rgba(60, 64, 67, 0.3), 0px 1px 3px 1px rgba(60, 64, 67, 0.15);\n",
              "      fill: #174EA6;\n",
              "    }\n",
              "\n",
              "    [theme=dark] .colab-df-convert {\n",
              "      background-color: #3B4455;\n",
              "      fill: #D2E3FC;\n",
              "    }\n",
              "\n",
              "    [theme=dark] .colab-df-convert:hover {\n",
              "      background-color: #434B5C;\n",
              "      box-shadow: 0px 1px 3px 1px rgba(0, 0, 0, 0.15);\n",
              "      filter: drop-shadow(0px 1px 2px rgba(0, 0, 0, 0.3));\n",
              "      fill: #FFFFFF;\n",
              "    }\n",
              "  </style>\n",
              "\n",
              "      <script>\n",
              "        const buttonEl =\n",
              "          document.querySelector('#df-a7c3851c-6276-40c7-b283-3e72b8d81d32 button.colab-df-convert');\n",
              "        buttonEl.style.display =\n",
              "          google.colab.kernel.accessAllowed ? 'block' : 'none';\n",
              "\n",
              "        async function convertToInteractive(key) {\n",
              "          const element = document.querySelector('#df-a7c3851c-6276-40c7-b283-3e72b8d81d32');\n",
              "          const dataTable =\n",
              "            await google.colab.kernel.invokeFunction('convertToInteractive',\n",
              "                                                     [key], {});\n",
              "          if (!dataTable) return;\n",
              "\n",
              "          const docLinkHtml = 'Like what you see? Visit the ' +\n",
              "            '<a target=\"_blank\" href=https://colab.research.google.com/notebooks/data_table.ipynb>data table notebook</a>'\n",
              "            + ' to learn more about interactive tables.';\n",
              "          element.innerHTML = '';\n",
              "          dataTable['output_type'] = 'display_data';\n",
              "          await google.colab.output.renderOutput(dataTable, element);\n",
              "          const docLink = document.createElement('div');\n",
              "          docLink.innerHTML = docLinkHtml;\n",
              "          element.appendChild(docLink);\n",
              "        }\n",
              "      </script>\n",
              "    </div>\n",
              "  </div>\n",
              "  "
            ]
          },
          "metadata": {},
          "execution_count": 372
        }
      ],
      "id": "ezvQwz0t0lTl"
    },
    {
      "cell_type": "code",
      "source": [
        "print(len(eti_3_balanced))\n",
        "eti_3_balanced[:5]"
      ],
      "metadata": {
        "colab": {
          "base_uri": "https://localhost:8080/",
          "height": 224
        },
        "outputId": "053b3a87-116b-4315-9ea2-f8ded0d91958",
        "id": "hQoC244Y0lTl"
      },
      "execution_count": null,
      "outputs": [
        {
          "output_type": "stream",
          "name": "stdout",
          "text": [
            "3686\n"
          ]
        },
        {
          "output_type": "execute_result",
          "data": {
            "text/plain": [
              "   Patient  State        PE        SC       GNE        SE       LZC       STE  \\\n",
              "0      3.0    0.0  0.486271  0.278803  0.480243  0.420207  0.186225  0.707219   \n",
              "1      3.0    0.0  0.493036  0.279539  0.491375  0.425493  0.192620  0.712782   \n",
              "2      3.0    0.0  0.488883  0.279155  0.484765  0.433493  0.200872  0.709615   \n",
              "3      3.0    0.0  0.523893  0.283790  0.543871  0.515461  0.291441  0.739519   \n",
              "4      3.0    0.0  0.498630  0.280013  0.500453  0.428389  0.199443  0.717519   \n",
              "\n",
              "           Mean        Std      Skew  \n",
              "0  2.473696e-06  54.363639 -0.018547  \n",
              "1 -9.303062e-07  53.188962 -0.022277  \n",
              "2 -1.465920e-06  51.622943 -0.060702  \n",
              "3 -5.698434e-06  25.527093  0.003489  \n",
              "4 -7.295549e-06  52.081370 -0.054896  "
            ],
            "text/html": [
              "\n",
              "  <div id=\"df-f35263cb-588b-4a0b-b08d-259b7a43daaa\">\n",
              "    <div class=\"colab-df-container\">\n",
              "      <div>\n",
              "<style scoped>\n",
              "    .dataframe tbody tr th:only-of-type {\n",
              "        vertical-align: middle;\n",
              "    }\n",
              "\n",
              "    .dataframe tbody tr th {\n",
              "        vertical-align: top;\n",
              "    }\n",
              "\n",
              "    .dataframe thead th {\n",
              "        text-align: right;\n",
              "    }\n",
              "</style>\n",
              "<table border=\"1\" class=\"dataframe\">\n",
              "  <thead>\n",
              "    <tr style=\"text-align: right;\">\n",
              "      <th></th>\n",
              "      <th>Patient</th>\n",
              "      <th>State</th>\n",
              "      <th>PE</th>\n",
              "      <th>SC</th>\n",
              "      <th>GNE</th>\n",
              "      <th>SE</th>\n",
              "      <th>LZC</th>\n",
              "      <th>STE</th>\n",
              "      <th>Mean</th>\n",
              "      <th>Std</th>\n",
              "      <th>Skew</th>\n",
              "    </tr>\n",
              "  </thead>\n",
              "  <tbody>\n",
              "    <tr>\n",
              "      <th>0</th>\n",
              "      <td>3.0</td>\n",
              "      <td>0.0</td>\n",
              "      <td>0.486271</td>\n",
              "      <td>0.278803</td>\n",
              "      <td>0.480243</td>\n",
              "      <td>0.420207</td>\n",
              "      <td>0.186225</td>\n",
              "      <td>0.707219</td>\n",
              "      <td>2.473696e-06</td>\n",
              "      <td>54.363639</td>\n",
              "      <td>-0.018547</td>\n",
              "    </tr>\n",
              "    <tr>\n",
              "      <th>1</th>\n",
              "      <td>3.0</td>\n",
              "      <td>0.0</td>\n",
              "      <td>0.493036</td>\n",
              "      <td>0.279539</td>\n",
              "      <td>0.491375</td>\n",
              "      <td>0.425493</td>\n",
              "      <td>0.192620</td>\n",
              "      <td>0.712782</td>\n",
              "      <td>-9.303062e-07</td>\n",
              "      <td>53.188962</td>\n",
              "      <td>-0.022277</td>\n",
              "    </tr>\n",
              "    <tr>\n",
              "      <th>2</th>\n",
              "      <td>3.0</td>\n",
              "      <td>0.0</td>\n",
              "      <td>0.488883</td>\n",
              "      <td>0.279155</td>\n",
              "      <td>0.484765</td>\n",
              "      <td>0.433493</td>\n",
              "      <td>0.200872</td>\n",
              "      <td>0.709615</td>\n",
              "      <td>-1.465920e-06</td>\n",
              "      <td>51.622943</td>\n",
              "      <td>-0.060702</td>\n",
              "    </tr>\n",
              "    <tr>\n",
              "      <th>3</th>\n",
              "      <td>3.0</td>\n",
              "      <td>0.0</td>\n",
              "      <td>0.523893</td>\n",
              "      <td>0.283790</td>\n",
              "      <td>0.543871</td>\n",
              "      <td>0.515461</td>\n",
              "      <td>0.291441</td>\n",
              "      <td>0.739519</td>\n",
              "      <td>-5.698434e-06</td>\n",
              "      <td>25.527093</td>\n",
              "      <td>0.003489</td>\n",
              "    </tr>\n",
              "    <tr>\n",
              "      <th>4</th>\n",
              "      <td>3.0</td>\n",
              "      <td>0.0</td>\n",
              "      <td>0.498630</td>\n",
              "      <td>0.280013</td>\n",
              "      <td>0.500453</td>\n",
              "      <td>0.428389</td>\n",
              "      <td>0.199443</td>\n",
              "      <td>0.717519</td>\n",
              "      <td>-7.295549e-06</td>\n",
              "      <td>52.081370</td>\n",
              "      <td>-0.054896</td>\n",
              "    </tr>\n",
              "  </tbody>\n",
              "</table>\n",
              "</div>\n",
              "      <button class=\"colab-df-convert\" onclick=\"convertToInteractive('df-f35263cb-588b-4a0b-b08d-259b7a43daaa')\"\n",
              "              title=\"Convert this dataframe to an interactive table.\"\n",
              "              style=\"display:none;\">\n",
              "        \n",
              "  <svg xmlns=\"http://www.w3.org/2000/svg\" height=\"24px\"viewBox=\"0 0 24 24\"\n",
              "       width=\"24px\">\n",
              "    <path d=\"M0 0h24v24H0V0z\" fill=\"none\"/>\n",
              "    <path d=\"M18.56 5.44l.94 2.06.94-2.06 2.06-.94-2.06-.94-.94-2.06-.94 2.06-2.06.94zm-11 1L8.5 8.5l.94-2.06 2.06-.94-2.06-.94L8.5 2.5l-.94 2.06-2.06.94zm10 10l.94 2.06.94-2.06 2.06-.94-2.06-.94-.94-2.06-.94 2.06-2.06.94z\"/><path d=\"M17.41 7.96l-1.37-1.37c-.4-.4-.92-.59-1.43-.59-.52 0-1.04.2-1.43.59L10.3 9.45l-7.72 7.72c-.78.78-.78 2.05 0 2.83L4 21.41c.39.39.9.59 1.41.59.51 0 1.02-.2 1.41-.59l7.78-7.78 2.81-2.81c.8-.78.8-2.07 0-2.86zM5.41 20L4 18.59l7.72-7.72 1.47 1.35L5.41 20z\"/>\n",
              "  </svg>\n",
              "      </button>\n",
              "      \n",
              "  <style>\n",
              "    .colab-df-container {\n",
              "      display:flex;\n",
              "      flex-wrap:wrap;\n",
              "      gap: 12px;\n",
              "    }\n",
              "\n",
              "    .colab-df-convert {\n",
              "      background-color: #E8F0FE;\n",
              "      border: none;\n",
              "      border-radius: 50%;\n",
              "      cursor: pointer;\n",
              "      display: none;\n",
              "      fill: #1967D2;\n",
              "      height: 32px;\n",
              "      padding: 0 0 0 0;\n",
              "      width: 32px;\n",
              "    }\n",
              "\n",
              "    .colab-df-convert:hover {\n",
              "      background-color: #E2EBFA;\n",
              "      box-shadow: 0px 1px 2px rgba(60, 64, 67, 0.3), 0px 1px 3px 1px rgba(60, 64, 67, 0.15);\n",
              "      fill: #174EA6;\n",
              "    }\n",
              "\n",
              "    [theme=dark] .colab-df-convert {\n",
              "      background-color: #3B4455;\n",
              "      fill: #D2E3FC;\n",
              "    }\n",
              "\n",
              "    [theme=dark] .colab-df-convert:hover {\n",
              "      background-color: #434B5C;\n",
              "      box-shadow: 0px 1px 3px 1px rgba(0, 0, 0, 0.15);\n",
              "      filter: drop-shadow(0px 1px 2px rgba(0, 0, 0, 0.3));\n",
              "      fill: #FFFFFF;\n",
              "    }\n",
              "  </style>\n",
              "\n",
              "      <script>\n",
              "        const buttonEl =\n",
              "          document.querySelector('#df-f35263cb-588b-4a0b-b08d-259b7a43daaa button.colab-df-convert');\n",
              "        buttonEl.style.display =\n",
              "          google.colab.kernel.accessAllowed ? 'block' : 'none';\n",
              "\n",
              "        async function convertToInteractive(key) {\n",
              "          const element = document.querySelector('#df-f35263cb-588b-4a0b-b08d-259b7a43daaa');\n",
              "          const dataTable =\n",
              "            await google.colab.kernel.invokeFunction('convertToInteractive',\n",
              "                                                     [key], {});\n",
              "          if (!dataTable) return;\n",
              "\n",
              "          const docLinkHtml = 'Like what you see? Visit the ' +\n",
              "            '<a target=\"_blank\" href=https://colab.research.google.com/notebooks/data_table.ipynb>data table notebook</a>'\n",
              "            + ' to learn more about interactive tables.';\n",
              "          element.innerHTML = '';\n",
              "          dataTable['output_type'] = 'display_data';\n",
              "          await google.colab.output.renderOutput(dataTable, element);\n",
              "          const docLink = document.createElement('div');\n",
              "          docLink.innerHTML = docLinkHtml;\n",
              "          element.appendChild(docLink);\n",
              "        }\n",
              "      </script>\n",
              "    </div>\n",
              "  </div>\n",
              "  "
            ]
          },
          "metadata": {},
          "execution_count": 373
        }
      ],
      "id": "hQoC244Y0lTl"
    },
    {
      "cell_type": "code",
      "source": [
        "#Modelo"
      ],
      "metadata": {
        "id": "8Ce80vwe0lTm"
      },
      "execution_count": null,
      "outputs": [],
      "id": "8Ce80vwe0lTm"
    },
    {
      "cell_type": "code",
      "source": [
        "X_P3 = eti_3_balanced.drop(labels=['State','Patient'], axis=1)\n",
        "y_P3 = eti_3_balanced['State']"
      ],
      "metadata": {
        "id": "YKgo-wij0lTm"
      },
      "execution_count": null,
      "outputs": [],
      "id": "YKgo-wij0lTm"
    },
    {
      "cell_type": "code",
      "source": [
        "# Train and validation\n",
        "X_P3_train, X_P3_val, y_P3_train, y_P3_val = train_test_split(X_P3, y_P3, test_size=0.30, random_state=0, shuffle=True)"
      ],
      "metadata": {
        "id": "5piYKeoO0lTm"
      },
      "execution_count": null,
      "outputs": [],
      "id": "5piYKeoO0lTm"
    },
    {
      "cell_type": "markdown",
      "source": [
        "## 2) Seleccion de modelo\n"
      ],
      "metadata": {
        "id": "ERN_r7Wp0lTm"
      },
      "id": "ERN_r7Wp0lTm"
    },
    {
      "cell_type": "code",
      "source": [
        "from sklearn.svm import SVC, NuSVC\n",
        "from sklearn.ensemble import RandomForestClassifier\n",
        "from sklearn.neighbors import KNeighborsClassifier"
      ],
      "metadata": {
        "id": "cxlyUmKT0lTm"
      },
      "execution_count": null,
      "outputs": [],
      "id": "cxlyUmKT0lTm"
    },
    {
      "cell_type": "code",
      "source": [
        "clfs_P3 = [LogisticRegression(), \n",
        "           SVC(), \n",
        "           NuSVC(), \n",
        "           KNeighborsClassifier(), \n",
        "           RandomForestClassifier()] "
      ],
      "metadata": {
        "id": "drGp1hp00lTm"
      },
      "execution_count": null,
      "outputs": [],
      "id": "drGp1hp00lTm"
    },
    {
      "cell_type": "code",
      "source": [
        "for clf in clfs_P3:\n",
        "  print(f\"Probando Modelo {str(clf)}\")\n",
        "  pipe = Pipeline([\n",
        "  ('scaler', scaler),\n",
        "   #('feature_selection', SelectFromModel(ft_selector)),\n",
        "  ('classifier', clf)\n",
        "  ])\n",
        "\n",
        "  pipe.fit(X_P3_train, y_P3_train)\n",
        "#svr_cv = model\n",
        "  pipe.score(X_P3_val, y_P3_val)\n",
        "  # Utilizamos el modelo entrenado para predecir las etiquetas utilizando los datos de entrenamiento y de test\n",
        "  y_P3_train_pred = pipe.predict(X_P3_train)\n",
        "  y_P3_test_pred = pipe.predict(X_P3_val)\n",
        "\n",
        "\n",
        "  print(\"Entrenamiento\")\n",
        "  print(classification_report(y_P3_train, y_P3_train_pred))\n",
        "  print(\"Validacion\")\n",
        "  print(classification_report(y_P3_val, y_P3_test_pred))\n"
      ],
      "metadata": {
        "colab": {
          "base_uri": "https://localhost:8080/"
        },
        "outputId": "580a0b6b-de8a-4b30-f550-6f6f53766fab",
        "id": "12caV7yT0lTn"
      },
      "execution_count": null,
      "outputs": [
        {
          "output_type": "stream",
          "name": "stdout",
          "text": [
            "Probando Modelo LogisticRegression()\n",
            "Entrenamiento\n",
            "              precision    recall  f1-score   support\n",
            "\n",
            "         0.0       0.70      0.57      0.63      1296\n",
            "         1.0       0.64      0.76      0.69      1284\n",
            "\n",
            "    accuracy                           0.66      2580\n",
            "   macro avg       0.67      0.66      0.66      2580\n",
            "weighted avg       0.67      0.66      0.66      2580\n",
            "\n",
            "Validacion\n",
            "              precision    recall  f1-score   support\n",
            "\n",
            "         0.0       0.71      0.60      0.65       547\n",
            "         1.0       0.66      0.76      0.71       559\n",
            "\n",
            "    accuracy                           0.68      1106\n",
            "   macro avg       0.69      0.68      0.68      1106\n",
            "weighted avg       0.69      0.68      0.68      1106\n",
            "\n",
            "Probando Modelo SVC()\n",
            "Entrenamiento\n",
            "              precision    recall  f1-score   support\n",
            "\n",
            "         0.0       0.83      0.53      0.64      1296\n",
            "         1.0       0.65      0.89      0.75      1284\n",
            "\n",
            "    accuracy                           0.71      2580\n",
            "   macro avg       0.74      0.71      0.70      2580\n",
            "weighted avg       0.74      0.71      0.70      2580\n",
            "\n",
            "Validacion\n",
            "              precision    recall  f1-score   support\n",
            "\n",
            "         0.0       0.86      0.54      0.66       547\n",
            "         1.0       0.67      0.92      0.77       559\n",
            "\n",
            "    accuracy                           0.73      1106\n",
            "   macro avg       0.77      0.73      0.72      1106\n",
            "weighted avg       0.77      0.73      0.72      1106\n",
            "\n",
            "Probando Modelo NuSVC()\n",
            "Entrenamiento\n",
            "              precision    recall  f1-score   support\n",
            "\n",
            "         0.0       0.98      0.70      0.82      1296\n",
            "         1.0       0.76      0.99      0.86      1284\n",
            "\n",
            "    accuracy                           0.84      2580\n",
            "   macro avg       0.87      0.84      0.84      2580\n",
            "weighted avg       0.87      0.84      0.84      2580\n",
            "\n",
            "Validacion\n",
            "              precision    recall  f1-score   support\n",
            "\n",
            "         0.0       0.98      0.68      0.80       547\n",
            "         1.0       0.76      0.99      0.86       559\n",
            "\n",
            "    accuracy                           0.84      1106\n",
            "   macro avg       0.87      0.83      0.83      1106\n",
            "weighted avg       0.87      0.84      0.83      1106\n",
            "\n",
            "Probando Modelo KNeighborsClassifier()\n",
            "Entrenamiento\n",
            "              precision    recall  f1-score   support\n",
            "\n",
            "         0.0       1.00      0.85      0.92      1296\n",
            "         1.0       0.87      1.00      0.93      1284\n",
            "\n",
            "    accuracy                           0.93      2580\n",
            "   macro avg       0.93      0.93      0.92      2580\n",
            "weighted avg       0.93      0.93      0.92      2580\n",
            "\n",
            "Validacion\n",
            "              precision    recall  f1-score   support\n",
            "\n",
            "         0.0       1.00      0.79      0.88       547\n",
            "         1.0       0.83      1.00      0.91       559\n",
            "\n",
            "    accuracy                           0.90      1106\n",
            "   macro avg       0.91      0.89      0.89      1106\n",
            "weighted avg       0.91      0.90      0.89      1106\n",
            "\n",
            "Probando Modelo RandomForestClassifier()\n",
            "Entrenamiento\n",
            "              precision    recall  f1-score   support\n",
            "\n",
            "         0.0       1.00      1.00      1.00      1296\n",
            "         1.0       1.00      1.00      1.00      1284\n",
            "\n",
            "    accuracy                           1.00      2580\n",
            "   macro avg       1.00      1.00      1.00      2580\n",
            "weighted avg       1.00      1.00      1.00      2580\n",
            "\n",
            "Validacion\n",
            "              precision    recall  f1-score   support\n",
            "\n",
            "         0.0       1.00      0.98      0.99       547\n",
            "         1.0       0.98      1.00      0.99       559\n",
            "\n",
            "    accuracy                           0.99      1106\n",
            "   macro avg       0.99      0.99      0.99      1106\n",
            "weighted avg       0.99      0.99      0.99      1106\n",
            "\n"
          ]
        }
      ],
      "id": "12caV7yT0lTn"
    },
    {
      "cell_type": "markdown",
      "source": [
        "Para el paciente 3, el modelo que mejor clasifica es el Random Forest Classifier."
      ],
      "metadata": {
        "id": "Ns0VMZHu0lTn"
      },
      "id": "Ns0VMZHu0lTn"
    },
    {
      "cell_type": "markdown",
      "source": [
        "# 3 Pacientes juntos\n",
        "\n"
      ],
      "metadata": {
        "id": "RRHmQbcM3VFf"
      },
      "id": "RRHmQbcM3VFf"
    },
    {
      "cell_type": "markdown",
      "source": [
        "## 1) LogisticRegression"
      ],
      "metadata": {
        "id": "ZeLoA4bC3VFf"
      },
      "id": "ZeLoA4bC3VFf"
    },
    {
      "cell_type": "markdown",
      "source": [
        "### Balanceo de etiquetas por Random OverSampling:"
      ],
      "metadata": {
        "id": "B4C-Y5T63VFf"
      },
      "id": "B4C-Y5T63VFf"
    },
    {
      "cell_type": "code",
      "source": [
        "all_labeled_curado_filtered['State'].value_counts()"
      ],
      "metadata": {
        "colab": {
          "base_uri": "https://localhost:8080/"
        },
        "outputId": "6aabfca4-f11a-440f-f315-15c5f4440807",
        "id": "rMAtppTa3VFg"
      },
      "execution_count": null,
      "outputs": [
        {
          "output_type": "execute_result",
          "data": {
            "text/plain": [
              "0.0    4466\n",
              "1.0    4466\n",
              "Name: State, dtype: int64"
            ]
          },
          "metadata": {},
          "execution_count": 410
        }
      ],
      "id": "rMAtppTa3VFg"
    },
    {
      "cell_type": "code",
      "source": [
        "y_3P = all_labeled_curado_filtered['State']\n",
        "X_3P = all_labeled_curado_filtered.drop(columns=['State'])"
      ],
      "metadata": {
        "id": "A5QMJ2r-3VFg"
      },
      "execution_count": null,
      "outputs": [],
      "id": "A5QMJ2r-3VFg"
    },
    {
      "cell_type": "code",
      "source": [
        "sampler = RandomOverSampler(random_state=0)\n",
        "X_3P_resamp_random, y_3P_resamp_random = sampler.fit_resample(X_3P, y_3P)"
      ],
      "metadata": {
        "id": "BNxA4_Je3VFg"
      },
      "execution_count": null,
      "outputs": [],
      "id": "BNxA4_Je3VFg"
    },
    {
      "cell_type": "code",
      "source": [
        "all_labeled_curado_balanced = pd.DataFrame(pd.concat([X_3P_resamp_random, y_3P_resamp_random], axis=1), \n",
        "                                    columns=all_labeled_curado.columns)"
      ],
      "metadata": {
        "id": "xRo5jRco3VFg"
      },
      "execution_count": null,
      "outputs": [],
      "id": "xRo5jRco3VFg"
    },
    {
      "cell_type": "code",
      "source": [
        "print(f'Nuevo tamaño del dataset: {len(all_labeled_curado_balanced)}')\n",
        "print('==============================')\n",
        "print(f'Etiquetas:\\n{all_labeled_curado_balanced.State.value_counts()}')\n",
        "print('==============================')\n",
        "print('Muestra')\n",
        "all_labeled_curado_balanced[:3]"
      ],
      "metadata": {
        "colab": {
          "base_uri": "https://localhost:8080/",
          "height": 282
        },
        "outputId": "6d3a8b74-ca98-4d75-e675-798c51621876",
        "id": "E0t-37Jp3VFg"
      },
      "execution_count": null,
      "outputs": [
        {
          "output_type": "stream",
          "name": "stdout",
          "text": [
            "Nuevo tamaño del dataset: 8932\n",
            "==============================\n",
            "Etiquetas:\n",
            "0.0    4466\n",
            "1.0    4466\n",
            "Name: State, dtype: int64\n",
            "==============================\n",
            "Muestra\n"
          ]
        },
        {
          "output_type": "execute_result",
          "data": {
            "text/plain": [
              "   Patient  State        PE        SC       GNE        SE       LZC       STE  \\\n",
              "0      1.0    0.0  0.541613  0.283209  0.570060  0.413078  0.195333  0.752879   \n",
              "1      1.0    0.0  0.543293  0.283316  0.572859  0.418008  0.199974  0.754335   \n",
              "2      1.0    0.0  0.436980  0.272283  0.398864  0.412815  0.116037  0.668147   \n",
              "\n",
              "           Mean        Std      Skew  \n",
              "0  2.075434e-05  48.467869 -0.031036  \n",
              "1  5.322688e-06  46.771531 -0.077559  \n",
              "2 -5.555946e-07  41.749673 -0.087401  "
            ],
            "text/html": [
              "\n",
              "  <div id=\"df-6d00c7f7-ac3b-4fd4-9600-4964892e3c12\">\n",
              "    <div class=\"colab-df-container\">\n",
              "      <div>\n",
              "<style scoped>\n",
              "    .dataframe tbody tr th:only-of-type {\n",
              "        vertical-align: middle;\n",
              "    }\n",
              "\n",
              "    .dataframe tbody tr th {\n",
              "        vertical-align: top;\n",
              "    }\n",
              "\n",
              "    .dataframe thead th {\n",
              "        text-align: right;\n",
              "    }\n",
              "</style>\n",
              "<table border=\"1\" class=\"dataframe\">\n",
              "  <thead>\n",
              "    <tr style=\"text-align: right;\">\n",
              "      <th></th>\n",
              "      <th>Patient</th>\n",
              "      <th>State</th>\n",
              "      <th>PE</th>\n",
              "      <th>SC</th>\n",
              "      <th>GNE</th>\n",
              "      <th>SE</th>\n",
              "      <th>LZC</th>\n",
              "      <th>STE</th>\n",
              "      <th>Mean</th>\n",
              "      <th>Std</th>\n",
              "      <th>Skew</th>\n",
              "    </tr>\n",
              "  </thead>\n",
              "  <tbody>\n",
              "    <tr>\n",
              "      <th>0</th>\n",
              "      <td>1.0</td>\n",
              "      <td>0.0</td>\n",
              "      <td>0.541613</td>\n",
              "      <td>0.283209</td>\n",
              "      <td>0.570060</td>\n",
              "      <td>0.413078</td>\n",
              "      <td>0.195333</td>\n",
              "      <td>0.752879</td>\n",
              "      <td>2.075434e-05</td>\n",
              "      <td>48.467869</td>\n",
              "      <td>-0.031036</td>\n",
              "    </tr>\n",
              "    <tr>\n",
              "      <th>1</th>\n",
              "      <td>1.0</td>\n",
              "      <td>0.0</td>\n",
              "      <td>0.543293</td>\n",
              "      <td>0.283316</td>\n",
              "      <td>0.572859</td>\n",
              "      <td>0.418008</td>\n",
              "      <td>0.199974</td>\n",
              "      <td>0.754335</td>\n",
              "      <td>5.322688e-06</td>\n",
              "      <td>46.771531</td>\n",
              "      <td>-0.077559</td>\n",
              "    </tr>\n",
              "    <tr>\n",
              "      <th>2</th>\n",
              "      <td>1.0</td>\n",
              "      <td>0.0</td>\n",
              "      <td>0.436980</td>\n",
              "      <td>0.272283</td>\n",
              "      <td>0.398864</td>\n",
              "      <td>0.412815</td>\n",
              "      <td>0.116037</td>\n",
              "      <td>0.668147</td>\n",
              "      <td>-5.555946e-07</td>\n",
              "      <td>41.749673</td>\n",
              "      <td>-0.087401</td>\n",
              "    </tr>\n",
              "  </tbody>\n",
              "</table>\n",
              "</div>\n",
              "      <button class=\"colab-df-convert\" onclick=\"convertToInteractive('df-6d00c7f7-ac3b-4fd4-9600-4964892e3c12')\"\n",
              "              title=\"Convert this dataframe to an interactive table.\"\n",
              "              style=\"display:none;\">\n",
              "        \n",
              "  <svg xmlns=\"http://www.w3.org/2000/svg\" height=\"24px\"viewBox=\"0 0 24 24\"\n",
              "       width=\"24px\">\n",
              "    <path d=\"M0 0h24v24H0V0z\" fill=\"none\"/>\n",
              "    <path d=\"M18.56 5.44l.94 2.06.94-2.06 2.06-.94-2.06-.94-.94-2.06-.94 2.06-2.06.94zm-11 1L8.5 8.5l.94-2.06 2.06-.94-2.06-.94L8.5 2.5l-.94 2.06-2.06.94zm10 10l.94 2.06.94-2.06 2.06-.94-2.06-.94-.94-2.06-.94 2.06-2.06.94z\"/><path d=\"M17.41 7.96l-1.37-1.37c-.4-.4-.92-.59-1.43-.59-.52 0-1.04.2-1.43.59L10.3 9.45l-7.72 7.72c-.78.78-.78 2.05 0 2.83L4 21.41c.39.39.9.59 1.41.59.51 0 1.02-.2 1.41-.59l7.78-7.78 2.81-2.81c.8-.78.8-2.07 0-2.86zM5.41 20L4 18.59l7.72-7.72 1.47 1.35L5.41 20z\"/>\n",
              "  </svg>\n",
              "      </button>\n",
              "      \n",
              "  <style>\n",
              "    .colab-df-container {\n",
              "      display:flex;\n",
              "      flex-wrap:wrap;\n",
              "      gap: 12px;\n",
              "    }\n",
              "\n",
              "    .colab-df-convert {\n",
              "      background-color: #E8F0FE;\n",
              "      border: none;\n",
              "      border-radius: 50%;\n",
              "      cursor: pointer;\n",
              "      display: none;\n",
              "      fill: #1967D2;\n",
              "      height: 32px;\n",
              "      padding: 0 0 0 0;\n",
              "      width: 32px;\n",
              "    }\n",
              "\n",
              "    .colab-df-convert:hover {\n",
              "      background-color: #E2EBFA;\n",
              "      box-shadow: 0px 1px 2px rgba(60, 64, 67, 0.3), 0px 1px 3px 1px rgba(60, 64, 67, 0.15);\n",
              "      fill: #174EA6;\n",
              "    }\n",
              "\n",
              "    [theme=dark] .colab-df-convert {\n",
              "      background-color: #3B4455;\n",
              "      fill: #D2E3FC;\n",
              "    }\n",
              "\n",
              "    [theme=dark] .colab-df-convert:hover {\n",
              "      background-color: #434B5C;\n",
              "      box-shadow: 0px 1px 3px 1px rgba(0, 0, 0, 0.15);\n",
              "      filter: drop-shadow(0px 1px 2px rgba(0, 0, 0, 0.3));\n",
              "      fill: #FFFFFF;\n",
              "    }\n",
              "  </style>\n",
              "\n",
              "      <script>\n",
              "        const buttonEl =\n",
              "          document.querySelector('#df-6d00c7f7-ac3b-4fd4-9600-4964892e3c12 button.colab-df-convert');\n",
              "        buttonEl.style.display =\n",
              "          google.colab.kernel.accessAllowed ? 'block' : 'none';\n",
              "\n",
              "        async function convertToInteractive(key) {\n",
              "          const element = document.querySelector('#df-6d00c7f7-ac3b-4fd4-9600-4964892e3c12');\n",
              "          const dataTable =\n",
              "            await google.colab.kernel.invokeFunction('convertToInteractive',\n",
              "                                                     [key], {});\n",
              "          if (!dataTable) return;\n",
              "\n",
              "          const docLinkHtml = 'Like what you see? Visit the ' +\n",
              "            '<a target=\"_blank\" href=https://colab.research.google.com/notebooks/data_table.ipynb>data table notebook</a>'\n",
              "            + ' to learn more about interactive tables.';\n",
              "          element.innerHTML = '';\n",
              "          dataTable['output_type'] = 'display_data';\n",
              "          await google.colab.output.renderOutput(dataTable, element);\n",
              "          const docLink = document.createElement('div');\n",
              "          docLink.innerHTML = docLinkHtml;\n",
              "          element.appendChild(docLink);\n",
              "        }\n",
              "      </script>\n",
              "    </div>\n",
              "  </div>\n",
              "  "
            ]
          },
          "metadata": {},
          "execution_count": 414
        }
      ],
      "id": "E0t-37Jp3VFg"
    },
    {
      "cell_type": "code",
      "source": [
        "print(len(all_labeled_curado_balanced))\n",
        "all_labeled_curado_balanced[:5]"
      ],
      "metadata": {
        "colab": {
          "base_uri": "https://localhost:8080/",
          "height": 224
        },
        "outputId": "baa5a941-b106-49ae-8a57-190d9c5e7778",
        "id": "GGrRrudE3VFg"
      },
      "execution_count": null,
      "outputs": [
        {
          "output_type": "stream",
          "name": "stdout",
          "text": [
            "8932\n"
          ]
        },
        {
          "output_type": "execute_result",
          "data": {
            "text/plain": [
              "   Patient  State        PE        SC       GNE        SE       LZC       STE  \\\n",
              "0      1.0    0.0  0.541613  0.283209  0.570060  0.413078  0.195333  0.752879   \n",
              "1      1.0    0.0  0.543293  0.283316  0.572859  0.418008  0.199974  0.754335   \n",
              "2      1.0    0.0  0.436980  0.272283  0.398864  0.412815  0.116037  0.668147   \n",
              "3      1.0    0.0  0.470491  0.272987  0.471743  0.410658  0.153933  0.670242   \n",
              "4      1.0    0.0  0.547944  0.283322  0.580141  0.409451  0.192583  0.758125   \n",
              "\n",
              "           Mean        Std      Skew  \n",
              "0  2.075434e-05  48.467869 -0.031036  \n",
              "1  5.322688e-06  46.771531 -0.077559  \n",
              "2 -5.555946e-07  41.749673 -0.087401  \n",
              "3  1.195139e-05  40.564267 -0.070704  \n",
              "4  8.023621e-06  49.719216 -0.070339  "
            ],
            "text/html": [
              "\n",
              "  <div id=\"df-47bc74ef-cc38-4037-837a-bc05ae022477\">\n",
              "    <div class=\"colab-df-container\">\n",
              "      <div>\n",
              "<style scoped>\n",
              "    .dataframe tbody tr th:only-of-type {\n",
              "        vertical-align: middle;\n",
              "    }\n",
              "\n",
              "    .dataframe tbody tr th {\n",
              "        vertical-align: top;\n",
              "    }\n",
              "\n",
              "    .dataframe thead th {\n",
              "        text-align: right;\n",
              "    }\n",
              "</style>\n",
              "<table border=\"1\" class=\"dataframe\">\n",
              "  <thead>\n",
              "    <tr style=\"text-align: right;\">\n",
              "      <th></th>\n",
              "      <th>Patient</th>\n",
              "      <th>State</th>\n",
              "      <th>PE</th>\n",
              "      <th>SC</th>\n",
              "      <th>GNE</th>\n",
              "      <th>SE</th>\n",
              "      <th>LZC</th>\n",
              "      <th>STE</th>\n",
              "      <th>Mean</th>\n",
              "      <th>Std</th>\n",
              "      <th>Skew</th>\n",
              "    </tr>\n",
              "  </thead>\n",
              "  <tbody>\n",
              "    <tr>\n",
              "      <th>0</th>\n",
              "      <td>1.0</td>\n",
              "      <td>0.0</td>\n",
              "      <td>0.541613</td>\n",
              "      <td>0.283209</td>\n",
              "      <td>0.570060</td>\n",
              "      <td>0.413078</td>\n",
              "      <td>0.195333</td>\n",
              "      <td>0.752879</td>\n",
              "      <td>2.075434e-05</td>\n",
              "      <td>48.467869</td>\n",
              "      <td>-0.031036</td>\n",
              "    </tr>\n",
              "    <tr>\n",
              "      <th>1</th>\n",
              "      <td>1.0</td>\n",
              "      <td>0.0</td>\n",
              "      <td>0.543293</td>\n",
              "      <td>0.283316</td>\n",
              "      <td>0.572859</td>\n",
              "      <td>0.418008</td>\n",
              "      <td>0.199974</td>\n",
              "      <td>0.754335</td>\n",
              "      <td>5.322688e-06</td>\n",
              "      <td>46.771531</td>\n",
              "      <td>-0.077559</td>\n",
              "    </tr>\n",
              "    <tr>\n",
              "      <th>2</th>\n",
              "      <td>1.0</td>\n",
              "      <td>0.0</td>\n",
              "      <td>0.436980</td>\n",
              "      <td>0.272283</td>\n",
              "      <td>0.398864</td>\n",
              "      <td>0.412815</td>\n",
              "      <td>0.116037</td>\n",
              "      <td>0.668147</td>\n",
              "      <td>-5.555946e-07</td>\n",
              "      <td>41.749673</td>\n",
              "      <td>-0.087401</td>\n",
              "    </tr>\n",
              "    <tr>\n",
              "      <th>3</th>\n",
              "      <td>1.0</td>\n",
              "      <td>0.0</td>\n",
              "      <td>0.470491</td>\n",
              "      <td>0.272987</td>\n",
              "      <td>0.471743</td>\n",
              "      <td>0.410658</td>\n",
              "      <td>0.153933</td>\n",
              "      <td>0.670242</td>\n",
              "      <td>1.195139e-05</td>\n",
              "      <td>40.564267</td>\n",
              "      <td>-0.070704</td>\n",
              "    </tr>\n",
              "    <tr>\n",
              "      <th>4</th>\n",
              "      <td>1.0</td>\n",
              "      <td>0.0</td>\n",
              "      <td>0.547944</td>\n",
              "      <td>0.283322</td>\n",
              "      <td>0.580141</td>\n",
              "      <td>0.409451</td>\n",
              "      <td>0.192583</td>\n",
              "      <td>0.758125</td>\n",
              "      <td>8.023621e-06</td>\n",
              "      <td>49.719216</td>\n",
              "      <td>-0.070339</td>\n",
              "    </tr>\n",
              "  </tbody>\n",
              "</table>\n",
              "</div>\n",
              "      <button class=\"colab-df-convert\" onclick=\"convertToInteractive('df-47bc74ef-cc38-4037-837a-bc05ae022477')\"\n",
              "              title=\"Convert this dataframe to an interactive table.\"\n",
              "              style=\"display:none;\">\n",
              "        \n",
              "  <svg xmlns=\"http://www.w3.org/2000/svg\" height=\"24px\"viewBox=\"0 0 24 24\"\n",
              "       width=\"24px\">\n",
              "    <path d=\"M0 0h24v24H0V0z\" fill=\"none\"/>\n",
              "    <path d=\"M18.56 5.44l.94 2.06.94-2.06 2.06-.94-2.06-.94-.94-2.06-.94 2.06-2.06.94zm-11 1L8.5 8.5l.94-2.06 2.06-.94-2.06-.94L8.5 2.5l-.94 2.06-2.06.94zm10 10l.94 2.06.94-2.06 2.06-.94-2.06-.94-.94-2.06-.94 2.06-2.06.94z\"/><path d=\"M17.41 7.96l-1.37-1.37c-.4-.4-.92-.59-1.43-.59-.52 0-1.04.2-1.43.59L10.3 9.45l-7.72 7.72c-.78.78-.78 2.05 0 2.83L4 21.41c.39.39.9.59 1.41.59.51 0 1.02-.2 1.41-.59l7.78-7.78 2.81-2.81c.8-.78.8-2.07 0-2.86zM5.41 20L4 18.59l7.72-7.72 1.47 1.35L5.41 20z\"/>\n",
              "  </svg>\n",
              "      </button>\n",
              "      \n",
              "  <style>\n",
              "    .colab-df-container {\n",
              "      display:flex;\n",
              "      flex-wrap:wrap;\n",
              "      gap: 12px;\n",
              "    }\n",
              "\n",
              "    .colab-df-convert {\n",
              "      background-color: #E8F0FE;\n",
              "      border: none;\n",
              "      border-radius: 50%;\n",
              "      cursor: pointer;\n",
              "      display: none;\n",
              "      fill: #1967D2;\n",
              "      height: 32px;\n",
              "      padding: 0 0 0 0;\n",
              "      width: 32px;\n",
              "    }\n",
              "\n",
              "    .colab-df-convert:hover {\n",
              "      background-color: #E2EBFA;\n",
              "      box-shadow: 0px 1px 2px rgba(60, 64, 67, 0.3), 0px 1px 3px 1px rgba(60, 64, 67, 0.15);\n",
              "      fill: #174EA6;\n",
              "    }\n",
              "\n",
              "    [theme=dark] .colab-df-convert {\n",
              "      background-color: #3B4455;\n",
              "      fill: #D2E3FC;\n",
              "    }\n",
              "\n",
              "    [theme=dark] .colab-df-convert:hover {\n",
              "      background-color: #434B5C;\n",
              "      box-shadow: 0px 1px 3px 1px rgba(0, 0, 0, 0.15);\n",
              "      filter: drop-shadow(0px 1px 2px rgba(0, 0, 0, 0.3));\n",
              "      fill: #FFFFFF;\n",
              "    }\n",
              "  </style>\n",
              "\n",
              "      <script>\n",
              "        const buttonEl =\n",
              "          document.querySelector('#df-47bc74ef-cc38-4037-837a-bc05ae022477 button.colab-df-convert');\n",
              "        buttonEl.style.display =\n",
              "          google.colab.kernel.accessAllowed ? 'block' : 'none';\n",
              "\n",
              "        async function convertToInteractive(key) {\n",
              "          const element = document.querySelector('#df-47bc74ef-cc38-4037-837a-bc05ae022477');\n",
              "          const dataTable =\n",
              "            await google.colab.kernel.invokeFunction('convertToInteractive',\n",
              "                                                     [key], {});\n",
              "          if (!dataTable) return;\n",
              "\n",
              "          const docLinkHtml = 'Like what you see? Visit the ' +\n",
              "            '<a target=\"_blank\" href=https://colab.research.google.com/notebooks/data_table.ipynb>data table notebook</a>'\n",
              "            + ' to learn more about interactive tables.';\n",
              "          element.innerHTML = '';\n",
              "          dataTable['output_type'] = 'display_data';\n",
              "          await google.colab.output.renderOutput(dataTable, element);\n",
              "          const docLink = document.createElement('div');\n",
              "          docLink.innerHTML = docLinkHtml;\n",
              "          element.appendChild(docLink);\n",
              "        }\n",
              "      </script>\n",
              "    </div>\n",
              "  </div>\n",
              "  "
            ]
          },
          "metadata": {},
          "execution_count": 416
        }
      ],
      "id": "GGrRrudE3VFg"
    },
    {
      "cell_type": "code",
      "source": [
        "#Modelo"
      ],
      "metadata": {
        "id": "doFvxI6E3VFg"
      },
      "execution_count": null,
      "outputs": [],
      "id": "doFvxI6E3VFg"
    },
    {
      "cell_type": "code",
      "source": [
        "X_3P = all_labeled_curado_balanced.drop(labels=['State','Patient'], axis=1)\n",
        "y_3P = all_labeled_curado_balanced['State']"
      ],
      "metadata": {
        "id": "pguelrVf3VFh"
      },
      "execution_count": null,
      "outputs": [],
      "id": "pguelrVf3VFh"
    },
    {
      "cell_type": "code",
      "source": [
        "# Train and validation\n",
        "X_3P_train, X_3P_val, y_3P_train, y_3P_val = train_test_split(X_3P, y_3P, test_size=0.30, random_state=0, shuffle=True)"
      ],
      "metadata": {
        "id": "pLe9eZnz3VFh"
      },
      "execution_count": null,
      "outputs": [],
      "id": "pLe9eZnz3VFh"
    },
    {
      "cell_type": "code",
      "source": [
        "scaler = MinMaxScaler()\n",
        "ft_selector = LogisticRegression(random_state=0, penalty='l2', solver='liblinear')\n",
        "param_grid = {\n",
        "    'classifier__penalty': ['l1', 'l2'],\n",
        "    'classifier__random_state': [0],\n",
        "    'classifier__solver': ['liblinear'],\n",
        "    'classifier__class_weight': ['balanced']\n",
        "}\n",
        "model3 = KNeighborsClassifier(n_neighbors=3)"
      ],
      "metadata": {
        "id": "sAoagQ2E3VFh"
      },
      "execution_count": null,
      "outputs": [],
      "id": "sAoagQ2E3VFh"
    },
    {
      "cell_type": "code",
      "source": [
        "# Fit\n",
        "pipe = Pipeline([\n",
        "  ('scaler', scaler),\n",
        "  ('feature_selection', SelectFromModel(ft_selector)),\n",
        "  ('classifier', model3)\n",
        "])\n",
        "\n",
        "#model = GridSearchCV(pipe, param_grid, scoring='neg_mean_squared_error',cv=5)\n",
        "\n",
        "pipe.fit(X_3P_train, y_3P_train)\n",
        "#svr_cv = model"
      ],
      "metadata": {
        "colab": {
          "base_uri": "https://localhost:8080/"
        },
        "outputId": "73743579-06df-4644-f269-6a6321f212a6",
        "id": "5B3XudGW3VFh"
      },
      "execution_count": null,
      "outputs": [
        {
          "output_type": "execute_result",
          "data": {
            "text/plain": [
              "Pipeline(steps=[('scaler', MinMaxScaler()),\n",
              "                ('feature_selection',\n",
              "                 SelectFromModel(estimator=LogisticRegression(random_state=0,\n",
              "                                                              solver='liblinear'))),\n",
              "                ('classifier', KNeighborsClassifier(n_neighbors=3))])"
            ]
          },
          "metadata": {},
          "execution_count": 420
        }
      ],
      "id": "5B3XudGW3VFh"
    },
    {
      "cell_type": "code",
      "source": [
        "pipe.score(X_3P_train, y_3P_train)"
      ],
      "metadata": {
        "colab": {
          "base_uri": "https://localhost:8080/"
        },
        "outputId": "c046b68f-48d9-41c1-92ba-a4a99b98f075",
        "id": "Owicjytz3VFh"
      },
      "execution_count": null,
      "outputs": [
        {
          "output_type": "execute_result",
          "data": {
            "text/plain": [
              "0.9577735124760077"
            ]
          },
          "metadata": {},
          "execution_count": 422
        }
      ],
      "id": "Owicjytz3VFh"
    },
    {
      "cell_type": "code",
      "source": [
        "pipe.score(X_3P_val, y_3P_val)"
      ],
      "metadata": {
        "colab": {
          "base_uri": "https://localhost:8080/"
        },
        "outputId": "1126781e-9509-42d6-fee4-8a487671910b",
        "id": "iAd2YVsZ3VFh"
      },
      "execution_count": null,
      "outputs": [
        {
          "output_type": "execute_result",
          "data": {
            "text/plain": [
              "0.9227611940298508"
            ]
          },
          "metadata": {},
          "execution_count": 423
        }
      ],
      "id": "iAd2YVsZ3VFh"
    },
    {
      "cell_type": "code",
      "source": [
        "# Utilizamos el modelo entrenado para predecir las etiquetas utilizando los datos de entrenamiento y de test\n",
        "y_3P_train_pred = pipe.predict(X_3P_train)\n",
        "y_3P_test_pred = pipe.predict(X_3P_val)"
      ],
      "metadata": {
        "id": "-lzLRsN03VFh"
      },
      "execution_count": null,
      "outputs": [],
      "id": "-lzLRsN03VFh"
    },
    {
      "cell_type": "code",
      "source": [
        "print(\"Entrenamiento\")\n",
        "print(classification_report(y_3P_train, y_3P_train_pred))\n",
        "\n",
        "print(\"Validacion\")\n",
        "print(classification_report(y_3P_val, y_3P_test_pred))"
      ],
      "metadata": {
        "colab": {
          "base_uri": "https://localhost:8080/"
        },
        "outputId": "e58801be-801a-424a-c4f7-8527243c30fc",
        "id": "5k86E12E3VFi"
      },
      "execution_count": null,
      "outputs": [
        {
          "output_type": "stream",
          "name": "stdout",
          "text": [
            "Entrenamiento\n",
            "              precision    recall  f1-score   support\n",
            "\n",
            "         0.0       1.00      0.92      0.96      3128\n",
            "         1.0       0.92      1.00      0.96      3124\n",
            "\n",
            "    accuracy                           0.96      6252\n",
            "   macro avg       0.96      0.96      0.96      6252\n",
            "weighted avg       0.96      0.96      0.96      6252\n",
            "\n",
            "Validacion\n",
            "              precision    recall  f1-score   support\n",
            "\n",
            "         0.0       1.00      0.85      0.92      1338\n",
            "         1.0       0.87      1.00      0.93      1342\n",
            "\n",
            "    accuracy                           0.92      2680\n",
            "   macro avg       0.93      0.92      0.92      2680\n",
            "weighted avg       0.93      0.92      0.92      2680\n",
            "\n"
          ]
        }
      ],
      "id": "5k86E12E3VFi"
    },
    {
      "cell_type": "code",
      "source": [
        "all_labeled_curado_balanced['State'].value_counts()"
      ],
      "metadata": {
        "colab": {
          "base_uri": "https://localhost:8080/"
        },
        "outputId": "2503f1ea-b206-4018-d3b9-babb784f114c",
        "id": "Ser0x28a3VFi"
      },
      "execution_count": null,
      "outputs": [
        {
          "output_type": "execute_result",
          "data": {
            "text/plain": [
              "1.0    5536\n",
              "0.0    5536\n",
              "Name: State, dtype: int64"
            ]
          },
          "metadata": {},
          "execution_count": 441
        }
      ],
      "id": "Ser0x28a3VFi"
    },
    {
      "cell_type": "code",
      "source": [
        "y_3P = all_labeled_curado_balanced['State']\n",
        "X_3P = all_labeled_curado_balanced.drop(columns=['State'])"
      ],
      "metadata": {
        "id": "F1eUu5oO3VFi"
      },
      "execution_count": null,
      "outputs": [],
      "id": "F1eUu5oO3VFi"
    },
    {
      "cell_type": "code",
      "source": [
        "sampler = RandomOverSampler(random_state=0)\n",
        "X_3P_resamp_random, y_3P_resamp_random = sampler.fit_resample(X_3P, y_3P)"
      ],
      "metadata": {
        "id": "R9ljmntc3VFi"
      },
      "execution_count": null,
      "outputs": [],
      "id": "R9ljmntc3VFi"
    },
    {
      "cell_type": "code",
      "source": [
        "all_labeled_curado_balanced = pd.DataFrame(pd.concat([X_3P_resamp_random, y_3P_resamp_random], axis=1), \n",
        "                                    columns=all_labeled_curado.columns)"
      ],
      "metadata": {
        "id": "BlDN7eEd3VFi"
      },
      "execution_count": null,
      "outputs": [],
      "id": "BlDN7eEd3VFi"
    },
    {
      "cell_type": "code",
      "source": [
        "print(f'Nuevo tamaño del dataset: {len(all_labeled_curado_balanced)}')\n",
        "print('==============================')\n",
        "print(f'Etiquetas:\\n{all_labeled_curado_balanced.State.value_counts()}')\n",
        "print('==============================')\n",
        "print('Muestra')\n",
        "all_labeled_curado_balanced[:3]"
      ],
      "metadata": {
        "colab": {
          "base_uri": "https://localhost:8080/",
          "height": 282
        },
        "outputId": "4f08bc7c-b9c5-46c5-86d2-6c91e49a26d3",
        "id": "hz5Gh1Yb3VFi"
      },
      "execution_count": null,
      "outputs": [
        {
          "output_type": "stream",
          "name": "stdout",
          "text": [
            "Nuevo tamaño del dataset: 11072\n",
            "==============================\n",
            "Etiquetas:\n",
            "1.0    5536\n",
            "0.0    5536\n",
            "Name: State, dtype: int64\n",
            "==============================\n",
            "Muestra\n"
          ]
        },
        {
          "output_type": "execute_result",
          "data": {
            "text/plain": [
              "   Patient  State        PE        SC       GNE        SE       LZC       STE  \\\n",
              "0      1.0    1.0  0.598255  0.285388  0.662095  0.520937  0.325380  0.802138   \n",
              "1      1.0    0.0  0.541613  0.283209  0.570060  0.413078  0.195333  0.752879   \n",
              "2      1.0    0.0  0.543293  0.283316  0.572859  0.418008  0.199974  0.754335   \n",
              "\n",
              "       Mean        Std      Skew  \n",
              "0  0.000004  15.557899 -0.000629  \n",
              "1  0.000021  48.467869 -0.031036  \n",
              "2  0.000005  46.771531 -0.077559  "
            ],
            "text/html": [
              "\n",
              "  <div id=\"df-e5ee9658-8f07-4c74-878b-66dce7596e03\">\n",
              "    <div class=\"colab-df-container\">\n",
              "      <div>\n",
              "<style scoped>\n",
              "    .dataframe tbody tr th:only-of-type {\n",
              "        vertical-align: middle;\n",
              "    }\n",
              "\n",
              "    .dataframe tbody tr th {\n",
              "        vertical-align: top;\n",
              "    }\n",
              "\n",
              "    .dataframe thead th {\n",
              "        text-align: right;\n",
              "    }\n",
              "</style>\n",
              "<table border=\"1\" class=\"dataframe\">\n",
              "  <thead>\n",
              "    <tr style=\"text-align: right;\">\n",
              "      <th></th>\n",
              "      <th>Patient</th>\n",
              "      <th>State</th>\n",
              "      <th>PE</th>\n",
              "      <th>SC</th>\n",
              "      <th>GNE</th>\n",
              "      <th>SE</th>\n",
              "      <th>LZC</th>\n",
              "      <th>STE</th>\n",
              "      <th>Mean</th>\n",
              "      <th>Std</th>\n",
              "      <th>Skew</th>\n",
              "    </tr>\n",
              "  </thead>\n",
              "  <tbody>\n",
              "    <tr>\n",
              "      <th>0</th>\n",
              "      <td>1.0</td>\n",
              "      <td>1.0</td>\n",
              "      <td>0.598255</td>\n",
              "      <td>0.285388</td>\n",
              "      <td>0.662095</td>\n",
              "      <td>0.520937</td>\n",
              "      <td>0.325380</td>\n",
              "      <td>0.802138</td>\n",
              "      <td>0.000004</td>\n",
              "      <td>15.557899</td>\n",
              "      <td>-0.000629</td>\n",
              "    </tr>\n",
              "    <tr>\n",
              "      <th>1</th>\n",
              "      <td>1.0</td>\n",
              "      <td>0.0</td>\n",
              "      <td>0.541613</td>\n",
              "      <td>0.283209</td>\n",
              "      <td>0.570060</td>\n",
              "      <td>0.413078</td>\n",
              "      <td>0.195333</td>\n",
              "      <td>0.752879</td>\n",
              "      <td>0.000021</td>\n",
              "      <td>48.467869</td>\n",
              "      <td>-0.031036</td>\n",
              "    </tr>\n",
              "    <tr>\n",
              "      <th>2</th>\n",
              "      <td>1.0</td>\n",
              "      <td>0.0</td>\n",
              "      <td>0.543293</td>\n",
              "      <td>0.283316</td>\n",
              "      <td>0.572859</td>\n",
              "      <td>0.418008</td>\n",
              "      <td>0.199974</td>\n",
              "      <td>0.754335</td>\n",
              "      <td>0.000005</td>\n",
              "      <td>46.771531</td>\n",
              "      <td>-0.077559</td>\n",
              "    </tr>\n",
              "  </tbody>\n",
              "</table>\n",
              "</div>\n",
              "      <button class=\"colab-df-convert\" onclick=\"convertToInteractive('df-e5ee9658-8f07-4c74-878b-66dce7596e03')\"\n",
              "              title=\"Convert this dataframe to an interactive table.\"\n",
              "              style=\"display:none;\">\n",
              "        \n",
              "  <svg xmlns=\"http://www.w3.org/2000/svg\" height=\"24px\"viewBox=\"0 0 24 24\"\n",
              "       width=\"24px\">\n",
              "    <path d=\"M0 0h24v24H0V0z\" fill=\"none\"/>\n",
              "    <path d=\"M18.56 5.44l.94 2.06.94-2.06 2.06-.94-2.06-.94-.94-2.06-.94 2.06-2.06.94zm-11 1L8.5 8.5l.94-2.06 2.06-.94-2.06-.94L8.5 2.5l-.94 2.06-2.06.94zm10 10l.94 2.06.94-2.06 2.06-.94-2.06-.94-.94-2.06-.94 2.06-2.06.94z\"/><path d=\"M17.41 7.96l-1.37-1.37c-.4-.4-.92-.59-1.43-.59-.52 0-1.04.2-1.43.59L10.3 9.45l-7.72 7.72c-.78.78-.78 2.05 0 2.83L4 21.41c.39.39.9.59 1.41.59.51 0 1.02-.2 1.41-.59l7.78-7.78 2.81-2.81c.8-.78.8-2.07 0-2.86zM5.41 20L4 18.59l7.72-7.72 1.47 1.35L5.41 20z\"/>\n",
              "  </svg>\n",
              "      </button>\n",
              "      \n",
              "  <style>\n",
              "    .colab-df-container {\n",
              "      display:flex;\n",
              "      flex-wrap:wrap;\n",
              "      gap: 12px;\n",
              "    }\n",
              "\n",
              "    .colab-df-convert {\n",
              "      background-color: #E8F0FE;\n",
              "      border: none;\n",
              "      border-radius: 50%;\n",
              "      cursor: pointer;\n",
              "      display: none;\n",
              "      fill: #1967D2;\n",
              "      height: 32px;\n",
              "      padding: 0 0 0 0;\n",
              "      width: 32px;\n",
              "    }\n",
              "\n",
              "    .colab-df-convert:hover {\n",
              "      background-color: #E2EBFA;\n",
              "      box-shadow: 0px 1px 2px rgba(60, 64, 67, 0.3), 0px 1px 3px 1px rgba(60, 64, 67, 0.15);\n",
              "      fill: #174EA6;\n",
              "    }\n",
              "\n",
              "    [theme=dark] .colab-df-convert {\n",
              "      background-color: #3B4455;\n",
              "      fill: #D2E3FC;\n",
              "    }\n",
              "\n",
              "    [theme=dark] .colab-df-convert:hover {\n",
              "      background-color: #434B5C;\n",
              "      box-shadow: 0px 1px 3px 1px rgba(0, 0, 0, 0.15);\n",
              "      filter: drop-shadow(0px 1px 2px rgba(0, 0, 0, 0.3));\n",
              "      fill: #FFFFFF;\n",
              "    }\n",
              "  </style>\n",
              "\n",
              "      <script>\n",
              "        const buttonEl =\n",
              "          document.querySelector('#df-e5ee9658-8f07-4c74-878b-66dce7596e03 button.colab-df-convert');\n",
              "        buttonEl.style.display =\n",
              "          google.colab.kernel.accessAllowed ? 'block' : 'none';\n",
              "\n",
              "        async function convertToInteractive(key) {\n",
              "          const element = document.querySelector('#df-e5ee9658-8f07-4c74-878b-66dce7596e03');\n",
              "          const dataTable =\n",
              "            await google.colab.kernel.invokeFunction('convertToInteractive',\n",
              "                                                     [key], {});\n",
              "          if (!dataTable) return;\n",
              "\n",
              "          const docLinkHtml = 'Like what you see? Visit the ' +\n",
              "            '<a target=\"_blank\" href=https://colab.research.google.com/notebooks/data_table.ipynb>data table notebook</a>'\n",
              "            + ' to learn more about interactive tables.';\n",
              "          element.innerHTML = '';\n",
              "          dataTable['output_type'] = 'display_data';\n",
              "          await google.colab.output.renderOutput(dataTable, element);\n",
              "          const docLink = document.createElement('div');\n",
              "          docLink.innerHTML = docLinkHtml;\n",
              "          element.appendChild(docLink);\n",
              "        }\n",
              "      </script>\n",
              "    </div>\n",
              "  </div>\n",
              "  "
            ]
          },
          "metadata": {},
          "execution_count": 430
        }
      ],
      "id": "hz5Gh1Yb3VFi"
    },
    {
      "cell_type": "code",
      "source": [
        "print(len(all_labeled_curado_balanced))\n",
        "all_labeled_curado_balanced[:5]"
      ],
      "metadata": {
        "colab": {
          "base_uri": "https://localhost:8080/",
          "height": 224
        },
        "outputId": "ab79becd-a44c-45bc-f1c1-6883385d0a75",
        "id": "-XNCY9wr3VFi"
      },
      "execution_count": null,
      "outputs": [
        {
          "output_type": "stream",
          "name": "stdout",
          "text": [
            "11072\n"
          ]
        },
        {
          "output_type": "execute_result",
          "data": {
            "text/plain": [
              "   Patient  State        PE        SC       GNE        SE       LZC       STE  \\\n",
              "0      1.0    1.0  0.598255  0.285388  0.662095  0.520937  0.325380  0.802138   \n",
              "1      1.0    0.0  0.541613  0.283209  0.570060  0.413078  0.195333  0.752879   \n",
              "2      1.0    0.0  0.543293  0.283316  0.572859  0.418008  0.199974  0.754335   \n",
              "3      1.0    0.0  0.535949  0.282724  0.560678  0.391206  0.166309  0.747854   \n",
              "4      1.0    0.0  0.436980  0.272283  0.398864  0.412815  0.116037  0.668147   \n",
              "\n",
              "           Mean        Std      Skew  \n",
              "0  4.426225e-06  15.557899 -0.000629  \n",
              "1  2.075434e-05  48.467869 -0.031036  \n",
              "2  5.322688e-06  46.771531 -0.077559  \n",
              "3 -1.353617e-05  48.590217 -0.024175  \n",
              "4 -5.555946e-07  41.749673 -0.087401  "
            ],
            "text/html": [
              "\n",
              "  <div id=\"df-3da9e69c-802c-475a-b711-38b6d3af9f42\">\n",
              "    <div class=\"colab-df-container\">\n",
              "      <div>\n",
              "<style scoped>\n",
              "    .dataframe tbody tr th:only-of-type {\n",
              "        vertical-align: middle;\n",
              "    }\n",
              "\n",
              "    .dataframe tbody tr th {\n",
              "        vertical-align: top;\n",
              "    }\n",
              "\n",
              "    .dataframe thead th {\n",
              "        text-align: right;\n",
              "    }\n",
              "</style>\n",
              "<table border=\"1\" class=\"dataframe\">\n",
              "  <thead>\n",
              "    <tr style=\"text-align: right;\">\n",
              "      <th></th>\n",
              "      <th>Patient</th>\n",
              "      <th>State</th>\n",
              "      <th>PE</th>\n",
              "      <th>SC</th>\n",
              "      <th>GNE</th>\n",
              "      <th>SE</th>\n",
              "      <th>LZC</th>\n",
              "      <th>STE</th>\n",
              "      <th>Mean</th>\n",
              "      <th>Std</th>\n",
              "      <th>Skew</th>\n",
              "    </tr>\n",
              "  </thead>\n",
              "  <tbody>\n",
              "    <tr>\n",
              "      <th>0</th>\n",
              "      <td>1.0</td>\n",
              "      <td>1.0</td>\n",
              "      <td>0.598255</td>\n",
              "      <td>0.285388</td>\n",
              "      <td>0.662095</td>\n",
              "      <td>0.520937</td>\n",
              "      <td>0.325380</td>\n",
              "      <td>0.802138</td>\n",
              "      <td>4.426225e-06</td>\n",
              "      <td>15.557899</td>\n",
              "      <td>-0.000629</td>\n",
              "    </tr>\n",
              "    <tr>\n",
              "      <th>1</th>\n",
              "      <td>1.0</td>\n",
              "      <td>0.0</td>\n",
              "      <td>0.541613</td>\n",
              "      <td>0.283209</td>\n",
              "      <td>0.570060</td>\n",
              "      <td>0.413078</td>\n",
              "      <td>0.195333</td>\n",
              "      <td>0.752879</td>\n",
              "      <td>2.075434e-05</td>\n",
              "      <td>48.467869</td>\n",
              "      <td>-0.031036</td>\n",
              "    </tr>\n",
              "    <tr>\n",
              "      <th>2</th>\n",
              "      <td>1.0</td>\n",
              "      <td>0.0</td>\n",
              "      <td>0.543293</td>\n",
              "      <td>0.283316</td>\n",
              "      <td>0.572859</td>\n",
              "      <td>0.418008</td>\n",
              "      <td>0.199974</td>\n",
              "      <td>0.754335</td>\n",
              "      <td>5.322688e-06</td>\n",
              "      <td>46.771531</td>\n",
              "      <td>-0.077559</td>\n",
              "    </tr>\n",
              "    <tr>\n",
              "      <th>3</th>\n",
              "      <td>1.0</td>\n",
              "      <td>0.0</td>\n",
              "      <td>0.535949</td>\n",
              "      <td>0.282724</td>\n",
              "      <td>0.560678</td>\n",
              "      <td>0.391206</td>\n",
              "      <td>0.166309</td>\n",
              "      <td>0.747854</td>\n",
              "      <td>-1.353617e-05</td>\n",
              "      <td>48.590217</td>\n",
              "      <td>-0.024175</td>\n",
              "    </tr>\n",
              "    <tr>\n",
              "      <th>4</th>\n",
              "      <td>1.0</td>\n",
              "      <td>0.0</td>\n",
              "      <td>0.436980</td>\n",
              "      <td>0.272283</td>\n",
              "      <td>0.398864</td>\n",
              "      <td>0.412815</td>\n",
              "      <td>0.116037</td>\n",
              "      <td>0.668147</td>\n",
              "      <td>-5.555946e-07</td>\n",
              "      <td>41.749673</td>\n",
              "      <td>-0.087401</td>\n",
              "    </tr>\n",
              "  </tbody>\n",
              "</table>\n",
              "</div>\n",
              "      <button class=\"colab-df-convert\" onclick=\"convertToInteractive('df-3da9e69c-802c-475a-b711-38b6d3af9f42')\"\n",
              "              title=\"Convert this dataframe to an interactive table.\"\n",
              "              style=\"display:none;\">\n",
              "        \n",
              "  <svg xmlns=\"http://www.w3.org/2000/svg\" height=\"24px\"viewBox=\"0 0 24 24\"\n",
              "       width=\"24px\">\n",
              "    <path d=\"M0 0h24v24H0V0z\" fill=\"none\"/>\n",
              "    <path d=\"M18.56 5.44l.94 2.06.94-2.06 2.06-.94-2.06-.94-.94-2.06-.94 2.06-2.06.94zm-11 1L8.5 8.5l.94-2.06 2.06-.94-2.06-.94L8.5 2.5l-.94 2.06-2.06.94zm10 10l.94 2.06.94-2.06 2.06-.94-2.06-.94-.94-2.06-.94 2.06-2.06.94z\"/><path d=\"M17.41 7.96l-1.37-1.37c-.4-.4-.92-.59-1.43-.59-.52 0-1.04.2-1.43.59L10.3 9.45l-7.72 7.72c-.78.78-.78 2.05 0 2.83L4 21.41c.39.39.9.59 1.41.59.51 0 1.02-.2 1.41-.59l7.78-7.78 2.81-2.81c.8-.78.8-2.07 0-2.86zM5.41 20L4 18.59l7.72-7.72 1.47 1.35L5.41 20z\"/>\n",
              "  </svg>\n",
              "      </button>\n",
              "      \n",
              "  <style>\n",
              "    .colab-df-container {\n",
              "      display:flex;\n",
              "      flex-wrap:wrap;\n",
              "      gap: 12px;\n",
              "    }\n",
              "\n",
              "    .colab-df-convert {\n",
              "      background-color: #E8F0FE;\n",
              "      border: none;\n",
              "      border-radius: 50%;\n",
              "      cursor: pointer;\n",
              "      display: none;\n",
              "      fill: #1967D2;\n",
              "      height: 32px;\n",
              "      padding: 0 0 0 0;\n",
              "      width: 32px;\n",
              "    }\n",
              "\n",
              "    .colab-df-convert:hover {\n",
              "      background-color: #E2EBFA;\n",
              "      box-shadow: 0px 1px 2px rgba(60, 64, 67, 0.3), 0px 1px 3px 1px rgba(60, 64, 67, 0.15);\n",
              "      fill: #174EA6;\n",
              "    }\n",
              "\n",
              "    [theme=dark] .colab-df-convert {\n",
              "      background-color: #3B4455;\n",
              "      fill: #D2E3FC;\n",
              "    }\n",
              "\n",
              "    [theme=dark] .colab-df-convert:hover {\n",
              "      background-color: #434B5C;\n",
              "      box-shadow: 0px 1px 3px 1px rgba(0, 0, 0, 0.15);\n",
              "      filter: drop-shadow(0px 1px 2px rgba(0, 0, 0, 0.3));\n",
              "      fill: #FFFFFF;\n",
              "    }\n",
              "  </style>\n",
              "\n",
              "      <script>\n",
              "        const buttonEl =\n",
              "          document.querySelector('#df-3da9e69c-802c-475a-b711-38b6d3af9f42 button.colab-df-convert');\n",
              "        buttonEl.style.display =\n",
              "          google.colab.kernel.accessAllowed ? 'block' : 'none';\n",
              "\n",
              "        async function convertToInteractive(key) {\n",
              "          const element = document.querySelector('#df-3da9e69c-802c-475a-b711-38b6d3af9f42');\n",
              "          const dataTable =\n",
              "            await google.colab.kernel.invokeFunction('convertToInteractive',\n",
              "                                                     [key], {});\n",
              "          if (!dataTable) return;\n",
              "\n",
              "          const docLinkHtml = 'Like what you see? Visit the ' +\n",
              "            '<a target=\"_blank\" href=https://colab.research.google.com/notebooks/data_table.ipynb>data table notebook</a>'\n",
              "            + ' to learn more about interactive tables.';\n",
              "          element.innerHTML = '';\n",
              "          dataTable['output_type'] = 'display_data';\n",
              "          await google.colab.output.renderOutput(dataTable, element);\n",
              "          const docLink = document.createElement('div');\n",
              "          docLink.innerHTML = docLinkHtml;\n",
              "          element.appendChild(docLink);\n",
              "        }\n",
              "      </script>\n",
              "    </div>\n",
              "  </div>\n",
              "  "
            ]
          },
          "metadata": {},
          "execution_count": 431
        }
      ],
      "id": "-XNCY9wr3VFi"
    },
    {
      "cell_type": "code",
      "source": [
        "#Modelo"
      ],
      "metadata": {
        "id": "QGFpFTvd3VFj"
      },
      "execution_count": null,
      "outputs": [],
      "id": "QGFpFTvd3VFj"
    },
    {
      "cell_type": "code",
      "source": [
        "X_3P = all_labeled_curado_balanced.drop(labels=['State','Patient'], axis=1)\n",
        "y_3P = all_labeled_curado_balanced['State']"
      ],
      "metadata": {
        "id": "CSuEUmz53VFj"
      },
      "execution_count": null,
      "outputs": [],
      "id": "CSuEUmz53VFj"
    },
    {
      "cell_type": "code",
      "source": [
        "# Train and validation\n",
        "X_3P_train, X_3P_val, y_3P_train, y_3P_val = train_test_split(X_3P, y_3P, test_size=0.30, random_state=0, shuffle=True)"
      ],
      "metadata": {
        "id": "CFDbSkof3VFj"
      },
      "execution_count": null,
      "outputs": [],
      "id": "CFDbSkof3VFj"
    },
    {
      "cell_type": "markdown",
      "source": [
        "## 2) Seleccion de modelo\n"
      ],
      "metadata": {
        "id": "ULcR47n33VFj"
      },
      "id": "ULcR47n33VFj"
    },
    {
      "cell_type": "code",
      "source": [
        "from sklearn.svm import SVC, NuSVC\n",
        "from sklearn.ensemble import RandomForestClassifier\n",
        "from sklearn.neighbors import KNeighborsClassifier"
      ],
      "metadata": {
        "id": "FvP_70RD3VFj"
      },
      "execution_count": null,
      "outputs": [],
      "id": "FvP_70RD3VFj"
    },
    {
      "cell_type": "code",
      "source": [
        "clfs_3P = [LogisticRegression(), \n",
        "           SVC(), \n",
        "           NuSVC(), \n",
        "           KNeighborsClassifier(), \n",
        "           RandomForestClassifier()] "
      ],
      "metadata": {
        "id": "WpdsVCbt3VFj"
      },
      "execution_count": null,
      "outputs": [],
      "id": "WpdsVCbt3VFj"
    },
    {
      "cell_type": "code",
      "source": [
        "for clf in clfs_3P:\n",
        "  print(f\"Probando Modelo {str(clf)}\")\n",
        "  pipe = Pipeline([\n",
        "  ('scaler', scaler),\n",
        "   #('feature_selection', SelectFromModel(ft_selector)),\n",
        "  ('classifier', clf)\n",
        "  ])\n",
        "\n",
        "  pipe.fit(X_3P_train, y_3P_train)\n",
        "#svr_cv = model\n",
        "  pipe.score(X_3P_val, y_3P_val)\n",
        "  # Utilizamos el modelo entrenado para predecir las etiquetas utilizando los datos de entrenamiento y de test\n",
        "  y_3P_train_pred = pipe.predict(X_3P_train)\n",
        "  y_3P_test_pred = pipe.predict(X_3P_val)\n",
        "\n",
        "\n",
        "  print(\"Entrenamiento\")\n",
        "  print(classification_report(y_3P_train, y_3P_train_pred))\n",
        "  print(\"Validacion\")\n",
        "  print(classification_report(y_3P_val, y_3P_test_pred))\n"
      ],
      "metadata": {
        "colab": {
          "base_uri": "https://localhost:8080/"
        },
        "outputId": "cd802ef0-3d4c-4984-9d90-b53c4f11280b",
        "id": "-Fwob1PA3VFj"
      },
      "execution_count": null,
      "outputs": [
        {
          "output_type": "stream",
          "name": "stdout",
          "text": [
            "Probando Modelo LogisticRegression()\n",
            "Entrenamiento\n",
            "              precision    recall  f1-score   support\n",
            "\n",
            "         0.0       0.64      0.62      0.63      3878\n",
            "         1.0       0.63      0.65      0.64      3872\n",
            "\n",
            "    accuracy                           0.63      7750\n",
            "   macro avg       0.63      0.63      0.63      7750\n",
            "weighted avg       0.63      0.63      0.63      7750\n",
            "\n",
            "Validacion\n",
            "              precision    recall  f1-score   support\n",
            "\n",
            "         0.0       0.64      0.63      0.64      1658\n",
            "         1.0       0.64      0.65      0.64      1664\n",
            "\n",
            "    accuracy                           0.64      3322\n",
            "   macro avg       0.64      0.64      0.64      3322\n",
            "weighted avg       0.64      0.64      0.64      3322\n",
            "\n",
            "Probando Modelo SVC()\n",
            "Entrenamiento\n",
            "              precision    recall  f1-score   support\n",
            "\n",
            "         0.0       0.70      0.56      0.62      3878\n",
            "         1.0       0.63      0.76      0.69      3872\n",
            "\n",
            "    accuracy                           0.66      7750\n",
            "   macro avg       0.67      0.66      0.66      7750\n",
            "weighted avg       0.67      0.66      0.66      7750\n",
            "\n",
            "Validacion\n",
            "              precision    recall  f1-score   support\n",
            "\n",
            "         0.0       0.71      0.56      0.63      1658\n",
            "         1.0       0.64      0.77      0.70      1664\n",
            "\n",
            "    accuracy                           0.67      3322\n",
            "   macro avg       0.67      0.67      0.66      3322\n",
            "weighted avg       0.67      0.67      0.66      3322\n",
            "\n",
            "Probando Modelo NuSVC()\n",
            "Entrenamiento\n",
            "              precision    recall  f1-score   support\n",
            "\n",
            "         0.0       0.81      0.59      0.68      3878\n",
            "         1.0       0.67      0.86      0.76      3872\n",
            "\n",
            "    accuracy                           0.72      7750\n",
            "   macro avg       0.74      0.72      0.72      7750\n",
            "weighted avg       0.74      0.72      0.72      7750\n",
            "\n",
            "Validacion\n",
            "              precision    recall  f1-score   support\n",
            "\n",
            "         0.0       0.79      0.57      0.66      1658\n",
            "         1.0       0.67      0.85      0.75      1664\n",
            "\n",
            "    accuracy                           0.71      3322\n",
            "   macro avg       0.73      0.71      0.71      3322\n",
            "weighted avg       0.73      0.71      0.71      3322\n",
            "\n",
            "Probando Modelo KNeighborsClassifier()\n",
            "Entrenamiento\n",
            "              precision    recall  f1-score   support\n",
            "\n",
            "         0.0       1.00      0.83      0.91      3878\n",
            "         1.0       0.86      1.00      0.92      3872\n",
            "\n",
            "    accuracy                           0.92      7750\n",
            "   macro avg       0.93      0.92      0.92      7750\n",
            "weighted avg       0.93      0.92      0.92      7750\n",
            "\n",
            "Validacion\n",
            "              precision    recall  f1-score   support\n",
            "\n",
            "         0.0       0.99      0.77      0.87      1658\n",
            "         1.0       0.81      0.99      0.89      1664\n",
            "\n",
            "    accuracy                           0.88      3322\n",
            "   macro avg       0.90      0.88      0.88      3322\n",
            "weighted avg       0.90      0.88      0.88      3322\n",
            "\n",
            "Probando Modelo RandomForestClassifier()\n",
            "Entrenamiento\n",
            "              precision    recall  f1-score   support\n",
            "\n",
            "         0.0       1.00      1.00      1.00      3878\n",
            "         1.0       1.00      1.00      1.00      3872\n",
            "\n",
            "    accuracy                           1.00      7750\n",
            "   macro avg       1.00      1.00      1.00      7750\n",
            "weighted avg       1.00      1.00      1.00      7750\n",
            "\n",
            "Validacion\n",
            "              precision    recall  f1-score   support\n",
            "\n",
            "         0.0       1.00      0.97      0.98      1658\n",
            "         1.0       0.97      1.00      0.98      1664\n",
            "\n",
            "    accuracy                           0.98      3322\n",
            "   macro avg       0.99      0.98      0.98      3322\n",
            "weighted avg       0.99      0.98      0.98      3322\n",
            "\n"
          ]
        }
      ],
      "id": "-Fwob1PA3VFj"
    },
    {
      "cell_type": "markdown",
      "source": [
        "Para el dataset con los 3 pacientes juntos, el modelo que mejor clasifica es el Random Forest Classifier."
      ],
      "metadata": {
        "id": "TIWAWl1I3VFj"
      },
      "id": "TIWAWl1I3VFj"
    },
    {
      "cell_type": "markdown",
      "source": [
        "# Conclusión preliminar\n",
        "De lo estudiado hasta el momento, comparando las métricas de cada uno de los modelos para cada uno de los datasets analizados (uno por cada paciente y uno con los 3 pacientes juntos), observamos en en todos los casos el modelo que mejor predice es el RandomForestClassifier.<br>\n",
        "En principio con los 3 pacientes de los cuales disponemos datos, podríamos entrenar un modelo para los 3 pacientes juntos. Para que las conclusiones obtenidas hasta el momento sean generalizables, necesitaríamos contar con información de más pacientes."
      ],
      "metadata": {
        "id": "rpGEEghi7NlH"
      },
      "id": "rpGEEghi7NlH"
    },
    {
      "cell_type": "markdown",
      "source": [
        "# Aplicamos CrossValidation para 3 pacientes"
      ],
      "metadata": {
        "id": "QEMP8baZ8k9L"
      },
      "id": "QEMP8baZ8k9L"
    },
    {
      "cell_type": "code",
      "source": [
        "from sklearn.model_selection import cross_val_score\n",
        "clf = RandomForestClassifier(random_state=0)\n",
        "scores = cross_val_score(clf, X_3P, y_3P, cv=3, scoring='f1_macro')"
      ],
      "metadata": {
        "id": "I3sse4Vv9LlP"
      },
      "id": "I3sse4Vv9LlP",
      "execution_count": null,
      "outputs": []
    },
    {
      "cell_type": "code",
      "source": [
        ""
      ],
      "metadata": {
        "id": "Vkh7Oi4gOWW5"
      },
      "id": "Vkh7Oi4gOWW5",
      "execution_count": null,
      "outputs": []
    },
    {
      "cell_type": "code",
      "source": [
        "scores"
      ],
      "metadata": {
        "colab": {
          "base_uri": "https://localhost:8080/"
        },
        "id": "cXjWm-CC9oiW",
        "outputId": "d600526a-d736-4c09-f72e-d46bfe290651"
      },
      "id": "cXjWm-CC9oiW",
      "execution_count": null,
      "outputs": [
        {
          "output_type": "execute_result",
          "data": {
            "text/plain": [
              "array([0.80506354, 0.92783455, 0.82502949])"
            ]
          },
          "metadata": {},
          "execution_count": 439
        }
      ]
    },
    {
      "cell_type": "code",
      "source": [
        "np.mean(scores)"
      ],
      "metadata": {
        "colab": {
          "base_uri": "https://localhost:8080/"
        },
        "id": "KIxebsre-HbS",
        "outputId": "93468469-092b-4813-cc63-3f37b309c34e"
      },
      "id": "KIxebsre-HbS",
      "execution_count": null,
      "outputs": [
        {
          "output_type": "execute_result",
          "data": {
            "text/plain": [
              "0.8526425253744202"
            ]
          },
          "metadata": {},
          "execution_count": 440
        }
      ]
    },
    {
      "cell_type": "markdown",
      "source": [
        "\n",
        "Usamos Cross-Validation en el dataset conformado por los 3 pacientes juntos como estrategia de validación de nuestro modelo para verificar que las métricas obtenidas anteriormente eran estables (independientes del conjunto que usáramos para validación).<br>\n",
        "Al arrojar la métrica un resultado muy cercano a 1 no hay mucho margen de mejora por lo que decidimos no explorar los resultados con ajuste de hiperparámetros."
      ],
      "metadata": {
        "id": "DUZGAmtD-f5-"
      },
      "id": "DUZGAmtD-f5-"
    },
    {
      "cell_type": "markdown",
      "source": [
        "# Conclusión final\n",
        "\n",
        "Entrenamos modelos de aprendizaje automático para predecir, a partir del conjunto de datos del que disponemos, la etiqueta correspondiente al estado interictal (etiqueta 0) o preictal (etiqueta 1) de cada uno de los pacientes.\n",
        "\n",
        "Empezamos el trabajo con el análisis y curación de los datos, detallados en los prácticos anteriores.\n",
        "En esta etapa, consideramos como outliers aquellos registros que estuvieran por encima del 98% con respecto a los registros de cada variable. Luego de la limpieza y curación nos quedamos con 4 datasets:\n",
        " - uno por cada paciente,\n",
        " - uno con los datos de los tres pacientes juntos.\n",
        "\n",
        "\n",
        "Primero aplicamos un método de regresión lineal \"LogisticRegressor\" para tener alguna medida de base con la cual comparar las  métricas que obtuviéramos en el entrenamiento con otros modelos (lineales y no lineales).\n",
        "\n",
        "También comparamos el rendimiento del modelo con el dataset desbalanceado vs. el dataset balanceado con Random OverSampling. Como obtuvimos mejores resultados con el dataset balanceado decidimos usarlo de este modo.\n",
        "\n",
        "Probamos usar un selector de features y los resultados no mejoraban sustancialmente. Dado que tenemos una dimensión manejable de datos, pensamos que no sería necesario usarlo ya que no mejora de forma significativa ni reduce el tiempo de ejecución.\n",
        "\n",
        "Luego, para seleccionar \"el mejor modelo\" probamos y analizamos las métricas obtenidas entrenando los datos con los modelos: LogisticRegression (modelo base), SVC, NuSVC,  KNeighborsClassifier, RandomForestClassifier.\n",
        "\n",
        "Comparando los resultados observamos que el modelo que mejor predice las etiquetas **en todos los casos** fue RandomForestClassifier. Con este modelo llegamos a un nivel de precisión de más del 95%.\n",
        "\n",
        "Al tener un alto nivel de precisión, pensamos descartar la hipótesis de que el buen desempeño dependería de la selección de los datos. Para descartarla hicimos dos cosas:\n",
        " - cambiamos la semilla \"random_state\" antes de la separación de los datos en entrenamiento y validación,\n",
        " - probamos hacer cross-validation.<br>\n",
        "\n",
        "En ambos casos el nivel de precisión era igualmente alto. Es por esto que decidimos no explorar cómo se modificarían los hiperparámetros para obtener un mejor rendimiento.\n"
      ],
      "metadata": {
        "id": "oQZaSvNtPsG5"
      },
      "id": "oQZaSvNtPsG5"
    }
  ],
  "metadata": {
    "kernelspec": {
      "display_name": "Python 3",
      "language": "python",
      "name": "python3"
    },
    "language_info": {
      "codemirror_mode": {
        "name": "ipython",
        "version": 3
      },
      "file_extension": ".py",
      "mimetype": "text/x-python",
      "name": "python",
      "nbconvert_exporter": "python",
      "pygments_lexer": "ipython3",
      "version": "3.8.8"
    },
    "toc-autonumbering": false,
    "colab": {
      "name": "MENTORIA-AS.ipynb",
      "provenance": [],
      "collapsed_sections": [
        "edf0e72e-4f5d-43cf-83c6-889d9dcea1fc",
        "iaqm2sUtCMoA",
        "IXz8fpDHfejF",
        "2xpLz_OL1ECg",
        "IQS3oKcDvcqr"
      ]
    }
  },
  "nbformat": 4,
  "nbformat_minor": 5
}