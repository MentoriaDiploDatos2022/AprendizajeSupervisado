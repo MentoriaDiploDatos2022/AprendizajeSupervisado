{
 "cells": [
  {
   "cell_type": "markdown",
   "id": "ffd74763-d382-44da-86ec-b3e3421d903e",
   "metadata": {
    "tags": []
   },
   "source": [
    "## Ejemplo: LogisticRegression"
   ]
  },
  {
   "cell_type": "markdown",
   "id": "9ce5ce59-22e5-46c9-821b-003e917dd8ab",
   "metadata": {
    "tags": []
   },
   "source": [
    "Consideraciones del ejemplo (Usar o no usar segun criterio de cada grupo):\n",
    "\n",
    "- Elimino outliers con cuantiles\n",
    "- Elimino todos los nulos\n",
    "- Escalo todas las variables\n",
    "- Uso Logistic regression como selector de features\n",
    "- Uso gridsearchCV\n",
    "\n",
    "Si van a usar LogisticRegression para armar un modelo base, recomiendo que usen los hiperparametros del modelo que vienen por defecto, ya que solo queremos una primera aproximacion. Dejo en ustedes la desición de usar o no un feature selector en el modelo base. "
   ]
  },
  {
   "cell_type": "code",
   "execution_count": 1,
   "id": "afeb2a22-7086-47ac-a117-1afb9027e577",
   "metadata": {
    "tags": []
   },
   "outputs": [],
   "source": [
    "import pandas as pd\n",
    "import numpy as np\n",
    "import matplotlib.pyplot as plt\n",
    "import matplotlib as mpl\n",
    "import seaborn as sns\n",
    "from sklearn.model_selection import train_test_split\n",
    "from sklearn.preprocessing import MaxAbsScaler\n",
    "from sklearn.linear_model import LogisticRegression\n",
    "from sklearn.model_selection import GridSearchCV\n",
    "from sklearn.model_selection import RandomizedSearchCV\n",
    "from sklearn.pipeline import make_pipeline\n",
    "from sklearn.pipeline import Pipeline\n",
    "from sklearn.feature_selection import SelectFromModel\n",
    "from sklearn import metrics\n",
    "\n",
    "from scipy import linalg\n",
    "from sklearn import mixture\n",
    "\n",
    "sns.set_style(\"darkgrid\")\n",
    "\n",
    "# Obtenemos los datos\n",
    "\n",
    "df_etiquetados = []\n",
    "df_no_etiquetados = []\n",
    "filedir = \"data_preprocessed\"\n",
    "\n",
    "from os import listdir\n",
    "\n",
    "for file in listdir(filedir):\n",
    "    if file[-4:] == \".csv\":\n",
    "        if \"noEtiquetado\" in file: df_no_etiquetados.append(pd.read_csv(f\"{filedir}/{file}\"))\n",
    "        else: df_etiquetados.append(pd.read_csv(f\"{filedir}/{file}\"))\n",
    "    else: print(file, \" ---> no es csv\")\n",
    "\n",
    "for df in df_etiquetados: assert len(df.columns) == 11\n",
    "for df in df_no_etiquetados: assert len(df.columns) == 10\n",
    "    \n",
    "df = pd.concat(df_etiquetados)"
   ]
  },
  {
   "cell_type": "code",
   "execution_count": 2,
   "id": "3071644e-0a1a-4581-90dd-546f6aa63e59",
   "metadata": {
    "tags": []
   },
   "outputs": [
    {
     "data": {
      "text/html": [
       "<div>\n",
       "<style scoped>\n",
       "    .dataframe tbody tr th:only-of-type {\n",
       "        vertical-align: middle;\n",
       "    }\n",
       "\n",
       "    .dataframe tbody tr th {\n",
       "        vertical-align: top;\n",
       "    }\n",
       "\n",
       "    .dataframe thead th {\n",
       "        text-align: right;\n",
       "    }\n",
       "</style>\n",
       "<table border=\"1\" class=\"dataframe\">\n",
       "  <thead>\n",
       "    <tr style=\"text-align: right;\">\n",
       "      <th></th>\n",
       "      <th>Patient</th>\n",
       "      <th>State</th>\n",
       "      <th>PE</th>\n",
       "      <th>SC</th>\n",
       "      <th>GNE</th>\n",
       "      <th>SE</th>\n",
       "      <th>LZC</th>\n",
       "      <th>STE</th>\n",
       "      <th>Mean</th>\n",
       "      <th>Std</th>\n",
       "      <th>Skew</th>\n",
       "    </tr>\n",
       "  </thead>\n",
       "  <tbody>\n",
       "    <tr>\n",
       "      <th>0</th>\n",
       "      <td>1.0</td>\n",
       "      <td>1.0</td>\n",
       "      <td>0.598255</td>\n",
       "      <td>0.285388</td>\n",
       "      <td>0.662095</td>\n",
       "      <td>0.520937</td>\n",
       "      <td>0.325380</td>\n",
       "      <td>0.802138</td>\n",
       "      <td>4.426225e-06</td>\n",
       "      <td>15.557899</td>\n",
       "      <td>-0.000629</td>\n",
       "    </tr>\n",
       "    <tr>\n",
       "      <th>1</th>\n",
       "      <td>1.0</td>\n",
       "      <td>0.0</td>\n",
       "      <td>0.541613</td>\n",
       "      <td>0.283209</td>\n",
       "      <td>0.570060</td>\n",
       "      <td>0.413078</td>\n",
       "      <td>0.195333</td>\n",
       "      <td>0.752879</td>\n",
       "      <td>2.075434e-05</td>\n",
       "      <td>48.467869</td>\n",
       "      <td>-0.031036</td>\n",
       "    </tr>\n",
       "    <tr>\n",
       "      <th>2</th>\n",
       "      <td>1.0</td>\n",
       "      <td>0.0</td>\n",
       "      <td>0.543293</td>\n",
       "      <td>0.283316</td>\n",
       "      <td>0.572859</td>\n",
       "      <td>0.418008</td>\n",
       "      <td>0.199974</td>\n",
       "      <td>0.754335</td>\n",
       "      <td>5.322688e-06</td>\n",
       "      <td>46.771531</td>\n",
       "      <td>-0.077559</td>\n",
       "    </tr>\n",
       "    <tr>\n",
       "      <th>3</th>\n",
       "      <td>1.0</td>\n",
       "      <td>0.0</td>\n",
       "      <td>0.535949</td>\n",
       "      <td>0.282724</td>\n",
       "      <td>0.560678</td>\n",
       "      <td>0.391206</td>\n",
       "      <td>0.166309</td>\n",
       "      <td>0.747854</td>\n",
       "      <td>-1.353617e-05</td>\n",
       "      <td>48.590217</td>\n",
       "      <td>-0.024175</td>\n",
       "    </tr>\n",
       "    <tr>\n",
       "      <th>4</th>\n",
       "      <td>1.0</td>\n",
       "      <td>0.0</td>\n",
       "      <td>0.436980</td>\n",
       "      <td>0.272283</td>\n",
       "      <td>0.398864</td>\n",
       "      <td>0.412815</td>\n",
       "      <td>0.116037</td>\n",
       "      <td>0.668147</td>\n",
       "      <td>-5.555946e-07</td>\n",
       "      <td>41.749673</td>\n",
       "      <td>-0.087401</td>\n",
       "    </tr>\n",
       "    <tr>\n",
       "      <th>...</th>\n",
       "      <td>...</td>\n",
       "      <td>...</td>\n",
       "      <td>...</td>\n",
       "      <td>...</td>\n",
       "      <td>...</td>\n",
       "      <td>...</td>\n",
       "      <td>...</td>\n",
       "      <td>...</td>\n",
       "      <td>...</td>\n",
       "      <td>...</td>\n",
       "      <td>...</td>\n",
       "    </tr>\n",
       "    <tr>\n",
       "      <th>2341</th>\n",
       "      <td>2.0</td>\n",
       "      <td>0.0</td>\n",
       "      <td>0.510067</td>\n",
       "      <td>0.283269</td>\n",
       "      <td>0.522142</td>\n",
       "      <td>0.594527</td>\n",
       "      <td>0.300433</td>\n",
       "      <td>0.729515</td>\n",
       "      <td>-1.717178e-05</td>\n",
       "      <td>26.392637</td>\n",
       "      <td>-0.029033</td>\n",
       "    </tr>\n",
       "    <tr>\n",
       "      <th>2342</th>\n",
       "      <td>2.0</td>\n",
       "      <td>0.0</td>\n",
       "      <td>0.564873</td>\n",
       "      <td>0.286244</td>\n",
       "      <td>0.610203</td>\n",
       "      <td>0.553031</td>\n",
       "      <td>0.350188</td>\n",
       "      <td>0.774720</td>\n",
       "      <td>1.333844e-05</td>\n",
       "      <td>40.535139</td>\n",
       "      <td>-0.128528</td>\n",
       "    </tr>\n",
       "    <tr>\n",
       "      <th>2343</th>\n",
       "      <td>2.0</td>\n",
       "      <td>1.0</td>\n",
       "      <td>0.362519</td>\n",
       "      <td>0.255691</td>\n",
       "      <td>0.271619</td>\n",
       "      <td>0.569788</td>\n",
       "      <td>0.115600</td>\n",
       "      <td>0.612135</td>\n",
       "      <td>-1.032709e-05</td>\n",
       "      <td>21.506041</td>\n",
       "      <td>-0.538919</td>\n",
       "    </tr>\n",
       "    <tr>\n",
       "      <th>2344</th>\n",
       "      <td>2.0</td>\n",
       "      <td>0.0</td>\n",
       "      <td>0.570313</td>\n",
       "      <td>0.286206</td>\n",
       "      <td>0.618980</td>\n",
       "      <td>0.576464</td>\n",
       "      <td>0.364877</td>\n",
       "      <td>0.779346</td>\n",
       "      <td>-2.007174e-05</td>\n",
       "      <td>39.010453</td>\n",
       "      <td>-0.223666</td>\n",
       "    </tr>\n",
       "    <tr>\n",
       "      <th>2345</th>\n",
       "      <td>2.0</td>\n",
       "      <td>1.0</td>\n",
       "      <td>0.575551</td>\n",
       "      <td>0.286208</td>\n",
       "      <td>0.627219</td>\n",
       "      <td>0.585996</td>\n",
       "      <td>0.372166</td>\n",
       "      <td>0.783716</td>\n",
       "      <td>5.834034e-07</td>\n",
       "      <td>34.186113</td>\n",
       "      <td>-0.096496</td>\n",
       "    </tr>\n",
       "  </tbody>\n",
       "</table>\n",
       "<p>6042 rows × 11 columns</p>\n",
       "</div>"
      ],
      "text/plain": [
       "      Patient  State        PE        SC       GNE        SE       LZC  \\\n",
       "0         1.0    1.0  0.598255  0.285388  0.662095  0.520937  0.325380   \n",
       "1         1.0    0.0  0.541613  0.283209  0.570060  0.413078  0.195333   \n",
       "2         1.0    0.0  0.543293  0.283316  0.572859  0.418008  0.199974   \n",
       "3         1.0    0.0  0.535949  0.282724  0.560678  0.391206  0.166309   \n",
       "4         1.0    0.0  0.436980  0.272283  0.398864  0.412815  0.116037   \n",
       "...       ...    ...       ...       ...       ...       ...       ...   \n",
       "2341      2.0    0.0  0.510067  0.283269  0.522142  0.594527  0.300433   \n",
       "2342      2.0    0.0  0.564873  0.286244  0.610203  0.553031  0.350188   \n",
       "2343      2.0    1.0  0.362519  0.255691  0.271619  0.569788  0.115600   \n",
       "2344      2.0    0.0  0.570313  0.286206  0.618980  0.576464  0.364877   \n",
       "2345      2.0    1.0  0.575551  0.286208  0.627219  0.585996  0.372166   \n",
       "\n",
       "           STE          Mean        Std      Skew  \n",
       "0     0.802138  4.426225e-06  15.557899 -0.000629  \n",
       "1     0.752879  2.075434e-05  48.467869 -0.031036  \n",
       "2     0.754335  5.322688e-06  46.771531 -0.077559  \n",
       "3     0.747854 -1.353617e-05  48.590217 -0.024175  \n",
       "4     0.668147 -5.555946e-07  41.749673 -0.087401  \n",
       "...        ...           ...        ...       ...  \n",
       "2341  0.729515 -1.717178e-05  26.392637 -0.029033  \n",
       "2342  0.774720  1.333844e-05  40.535139 -0.128528  \n",
       "2343  0.612135 -1.032709e-05  21.506041 -0.538919  \n",
       "2344  0.779346 -2.007174e-05  39.010453 -0.223666  \n",
       "2345  0.783716  5.834034e-07  34.186113 -0.096496  \n",
       "\n",
       "[6042 rows x 11 columns]"
      ]
     },
     "execution_count": 2,
     "metadata": {},
     "output_type": "execute_result"
    }
   ],
   "source": [
    "df"
   ]
  },
  {
   "cell_type": "markdown",
   "id": "9f9b5690-8599-4ecd-b1fc-cb703e6d5dd3",
   "metadata": {
    "tags": []
   },
   "source": [
    "### Filtro de outliers"
   ]
  },
  {
   "cell_type": "code",
   "execution_count": 3,
   "id": "5710e0fd-1978-40cf-8b90-82f71e52ac3c",
   "metadata": {
    "tags": []
   },
   "outputs": [
    {
     "name": "stdout",
     "output_type": "stream",
     "text": [
      "<class 'pandas.core.frame.DataFrame'>\n",
      "Int64Index: 5849 entries, 0 to 2345\n",
      "Data columns (total 11 columns):\n",
      " #   Column   Non-Null Count  Dtype  \n",
      "---  ------   --------------  -----  \n",
      " 0   Patient  5849 non-null   float64\n",
      " 1   State    5849 non-null   float64\n",
      " 2   PE       5849 non-null   float64\n",
      " 3   SC       5849 non-null   float64\n",
      " 4   GNE      5849 non-null   float64\n",
      " 5   SE       5849 non-null   float64\n",
      " 6   LZC      5849 non-null   float64\n",
      " 7   STE      5849 non-null   float64\n",
      " 8   Mean     5849 non-null   float64\n",
      " 9   Std      5849 non-null   float64\n",
      " 10  Skew     5849 non-null   float64\n",
      "dtypes: float64(11)\n",
      "memory usage: 548.3 KB\n"
     ]
    },
    {
     "name": "stderr",
     "output_type": "stream",
     "text": [
      "/Users/lucianomantovani/opt/miniconda3/envs/diplodatos-ayvd/lib/python3.6/site-packages/ipykernel_launcher.py:13: SettingWithCopyWarning: \n",
      "A value is trying to be set on a copy of a slice from a DataFrame\n",
      "\n",
      "See the caveats in the documentation: https://pandas.pydata.org/pandas-docs/stable/user_guide/indexing.html#returning-a-view-versus-a-copy\n",
      "  del sys.path[0]\n"
     ]
    }
   ],
   "source": [
    "# Aplico un filtro a cada columna y reasigno con el df original.\n",
    "def outlier_filter(df, c, low, top):\n",
    "    return df[(df[c] > low) & (df[c] < top)]\n",
    "\n",
    "\n",
    "# Elimino outliers para cada columna con metodo de cuantiles\n",
    "for col in df.columns:\n",
    "    low = df[col].quantile(0.01)\n",
    "    top = df[col].quantile(0.99)\n",
    "    dff = outlier_filter(df, col, low, top)\n",
    "    \n",
    "# Elimino nulos\n",
    "dff.dropna(inplace=True)\n",
    "\n",
    "df = dff\n",
    "df.info()"
   ]
  },
  {
   "cell_type": "markdown",
   "id": "b7a024ba-f454-442c-8910-f519ff26da3e",
   "metadata": {
    "tags": []
   },
   "source": [
    "#### Matriz de resultados"
   ]
  },
  {
   "cell_type": "code",
   "execution_count": 22,
   "id": "0b5351d8-ff38-44b0-a787-1e5294e94da2",
   "metadata": {
    "tags": []
   },
   "outputs": [],
   "source": [
    "cla_results = pd.DataFrame(index=['Accuracy Train', 'Accuracy Valid', 'Precision Train', 'Precision Valid', \n",
    "                                  'Recall Train', 'Recall Valid', 'F1-score Train', 'F1-score Valid'])"
   ]
  },
  {
   "cell_type": "code",
   "execution_count": 23,
   "id": "6662348d-92e7-4421-87ff-59ff6d299985",
   "metadata": {},
   "outputs": [],
   "source": [
    "# Separamos features de etiqueta\n",
    "X = df.drop(labels=['State','Patient'], axis=1)\n",
    "y = df['State']"
   ]
  },
  {
   "cell_type": "code",
   "execution_count": 24,
   "id": "97b65232-3767-421f-92d0-64c4e6c37443",
   "metadata": {},
   "outputs": [],
   "source": [
    "# Train and validation\n",
    "X_train, X_val, y_train, y_val = train_test_split(X, y, test_size=0.30, random_state=0, shuffle=False)"
   ]
  },
  {
   "cell_type": "code",
   "execution_count": 25,
   "id": "7b9daf71-2314-40c0-afed-6f0d865d2c7e",
   "metadata": {},
   "outputs": [],
   "source": [
    "# Preproceso 1 para XGBClassifier - Default\n",
    "scaler = MaxAbsScaler()\n",
    "ft_selector = LogisticRegression(random_state=0, penalty='l1', solver='liblinear')\n",
    "\n",
    "param_grid = {\n",
    "    'classifier__penalty': ['l1', 'l2'],\n",
    "    'classifier__random_state': [0],\n",
    "    'classifier__solver': ['liblinear'],\n",
    "    'classifier__class_weight': ['balanced']\n",
    "}\n",
    "\n",
    "\n",
    "model_ = LogisticRegression(random_state= 0)"
   ]
  },
  {
   "cell_type": "code",
   "execution_count": 26,
   "id": "bee17b9e-b768-46f6-b6a9-97f3be690601",
   "metadata": {},
   "outputs": [
    {
     "name": "stderr",
     "output_type": "stream",
     "text": [
      "/Users/lucianomantovani/opt/miniconda3/envs/diplodatos-ayvd/lib/python3.6/site-packages/sklearn/svm/_base.py:986: ConvergenceWarning: Liblinear failed to converge, increase the number of iterations.\n",
      "  \"the number of iterations.\", ConvergenceWarning)\n",
      "/Users/lucianomantovani/opt/miniconda3/envs/diplodatos-ayvd/lib/python3.6/site-packages/sklearn/svm/_base.py:986: ConvergenceWarning: Liblinear failed to converge, increase the number of iterations.\n",
      "  \"the number of iterations.\", ConvergenceWarning)\n",
      "/Users/lucianomantovani/opt/miniconda3/envs/diplodatos-ayvd/lib/python3.6/site-packages/sklearn/svm/_base.py:986: ConvergenceWarning: Liblinear failed to converge, increase the number of iterations.\n",
      "  \"the number of iterations.\", ConvergenceWarning)\n"
     ]
    }
   ],
   "source": [
    "# Fit\n",
    "pipe = Pipeline([\n",
    "  ('scaler', scaler),\n",
    "  ('feature_selection', SelectFromModel(ft_selector)),\n",
    "  ('classifier', model_)\n",
    "])\n",
    "\n",
    "model = GridSearchCV(pipe, param_grid, scoring='neg_mean_squared_error',cv=5)\n",
    "\n",
    "model.fit(X_train, y_train)\n",
    "svr_cv = model"
   ]
  },
  {
   "cell_type": "markdown",
   "id": "d8b9f2b7-0c3d-4d8b-b474-26e30b4a2d2e",
   "metadata": {},
   "source": [
    "#### Preproceso y ajuste"
   ]
  },
  {
   "cell_type": "code",
   "execution_count": 27,
   "id": "58c0445d-e3b7-4d22-b49e-32d9fcd53ab8",
   "metadata": {},
   "outputs": [],
   "source": [
    "# Predict\n",
    "y_train_pred = model.predict(X_train)\n",
    "y_valid_pred = model.predict(X_val)"
   ]
  },
  {
   "cell_type": "markdown",
   "id": "d2270d51-a183-48b6-8508-62e065e47a73",
   "metadata": {},
   "source": [
    "#### Evaluacion de predicciones"
   ]
  },
  {
   "cell_type": "code",
   "execution_count": 29,
   "id": "29fd4d71-a177-4632-a1d1-3e0254fa1206",
   "metadata": {
    "tags": []
   },
   "outputs": [
    {
     "name": "stdout",
     "output_type": "stream",
     "text": [
      "===================================================================\n",
      "LogisticRegression - Reporte de clasificación del conjunto de train\n",
      "===================================================================\n",
      "              precision    recall  f1-score   support\n",
      "\n",
      "         0.0       0.96      0.67      0.79      3774\n",
      "         1.0       0.14      0.64      0.23       320\n",
      "\n",
      "    accuracy                           0.67      4094\n",
      "   macro avg       0.55      0.66      0.51      4094\n",
      "weighted avg       0.89      0.67      0.75      4094\n",
      "\n",
      "===================================================================\n",
      "LogisticRegression - Reporte de clasificación del conjunto de validacion\n",
      "===================================================================\n",
      "              precision    recall  f1-score   support\n",
      "\n",
      "         0.0       0.95      0.42      0.58      1653\n",
      "         1.0       0.06      0.63      0.11       102\n",
      "\n",
      "    accuracy                           0.43      1755\n",
      "   macro avg       0.51      0.53      0.35      1755\n",
      "weighted avg       0.90      0.43      0.56      1755\n",
      "\n"
     ]
    },
    {
     "data": {
      "text/plain": [
       "Text(0.5, 1.0, 'LogisticRegression - CM Valid\\n')"
      ]
     },
     "execution_count": 29,
     "metadata": {},
     "output_type": "execute_result"
    },
    {
     "data": {
      "image/png": "[encoded data removed]",
      "text/plain": [
       "<Figure size 936x360 with 4 Axes>"
      ]
     },
     "metadata": {},
     "output_type": "display_data"
    }
   ],
   "source": [
    "# Evaluate train\n",
    "text = \"LogisticRegression - Reporte de clasificación del conjunto de train\" \n",
    "print(len(text)*\"=\")\n",
    "print(text)\n",
    "print(len(text)*\"=\")\n",
    "print(metrics.classification_report(y_train, y_train_pred))\n",
    "\n",
    "# Evaluate val\n",
    "print(len(text)*\"=\")\n",
    "print(\"LogisticRegression - Reporte de clasificación del conjunto de validacion\")\n",
    "print(len(text)*\"=\")\n",
    "print(metrics.classification_report(y_val, y_valid_pred))\n",
    "\n",
    "fig, axes = plt.subplots(1,2, figsize=(13,5))\n",
    "\n",
    "metrics.plot_confusion_matrix(ax=axes[0], estimator= model, X=X_train, y_true=y_train,\n",
    "                      normalize='true', cmap='Greens').ax_ \\\n",
    "                      .set_title('LogisticRegression - CM Train\\n')\n",
    "\n",
    "metrics.plot_confusion_matrix(ax=axes[1], estimator= model, X=X_val, y_true=y_val,\n",
    "                      normalize='true', cmap='Blues').ax_ \\\n",
    "                      .set_title('LogisticRegression - CM Valid\\n')"
   ]
  },
  {
   "cell_type": "markdown",
   "id": "089a9174-4aeb-4e0c-8e9e-e0c295990ce1",
   "metadata": {
    "tags": []
   },
   "source": [
    "#### Matriz de resultados"
   ]
  },
  {
   "cell_type": "code",
   "execution_count": 30,
   "id": "7150a5bc-bc07-4464-b9ea-c50eabc622fd",
   "metadata": {
    "tags": []
   },
   "outputs": [],
   "source": [
    "cla_results['LogisticRegression'] = [metrics.accuracy_score(y_train, y_train_pred), metrics.accuracy_score(y_val, y_valid_pred),\n",
    "                                         metrics.precision_score(y_train, y_train_pred), metrics.precision_score(y_val, y_valid_pred),\n",
    "                                         metrics.recall_score(y_train, y_train_pred), metrics.recall_score(y_val, y_valid_pred),\n",
    "                                         metrics.f1_score(y_train, y_train_pred), metrics.f1_score(y_val, y_valid_pred)]      "
   ]
  },
  {
   "cell_type": "code",
   "execution_count": 31,
   "id": "3b3db2a0-134d-4121-a442-243edf39bf59",
   "metadata": {
    "tags": []
   },
   "outputs": [
    {
     "data": {
      "text/html": [
       "<div>\n",
       "<style scoped>\n",
       "    .dataframe tbody tr th:only-of-type {\n",
       "        vertical-align: middle;\n",
       "    }\n",
       "\n",
       "    .dataframe tbody tr th {\n",
       "        vertical-align: top;\n",
       "    }\n",
       "\n",
       "    .dataframe thead th {\n",
       "        text-align: right;\n",
       "    }\n",
       "</style>\n",
       "<table border=\"1\" class=\"dataframe\">\n",
       "  <thead>\n",
       "    <tr style=\"text-align: right;\">\n",
       "      <th></th>\n",
       "      <th>LogisticRegression</th>\n",
       "    </tr>\n",
       "  </thead>\n",
       "  <tbody>\n",
       "    <tr>\n",
       "      <th>Accuracy Train</th>\n",
       "      <td>0.668784</td>\n",
       "    </tr>\n",
       "    <tr>\n",
       "      <th>Accuracy Valid</th>\n",
       "      <td>0.434758</td>\n",
       "    </tr>\n",
       "    <tr>\n",
       "      <th>Precision Train</th>\n",
       "      <td>0.142265</td>\n",
       "    </tr>\n",
       "    <tr>\n",
       "      <th>Precision Valid</th>\n",
       "      <td>0.062868</td>\n",
       "    </tr>\n",
       "    <tr>\n",
       "      <th>Recall Train</th>\n",
       "      <td>0.643750</td>\n",
       "    </tr>\n",
       "    <tr>\n",
       "      <th>Recall Valid</th>\n",
       "      <td>0.627451</td>\n",
       "    </tr>\n",
       "    <tr>\n",
       "      <th>F1-score Train</th>\n",
       "      <td>0.233032</td>\n",
       "    </tr>\n",
       "    <tr>\n",
       "      <th>F1-score Valid</th>\n",
       "      <td>0.114286</td>\n",
       "    </tr>\n",
       "  </tbody>\n",
       "</table>\n",
       "</div>"
      ],
      "text/plain": [
       "                 LogisticRegression\n",
       "Accuracy Train             0.668784\n",
       "Accuracy Valid             0.434758\n",
       "Precision Train            0.142265\n",
       "Precision Valid            0.062868\n",
       "Recall Train               0.643750\n",
       "Recall Valid               0.627451\n",
       "F1-score Train             0.233032\n",
       "F1-score Valid             0.114286"
      ]
     },
     "execution_count": 31,
     "metadata": {},
     "output_type": "execute_result"
    }
   ],
   "source": [
    "cla_results"
   ]
  },
  {
   "cell_type": "code",
   "execution_count": null,
   "id": "8a10c159-0039-4989-a10c-6f20844d24d5",
   "metadata": {},
   "outputs": [],
   "source": []
  }
 ],
 "metadata": {
  "kernelspec": {
   "display_name": "Python 3",
   "language": "python",
   "name": "python3"
  },
  "language_info": {
   "codemirror_mode": {
    "name": "ipython",
    "version": 3
   },
   "file_extension": ".py",
   "mimetype": "text/x-python",
   "name": "python",
   "nbconvert_exporter": "python",
   "pygments_lexer": "ipython3",
   "version": "3.6.13"
  },
  "toc-autonumbering": false
 },
 "nbformat": 4,
 "nbformat_minor": 5
}
